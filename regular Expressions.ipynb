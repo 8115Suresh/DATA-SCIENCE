{
 "cells": [
  {
   "cell_type": "code",
   "execution_count": 5,
   "metadata": {},
   "outputs": [],
   "source": [
    "import re"
   ]
  },
  {
   "cell_type": "code",
   "execution_count": 6,
   "metadata": {},
   "outputs": [
    {
     "name": "stdout",
     "output_type": "stream",
     "text": [
      "None\n"
     ]
    }
   ],
   "source": [
    "print(re.search('none','Searching pattern in txt'))"
   ]
  },
  {
   "cell_type": "code",
   "execution_count": 7,
   "metadata": {},
   "outputs": [],
   "source": [
    "match=re.search('pattern','Searching pattern in text')"
   ]
  },
  {
   "cell_type": "code",
   "execution_count": 8,
   "metadata": {},
   "outputs": [
    {
     "name": "stdout",
     "output_type": "stream",
     "text": [
      "<re.Match object; span=(10, 17), match='pattern'>\n"
     ]
    }
   ],
   "source": [
    "print(match)"
   ]
  },
  {
   "cell_type": "code",
   "execution_count": 9,
   "metadata": {},
   "outputs": [
    {
     "name": "stdout",
     "output_type": "stream",
     "text": [
      "pattern\n"
     ]
    }
   ],
   "source": [
    "print(match.re.pattern)"
   ]
  },
  {
   "cell_type": "code",
   "execution_count": 10,
   "metadata": {},
   "outputs": [
    {
     "name": "stdout",
     "output_type": "stream",
     "text": [
      "Searching pattern in text\n"
     ]
    }
   ],
   "source": [
    "print(match.string)"
   ]
  },
  {
   "cell_type": "code",
   "execution_count": 11,
   "metadata": {},
   "outputs": [
    {
     "name": "stdout",
     "output_type": "stream",
     "text": [
      "10\n"
     ]
    }
   ],
   "source": [
    "print(match.start())"
   ]
  },
  {
   "cell_type": "code",
   "execution_count": 12,
   "metadata": {},
   "outputs": [
    {
     "name": "stdout",
     "output_type": "stream",
     "text": [
      "17\n"
     ]
    }
   ],
   "source": [
    "print(match.end())"
   ]
  },
  {
   "cell_type": "code",
   "execution_count": 13,
   "metadata": {},
   "outputs": [
    {
     "name": "stdout",
     "output_type": "stream",
     "text": [
      "10\n"
     ]
    }
   ],
   "source": [
    "regex = re.compile('pattern') #regex object \n",
    "print(regex.search('Searching pattern in text pattern...').start())"
   ]
  },
  {
   "cell_type": "code",
   "execution_count": 14,
   "metadata": {},
   "outputs": [
    {
     "name": "stdout",
     "output_type": "stream",
     "text": [
      "['pattern', 'pattern']\n"
     ]
    }
   ],
   "source": [
    "regex = re.compile('pattern') #regex object \n",
    "print(regex.findall('Searching pattern in text pattern...'))"
   ]
  },
  {
   "cell_type": "code",
   "execution_count": 15,
   "metadata": {},
   "outputs": [
    {
     "name": "stdout",
     "output_type": "stream",
     "text": [
      "<re.Match object; span=(0, 5), match='match'>\n",
      "None\n"
     ]
    }
   ],
   "source": [
    "regex = re.compile('pattern') #regex object \n",
    "print(re.match('match','match function test'))\n",
    "print(re.match('test','match function test'))"
   ]
  },
  {
   "cell_type": "markdown",
   "metadata": {},
   "source": [
    "# Character classes   \n",
    "[0-9]\n",
    "    Match any digit; same as [0123456789]\n",
    "\t\n",
    "[a-z]\n",
    "    Match any lowercase ASCII letter\n",
    "\t\n",
    "[A-Z]\n",
    "    Match any uppercase ASCII letter\n",
    "\t\n",
    "[a-zA-Z0-9]\n",
    "         Match any of the above\n",
    "\t\n",
    "[^0-9] \n",
    "      Match anything other than a digit"
   ]
  },
  {
   "cell_type": "code",
   "execution_count": 32,
   "metadata": {},
   "outputs": [],
   "source": [
    "def all_matches(text,pattern):\n",
    "    print(pattern)\n",
    "    regobj = re.compile(pattern)\n",
    "    for m in regobj.finditer(text):\n",
    "        print(str(m.start())+'-'+str(m.end()) + ':' + text[m.start() : m.end()])"
   ]
  },
  {
   "cell_type": "code",
   "execution_count": 33,
   "metadata": {},
   "outputs": [
    {
     "name": "stdout",
     "output_type": "stream",
     "text": [
      "xy*\n",
      "0-1:x\n",
      "1-2:x\n",
      "2-3:x\n",
      "3-9:xyyyyy\n",
      "9-10:x\n",
      "10-11:x\n",
      "11-12:x\n",
      "12-15:xyy\n",
      "15-17:xy\n"
     ]
    }
   ],
   "source": [
    "#function call\n",
    "all_matches('xxxxyyyyyxxxxyyxy','xy*')"
   ]
  },
  {
   "cell_type": "code",
   "execution_count": 18,
   "metadata": {},
   "outputs": [
    {
     "name": "stdout",
     "output_type": "stream",
     "text": [
      "xy+\n",
      "3-9:xyyyyy\n",
      "12-15:xyy\n",
      "15-17:xy\n"
     ]
    }
   ],
   "source": [
    "all_matches('xxxxyyyyyxxxxyyxy','xy+')"
   ]
  },
  {
   "cell_type": "code",
   "execution_count": 19,
   "metadata": {},
   "outputs": [
    {
     "name": "stdout",
     "output_type": "stream",
     "text": [
      "xy[2]\n"
     ]
    }
   ],
   "source": [
    "all_matches('xxxxyyyyyxxxxyyxy','xy[2]')"
   ]
  },
  {
   "cell_type": "code",
   "execution_count": 20,
   "metadata": {},
   "outputs": [
    {
     "name": "stdout",
     "output_type": "stream",
     "text": [
      "xy{3,4}\n",
      "3-8:xyyyy\n"
     ]
    }
   ],
   "source": [
    "all_matches('xxxxyyyyyxxxxyyxy','xy{3,4}')"
   ]
  },
  {
   "cell_type": "code",
   "execution_count": 21,
   "metadata": {},
   "outputs": [
    {
     "name": "stdout",
     "output_type": "stream",
     "text": [
      "xy*?\n",
      "0-1:x\n",
      "1-2:x\n",
      "2-3:x\n",
      "3-4:x\n",
      "9-10:x\n",
      "10-11:x\n",
      "11-12:x\n",
      "12-13:x\n",
      "15-16:x\n"
     ]
    }
   ],
   "source": [
    "all_matches('xxxxyyyyyxxxxyyxy','xy*?')"
   ]
  },
  {
   "cell_type": "code",
   "execution_count": 22,
   "metadata": {},
   "outputs": [
    {
     "name": "stdout",
     "output_type": "stream",
     "text": [
      "x[xy]+\n",
      "0-17:xxxxyyyyyxxxxyyxy\n"
     ]
    }
   ],
   "source": [
    "all_matches('xxxxyyyyyxxxxyyxy','x[xy]+')"
   ]
  },
  {
   "cell_type": "code",
   "execution_count": 23,
   "metadata": {},
   "outputs": [
    {
     "name": "stdout",
     "output_type": "stream",
     "text": [
      "[^.]+\n",
      "0-3:xxx\n",
      "6-10:xyyy\n",
      "13-18:yyxxx\n",
      "21-26:xyyxy\n"
     ]
    }
   ],
   "source": [
    "all_matches('xxx...xyyy...yyxxx...xyyxy','[^.]+')"
   ]
  },
  {
   "cell_type": "code",
   "execution_count": 25,
   "metadata": {},
   "outputs": [
    {
     "name": "stdout",
     "output_type": "stream",
     "text": [
      "[A-z][0-9]\n",
      "0-2:x2\n",
      "12-14:y3\n",
      "16-18:y1\n",
      "23-25:x2\n"
     ]
    }
   ],
   "source": [
    "all_matches('x22xy...  ..y312y1----1x232xyyxy','[A-z][0-9]')"
   ]
  },
  {
   "cell_type": "code",
   "execution_count": 29,
   "metadata": {},
   "outputs": [],
   "source": [
    "#all_matches('x903x22x32y232yy','[AZa-Z][0-9]')"
   ]
  },
  {
   "cell_type": "code",
   "execution_count": 30,
   "metadata": {},
   "outputs": [
    {
     "name": "stdout",
     "output_type": "stream",
     "text": [
      "s.+k\n",
      "0-4:slik\n"
     ]
    }
   ],
   "source": [
    "all_matches('slik road ','s.+k')"
   ]
  },
  {
   "cell_type": "code",
   "execution_count": 31,
   "metadata": {},
   "outputs": [
    {
     "name": "stdout",
     "output_type": "stream",
     "text": [
      "^\\d\n"
     ]
    }
   ],
   "source": [
    "all_matches('xxxxyyyyyxxxxyyxy',r'^\\d')"
   ]
  },
  {
   "cell_type": "markdown",
   "metadata": {},
   "source": [
    "# Special Character Classes\n",
    "\n",
    ".\n",
    "Match any character except newline\n",
    "\n",
    "\\d\n",
    "Match a digit: [0-9]\n",
    "\n",
    "\\D\n",
    "Match a nondigit: [^0-9]\n",
    "\n",
    "\\s\n",
    "Match a whitespace character: [ \\t\\r\\n\\f]\n",
    "\n",
    "\\S\n",
    "Match nonwhitespace: [^ \\t\\r\\n\\f]\n",
    "\n",
    "\\w\n",
    "Match a single word character: [A-Za-z0-9_]\n",
    "\n",
    "\\W\n",
    "Match a nonword character: [^A-Za-z0-9_]"
   ]
  },
  {
   "cell_type": "code",
   "execution_count": null,
   "metadata": {},
   "outputs": [],
   "source": []
  },
  {
   "cell_type": "markdown",
   "metadata": {},
   "source": [
    "# Division and Grouping "
   ]
  },
  {
   "cell_type": "code",
   "execution_count": 34,
   "metadata": {},
   "outputs": [],
   "source": [
    "import re "
   ]
  },
  {
   "cell_type": "code",
   "execution_count": 39,
   "metadata": {},
   "outputs": [
    {
     "name": "stdout",
     "output_type": "stream",
     "text": [
      "y\n"
     ]
    }
   ],
   "source": [
    "regex =re.compile('x([xy]+(y))')\n",
    "match = regex.search('xyxyxyxxyyxxxyy')\n",
    "print(match.group(2))"
   ]
  },
  {
   "cell_type": "code",
   "execution_count": 48,
   "metadata": {},
   "outputs": [
    {
     "name": "stdout",
     "output_type": "stream",
     "text": [
      "xyxxyxxxyxyxyxy\n"
     ]
    }
   ],
   "source": [
    "#regex = re.compile('x(?p<first>[xy]+)(?p<second>y)')\n",
    "match =regex.search('xyxxyxxxyxyxyxy')\n",
    "print(match.group())\n",
    "#print(match.group('second'))"
   ]
  },
  {
   "cell_type": "code",
   "execution_count": 46,
   "metadata": {},
   "outputs": [
    {
     "name": "stdout",
     "output_type": "stream",
     "text": [
      "{}\n"
     ]
    }
   ],
   "source": [
    "import re\n",
    "#regex = re.compile('x(?p<first>[xy]+)(?p<second>y)')\n",
    "match =regex.search('xyxxyxxxyxyxyxy')\n",
    "print(match.groupdict())"
   ]
  },
  {
   "cell_type": "code",
   "execution_count": 50,
   "metadata": {},
   "outputs": [
    {
     "ename": "AttributeError",
     "evalue": "'re.Pattern' object has no attribute 'serch'",
     "output_type": "error",
     "traceback": [
      "\u001b[0;31m---------------------------------------------------------------------------\u001b[0m",
      "\u001b[0;31mAttributeError\u001b[0m                            Traceback (most recent call last)",
      "\u001b[0;32m<ipython-input-50-4c1be4b9d70d>\u001b[0m in \u001b[0;36m<module>\u001b[0;34m\u001b[0m\n\u001b[1;32m      1\u001b[0m \u001b[0mrefex\u001b[0m \u001b[0;34m=\u001b[0m\u001b[0mre\u001b[0m\u001b[0;34m.\u001b[0m\u001b[0mcompile\u001b[0m\u001b[0;34m(\u001b[0m\u001b[0;34m'((x|y)+)'\u001b[0m\u001b[0;34m)\u001b[0m\u001b[0;34m\u001b[0m\u001b[0;34m\u001b[0m\u001b[0m\n\u001b[0;32m----> 2\u001b[0;31m \u001b[0mmatch\u001b[0m \u001b[0;34m=\u001b[0m \u001b[0mregex\u001b[0m\u001b[0;34m.\u001b[0m\u001b[0mserch\u001b[0m\u001b[0;34m(\u001b[0m\u001b[0;34m'xyxyxyxyxxy'\u001b[0m\u001b[0;34m)\u001b[0m\u001b[0;34m\u001b[0m\u001b[0;34m\u001b[0m\u001b[0m\n\u001b[0m\u001b[1;32m      3\u001b[0m \u001b[0mprint\u001b[0m\u001b[0;34m(\u001b[0m\u001b[0mmatch\u001b[0m\u001b[0;34m.\u001b[0m\u001b[0mgroups\u001b[0m\u001b[0;34m(\u001b[0m\u001b[0;34m)\u001b[0m\u001b[0;34m)\u001b[0m\u001b[0;34m\u001b[0m\u001b[0;34m\u001b[0m\u001b[0m\n",
      "\u001b[0;31mAttributeError\u001b[0m: 're.Pattern' object has no attribute 'serch'"
     ]
    }
   ],
   "source": [
    "refex =re.compile('((x|y)+)')\n",
    "match = regex.serch('xyxyxyxyxxy')\n",
    "print(match.groups())"
   ]
  },
  {
   "cell_type": "code",
   "execution_count": 51,
   "metadata": {},
   "outputs": [
    {
     "ename": "ModuleNotFoundError",
     "evalue": "No module named 'numpy'",
     "output_type": "error",
     "traceback": [
      "\u001b[0;31m---------------------------------------------------------------------------\u001b[0m",
      "\u001b[0;31mModuleNotFoundError\u001b[0m                       Traceback (most recent call last)",
      "\u001b[0;32m<ipython-input-51-0aa0b027fcb6>\u001b[0m in \u001b[0;36m<module>\u001b[0;34m\u001b[0m\n\u001b[0;32m----> 1\u001b[0;31m \u001b[0;32mimport\u001b[0m \u001b[0mnumpy\u001b[0m \u001b[0;32mas\u001b[0m \u001b[0mnp\u001b[0m\u001b[0;34m\u001b[0m\u001b[0;34m\u001b[0m\u001b[0m\n\u001b[0m",
      "\u001b[0;31mModuleNotFoundError\u001b[0m: No module named 'numpy'"
     ]
    }
   ],
   "source": [
    "import numpy as np"
   ]
  },
  {
   "cell_type": "code",
   "execution_count": null,
   "metadata": {},
   "outputs": [],
   "source": []
  }
 ],
 "metadata": {
  "kernelspec": {
   "display_name": "Python 3",
   "language": "python",
   "name": "python3"
  },
  "language_info": {
   "codemirror_mode": {
    "name": "ipython",
    "version": 3
   },
   "file_extension": ".py",
   "mimetype": "text/x-python",
   "name": "python",
   "nbconvert_exporter": "python",
   "pygments_lexer": "ipython3",
   "version": "3.7.3"
  }
 },
 "nbformat": 4,
 "nbformat_minor": 2
}
