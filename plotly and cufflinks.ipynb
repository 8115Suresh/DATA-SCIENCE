{
 "cells": [
  {
   "cell_type": "code",
   "execution_count": 4,
   "id": "deadly-dance",
   "metadata": {},
   "outputs": [],
   "source": [
    "import pandas as pd\n",
    "import numpy as np\n",
    "from plotly  import __version__\n",
    "%matplotlib inline"
   ]
  },
  {
   "cell_type": "code",
   "execution_count": 5,
   "id": "qualified-witness",
   "metadata": {},
   "outputs": [
    {
     "name": "stdout",
     "output_type": "stream",
     "text": [
      "4.14.3\n"
     ]
    }
   ],
   "source": [
    "print(__version__)"
   ]
  },
  {
   "cell_type": "code",
   "execution_count": 7,
   "id": "bridal-building",
   "metadata": {},
   "outputs": [],
   "source": [
    "import cufflinks as cf"
   ]
  },
  {
   "cell_type": "code",
   "execution_count": 18,
   "id": "confirmed-nashville",
   "metadata": {},
   "outputs": [],
   "source": [
    "#plotly is compnay name\n",
    "from plotly.offline import download_plotlyjs,init_notebook_mode,plot,iplot"
   ]
  },
  {
   "cell_type": "code",
   "execution_count": 19,
   "id": "intermediate-indonesia",
   "metadata": {},
   "outputs": [
    {
     "data": {
      "text/html": [
       "        <script type=\"text/javascript\">\n",
       "        window.PlotlyConfig = {MathJaxConfig: 'local'};\n",
       "        if (window.MathJax) {MathJax.Hub.Config({SVG: {font: \"STIX-Web\"}});}\n",
       "        if (typeof require !== 'undefined') {\n",
       "        require.undef(\"plotly\");\n",
       "        requirejs.config({\n",
       "            paths: {\n",
       "                'plotly': ['https://cdn.plot.ly/plotly-latest.min']\n",
       "            }\n",
       "        });\n",
       "        require(['plotly'], function(Plotly) {\n",
       "            window._Plotly = Plotly;\n",
       "        });\n",
       "        }\n",
       "        </script>\n",
       "        "
      ]
     },
     "metadata": {},
     "output_type": "display_data"
    }
   ],
   "source": [
    "init_notebook_mode(connected=True)"
   ]
  },
  {
   "cell_type": "code",
   "execution_count": 10,
   "id": "radio-memorabilia",
   "metadata": {},
   "outputs": [
    {
     "data": {
      "text/html": [
       "        <script type=\"text/javascript\">\n",
       "        window.PlotlyConfig = {MathJaxConfig: 'local'};\n",
       "        if (window.MathJax) {MathJax.Hub.Config({SVG: {font: \"STIX-Web\"}});}\n",
       "        if (typeof require !== 'undefined') {\n",
       "        require.undef(\"plotly\");\n",
       "        requirejs.config({\n",
       "            paths: {\n",
       "                'plotly': ['https://cdn.plot.ly/plotly-latest.min']\n",
       "            }\n",
       "        });\n",
       "        require(['plotly'], function(Plotly) {\n",
       "            window._Plotly = Plotly;\n",
       "        });\n",
       "        }\n",
       "        </script>\n",
       "        "
      ]
     },
     "metadata": {},
     "output_type": "display_data"
    }
   ],
   "source": [
    "cf.go_offline()#method"
   ]
  },
  {
   "cell_type": "code",
   "execution_count": 11,
   "id": "future-religion",
   "metadata": {},
   "outputs": [],
   "source": [
    "#data\n",
    "import pandas as pd\n",
    "df = pd.DataFrame(np.random.randn(100,4),columns='A B C D'.split())"
   ]
  },
  {
   "cell_type": "code",
   "execution_count": 12,
   "id": "continent-point",
   "metadata": {},
   "outputs": [
    {
     "data": {
      "text/html": [
       "<div>\n",
       "<style scoped>\n",
       "    .dataframe tbody tr th:only-of-type {\n",
       "        vertical-align: middle;\n",
       "    }\n",
       "\n",
       "    .dataframe tbody tr th {\n",
       "        vertical-align: top;\n",
       "    }\n",
       "\n",
       "    .dataframe thead th {\n",
       "        text-align: right;\n",
       "    }\n",
       "</style>\n",
       "<table border=\"1\" class=\"dataframe\">\n",
       "  <thead>\n",
       "    <tr style=\"text-align: right;\">\n",
       "      <th></th>\n",
       "      <th>A</th>\n",
       "      <th>B</th>\n",
       "      <th>C</th>\n",
       "      <th>D</th>\n",
       "    </tr>\n",
       "  </thead>\n",
       "  <tbody>\n",
       "    <tr>\n",
       "      <th>0</th>\n",
       "      <td>1.061473</td>\n",
       "      <td>-0.150209</td>\n",
       "      <td>-0.477141</td>\n",
       "      <td>1.631489</td>\n",
       "    </tr>\n",
       "    <tr>\n",
       "      <th>1</th>\n",
       "      <td>0.778804</td>\n",
       "      <td>-1.473023</td>\n",
       "      <td>-1.334599</td>\n",
       "      <td>-0.696572</td>\n",
       "    </tr>\n",
       "    <tr>\n",
       "      <th>2</th>\n",
       "      <td>-0.284313</td>\n",
       "      <td>0.834397</td>\n",
       "      <td>-0.097068</td>\n",
       "      <td>0.350843</td>\n",
       "    </tr>\n",
       "    <tr>\n",
       "      <th>3</th>\n",
       "      <td>0.402861</td>\n",
       "      <td>0.078818</td>\n",
       "      <td>1.196828</td>\n",
       "      <td>-1.222264</td>\n",
       "    </tr>\n",
       "    <tr>\n",
       "      <th>4</th>\n",
       "      <td>-1.035357</td>\n",
       "      <td>0.217396</td>\n",
       "      <td>-0.678142</td>\n",
       "      <td>0.605749</td>\n",
       "    </tr>\n",
       "  </tbody>\n",
       "</table>\n",
       "</div>"
      ],
      "text/plain": [
       "          A         B         C         D\n",
       "0  1.061473 -0.150209 -0.477141  1.631489\n",
       "1  0.778804 -1.473023 -1.334599 -0.696572\n",
       "2 -0.284313  0.834397 -0.097068  0.350843\n",
       "3  0.402861  0.078818  1.196828 -1.222264\n",
       "4 -1.035357  0.217396 -0.678142  0.605749"
      ]
     },
     "execution_count": 12,
     "metadata": {},
     "output_type": "execute_result"
    }
   ],
   "source": [
    "df.head()"
   ]
  },
  {
   "cell_type": "code",
   "execution_count": 13,
   "id": "extensive-procurement",
   "metadata": {},
   "outputs": [],
   "source": [
    "df2= pd.DataFrame({'category':['A','B','C'],'values':[32,43,50]})"
   ]
  },
  {
   "cell_type": "code",
   "execution_count": 14,
   "id": "painted-shield",
   "metadata": {},
   "outputs": [
    {
     "data": {
      "text/html": [
       "<div>\n",
       "<style scoped>\n",
       "    .dataframe tbody tr th:only-of-type {\n",
       "        vertical-align: middle;\n",
       "    }\n",
       "\n",
       "    .dataframe tbody tr th {\n",
       "        vertical-align: top;\n",
       "    }\n",
       "\n",
       "    .dataframe thead th {\n",
       "        text-align: right;\n",
       "    }\n",
       "</style>\n",
       "<table border=\"1\" class=\"dataframe\">\n",
       "  <thead>\n",
       "    <tr style=\"text-align: right;\">\n",
       "      <th></th>\n",
       "      <th>category</th>\n",
       "      <th>values</th>\n",
       "    </tr>\n",
       "  </thead>\n",
       "  <tbody>\n",
       "    <tr>\n",
       "      <th>0</th>\n",
       "      <td>A</td>\n",
       "      <td>32</td>\n",
       "    </tr>\n",
       "    <tr>\n",
       "      <th>1</th>\n",
       "      <td>B</td>\n",
       "      <td>43</td>\n",
       "    </tr>\n",
       "    <tr>\n",
       "      <th>2</th>\n",
       "      <td>C</td>\n",
       "      <td>50</td>\n",
       "    </tr>\n",
       "  </tbody>\n",
       "</table>\n",
       "</div>"
      ],
      "text/plain": [
       "  category  values\n",
       "0        A      32\n",
       "1        B      43\n",
       "2        C      50"
      ]
     },
     "execution_count": 14,
     "metadata": {},
     "output_type": "execute_result"
    }
   ],
   "source": [
    "df2"
   ]
  },
  {
   "cell_type": "code",
   "execution_count": 20,
   "id": "productive-concord",
   "metadata": {},
   "outputs": [
    {
     "data": {
      "text/plain": [
       "<AxesSubplot:>"
      ]
     },
     "execution_count": 20,
     "metadata": {},
     "output_type": "execute_result"
    },
    {
     "data": {
      "image/png": "[encoded data removed]",
      "text/plain": [
       "<Figure size 432x288 with 1 Axes>"
      ]
     },
     "metadata": {
      "needs_background": "light"
     },
     "output_type": "display_data"
    }
   ],
   "source": [
    "df.plot()"
   ]
  },
  {
   "cell_type": "code",
   "execution_count": 15,
   "id": "another-crisis",
   "metadata": {},
   "outputs": [
    {
     "data": {
      "application/vnd.plotly.v1+json": {
       "config": {
        "linkText": "Export to plot.ly",
        "plotlyServerURL": "https://plot.ly",
        "showLink": true
       },
       "data": [
        {
         "line": {
          "color": "rgba(255, 153, 51, 1.0)",
          "dash": "solid",
          "shape": "linear",
          "width": 1.3
         },
         "mode": "lines",
         "name": "A",
         "text": "",
         "type": "scatter",
         "x": [
          0,
          1,
          2,
          3,
          4,
          5,
          6,
          7,
          8,
          9,
          10,
          11,
          12,
          13,
          14,
          15,
          16,
          17,
          18,
          19,
          20,
          21,
          22,
          23,
          24,
          25,
          26,
          27,
          28,
          29,
          30,
          31,
          32,
          33,
          34,
          35,
          36,
          37,
          38,
          39,
          40,
          41,
          42,
          43,
          44,
          45,
          46,
          47,
          48,
          49,
          50,
          51,
          52,
          53,
          54,
          55,
          56,
          57,
          58,
          59,
          60,
          61,
          62,
          63,
          64,
          65,
          66,
          67,
          68,
          69,
          70,
          71,
          72,
          73,
          74,
          75,
          76,
          77,
          78,
          79,
          80,
          81,
          82,
          83,
          84,
          85,
          86,
          87,
          88,
          89,
          90,
          91,
          92,
          93,
          94,
          95,
          96,
          97,
          98,
          99
         ],
         "y": [
          1.061473280205822,
          0.7788035401649821,
          -0.2843131564415733,
          0.4028606011071929,
          -1.0353566473067173,
          -1.5925881310692422,
          0.03764451610017262,
          0.09321189582306758,
          -0.4176584649435947,
          1.3425792835433714,
          1.0266554020785341,
          -0.3509763266194384,
          -1.1578507094975032,
          -0.10767980405124133,
          -0.7659349830162048,
          0.6359970746835948,
          0.781389848793117,
          -0.20999618974658754,
          -0.4724551602521327,
          -1.2611520993994236,
          0.5011595968288648,
          2.5021298775570124,
          -2.2161401806538175,
          -0.4213098675783744,
          1.406278824461392,
          1.0245563932292865,
          0.05793642079927353,
          0.5172455234185414,
          0.23237803736898088,
          -0.36851140968886364,
          -0.02331748092877489,
          1.1344686849252197,
          0.16803740412380333,
          -1.3287890912409976,
          0.7879241292820391,
          -0.005548678959254899,
          0.8329045559462215,
          -0.7430868096641571,
          -1.133100937544328,
          0.7006688816822035,
          2.035632575118046,
          0.5325886928830186,
          -0.8599991780600442,
          0.15505475981508404,
          -0.2783228994628211,
          -0.0935045987798122,
          0.257383871747999,
          0.9458026852206287,
          0.0523970154360034,
          0.028677167605447113,
          1.9243754536472717,
          -1.4517638419797148,
          -0.42240872112290845,
          -0.6830010989045584,
          0.8998411440376746,
          0.5661636957875802,
          1.8078923338402904,
          -0.1211574749952134,
          1.1628256796583745,
          -0.7747340750216297,
          -1.663603001451258,
          0.6205659519924192,
          1.1066279064691593,
          -0.4714356459473895,
          -0.6334083024936795,
          0.7840050962817294,
          0.5777402499571723,
          0.13624915721450132,
          0.12080615947972986,
          -0.7310373593845643,
          2.0878737842304975,
          -1.260657602083573,
          -0.9781991587314987,
          0.02552177479888971,
          -1.5312019439825595,
          0.3819009284644589,
          0.9627266602138024,
          -0.36528374506782496,
          -0.01330698839724629,
          -1.057342126647745,
          0.026874897028896363,
          1.4579519802072136,
          0.3436411938175002,
          -0.15839574242186497,
          0.9993958159176821,
          -0.8926368337194085,
          -0.427317895602847,
          0.6220513939400963,
          0.4957072394399795,
          -0.19188201177565387,
          -0.7045958601968229,
          -0.18917637706476753,
          -0.577505244222488,
          -0.6040999190689166,
          0.16031718046731083,
          -0.7914776160554775,
          1.025058265396455,
          1.5523763416710603,
          1.729160350179526,
          0.28383053480712556
         ]
        },
        {
         "line": {
          "color": "rgba(55, 128, 191, 1.0)",
          "dash": "solid",
          "shape": "linear",
          "width": 1.3
         },
         "mode": "lines",
         "name": "B",
         "text": "",
         "type": "scatter",
         "x": [
          0,
          1,
          2,
          3,
          4,
          5,
          6,
          7,
          8,
          9,
          10,
          11,
          12,
          13,
          14,
          15,
          16,
          17,
          18,
          19,
          20,
          21,
          22,
          23,
          24,
          25,
          26,
          27,
          28,
          29,
          30,
          31,
          32,
          33,
          34,
          35,
          36,
          37,
          38,
          39,
          40,
          41,
          42,
          43,
          44,
          45,
          46,
          47,
          48,
          49,
          50,
          51,
          52,
          53,
          54,
          55,
          56,
          57,
          58,
          59,
          60,
          61,
          62,
          63,
          64,
          65,
          66,
          67,
          68,
          69,
          70,
          71,
          72,
          73,
          74,
          75,
          76,
          77,
          78,
          79,
          80,
          81,
          82,
          83,
          84,
          85,
          86,
          87,
          88,
          89,
          90,
          91,
          92,
          93,
          94,
          95,
          96,
          97,
          98,
          99
         ],
         "y": [
          -0.1502090526950633,
          -1.4730229850054035,
          0.8343967846403096,
          0.07881786533117169,
          0.2173963689453169,
          -0.5528080492436792,
          -1.6258453109586075,
          -0.6767305514654233,
          -0.14300288693546617,
          0.4496954555587184,
          -0.01257683703554524,
          -0.28528865085325283,
          -0.6211655838808301,
          -0.2088464084433686,
          0.11963905119676699,
          -0.33498296236193226,
          -0.33505878250702303,
          1.7253129170246115,
          -1.1653926642573262,
          0.3805949514809733,
          0.09743708259195785,
          -1.0379640975634625,
          0.15098100983051105,
          0.4318977678868364,
          0.4963469437410477,
          0.028512895291313973,
          -1.0979847878044142,
          0.3971856542241418,
          -0.7638507427802923,
          0.04362940403433376,
          0.5493903482135887,
          0.43290716796591083,
          -0.44521194333356084,
          0.9661060689292932,
          0.44210330235753237,
          0.03321214661252483,
          -0.48936726967185207,
          -0.9304182896274302,
          1.6968215447462103,
          -0.278502027157531,
          0.35962316230753194,
          0.1694672554621009,
          1.3463629130177368,
          -0.4773321454887906,
          0.7558264273744825,
          0.30602848551497713,
          1.077734325636297,
          -0.06665598912475737,
          -0.40947446944564386,
          -1.046290912810996,
          0.15155824818897423,
          0.9479235219129352,
          0.5012297209712162,
          0.7202543172706395,
          1.2146155916317036,
          -0.761540003341629,
          1.4216908347738988,
          -0.8083797165101845,
          -0.9598316539739877,
          0.3250456999210159,
          0.7784293978884731,
          0.2913806361130591,
          -0.7031204864984019,
          -0.848852060370494,
          1.3077008994967214,
          2.3441676335625856,
          0.6737609401575443,
          -0.025823768466770602,
          -0.7677235483223626,
          -0.06131394849974311,
          0.039052404999263476,
          0.054768492284818365,
          -0.8498106331641933,
          0.706498180370543,
          -1.2607512917177826,
          -0.41172978961905266,
          -0.2707358279752124,
          0.23025681528889977,
          0.5539822404638315,
          -0.08288867817875158,
          -0.997771161936249,
          -0.678778928533606,
          -1.1474059797681828,
          0.13050467561654697,
          -0.20127543952445254,
          1.1734867634071395,
          -0.14447033334416912,
          -0.7768356529113692,
          2.108155468791955,
          0.2577470285525313,
          0.34417938196510817,
          -1.077596212923613,
          -0.6645104260980493,
          0.5900139902104728,
          -0.8875170695082091,
          1.6232057752672975,
          -0.4425887211319952,
          -0.11476017820101533,
          -0.33938732454496534,
          0.8827855572707493
         ]
        },
        {
         "line": {
          "color": "rgba(50, 171, 96, 1.0)",
          "dash": "solid",
          "shape": "linear",
          "width": 1.3
         },
         "mode": "lines",
         "name": "C",
         "text": "",
         "type": "scatter",
         "x": [
          0,
          1,
          2,
          3,
          4,
          5,
          6,
          7,
          8,
          9,
          10,
          11,
          12,
          13,
          14,
          15,
          16,
          17,
          18,
          19,
          20,
          21,
          22,
          23,
          24,
          25,
          26,
          27,
          28,
          29,
          30,
          31,
          32,
          33,
          34,
          35,
          36,
          37,
          38,
          39,
          40,
          41,
          42,
          43,
          44,
          45,
          46,
          47,
          48,
          49,
          50,
          51,
          52,
          53,
          54,
          55,
          56,
          57,
          58,
          59,
          60,
          61,
          62,
          63,
          64,
          65,
          66,
          67,
          68,
          69,
          70,
          71,
          72,
          73,
          74,
          75,
          76,
          77,
          78,
          79,
          80,
          81,
          82,
          83,
          84,
          85,
          86,
          87,
          88,
          89,
          90,
          91,
          92,
          93,
          94,
          95,
          96,
          97,
          98,
          99
         ],
         "y": [
          -0.47714094631062437,
          -1.3345994918462734,
          -0.09706841022884331,
          1.1968284173047101,
          -0.6781421534686967,
          0.43159356038013935,
          0.6835822972305295,
          1.5711798443259752,
          -0.27737562899744533,
          0.5994425730797492,
          -0.15410497991092595,
          1.0107493932087777,
          0.15790142926355047,
          -0.8841180511952776,
          -1.3350209756308677,
          0.5485462338639149,
          -0.8619817842262595,
          -0.7168525530062234,
          1.1273469677020778,
          0.8730206000954404,
          -0.24702144524183348,
          0.7880028275551544,
          0.2071746893225869,
          -0.029225038016002854,
          1.865403567959548,
          0.11538188550007665,
          1.269548326304167,
          0.16509610572813474,
          0.8999860999795253,
          -0.0354781432835169,
          -0.49133860040138927,
          0.9079135076642156,
          -0.8114482812530663,
          0.8220565081765221,
          0.39946462690287393,
          -0.5547203946074728,
          -1.62037719639545,
          0.26472999659299234,
          -0.45658294841827207,
          -1.2614757474644993,
          -0.43639157115159743,
          1.2881598359634865,
          -0.23110420853353672,
          -0.4744266952361845,
          0.8272940547801969,
          -0.477104784804838,
          -0.7963256279031508,
          -0.8925126287583691,
          -1.5330790864952706,
          0.6151987020079225,
          0.4591690773644197,
          -1.5059313243649641,
          0.29372259009452656,
          1.1736766502681213,
          0.7310143871935828,
          0.22948656932661435,
          0.9737063267905761,
          0.9345629639664688,
          -0.7114277853243768,
          0.5927372448969023,
          0.285849459719758,
          0.60474917891961,
          -0.6367443989963583,
          -1.2001184162791918,
          0.6190840465127015,
          1.2339947962318631,
          -0.8187481609627966,
          -1.5506335715530588,
          0.27012562568802667,
          -0.4171533248547998,
          -0.8984022932891833,
          -1.3991492296082042,
          -0.5598386542022132,
          1.1269459966469904,
          1.8281568708288565,
          -0.406172312652385,
          -0.1640700800271707,
          -1.040967602120725,
          -1.0298408006190567,
          -1.5270696190537125,
          -0.2873013178148533,
          2.356989409619273,
          1.3783874582632833,
          -0.5733734484701256,
          -1.3093978213393007,
          -0.031035089615515692,
          -1.0539086734360197,
          1.319453591012269,
          -0.5158746252674392,
          0.4087916669098679,
          -0.6591222849766853,
          -2.197209533022403,
          0.0022492549136631694,
          0.8021121429442958,
          1.461573563904791,
          1.233482781292835,
          -0.2713433242778099,
          0.09255866193143845,
          -0.9387691637262042,
          -1.3143626501216688
         ]
        },
        {
         "line": {
          "color": "rgba(128, 0, 128, 1.0)",
          "dash": "solid",
          "shape": "linear",
          "width": 1.3
         },
         "mode": "lines",
         "name": "D",
         "text": "",
         "type": "scatter",
         "x": [
          0,
          1,
          2,
          3,
          4,
          5,
          6,
          7,
          8,
          9,
          10,
          11,
          12,
          13,
          14,
          15,
          16,
          17,
          18,
          19,
          20,
          21,
          22,
          23,
          24,
          25,
          26,
          27,
          28,
          29,
          30,
          31,
          32,
          33,
          34,
          35,
          36,
          37,
          38,
          39,
          40,
          41,
          42,
          43,
          44,
          45,
          46,
          47,
          48,
          49,
          50,
          51,
          52,
          53,
          54,
          55,
          56,
          57,
          58,
          59,
          60,
          61,
          62,
          63,
          64,
          65,
          66,
          67,
          68,
          69,
          70,
          71,
          72,
          73,
          74,
          75,
          76,
          77,
          78,
          79,
          80,
          81,
          82,
          83,
          84,
          85,
          86,
          87,
          88,
          89,
          90,
          91,
          92,
          93,
          94,
          95,
          96,
          97,
          98,
          99
         ],
         "y": [
          1.6314890263197093,
          -0.6965718949158347,
          0.35084318365036765,
          -1.2222638113329922,
          0.6057486684596096,
          0.1452009905992692,
          -0.6668275595094052,
          0.49909495279141736,
          -1.1829092869149782,
          0.6705087643248491,
          0.8622858501949637,
          1.225417623604347,
          1.755725704148251,
          1.1309847736467293,
          -0.5336105481216621,
          0.7107270765748982,
          2.0435749991999623,
          1.2961399551551187,
          -1.6630925483891579,
          0.4230686092321981,
          -1.1447678627644444,
          0.5153826472117116,
          -0.0002649357515297671,
          0.31907947552678717,
          1.9410031412628177,
          1.3972847873794798,
          -0.3360358659654972,
          1.1498644432680514,
          1.1186222369629626,
          -1.0632158208343334,
          -0.05930212027860439,
          1.9594955868731154,
          -1.4415945415090048,
          0.5543778984758491,
          1.6684568260885326,
          -0.9657872528147986,
          -0.275521957970055,
          -0.18596131515277367,
          0.8938964819496332,
          1.2875885101092677,
          -0.4272488078580057,
          -0.26185929298795513,
          0.47858563361446205,
          -0.28598242623725545,
          0.38454741202639714,
          -1.3527736346922408,
          1.5444272867441986,
          -0.3570274407771999,
          -0.7262802270049282,
          1.2520672171528433,
          0.5073482762541652,
          -0.010703223441998921,
          -0.7018499206350687,
          -0.010451541881170784,
          -0.24866318791685305,
          -0.8482855975753855,
          0.8344833151665356,
          1.1409383112926403,
          -1.3915829568990927,
          -0.30856369866854416,
          0.7064812547399467,
          -0.8545392957094377,
          1.0022935778450717,
          -0.9919371688360995,
          0.36963442707580324,
          -0.5629342487974898,
          0.16960105239569848,
          -0.40362658397962303,
          -1.6780961091806244,
          -0.9687692761826167,
          -0.5029640394538285,
          0.23498051849444426,
          -0.6979677180565823,
          0.9919702901846777,
          -2.3777343087528027,
          -1.227705051199071,
          -0.059914758678974736,
          1.672020587047513,
          -1.9817420768305458,
          -0.5382447203064389,
          -1.2468599687743567,
          1.0967785445323446,
          -1.294038898804085,
          -0.38134039447576606,
          0.8389213301310103,
          0.7556168393816037,
          2.0671722471818614,
          1.3722760538868541,
          -0.42438600997816767,
          1.4249998743946992,
          0.2601743447370759,
          0.020246716306334817,
          -0.7555172138596694,
          0.07425581796169935,
          -2.5711289485102866,
          -0.9898595722162504,
          -0.24067441805738782,
          -1.991382303709734,
          0.23063973668514276,
          1.278168487899292
         ]
        }
       ],
       "layout": {
        "legend": {
         "bgcolor": "#F5F6F9",
         "font": {
          "color": "#4D5663"
         }
        },
        "paper_bgcolor": "#F5F6F9",
        "plot_bgcolor": "#F5F6F9",
        "template": {
         "data": {
          "bar": [
           {
            "error_x": {
             "color": "#2a3f5f"
            },
            "error_y": {
             "color": "#2a3f5f"
            },
            "marker": {
             "line": {
              "color": "#E5ECF6",
              "width": 0.5
             }
            },
            "type": "bar"
           }
          ],
          "barpolar": [
           {
            "marker": {
             "line": {
              "color": "#E5ECF6",
              "width": 0.5
             }
            },
            "type": "barpolar"
           }
          ],
          "carpet": [
           {
            "aaxis": {
             "endlinecolor": "#2a3f5f",
             "gridcolor": "white",
             "linecolor": "white",
             "minorgridcolor": "white",
             "startlinecolor": "#2a3f5f"
            },
            "baxis": {
             "endlinecolor": "#2a3f5f",
             "gridcolor": "white",
             "linecolor": "white",
             "minorgridcolor": "white",
             "startlinecolor": "#2a3f5f"
            },
            "type": "carpet"
           }
          ],
          "choropleth": [
           {
            "colorbar": {
             "outlinewidth": 0,
             "ticks": ""
            },
            "type": "choropleth"
           }
          ],
          "contour": [
           {
            "colorbar": {
             "outlinewidth": 0,
             "ticks": ""
            },
            "colorscale": [
             [
              0,
              "#0d0887"
             ],
             [
              0.1111111111111111,
              "#46039f"
             ],
             [
              0.2222222222222222,
              "#7201a8"
             ],
             [
              0.3333333333333333,
              "#9c179e"
             ],
             [
              0.4444444444444444,
              "#bd3786"
             ],
             [
              0.5555555555555556,
              "#d8576b"
             ],
             [
              0.6666666666666666,
              "#ed7953"
             ],
             [
              0.7777777777777778,
              "#fb9f3a"
             ],
             [
              0.8888888888888888,
              "#fdca26"
             ],
             [
              1,
              "#f0f921"
             ]
            ],
            "type": "contour"
           }
          ],
          "contourcarpet": [
           {
            "colorbar": {
             "outlinewidth": 0,
             "ticks": ""
            },
            "type": "contourcarpet"
           }
          ],
          "heatmap": [
           {
            "colorbar": {
             "outlinewidth": 0,
             "ticks": ""
            },
            "colorscale": [
             [
              0,
              "#0d0887"
             ],
             [
              0.1111111111111111,
              "#46039f"
             ],
             [
              0.2222222222222222,
              "#7201a8"
             ],
             [
              0.3333333333333333,
              "#9c179e"
             ],
             [
              0.4444444444444444,
              "#bd3786"
             ],
             [
              0.5555555555555556,
              "#d8576b"
             ],
             [
              0.6666666666666666,
              "#ed7953"
             ],
             [
              0.7777777777777778,
              "#fb9f3a"
             ],
             [
              0.8888888888888888,
              "#fdca26"
             ],
             [
              1,
              "#f0f921"
             ]
            ],
            "type": "heatmap"
           }
          ],
          "heatmapgl": [
           {
            "colorbar": {
             "outlinewidth": 0,
             "ticks": ""
            },
            "colorscale": [
             [
              0,
              "#0d0887"
             ],
             [
              0.1111111111111111,
              "#46039f"
             ],
             [
              0.2222222222222222,
              "#7201a8"
             ],
             [
              0.3333333333333333,
              "#9c179e"
             ],
             [
              0.4444444444444444,
              "#bd3786"
             ],
             [
              0.5555555555555556,
              "#d8576b"
             ],
             [
              0.6666666666666666,
              "#ed7953"
             ],
             [
              0.7777777777777778,
              "#fb9f3a"
             ],
             [
              0.8888888888888888,
              "#fdca26"
             ],
             [
              1,
              "#f0f921"
             ]
            ],
            "type": "heatmapgl"
           }
          ],
          "histogram": [
           {
            "marker": {
             "colorbar": {
              "outlinewidth": 0,
              "ticks": ""
             }
            },
            "type": "histogram"
           }
          ],
          "histogram2d": [
           {
            "colorbar": {
             "outlinewidth": 0,
             "ticks": ""
            },
            "colorscale": [
             [
              0,
              "#0d0887"
             ],
             [
              0.1111111111111111,
              "#46039f"
             ],
             [
              0.2222222222222222,
              "#7201a8"
             ],
             [
              0.3333333333333333,
              "#9c179e"
             ],
             [
              0.4444444444444444,
              "#bd3786"
             ],
             [
              0.5555555555555556,
              "#d8576b"
             ],
             [
              0.6666666666666666,
              "#ed7953"
             ],
             [
              0.7777777777777778,
              "#fb9f3a"
             ],
             [
              0.8888888888888888,
              "#fdca26"
             ],
             [
              1,
              "#f0f921"
             ]
            ],
            "type": "histogram2d"
           }
          ],
          "histogram2dcontour": [
           {
            "colorbar": {
             "outlinewidth": 0,
             "ticks": ""
            },
            "colorscale": [
             [
              0,
              "#0d0887"
             ],
             [
              0.1111111111111111,
              "#46039f"
             ],
             [
              0.2222222222222222,
              "#7201a8"
             ],
             [
              0.3333333333333333,
              "#9c179e"
             ],
             [
              0.4444444444444444,
              "#bd3786"
             ],
             [
              0.5555555555555556,
              "#d8576b"
             ],
             [
              0.6666666666666666,
              "#ed7953"
             ],
             [
              0.7777777777777778,
              "#fb9f3a"
             ],
             [
              0.8888888888888888,
              "#fdca26"
             ],
             [
              1,
              "#f0f921"
             ]
            ],
            "type": "histogram2dcontour"
           }
          ],
          "mesh3d": [
           {
            "colorbar": {
             "outlinewidth": 0,
             "ticks": ""
            },
            "type": "mesh3d"
           }
          ],
          "parcoords": [
           {
            "line": {
             "colorbar": {
              "outlinewidth": 0,
              "ticks": ""
             }
            },
            "type": "parcoords"
           }
          ],
          "pie": [
           {
            "automargin": true,
            "type": "pie"
           }
          ],
          "scatter": [
           {
            "marker": {
             "colorbar": {
              "outlinewidth": 0,
              "ticks": ""
             }
            },
            "type": "scatter"
           }
          ],
          "scatter3d": [
           {
            "line": {
             "colorbar": {
              "outlinewidth": 0,
              "ticks": ""
             }
            },
            "marker": {
             "colorbar": {
              "outlinewidth": 0,
              "ticks": ""
             }
            },
            "type": "scatter3d"
           }
          ],
          "scattercarpet": [
           {
            "marker": {
             "colorbar": {
              "outlinewidth": 0,
              "ticks": ""
             }
            },
            "type": "scattercarpet"
           }
          ],
          "scattergeo": [
           {
            "marker": {
             "colorbar": {
              "outlinewidth": 0,
              "ticks": ""
             }
            },
            "type": "scattergeo"
           }
          ],
          "scattergl": [
           {
            "marker": {
             "colorbar": {
              "outlinewidth": 0,
              "ticks": ""
             }
            },
            "type": "scattergl"
           }
          ],
          "scattermapbox": [
           {
            "marker": {
             "colorbar": {
              "outlinewidth": 0,
              "ticks": ""
             }
            },
            "type": "scattermapbox"
           }
          ],
          "scatterpolar": [
           {
            "marker": {
             "colorbar": {
              "outlinewidth": 0,
              "ticks": ""
             }
            },
            "type": "scatterpolar"
           }
          ],
          "scatterpolargl": [
           {
            "marker": {
             "colorbar": {
              "outlinewidth": 0,
              "ticks": ""
             }
            },
            "type": "scatterpolargl"
           }
          ],
          "scatterternary": [
           {
            "marker": {
             "colorbar": {
              "outlinewidth": 0,
              "ticks": ""
             }
            },
            "type": "scatterternary"
           }
          ],
          "surface": [
           {
            "colorbar": {
             "outlinewidth": 0,
             "ticks": ""
            },
            "colorscale": [
             [
              0,
              "#0d0887"
             ],
             [
              0.1111111111111111,
              "#46039f"
             ],
             [
              0.2222222222222222,
              "#7201a8"
             ],
             [
              0.3333333333333333,
              "#9c179e"
             ],
             [
              0.4444444444444444,
              "#bd3786"
             ],
             [
              0.5555555555555556,
              "#d8576b"
             ],
             [
              0.6666666666666666,
              "#ed7953"
             ],
             [
              0.7777777777777778,
              "#fb9f3a"
             ],
             [
              0.8888888888888888,
              "#fdca26"
             ],
             [
              1,
              "#f0f921"
             ]
            ],
            "type": "surface"
           }
          ],
          "table": [
           {
            "cells": {
             "fill": {
              "color": "#EBF0F8"
             },
             "line": {
              "color": "white"
             }
            },
            "header": {
             "fill": {
              "color": "#C8D4E3"
             },
             "line": {
              "color": "white"
             }
            },
            "type": "table"
           }
          ]
         },
         "layout": {
          "annotationdefaults": {
           "arrowcolor": "#2a3f5f",
           "arrowhead": 0,
           "arrowwidth": 1
          },
          "autotypenumbers": "strict",
          "coloraxis": {
           "colorbar": {
            "outlinewidth": 0,
            "ticks": ""
           }
          },
          "colorscale": {
           "diverging": [
            [
             0,
             "#8e0152"
            ],
            [
             0.1,
             "#c51b7d"
            ],
            [
             0.2,
             "#de77ae"
            ],
            [
             0.3,
             "#f1b6da"
            ],
            [
             0.4,
             "#fde0ef"
            ],
            [
             0.5,
             "#f7f7f7"
            ],
            [
             0.6,
             "#e6f5d0"
            ],
            [
             0.7,
             "#b8e186"
            ],
            [
             0.8,
             "#7fbc41"
            ],
            [
             0.9,
             "#4d9221"
            ],
            [
             1,
             "#276419"
            ]
           ],
           "sequential": [
            [
             0,
             "#0d0887"
            ],
            [
             0.1111111111111111,
             "#46039f"
            ],
            [
             0.2222222222222222,
             "#7201a8"
            ],
            [
             0.3333333333333333,
             "#9c179e"
            ],
            [
             0.4444444444444444,
             "#bd3786"
            ],
            [
             0.5555555555555556,
             "#d8576b"
            ],
            [
             0.6666666666666666,
             "#ed7953"
            ],
            [
             0.7777777777777778,
             "#fb9f3a"
            ],
            [
             0.8888888888888888,
             "#fdca26"
            ],
            [
             1,
             "#f0f921"
            ]
           ],
           "sequentialminus": [
            [
             0,
             "#0d0887"
            ],
            [
             0.1111111111111111,
             "#46039f"
            ],
            [
             0.2222222222222222,
             "#7201a8"
            ],
            [
             0.3333333333333333,
             "#9c179e"
            ],
            [
             0.4444444444444444,
             "#bd3786"
            ],
            [
             0.5555555555555556,
             "#d8576b"
            ],
            [
             0.6666666666666666,
             "#ed7953"
            ],
            [
             0.7777777777777778,
             "#fb9f3a"
            ],
            [
             0.8888888888888888,
             "#fdca26"
            ],
            [
             1,
             "#f0f921"
            ]
           ]
          },
          "colorway": [
           "#636efa",
           "#EF553B",
           "#00cc96",
           "#ab63fa",
           "#FFA15A",
           "#19d3f3",
           "#FF6692",
           "#B6E880",
           "#FF97FF",
           "#FECB52"
          ],
          "font": {
           "color": "#2a3f5f"
          },
          "geo": {
           "bgcolor": "white",
           "lakecolor": "white",
           "landcolor": "#E5ECF6",
           "showlakes": true,
           "showland": true,
           "subunitcolor": "white"
          },
          "hoverlabel": {
           "align": "left"
          },
          "hovermode": "closest",
          "mapbox": {
           "style": "light"
          },
          "paper_bgcolor": "white",
          "plot_bgcolor": "#E5ECF6",
          "polar": {
           "angularaxis": {
            "gridcolor": "white",
            "linecolor": "white",
            "ticks": ""
           },
           "bgcolor": "#E5ECF6",
           "radialaxis": {
            "gridcolor": "white",
            "linecolor": "white",
            "ticks": ""
           }
          },
          "scene": {
           "xaxis": {
            "backgroundcolor": "#E5ECF6",
            "gridcolor": "white",
            "gridwidth": 2,
            "linecolor": "white",
            "showbackground": true,
            "ticks": "",
            "zerolinecolor": "white"
           },
           "yaxis": {
            "backgroundcolor": "#E5ECF6",
            "gridcolor": "white",
            "gridwidth": 2,
            "linecolor": "white",
            "showbackground": true,
            "ticks": "",
            "zerolinecolor": "white"
           },
           "zaxis": {
            "backgroundcolor": "#E5ECF6",
            "gridcolor": "white",
            "gridwidth": 2,
            "linecolor": "white",
            "showbackground": true,
            "ticks": "",
            "zerolinecolor": "white"
           }
          },
          "shapedefaults": {
           "line": {
            "color": "#2a3f5f"
           }
          },
          "ternary": {
           "aaxis": {
            "gridcolor": "white",
            "linecolor": "white",
            "ticks": ""
           },
           "baxis": {
            "gridcolor": "white",
            "linecolor": "white",
            "ticks": ""
           },
           "bgcolor": "#E5ECF6",
           "caxis": {
            "gridcolor": "white",
            "linecolor": "white",
            "ticks": ""
           }
          },
          "title": {
           "x": 0.05
          },
          "xaxis": {
           "automargin": true,
           "gridcolor": "white",
           "linecolor": "white",
           "ticks": "",
           "title": {
            "standoff": 15
           },
           "zerolinecolor": "white",
           "zerolinewidth": 2
          },
          "yaxis": {
           "automargin": true,
           "gridcolor": "white",
           "linecolor": "white",
           "ticks": "",
           "title": {
            "standoff": 15
           },
           "zerolinecolor": "white",
           "zerolinewidth": 2
          }
         }
        },
        "title": {
         "font": {
          "color": "#4D5663"
         }
        },
        "xaxis": {
         "gridcolor": "#E1E5ED",
         "showgrid": true,
         "tickfont": {
          "color": "#4D5663"
         },
         "title": {
          "font": {
           "color": "#4D5663"
          },
          "text": ""
         },
         "zerolinecolor": "#E1E5ED"
        },
        "yaxis": {
         "gridcolor": "#E1E5ED",
         "showgrid": true,
         "tickfont": {
          "color": "#4D5663"
         },
         "title": {
          "font": {
           "color": "#4D5663"
          },
          "text": ""
         },
         "zerolinecolor": "#E1E5ED"
        }
       }
      },
      "text/html": [
       "<div>                            <div id=\"1e3ecd81-d3cd-4b7c-8611-3e75a1b63788\" class=\"plotly-graph-div\" style=\"height:525px; width:100%;\"></div>            <script type=\"text/javascript\">                require([\"plotly\"], function(Plotly) {                    window.PLOTLYENV=window.PLOTLYENV || {};\n",
       "                    window.PLOTLYENV.BASE_URL='https://plot.ly';                                    if (document.getElementById(\"1e3ecd81-d3cd-4b7c-8611-3e75a1b63788\")) {                    Plotly.newPlot(                        \"1e3ecd81-d3cd-4b7c-8611-3e75a1b63788\",                        [{\"line\": {\"color\": \"rgba(255, 153, 51, 1.0)\", \"dash\": \"solid\", \"shape\": \"linear\", \"width\": 1.3}, \"mode\": \"lines\", \"name\": \"A\", \"text\": \"\", \"type\": \"scatter\", \"x\": [0, 1, 2, 3, 4, 5, 6, 7, 8, 9, 10, 11, 12, 13, 14, 15, 16, 17, 18, 19, 20, 21, 22, 23, 24, 25, 26, 27, 28, 29, 30, 31, 32, 33, 34, 35, 36, 37, 38, 39, 40, 41, 42, 43, 44, 45, 46, 47, 48, 49, 50, 51, 52, 53, 54, 55, 56, 57, 58, 59, 60, 61, 62, 63, 64, 65, 66, 67, 68, 69, 70, 71, 72, 73, 74, 75, 76, 77, 78, 79, 80, 81, 82, 83, 84, 85, 86, 87, 88, 89, 90, 91, 92, 93, 94, 95, 96, 97, 98, 99], \"y\": [1.061473280205822, 0.7788035401649821, -0.2843131564415733, 0.4028606011071929, -1.0353566473067173, -1.5925881310692422, 0.03764451610017262, 0.09321189582306758, -0.4176584649435947, 1.3425792835433714, 1.0266554020785341, -0.3509763266194384, -1.1578507094975032, -0.10767980405124133, -0.7659349830162048, 0.6359970746835948, 0.781389848793117, -0.20999618974658754, -0.4724551602521327, -1.2611520993994236, 0.5011595968288648, 2.5021298775570124, -2.2161401806538175, -0.4213098675783744, 1.406278824461392, 1.0245563932292865, 0.05793642079927353, 0.5172455234185414, 0.23237803736898088, -0.36851140968886364, -0.02331748092877489, 1.1344686849252197, 0.16803740412380333, -1.3287890912409976, 0.7879241292820391, -0.005548678959254899, 0.8329045559462215, -0.7430868096641571, -1.133100937544328, 0.7006688816822035, 2.035632575118046, 0.5325886928830186, -0.8599991780600442, 0.15505475981508404, -0.2783228994628211, -0.0935045987798122, 0.257383871747999, 0.9458026852206287, 0.0523970154360034, 0.028677167605447113, 1.9243754536472717, -1.4517638419797148, -0.42240872112290845, -0.6830010989045584, 0.8998411440376746, 0.5661636957875802, 1.8078923338402904, -0.1211574749952134, 1.1628256796583745, -0.7747340750216297, -1.663603001451258, 0.6205659519924192, 1.1066279064691593, -0.4714356459473895, -0.6334083024936795, 0.7840050962817294, 0.5777402499571723, 0.13624915721450132, 0.12080615947972986, -0.7310373593845643, 2.0878737842304975, -1.260657602083573, -0.9781991587314987, 0.02552177479888971, -1.5312019439825595, 0.3819009284644589, 0.9627266602138024, -0.36528374506782496, -0.01330698839724629, -1.057342126647745, 0.026874897028896363, 1.4579519802072136, 0.3436411938175002, -0.15839574242186497, 0.9993958159176821, -0.8926368337194085, -0.427317895602847, 0.6220513939400963, 0.4957072394399795, -0.19188201177565387, -0.7045958601968229, -0.18917637706476753, -0.577505244222488, -0.6040999190689166, 0.16031718046731083, -0.7914776160554775, 1.025058265396455, 1.5523763416710603, 1.729160350179526, 0.28383053480712556]}, {\"line\": {\"color\": \"rgba(55, 128, 191, 1.0)\", \"dash\": \"solid\", \"shape\": \"linear\", \"width\": 1.3}, \"mode\": \"lines\", \"name\": \"B\", \"text\": \"\", \"type\": \"scatter\", \"x\": [0, 1, 2, 3, 4, 5, 6, 7, 8, 9, 10, 11, 12, 13, 14, 15, 16, 17, 18, 19, 20, 21, 22, 23, 24, 25, 26, 27, 28, 29, 30, 31, 32, 33, 34, 35, 36, 37, 38, 39, 40, 41, 42, 43, 44, 45, 46, 47, 48, 49, 50, 51, 52, 53, 54, 55, 56, 57, 58, 59, 60, 61, 62, 63, 64, 65, 66, 67, 68, 69, 70, 71, 72, 73, 74, 75, 76, 77, 78, 79, 80, 81, 82, 83, 84, 85, 86, 87, 88, 89, 90, 91, 92, 93, 94, 95, 96, 97, 98, 99], \"y\": [-0.1502090526950633, -1.4730229850054035, 0.8343967846403096, 0.07881786533117169, 0.2173963689453169, -0.5528080492436792, -1.6258453109586075, -0.6767305514654233, -0.14300288693546617, 0.4496954555587184, -0.01257683703554524, -0.28528865085325283, -0.6211655838808301, -0.2088464084433686, 0.11963905119676699, -0.33498296236193226, -0.33505878250702303, 1.7253129170246115, -1.1653926642573262, 0.3805949514809733, 0.09743708259195785, -1.0379640975634625, 0.15098100983051105, 0.4318977678868364, 0.4963469437410477, 0.028512895291313973, -1.0979847878044142, 0.3971856542241418, -0.7638507427802923, 0.04362940403433376, 0.5493903482135887, 0.43290716796591083, -0.44521194333356084, 0.9661060689292932, 0.44210330235753237, 0.03321214661252483, -0.48936726967185207, -0.9304182896274302, 1.6968215447462103, -0.278502027157531, 0.35962316230753194, 0.1694672554621009, 1.3463629130177368, -0.4773321454887906, 0.7558264273744825, 0.30602848551497713, 1.077734325636297, -0.06665598912475737, -0.40947446944564386, -1.046290912810996, 0.15155824818897423, 0.9479235219129352, 0.5012297209712162, 0.7202543172706395, 1.2146155916317036, -0.761540003341629, 1.4216908347738988, -0.8083797165101845, -0.9598316539739877, 0.3250456999210159, 0.7784293978884731, 0.2913806361130591, -0.7031204864984019, -0.848852060370494, 1.3077008994967214, 2.3441676335625856, 0.6737609401575443, -0.025823768466770602, -0.7677235483223626, -0.06131394849974311, 0.039052404999263476, 0.054768492284818365, -0.8498106331641933, 0.706498180370543, -1.2607512917177826, -0.41172978961905266, -0.2707358279752124, 0.23025681528889977, 0.5539822404638315, -0.08288867817875158, -0.997771161936249, -0.678778928533606, -1.1474059797681828, 0.13050467561654697, -0.20127543952445254, 1.1734867634071395, -0.14447033334416912, -0.7768356529113692, 2.108155468791955, 0.2577470285525313, 0.34417938196510817, -1.077596212923613, -0.6645104260980493, 0.5900139902104728, -0.8875170695082091, 1.6232057752672975, -0.4425887211319952, -0.11476017820101533, -0.33938732454496534, 0.8827855572707493]}, {\"line\": {\"color\": \"rgba(50, 171, 96, 1.0)\", \"dash\": \"solid\", \"shape\": \"linear\", \"width\": 1.3}, \"mode\": \"lines\", \"name\": \"C\", \"text\": \"\", \"type\": \"scatter\", \"x\": [0, 1, 2, 3, 4, 5, 6, 7, 8, 9, 10, 11, 12, 13, 14, 15, 16, 17, 18, 19, 20, 21, 22, 23, 24, 25, 26, 27, 28, 29, 30, 31, 32, 33, 34, 35, 36, 37, 38, 39, 40, 41, 42, 43, 44, 45, 46, 47, 48, 49, 50, 51, 52, 53, 54, 55, 56, 57, 58, 59, 60, 61, 62, 63, 64, 65, 66, 67, 68, 69, 70, 71, 72, 73, 74, 75, 76, 77, 78, 79, 80, 81, 82, 83, 84, 85, 86, 87, 88, 89, 90, 91, 92, 93, 94, 95, 96, 97, 98, 99], \"y\": [-0.47714094631062437, -1.3345994918462734, -0.09706841022884331, 1.1968284173047101, -0.6781421534686967, 0.43159356038013935, 0.6835822972305295, 1.5711798443259752, -0.27737562899744533, 0.5994425730797492, -0.15410497991092595, 1.0107493932087777, 0.15790142926355047, -0.8841180511952776, -1.3350209756308677, 0.5485462338639149, -0.8619817842262595, -0.7168525530062234, 1.1273469677020778, 0.8730206000954404, -0.24702144524183348, 0.7880028275551544, 0.2071746893225869, -0.029225038016002854, 1.865403567959548, 0.11538188550007665, 1.269548326304167, 0.16509610572813474, 0.8999860999795253, -0.0354781432835169, -0.49133860040138927, 0.9079135076642156, -0.8114482812530663, 0.8220565081765221, 0.39946462690287393, -0.5547203946074728, -1.62037719639545, 0.26472999659299234, -0.45658294841827207, -1.2614757474644993, -0.43639157115159743, 1.2881598359634865, -0.23110420853353672, -0.4744266952361845, 0.8272940547801969, -0.477104784804838, -0.7963256279031508, -0.8925126287583691, -1.5330790864952706, 0.6151987020079225, 0.4591690773644197, -1.5059313243649641, 0.29372259009452656, 1.1736766502681213, 0.7310143871935828, 0.22948656932661435, 0.9737063267905761, 0.9345629639664688, -0.7114277853243768, 0.5927372448969023, 0.285849459719758, 0.60474917891961, -0.6367443989963583, -1.2001184162791918, 0.6190840465127015, 1.2339947962318631, -0.8187481609627966, -1.5506335715530588, 0.27012562568802667, -0.4171533248547998, -0.8984022932891833, -1.3991492296082042, -0.5598386542022132, 1.1269459966469904, 1.8281568708288565, -0.406172312652385, -0.1640700800271707, -1.040967602120725, -1.0298408006190567, -1.5270696190537125, -0.2873013178148533, 2.356989409619273, 1.3783874582632833, -0.5733734484701256, -1.3093978213393007, -0.031035089615515692, -1.0539086734360197, 1.319453591012269, -0.5158746252674392, 0.4087916669098679, -0.6591222849766853, -2.197209533022403, 0.0022492549136631694, 0.8021121429442958, 1.461573563904791, 1.233482781292835, -0.2713433242778099, 0.09255866193143845, -0.9387691637262042, -1.3143626501216688]}, {\"line\": {\"color\": \"rgba(128, 0, 128, 1.0)\", \"dash\": \"solid\", \"shape\": \"linear\", \"width\": 1.3}, \"mode\": \"lines\", \"name\": \"D\", \"text\": \"\", \"type\": \"scatter\", \"x\": [0, 1, 2, 3, 4, 5, 6, 7, 8, 9, 10, 11, 12, 13, 14, 15, 16, 17, 18, 19, 20, 21, 22, 23, 24, 25, 26, 27, 28, 29, 30, 31, 32, 33, 34, 35, 36, 37, 38, 39, 40, 41, 42, 43, 44, 45, 46, 47, 48, 49, 50, 51, 52, 53, 54, 55, 56, 57, 58, 59, 60, 61, 62, 63, 64, 65, 66, 67, 68, 69, 70, 71, 72, 73, 74, 75, 76, 77, 78, 79, 80, 81, 82, 83, 84, 85, 86, 87, 88, 89, 90, 91, 92, 93, 94, 95, 96, 97, 98, 99], \"y\": [1.6314890263197093, -0.6965718949158347, 0.35084318365036765, -1.2222638113329922, 0.6057486684596096, 0.1452009905992692, -0.6668275595094052, 0.49909495279141736, -1.1829092869149782, 0.6705087643248491, 0.8622858501949637, 1.225417623604347, 1.755725704148251, 1.1309847736467293, -0.5336105481216621, 0.7107270765748982, 2.0435749991999623, 1.2961399551551187, -1.6630925483891579, 0.4230686092321981, -1.1447678627644444, 0.5153826472117116, -0.0002649357515297671, 0.31907947552678717, 1.9410031412628177, 1.3972847873794798, -0.3360358659654972, 1.1498644432680514, 1.1186222369629626, -1.0632158208343334, -0.05930212027860439, 1.9594955868731154, -1.4415945415090048, 0.5543778984758491, 1.6684568260885326, -0.9657872528147986, -0.275521957970055, -0.18596131515277367, 0.8938964819496332, 1.2875885101092677, -0.4272488078580057, -0.26185929298795513, 0.47858563361446205, -0.28598242623725545, 0.38454741202639714, -1.3527736346922408, 1.5444272867441986, -0.3570274407771999, -0.7262802270049282, 1.2520672171528433, 0.5073482762541652, -0.010703223441998921, -0.7018499206350687, -0.010451541881170784, -0.24866318791685305, -0.8482855975753855, 0.8344833151665356, 1.1409383112926403, -1.3915829568990927, -0.30856369866854416, 0.7064812547399467, -0.8545392957094377, 1.0022935778450717, -0.9919371688360995, 0.36963442707580324, -0.5629342487974898, 0.16960105239569848, -0.40362658397962303, -1.6780961091806244, -0.9687692761826167, -0.5029640394538285, 0.23498051849444426, -0.6979677180565823, 0.9919702901846777, -2.3777343087528027, -1.227705051199071, -0.059914758678974736, 1.672020587047513, -1.9817420768305458, -0.5382447203064389, -1.2468599687743567, 1.0967785445323446, -1.294038898804085, -0.38134039447576606, 0.8389213301310103, 0.7556168393816037, 2.0671722471818614, 1.3722760538868541, -0.42438600997816767, 1.4249998743946992, 0.2601743447370759, 0.020246716306334817, -0.7555172138596694, 0.07425581796169935, -2.5711289485102866, -0.9898595722162504, -0.24067441805738782, -1.991382303709734, 0.23063973668514276, 1.278168487899292]}],                        {\"legend\": {\"bgcolor\": \"#F5F6F9\", \"font\": {\"color\": \"#4D5663\"}}, \"paper_bgcolor\": \"#F5F6F9\", \"plot_bgcolor\": \"#F5F6F9\", \"template\": {\"data\": {\"bar\": [{\"error_x\": {\"color\": \"#2a3f5f\"}, \"error_y\": {\"color\": \"#2a3f5f\"}, \"marker\": {\"line\": {\"color\": \"#E5ECF6\", \"width\": 0.5}}, \"type\": \"bar\"}], \"barpolar\": [{\"marker\": {\"line\": {\"color\": \"#E5ECF6\", \"width\": 0.5}}, \"type\": \"barpolar\"}], \"carpet\": [{\"aaxis\": {\"endlinecolor\": \"#2a3f5f\", \"gridcolor\": \"white\", \"linecolor\": \"white\", \"minorgridcolor\": \"white\", \"startlinecolor\": \"#2a3f5f\"}, \"baxis\": {\"endlinecolor\": \"#2a3f5f\", \"gridcolor\": \"white\", \"linecolor\": \"white\", \"minorgridcolor\": \"white\", \"startlinecolor\": \"#2a3f5f\"}, \"type\": \"carpet\"}], \"choropleth\": [{\"colorbar\": {\"outlinewidth\": 0, \"ticks\": \"\"}, \"type\": \"choropleth\"}], \"contour\": [{\"colorbar\": {\"outlinewidth\": 0, \"ticks\": \"\"}, \"colorscale\": [[0.0, \"#0d0887\"], [0.1111111111111111, \"#46039f\"], [0.2222222222222222, \"#7201a8\"], [0.3333333333333333, \"#9c179e\"], [0.4444444444444444, \"#bd3786\"], [0.5555555555555556, \"#d8576b\"], [0.6666666666666666, \"#ed7953\"], [0.7777777777777778, \"#fb9f3a\"], [0.8888888888888888, \"#fdca26\"], [1.0, \"#f0f921\"]], \"type\": \"contour\"}], \"contourcarpet\": [{\"colorbar\": {\"outlinewidth\": 0, \"ticks\": \"\"}, \"type\": \"contourcarpet\"}], \"heatmap\": [{\"colorbar\": {\"outlinewidth\": 0, \"ticks\": \"\"}, \"colorscale\": [[0.0, \"#0d0887\"], [0.1111111111111111, \"#46039f\"], [0.2222222222222222, \"#7201a8\"], [0.3333333333333333, \"#9c179e\"], [0.4444444444444444, \"#bd3786\"], [0.5555555555555556, \"#d8576b\"], [0.6666666666666666, \"#ed7953\"], [0.7777777777777778, \"#fb9f3a\"], [0.8888888888888888, \"#fdca26\"], [1.0, \"#f0f921\"]], \"type\": \"heatmap\"}], \"heatmapgl\": [{\"colorbar\": {\"outlinewidth\": 0, \"ticks\": \"\"}, \"colorscale\": [[0.0, \"#0d0887\"], [0.1111111111111111, \"#46039f\"], [0.2222222222222222, \"#7201a8\"], [0.3333333333333333, \"#9c179e\"], [0.4444444444444444, \"#bd3786\"], [0.5555555555555556, \"#d8576b\"], [0.6666666666666666, \"#ed7953\"], [0.7777777777777778, \"#fb9f3a\"], [0.8888888888888888, \"#fdca26\"], [1.0, \"#f0f921\"]], \"type\": \"heatmapgl\"}], \"histogram\": [{\"marker\": {\"colorbar\": {\"outlinewidth\": 0, \"ticks\": \"\"}}, \"type\": \"histogram\"}], \"histogram2d\": [{\"colorbar\": {\"outlinewidth\": 0, \"ticks\": \"\"}, \"colorscale\": [[0.0, \"#0d0887\"], [0.1111111111111111, \"#46039f\"], [0.2222222222222222, \"#7201a8\"], [0.3333333333333333, \"#9c179e\"], [0.4444444444444444, \"#bd3786\"], [0.5555555555555556, \"#d8576b\"], [0.6666666666666666, \"#ed7953\"], [0.7777777777777778, \"#fb9f3a\"], [0.8888888888888888, \"#fdca26\"], [1.0, \"#f0f921\"]], \"type\": \"histogram2d\"}], \"histogram2dcontour\": [{\"colorbar\": {\"outlinewidth\": 0, \"ticks\": \"\"}, \"colorscale\": [[0.0, \"#0d0887\"], [0.1111111111111111, \"#46039f\"], [0.2222222222222222, \"#7201a8\"], [0.3333333333333333, \"#9c179e\"], [0.4444444444444444, \"#bd3786\"], [0.5555555555555556, \"#d8576b\"], [0.6666666666666666, \"#ed7953\"], [0.7777777777777778, \"#fb9f3a\"], [0.8888888888888888, \"#fdca26\"], [1.0, \"#f0f921\"]], \"type\": \"histogram2dcontour\"}], \"mesh3d\": [{\"colorbar\": {\"outlinewidth\": 0, \"ticks\": \"\"}, \"type\": \"mesh3d\"}], \"parcoords\": [{\"line\": {\"colorbar\": {\"outlinewidth\": 0, \"ticks\": \"\"}}, \"type\": \"parcoords\"}], \"pie\": [{\"automargin\": true, \"type\": \"pie\"}], \"scatter\": [{\"marker\": {\"colorbar\": {\"outlinewidth\": 0, \"ticks\": \"\"}}, \"type\": \"scatter\"}], \"scatter3d\": [{\"line\": {\"colorbar\": {\"outlinewidth\": 0, \"ticks\": \"\"}}, \"marker\": {\"colorbar\": {\"outlinewidth\": 0, \"ticks\": \"\"}}, \"type\": \"scatter3d\"}], \"scattercarpet\": [{\"marker\": {\"colorbar\": {\"outlinewidth\": 0, \"ticks\": \"\"}}, \"type\": \"scattercarpet\"}], \"scattergeo\": [{\"marker\": {\"colorbar\": {\"outlinewidth\": 0, \"ticks\": \"\"}}, \"type\": \"scattergeo\"}], \"scattergl\": [{\"marker\": {\"colorbar\": {\"outlinewidth\": 0, \"ticks\": \"\"}}, \"type\": \"scattergl\"}], \"scattermapbox\": [{\"marker\": {\"colorbar\": {\"outlinewidth\": 0, \"ticks\": \"\"}}, \"type\": \"scattermapbox\"}], \"scatterpolar\": [{\"marker\": {\"colorbar\": {\"outlinewidth\": 0, \"ticks\": \"\"}}, \"type\": \"scatterpolar\"}], \"scatterpolargl\": [{\"marker\": {\"colorbar\": {\"outlinewidth\": 0, \"ticks\": \"\"}}, \"type\": \"scatterpolargl\"}], \"scatterternary\": [{\"marker\": {\"colorbar\": {\"outlinewidth\": 0, \"ticks\": \"\"}}, \"type\": \"scatterternary\"}], \"surface\": [{\"colorbar\": {\"outlinewidth\": 0, \"ticks\": \"\"}, \"colorscale\": [[0.0, \"#0d0887\"], [0.1111111111111111, \"#46039f\"], [0.2222222222222222, \"#7201a8\"], [0.3333333333333333, \"#9c179e\"], [0.4444444444444444, \"#bd3786\"], [0.5555555555555556, \"#d8576b\"], [0.6666666666666666, \"#ed7953\"], [0.7777777777777778, \"#fb9f3a\"], [0.8888888888888888, \"#fdca26\"], [1.0, \"#f0f921\"]], \"type\": \"surface\"}], \"table\": [{\"cells\": {\"fill\": {\"color\": \"#EBF0F8\"}, \"line\": {\"color\": \"white\"}}, \"header\": {\"fill\": {\"color\": \"#C8D4E3\"}, \"line\": {\"color\": \"white\"}}, \"type\": \"table\"}]}, \"layout\": {\"annotationdefaults\": {\"arrowcolor\": \"#2a3f5f\", \"arrowhead\": 0, \"arrowwidth\": 1}, \"autotypenumbers\": \"strict\", \"coloraxis\": {\"colorbar\": {\"outlinewidth\": 0, \"ticks\": \"\"}}, \"colorscale\": {\"diverging\": [[0, \"#8e0152\"], [0.1, \"#c51b7d\"], [0.2, \"#de77ae\"], [0.3, \"#f1b6da\"], [0.4, \"#fde0ef\"], [0.5, \"#f7f7f7\"], [0.6, \"#e6f5d0\"], [0.7, \"#b8e186\"], [0.8, \"#7fbc41\"], [0.9, \"#4d9221\"], [1, \"#276419\"]], \"sequential\": [[0.0, \"#0d0887\"], [0.1111111111111111, \"#46039f\"], [0.2222222222222222, \"#7201a8\"], [0.3333333333333333, \"#9c179e\"], [0.4444444444444444, \"#bd3786\"], [0.5555555555555556, \"#d8576b\"], [0.6666666666666666, \"#ed7953\"], [0.7777777777777778, \"#fb9f3a\"], [0.8888888888888888, \"#fdca26\"], [1.0, \"#f0f921\"]], \"sequentialminus\": [[0.0, \"#0d0887\"], [0.1111111111111111, \"#46039f\"], [0.2222222222222222, \"#7201a8\"], [0.3333333333333333, \"#9c179e\"], [0.4444444444444444, \"#bd3786\"], [0.5555555555555556, \"#d8576b\"], [0.6666666666666666, \"#ed7953\"], [0.7777777777777778, \"#fb9f3a\"], [0.8888888888888888, \"#fdca26\"], [1.0, \"#f0f921\"]]}, \"colorway\": [\"#636efa\", \"#EF553B\", \"#00cc96\", \"#ab63fa\", \"#FFA15A\", \"#19d3f3\", \"#FF6692\", \"#B6E880\", \"#FF97FF\", \"#FECB52\"], \"font\": {\"color\": \"#2a3f5f\"}, \"geo\": {\"bgcolor\": \"white\", \"lakecolor\": \"white\", \"landcolor\": \"#E5ECF6\", \"showlakes\": true, \"showland\": true, \"subunitcolor\": \"white\"}, \"hoverlabel\": {\"align\": \"left\"}, \"hovermode\": \"closest\", \"mapbox\": {\"style\": \"light\"}, \"paper_bgcolor\": \"white\", \"plot_bgcolor\": \"#E5ECF6\", \"polar\": {\"angularaxis\": {\"gridcolor\": \"white\", \"linecolor\": \"white\", \"ticks\": \"\"}, \"bgcolor\": \"#E5ECF6\", \"radialaxis\": {\"gridcolor\": \"white\", \"linecolor\": \"white\", \"ticks\": \"\"}}, \"scene\": {\"xaxis\": {\"backgroundcolor\": \"#E5ECF6\", \"gridcolor\": \"white\", \"gridwidth\": 2, \"linecolor\": \"white\", \"showbackground\": true, \"ticks\": \"\", \"zerolinecolor\": \"white\"}, \"yaxis\": {\"backgroundcolor\": \"#E5ECF6\", \"gridcolor\": \"white\", \"gridwidth\": 2, \"linecolor\": \"white\", \"showbackground\": true, \"ticks\": \"\", \"zerolinecolor\": \"white\"}, \"zaxis\": {\"backgroundcolor\": \"#E5ECF6\", \"gridcolor\": \"white\", \"gridwidth\": 2, \"linecolor\": \"white\", \"showbackground\": true, \"ticks\": \"\", \"zerolinecolor\": \"white\"}}, \"shapedefaults\": {\"line\": {\"color\": \"#2a3f5f\"}}, \"ternary\": {\"aaxis\": {\"gridcolor\": \"white\", \"linecolor\": \"white\", \"ticks\": \"\"}, \"baxis\": {\"gridcolor\": \"white\", \"linecolor\": \"white\", \"ticks\": \"\"}, \"bgcolor\": \"#E5ECF6\", \"caxis\": {\"gridcolor\": \"white\", \"linecolor\": \"white\", \"ticks\": \"\"}}, \"title\": {\"x\": 0.05}, \"xaxis\": {\"automargin\": true, \"gridcolor\": \"white\", \"linecolor\": \"white\", \"ticks\": \"\", \"title\": {\"standoff\": 15}, \"zerolinecolor\": \"white\", \"zerolinewidth\": 2}, \"yaxis\": {\"automargin\": true, \"gridcolor\": \"white\", \"linecolor\": \"white\", \"ticks\": \"\", \"title\": {\"standoff\": 15}, \"zerolinecolor\": \"white\", \"zerolinewidth\": 2}}}, \"title\": {\"font\": {\"color\": \"#4D5663\"}}, \"xaxis\": {\"gridcolor\": \"#E1E5ED\", \"showgrid\": true, \"tickfont\": {\"color\": \"#4D5663\"}, \"title\": {\"font\": {\"color\": \"#4D5663\"}, \"text\": \"\"}, \"zerolinecolor\": \"#E1E5ED\"}, \"yaxis\": {\"gridcolor\": \"#E1E5ED\", \"showgrid\": true, \"tickfont\": {\"color\": \"#4D5663\"}, \"title\": {\"font\": {\"color\": \"#4D5663\"}, \"text\": \"\"}, \"zerolinecolor\": \"#E1E5ED\"}},                        {\"showLink\": true, \"linkText\": \"Export to plot.ly\", \"plotlyServerURL\": \"https://plot.ly\", \"responsive\": true}                    ).then(function(){\n",
       "                            \n",
       "var gd = document.getElementById('1e3ecd81-d3cd-4b7c-8611-3e75a1b63788');\n",
       "var x = new MutationObserver(function (mutations, observer) {{\n",
       "        var display = window.getComputedStyle(gd).display;\n",
       "        if (!display || display === 'none') {{\n",
       "            console.log([gd, 'removed!']);\n",
       "            Plotly.purge(gd);\n",
       "            observer.disconnect();\n",
       "        }}\n",
       "}});\n",
       "\n",
       "// Listen for the removal of the full notebook cells\n",
       "var notebookContainer = gd.closest('#notebook-container');\n",
       "if (notebookContainer) {{\n",
       "    x.observe(notebookContainer, {childList: true});\n",
       "}}\n",
       "\n",
       "// Listen for the clearing of the current output cell\n",
       "var outputEl = gd.closest('.output');\n",
       "if (outputEl) {{\n",
       "    x.observe(outputEl, {childList: true});\n",
       "}}\n",
       "\n",
       "                        })                };                });            </script>        </div>"
      ]
     },
     "metadata": {},
     "output_type": "display_data"
    }
   ],
   "source": [
    "df.iplot() #png file "
   ]
  },
  {
   "cell_type": "code",
   "execution_count": 16,
   "id": "necessary-howard",
   "metadata": {},
   "outputs": [
    {
     "data": {
      "application/vnd.plotly.v1+json": {
       "config": {
        "linkText": "Export to plot.ly",
        "plotlyServerURL": "https://plot.ly",
        "showLink": true
       },
       "data": [
        {
         "line": {
          "color": "rgba(255, 153, 51, 1.0)",
          "dash": "solid",
          "shape": "linear",
          "width": 1.3
         },
         "mode": "lines",
         "name": "B",
         "text": "",
         "type": "scatter",
         "x": [
          1.061473280205822,
          0.7788035401649821,
          -0.2843131564415733,
          0.4028606011071929,
          -1.0353566473067173,
          -1.5925881310692422,
          0.03764451610017262,
          0.09321189582306758,
          -0.4176584649435947,
          1.3425792835433714,
          1.0266554020785341,
          -0.3509763266194384,
          -1.1578507094975032,
          -0.10767980405124133,
          -0.7659349830162048,
          0.6359970746835948,
          0.781389848793117,
          -0.20999618974658754,
          -0.4724551602521327,
          -1.2611520993994236,
          0.5011595968288648,
          2.5021298775570124,
          -2.2161401806538175,
          -0.4213098675783744,
          1.406278824461392,
          1.0245563932292865,
          0.05793642079927353,
          0.5172455234185414,
          0.23237803736898088,
          -0.36851140968886364,
          -0.02331748092877489,
          1.1344686849252197,
          0.16803740412380333,
          -1.3287890912409976,
          0.7879241292820391,
          -0.005548678959254899,
          0.8329045559462215,
          -0.7430868096641571,
          -1.133100937544328,
          0.7006688816822035,
          2.035632575118046,
          0.5325886928830186,
          -0.8599991780600442,
          0.15505475981508404,
          -0.2783228994628211,
          -0.0935045987798122,
          0.257383871747999,
          0.9458026852206287,
          0.0523970154360034,
          0.028677167605447113,
          1.9243754536472717,
          -1.4517638419797148,
          -0.42240872112290845,
          -0.6830010989045584,
          0.8998411440376746,
          0.5661636957875802,
          1.8078923338402904,
          -0.1211574749952134,
          1.1628256796583745,
          -0.7747340750216297,
          -1.663603001451258,
          0.6205659519924192,
          1.1066279064691593,
          -0.4714356459473895,
          -0.6334083024936795,
          0.7840050962817294,
          0.5777402499571723,
          0.13624915721450132,
          0.12080615947972986,
          -0.7310373593845643,
          2.0878737842304975,
          -1.260657602083573,
          -0.9781991587314987,
          0.02552177479888971,
          -1.5312019439825595,
          0.3819009284644589,
          0.9627266602138024,
          -0.36528374506782496,
          -0.01330698839724629,
          -1.057342126647745,
          0.026874897028896363,
          1.4579519802072136,
          0.3436411938175002,
          -0.15839574242186497,
          0.9993958159176821,
          -0.8926368337194085,
          -0.427317895602847,
          0.6220513939400963,
          0.4957072394399795,
          -0.19188201177565387,
          -0.7045958601968229,
          -0.18917637706476753,
          -0.577505244222488,
          -0.6040999190689166,
          0.16031718046731083,
          -0.7914776160554775,
          1.025058265396455,
          1.5523763416710603,
          1.729160350179526,
          0.28383053480712556
         ],
         "y": [
          -0.1502090526950633,
          -1.4730229850054035,
          0.8343967846403096,
          0.07881786533117169,
          0.2173963689453169,
          -0.5528080492436792,
          -1.6258453109586075,
          -0.6767305514654233,
          -0.14300288693546617,
          0.4496954555587184,
          -0.01257683703554524,
          -0.28528865085325283,
          -0.6211655838808301,
          -0.2088464084433686,
          0.11963905119676699,
          -0.33498296236193226,
          -0.33505878250702303,
          1.7253129170246115,
          -1.1653926642573262,
          0.3805949514809733,
          0.09743708259195785,
          -1.0379640975634625,
          0.15098100983051105,
          0.4318977678868364,
          0.4963469437410477,
          0.028512895291313973,
          -1.0979847878044142,
          0.3971856542241418,
          -0.7638507427802923,
          0.04362940403433376,
          0.5493903482135887,
          0.43290716796591083,
          -0.44521194333356084,
          0.9661060689292932,
          0.44210330235753237,
          0.03321214661252483,
          -0.48936726967185207,
          -0.9304182896274302,
          1.6968215447462103,
          -0.278502027157531,
          0.35962316230753194,
          0.1694672554621009,
          1.3463629130177368,
          -0.4773321454887906,
          0.7558264273744825,
          0.30602848551497713,
          1.077734325636297,
          -0.06665598912475737,
          -0.40947446944564386,
          -1.046290912810996,
          0.15155824818897423,
          0.9479235219129352,
          0.5012297209712162,
          0.7202543172706395,
          1.2146155916317036,
          -0.761540003341629,
          1.4216908347738988,
          -0.8083797165101845,
          -0.9598316539739877,
          0.3250456999210159,
          0.7784293978884731,
          0.2913806361130591,
          -0.7031204864984019,
          -0.848852060370494,
          1.3077008994967214,
          2.3441676335625856,
          0.6737609401575443,
          -0.025823768466770602,
          -0.7677235483223626,
          -0.06131394849974311,
          0.039052404999263476,
          0.054768492284818365,
          -0.8498106331641933,
          0.706498180370543,
          -1.2607512917177826,
          -0.41172978961905266,
          -0.2707358279752124,
          0.23025681528889977,
          0.5539822404638315,
          -0.08288867817875158,
          -0.997771161936249,
          -0.678778928533606,
          -1.1474059797681828,
          0.13050467561654697,
          -0.20127543952445254,
          1.1734867634071395,
          -0.14447033334416912,
          -0.7768356529113692,
          2.108155468791955,
          0.2577470285525313,
          0.34417938196510817,
          -1.077596212923613,
          -0.6645104260980493,
          0.5900139902104728,
          -0.8875170695082091,
          1.6232057752672975,
          -0.4425887211319952,
          -0.11476017820101533,
          -0.33938732454496534,
          0.8827855572707493
         ]
        }
       ],
       "layout": {
        "legend": {
         "bgcolor": "#F5F6F9",
         "font": {
          "color": "#4D5663"
         }
        },
        "paper_bgcolor": "#F5F6F9",
        "plot_bgcolor": "#F5F6F9",
        "template": {
         "data": {
          "bar": [
           {
            "error_x": {
             "color": "#2a3f5f"
            },
            "error_y": {
             "color": "#2a3f5f"
            },
            "marker": {
             "line": {
              "color": "#E5ECF6",
              "width": 0.5
             }
            },
            "type": "bar"
           }
          ],
          "barpolar": [
           {
            "marker": {
             "line": {
              "color": "#E5ECF6",
              "width": 0.5
             }
            },
            "type": "barpolar"
           }
          ],
          "carpet": [
           {
            "aaxis": {
             "endlinecolor": "#2a3f5f",
             "gridcolor": "white",
             "linecolor": "white",
             "minorgridcolor": "white",
             "startlinecolor": "#2a3f5f"
            },
            "baxis": {
             "endlinecolor": "#2a3f5f",
             "gridcolor": "white",
             "linecolor": "white",
             "minorgridcolor": "white",
             "startlinecolor": "#2a3f5f"
            },
            "type": "carpet"
           }
          ],
          "choropleth": [
           {
            "colorbar": {
             "outlinewidth": 0,
             "ticks": ""
            },
            "type": "choropleth"
           }
          ],
          "contour": [
           {
            "colorbar": {
             "outlinewidth": 0,
             "ticks": ""
            },
            "colorscale": [
             [
              0,
              "#0d0887"
             ],
             [
              0.1111111111111111,
              "#46039f"
             ],
             [
              0.2222222222222222,
              "#7201a8"
             ],
             [
              0.3333333333333333,
              "#9c179e"
             ],
             [
              0.4444444444444444,
              "#bd3786"
             ],
             [
              0.5555555555555556,
              "#d8576b"
             ],
             [
              0.6666666666666666,
              "#ed7953"
             ],
             [
              0.7777777777777778,
              "#fb9f3a"
             ],
             [
              0.8888888888888888,
              "#fdca26"
             ],
             [
              1,
              "#f0f921"
             ]
            ],
            "type": "contour"
           }
          ],
          "contourcarpet": [
           {
            "colorbar": {
             "outlinewidth": 0,
             "ticks": ""
            },
            "type": "contourcarpet"
           }
          ],
          "heatmap": [
           {
            "colorbar": {
             "outlinewidth": 0,
             "ticks": ""
            },
            "colorscale": [
             [
              0,
              "#0d0887"
             ],
             [
              0.1111111111111111,
              "#46039f"
             ],
             [
              0.2222222222222222,
              "#7201a8"
             ],
             [
              0.3333333333333333,
              "#9c179e"
             ],
             [
              0.4444444444444444,
              "#bd3786"
             ],
             [
              0.5555555555555556,
              "#d8576b"
             ],
             [
              0.6666666666666666,
              "#ed7953"
             ],
             [
              0.7777777777777778,
              "#fb9f3a"
             ],
             [
              0.8888888888888888,
              "#fdca26"
             ],
             [
              1,
              "#f0f921"
             ]
            ],
            "type": "heatmap"
           }
          ],
          "heatmapgl": [
           {
            "colorbar": {
             "outlinewidth": 0,
             "ticks": ""
            },
            "colorscale": [
             [
              0,
              "#0d0887"
             ],
             [
              0.1111111111111111,
              "#46039f"
             ],
             [
              0.2222222222222222,
              "#7201a8"
             ],
             [
              0.3333333333333333,
              "#9c179e"
             ],
             [
              0.4444444444444444,
              "#bd3786"
             ],
             [
              0.5555555555555556,
              "#d8576b"
             ],
             [
              0.6666666666666666,
              "#ed7953"
             ],
             [
              0.7777777777777778,
              "#fb9f3a"
             ],
             [
              0.8888888888888888,
              "#fdca26"
             ],
             [
              1,
              "#f0f921"
             ]
            ],
            "type": "heatmapgl"
           }
          ],
          "histogram": [
           {
            "marker": {
             "colorbar": {
              "outlinewidth": 0,
              "ticks": ""
             }
            },
            "type": "histogram"
           }
          ],
          "histogram2d": [
           {
            "colorbar": {
             "outlinewidth": 0,
             "ticks": ""
            },
            "colorscale": [
             [
              0,
              "#0d0887"
             ],
             [
              0.1111111111111111,
              "#46039f"
             ],
             [
              0.2222222222222222,
              "#7201a8"
             ],
             [
              0.3333333333333333,
              "#9c179e"
             ],
             [
              0.4444444444444444,
              "#bd3786"
             ],
             [
              0.5555555555555556,
              "#d8576b"
             ],
             [
              0.6666666666666666,
              "#ed7953"
             ],
             [
              0.7777777777777778,
              "#fb9f3a"
             ],
             [
              0.8888888888888888,
              "#fdca26"
             ],
             [
              1,
              "#f0f921"
             ]
            ],
            "type": "histogram2d"
           }
          ],
          "histogram2dcontour": [
           {
            "colorbar": {
             "outlinewidth": 0,
             "ticks": ""
            },
            "colorscale": [
             [
              0,
              "#0d0887"
             ],
             [
              0.1111111111111111,
              "#46039f"
             ],
             [
              0.2222222222222222,
              "#7201a8"
             ],
             [
              0.3333333333333333,
              "#9c179e"
             ],
             [
              0.4444444444444444,
              "#bd3786"
             ],
             [
              0.5555555555555556,
              "#d8576b"
             ],
             [
              0.6666666666666666,
              "#ed7953"
             ],
             [
              0.7777777777777778,
              "#fb9f3a"
             ],
             [
              0.8888888888888888,
              "#fdca26"
             ],
             [
              1,
              "#f0f921"
             ]
            ],
            "type": "histogram2dcontour"
           }
          ],
          "mesh3d": [
           {
            "colorbar": {
             "outlinewidth": 0,
             "ticks": ""
            },
            "type": "mesh3d"
           }
          ],
          "parcoords": [
           {
            "line": {
             "colorbar": {
              "outlinewidth": 0,
              "ticks": ""
             }
            },
            "type": "parcoords"
           }
          ],
          "pie": [
           {
            "automargin": true,
            "type": "pie"
           }
          ],
          "scatter": [
           {
            "marker": {
             "colorbar": {
              "outlinewidth": 0,
              "ticks": ""
             }
            },
            "type": "scatter"
           }
          ],
          "scatter3d": [
           {
            "line": {
             "colorbar": {
              "outlinewidth": 0,
              "ticks": ""
             }
            },
            "marker": {
             "colorbar": {
              "outlinewidth": 0,
              "ticks": ""
             }
            },
            "type": "scatter3d"
           }
          ],
          "scattercarpet": [
           {
            "marker": {
             "colorbar": {
              "outlinewidth": 0,
              "ticks": ""
             }
            },
            "type": "scattercarpet"
           }
          ],
          "scattergeo": [
           {
            "marker": {
             "colorbar": {
              "outlinewidth": 0,
              "ticks": ""
             }
            },
            "type": "scattergeo"
           }
          ],
          "scattergl": [
           {
            "marker": {
             "colorbar": {
              "outlinewidth": 0,
              "ticks": ""
             }
            },
            "type": "scattergl"
           }
          ],
          "scattermapbox": [
           {
            "marker": {
             "colorbar": {
              "outlinewidth": 0,
              "ticks": ""
             }
            },
            "type": "scattermapbox"
           }
          ],
          "scatterpolar": [
           {
            "marker": {
             "colorbar": {
              "outlinewidth": 0,
              "ticks": ""
             }
            },
            "type": "scatterpolar"
           }
          ],
          "scatterpolargl": [
           {
            "marker": {
             "colorbar": {
              "outlinewidth": 0,
              "ticks": ""
             }
            },
            "type": "scatterpolargl"
           }
          ],
          "scatterternary": [
           {
            "marker": {
             "colorbar": {
              "outlinewidth": 0,
              "ticks": ""
             }
            },
            "type": "scatterternary"
           }
          ],
          "surface": [
           {
            "colorbar": {
             "outlinewidth": 0,
             "ticks": ""
            },
            "colorscale": [
             [
              0,
              "#0d0887"
             ],
             [
              0.1111111111111111,
              "#46039f"
             ],
             [
              0.2222222222222222,
              "#7201a8"
             ],
             [
              0.3333333333333333,
              "#9c179e"
             ],
             [
              0.4444444444444444,
              "#bd3786"
             ],
             [
              0.5555555555555556,
              "#d8576b"
             ],
             [
              0.6666666666666666,
              "#ed7953"
             ],
             [
              0.7777777777777778,
              "#fb9f3a"
             ],
             [
              0.8888888888888888,
              "#fdca26"
             ],
             [
              1,
              "#f0f921"
             ]
            ],
            "type": "surface"
           }
          ],
          "table": [
           {
            "cells": {
             "fill": {
              "color": "#EBF0F8"
             },
             "line": {
              "color": "white"
             }
            },
            "header": {
             "fill": {
              "color": "#C8D4E3"
             },
             "line": {
              "color": "white"
             }
            },
            "type": "table"
           }
          ]
         },
         "layout": {
          "annotationdefaults": {
           "arrowcolor": "#2a3f5f",
           "arrowhead": 0,
           "arrowwidth": 1
          },
          "autotypenumbers": "strict",
          "coloraxis": {
           "colorbar": {
            "outlinewidth": 0,
            "ticks": ""
           }
          },
          "colorscale": {
           "diverging": [
            [
             0,
             "#8e0152"
            ],
            [
             0.1,
             "#c51b7d"
            ],
            [
             0.2,
             "#de77ae"
            ],
            [
             0.3,
             "#f1b6da"
            ],
            [
             0.4,
             "#fde0ef"
            ],
            [
             0.5,
             "#f7f7f7"
            ],
            [
             0.6,
             "#e6f5d0"
            ],
            [
             0.7,
             "#b8e186"
            ],
            [
             0.8,
             "#7fbc41"
            ],
            [
             0.9,
             "#4d9221"
            ],
            [
             1,
             "#276419"
            ]
           ],
           "sequential": [
            [
             0,
             "#0d0887"
            ],
            [
             0.1111111111111111,
             "#46039f"
            ],
            [
             0.2222222222222222,
             "#7201a8"
            ],
            [
             0.3333333333333333,
             "#9c179e"
            ],
            [
             0.4444444444444444,
             "#bd3786"
            ],
            [
             0.5555555555555556,
             "#d8576b"
            ],
            [
             0.6666666666666666,
             "#ed7953"
            ],
            [
             0.7777777777777778,
             "#fb9f3a"
            ],
            [
             0.8888888888888888,
             "#fdca26"
            ],
            [
             1,
             "#f0f921"
            ]
           ],
           "sequentialminus": [
            [
             0,
             "#0d0887"
            ],
            [
             0.1111111111111111,
             "#46039f"
            ],
            [
             0.2222222222222222,
             "#7201a8"
            ],
            [
             0.3333333333333333,
             "#9c179e"
            ],
            [
             0.4444444444444444,
             "#bd3786"
            ],
            [
             0.5555555555555556,
             "#d8576b"
            ],
            [
             0.6666666666666666,
             "#ed7953"
            ],
            [
             0.7777777777777778,
             "#fb9f3a"
            ],
            [
             0.8888888888888888,
             "#fdca26"
            ],
            [
             1,
             "#f0f921"
            ]
           ]
          },
          "colorway": [
           "#636efa",
           "#EF553B",
           "#00cc96",
           "#ab63fa",
           "#FFA15A",
           "#19d3f3",
           "#FF6692",
           "#B6E880",
           "#FF97FF",
           "#FECB52"
          ],
          "font": {
           "color": "#2a3f5f"
          },
          "geo": {
           "bgcolor": "white",
           "lakecolor": "white",
           "landcolor": "#E5ECF6",
           "showlakes": true,
           "showland": true,
           "subunitcolor": "white"
          },
          "hoverlabel": {
           "align": "left"
          },
          "hovermode": "closest",
          "mapbox": {
           "style": "light"
          },
          "paper_bgcolor": "white",
          "plot_bgcolor": "#E5ECF6",
          "polar": {
           "angularaxis": {
            "gridcolor": "white",
            "linecolor": "white",
            "ticks": ""
           },
           "bgcolor": "#E5ECF6",
           "radialaxis": {
            "gridcolor": "white",
            "linecolor": "white",
            "ticks": ""
           }
          },
          "scene": {
           "xaxis": {
            "backgroundcolor": "#E5ECF6",
            "gridcolor": "white",
            "gridwidth": 2,
            "linecolor": "white",
            "showbackground": true,
            "ticks": "",
            "zerolinecolor": "white"
           },
           "yaxis": {
            "backgroundcolor": "#E5ECF6",
            "gridcolor": "white",
            "gridwidth": 2,
            "linecolor": "white",
            "showbackground": true,
            "ticks": "",
            "zerolinecolor": "white"
           },
           "zaxis": {
            "backgroundcolor": "#E5ECF6",
            "gridcolor": "white",
            "gridwidth": 2,
            "linecolor": "white",
            "showbackground": true,
            "ticks": "",
            "zerolinecolor": "white"
           }
          },
          "shapedefaults": {
           "line": {
            "color": "#2a3f5f"
           }
          },
          "ternary": {
           "aaxis": {
            "gridcolor": "white",
            "linecolor": "white",
            "ticks": ""
           },
           "baxis": {
            "gridcolor": "white",
            "linecolor": "white",
            "ticks": ""
           },
           "bgcolor": "#E5ECF6",
           "caxis": {
            "gridcolor": "white",
            "linecolor": "white",
            "ticks": ""
           }
          },
          "title": {
           "x": 0.05
          },
          "xaxis": {
           "automargin": true,
           "gridcolor": "white",
           "linecolor": "white",
           "ticks": "",
           "title": {
            "standoff": 15
           },
           "zerolinecolor": "white",
           "zerolinewidth": 2
          },
          "yaxis": {
           "automargin": true,
           "gridcolor": "white",
           "linecolor": "white",
           "ticks": "",
           "title": {
            "standoff": 15
           },
           "zerolinecolor": "white",
           "zerolinewidth": 2
          }
         }
        },
        "title": {
         "font": {
          "color": "#4D5663"
         }
        },
        "xaxis": {
         "gridcolor": "#E1E5ED",
         "showgrid": true,
         "tickfont": {
          "color": "#4D5663"
         },
         "title": {
          "font": {
           "color": "#4D5663"
          },
          "text": ""
         },
         "zerolinecolor": "#E1E5ED"
        },
        "yaxis": {
         "gridcolor": "#E1E5ED",
         "showgrid": true,
         "tickfont": {
          "color": "#4D5663"
         },
         "title": {
          "font": {
           "color": "#4D5663"
          },
          "text": ""
         },
         "zerolinecolor": "#E1E5ED"
        }
       }
      },
      "text/html": [
       "<div>                            <div id=\"3c713d6c-28e6-44fb-aafe-92c5eca27806\" class=\"plotly-graph-div\" style=\"height:525px; width:100%;\"></div>            <script type=\"text/javascript\">                require([\"plotly\"], function(Plotly) {                    window.PLOTLYENV=window.PLOTLYENV || {};\n",
       "                    window.PLOTLYENV.BASE_URL='https://plot.ly';                                    if (document.getElementById(\"3c713d6c-28e6-44fb-aafe-92c5eca27806\")) {                    Plotly.newPlot(                        \"3c713d6c-28e6-44fb-aafe-92c5eca27806\",                        [{\"line\": {\"color\": \"rgba(255, 153, 51, 1.0)\", \"dash\": \"solid\", \"shape\": \"linear\", \"width\": 1.3}, \"mode\": \"lines\", \"name\": \"B\", \"text\": \"\", \"type\": \"scatter\", \"x\": [1.061473280205822, 0.7788035401649821, -0.2843131564415733, 0.4028606011071929, -1.0353566473067173, -1.5925881310692422, 0.03764451610017262, 0.09321189582306758, -0.4176584649435947, 1.3425792835433714, 1.0266554020785341, -0.3509763266194384, -1.1578507094975032, -0.10767980405124133, -0.7659349830162048, 0.6359970746835948, 0.781389848793117, -0.20999618974658754, -0.4724551602521327, -1.2611520993994236, 0.5011595968288648, 2.5021298775570124, -2.2161401806538175, -0.4213098675783744, 1.406278824461392, 1.0245563932292865, 0.05793642079927353, 0.5172455234185414, 0.23237803736898088, -0.36851140968886364, -0.02331748092877489, 1.1344686849252197, 0.16803740412380333, -1.3287890912409976, 0.7879241292820391, -0.005548678959254899, 0.8329045559462215, -0.7430868096641571, -1.133100937544328, 0.7006688816822035, 2.035632575118046, 0.5325886928830186, -0.8599991780600442, 0.15505475981508404, -0.2783228994628211, -0.0935045987798122, 0.257383871747999, 0.9458026852206287, 0.0523970154360034, 0.028677167605447113, 1.9243754536472717, -1.4517638419797148, -0.42240872112290845, -0.6830010989045584, 0.8998411440376746, 0.5661636957875802, 1.8078923338402904, -0.1211574749952134, 1.1628256796583745, -0.7747340750216297, -1.663603001451258, 0.6205659519924192, 1.1066279064691593, -0.4714356459473895, -0.6334083024936795, 0.7840050962817294, 0.5777402499571723, 0.13624915721450132, 0.12080615947972986, -0.7310373593845643, 2.0878737842304975, -1.260657602083573, -0.9781991587314987, 0.02552177479888971, -1.5312019439825595, 0.3819009284644589, 0.9627266602138024, -0.36528374506782496, -0.01330698839724629, -1.057342126647745, 0.026874897028896363, 1.4579519802072136, 0.3436411938175002, -0.15839574242186497, 0.9993958159176821, -0.8926368337194085, -0.427317895602847, 0.6220513939400963, 0.4957072394399795, -0.19188201177565387, -0.7045958601968229, -0.18917637706476753, -0.577505244222488, -0.6040999190689166, 0.16031718046731083, -0.7914776160554775, 1.025058265396455, 1.5523763416710603, 1.729160350179526, 0.28383053480712556], \"y\": [-0.1502090526950633, -1.4730229850054035, 0.8343967846403096, 0.07881786533117169, 0.2173963689453169, -0.5528080492436792, -1.6258453109586075, -0.6767305514654233, -0.14300288693546617, 0.4496954555587184, -0.01257683703554524, -0.28528865085325283, -0.6211655838808301, -0.2088464084433686, 0.11963905119676699, -0.33498296236193226, -0.33505878250702303, 1.7253129170246115, -1.1653926642573262, 0.3805949514809733, 0.09743708259195785, -1.0379640975634625, 0.15098100983051105, 0.4318977678868364, 0.4963469437410477, 0.028512895291313973, -1.0979847878044142, 0.3971856542241418, -0.7638507427802923, 0.04362940403433376, 0.5493903482135887, 0.43290716796591083, -0.44521194333356084, 0.9661060689292932, 0.44210330235753237, 0.03321214661252483, -0.48936726967185207, -0.9304182896274302, 1.6968215447462103, -0.278502027157531, 0.35962316230753194, 0.1694672554621009, 1.3463629130177368, -0.4773321454887906, 0.7558264273744825, 0.30602848551497713, 1.077734325636297, -0.06665598912475737, -0.40947446944564386, -1.046290912810996, 0.15155824818897423, 0.9479235219129352, 0.5012297209712162, 0.7202543172706395, 1.2146155916317036, -0.761540003341629, 1.4216908347738988, -0.8083797165101845, -0.9598316539739877, 0.3250456999210159, 0.7784293978884731, 0.2913806361130591, -0.7031204864984019, -0.848852060370494, 1.3077008994967214, 2.3441676335625856, 0.6737609401575443, -0.025823768466770602, -0.7677235483223626, -0.06131394849974311, 0.039052404999263476, 0.054768492284818365, -0.8498106331641933, 0.706498180370543, -1.2607512917177826, -0.41172978961905266, -0.2707358279752124, 0.23025681528889977, 0.5539822404638315, -0.08288867817875158, -0.997771161936249, -0.678778928533606, -1.1474059797681828, 0.13050467561654697, -0.20127543952445254, 1.1734867634071395, -0.14447033334416912, -0.7768356529113692, 2.108155468791955, 0.2577470285525313, 0.34417938196510817, -1.077596212923613, -0.6645104260980493, 0.5900139902104728, -0.8875170695082091, 1.6232057752672975, -0.4425887211319952, -0.11476017820101533, -0.33938732454496534, 0.8827855572707493]}],                        {\"legend\": {\"bgcolor\": \"#F5F6F9\", \"font\": {\"color\": \"#4D5663\"}}, \"paper_bgcolor\": \"#F5F6F9\", \"plot_bgcolor\": \"#F5F6F9\", \"template\": {\"data\": {\"bar\": [{\"error_x\": {\"color\": \"#2a3f5f\"}, \"error_y\": {\"color\": \"#2a3f5f\"}, \"marker\": {\"line\": {\"color\": \"#E5ECF6\", \"width\": 0.5}}, \"type\": \"bar\"}], \"barpolar\": [{\"marker\": {\"line\": {\"color\": \"#E5ECF6\", \"width\": 0.5}}, \"type\": \"barpolar\"}], \"carpet\": [{\"aaxis\": {\"endlinecolor\": \"#2a3f5f\", \"gridcolor\": \"white\", \"linecolor\": \"white\", \"minorgridcolor\": \"white\", \"startlinecolor\": \"#2a3f5f\"}, \"baxis\": {\"endlinecolor\": \"#2a3f5f\", \"gridcolor\": \"white\", \"linecolor\": \"white\", \"minorgridcolor\": \"white\", \"startlinecolor\": \"#2a3f5f\"}, \"type\": \"carpet\"}], \"choropleth\": [{\"colorbar\": {\"outlinewidth\": 0, \"ticks\": \"\"}, \"type\": \"choropleth\"}], \"contour\": [{\"colorbar\": {\"outlinewidth\": 0, \"ticks\": \"\"}, \"colorscale\": [[0.0, \"#0d0887\"], [0.1111111111111111, \"#46039f\"], [0.2222222222222222, \"#7201a8\"], [0.3333333333333333, \"#9c179e\"], [0.4444444444444444, \"#bd3786\"], [0.5555555555555556, \"#d8576b\"], [0.6666666666666666, \"#ed7953\"], [0.7777777777777778, \"#fb9f3a\"], [0.8888888888888888, \"#fdca26\"], [1.0, \"#f0f921\"]], \"type\": \"contour\"}], \"contourcarpet\": [{\"colorbar\": {\"outlinewidth\": 0, \"ticks\": \"\"}, \"type\": \"contourcarpet\"}], \"heatmap\": [{\"colorbar\": {\"outlinewidth\": 0, \"ticks\": \"\"}, \"colorscale\": [[0.0, \"#0d0887\"], [0.1111111111111111, \"#46039f\"], [0.2222222222222222, \"#7201a8\"], [0.3333333333333333, \"#9c179e\"], [0.4444444444444444, \"#bd3786\"], [0.5555555555555556, \"#d8576b\"], [0.6666666666666666, \"#ed7953\"], [0.7777777777777778, \"#fb9f3a\"], [0.8888888888888888, \"#fdca26\"], [1.0, \"#f0f921\"]], \"type\": \"heatmap\"}], \"heatmapgl\": [{\"colorbar\": {\"outlinewidth\": 0, \"ticks\": \"\"}, \"colorscale\": [[0.0, \"#0d0887\"], [0.1111111111111111, \"#46039f\"], [0.2222222222222222, \"#7201a8\"], [0.3333333333333333, \"#9c179e\"], [0.4444444444444444, \"#bd3786\"], [0.5555555555555556, \"#d8576b\"], [0.6666666666666666, \"#ed7953\"], [0.7777777777777778, \"#fb9f3a\"], [0.8888888888888888, \"#fdca26\"], [1.0, \"#f0f921\"]], \"type\": \"heatmapgl\"}], \"histogram\": [{\"marker\": {\"colorbar\": {\"outlinewidth\": 0, \"ticks\": \"\"}}, \"type\": \"histogram\"}], \"histogram2d\": [{\"colorbar\": {\"outlinewidth\": 0, \"ticks\": \"\"}, \"colorscale\": [[0.0, \"#0d0887\"], [0.1111111111111111, \"#46039f\"], [0.2222222222222222, \"#7201a8\"], [0.3333333333333333, \"#9c179e\"], [0.4444444444444444, \"#bd3786\"], [0.5555555555555556, \"#d8576b\"], [0.6666666666666666, \"#ed7953\"], [0.7777777777777778, \"#fb9f3a\"], [0.8888888888888888, \"#fdca26\"], [1.0, \"#f0f921\"]], \"type\": \"histogram2d\"}], \"histogram2dcontour\": [{\"colorbar\": {\"outlinewidth\": 0, \"ticks\": \"\"}, \"colorscale\": [[0.0, \"#0d0887\"], [0.1111111111111111, \"#46039f\"], [0.2222222222222222, \"#7201a8\"], [0.3333333333333333, \"#9c179e\"], [0.4444444444444444, \"#bd3786\"], [0.5555555555555556, \"#d8576b\"], [0.6666666666666666, \"#ed7953\"], [0.7777777777777778, \"#fb9f3a\"], [0.8888888888888888, \"#fdca26\"], [1.0, \"#f0f921\"]], \"type\": \"histogram2dcontour\"}], \"mesh3d\": [{\"colorbar\": {\"outlinewidth\": 0, \"ticks\": \"\"}, \"type\": \"mesh3d\"}], \"parcoords\": [{\"line\": {\"colorbar\": {\"outlinewidth\": 0, \"ticks\": \"\"}}, \"type\": \"parcoords\"}], \"pie\": [{\"automargin\": true, \"type\": \"pie\"}], \"scatter\": [{\"marker\": {\"colorbar\": {\"outlinewidth\": 0, \"ticks\": \"\"}}, \"type\": \"scatter\"}], \"scatter3d\": [{\"line\": {\"colorbar\": {\"outlinewidth\": 0, \"ticks\": \"\"}}, \"marker\": {\"colorbar\": {\"outlinewidth\": 0, \"ticks\": \"\"}}, \"type\": \"scatter3d\"}], \"scattercarpet\": [{\"marker\": {\"colorbar\": {\"outlinewidth\": 0, \"ticks\": \"\"}}, \"type\": \"scattercarpet\"}], \"scattergeo\": [{\"marker\": {\"colorbar\": {\"outlinewidth\": 0, \"ticks\": \"\"}}, \"type\": \"scattergeo\"}], \"scattergl\": [{\"marker\": {\"colorbar\": {\"outlinewidth\": 0, \"ticks\": \"\"}}, \"type\": \"scattergl\"}], \"scattermapbox\": [{\"marker\": {\"colorbar\": {\"outlinewidth\": 0, \"ticks\": \"\"}}, \"type\": \"scattermapbox\"}], \"scatterpolar\": [{\"marker\": {\"colorbar\": {\"outlinewidth\": 0, \"ticks\": \"\"}}, \"type\": \"scatterpolar\"}], \"scatterpolargl\": [{\"marker\": {\"colorbar\": {\"outlinewidth\": 0, \"ticks\": \"\"}}, \"type\": \"scatterpolargl\"}], \"scatterternary\": [{\"marker\": {\"colorbar\": {\"outlinewidth\": 0, \"ticks\": \"\"}}, \"type\": \"scatterternary\"}], \"surface\": [{\"colorbar\": {\"outlinewidth\": 0, \"ticks\": \"\"}, \"colorscale\": [[0.0, \"#0d0887\"], [0.1111111111111111, \"#46039f\"], [0.2222222222222222, \"#7201a8\"], [0.3333333333333333, \"#9c179e\"], [0.4444444444444444, \"#bd3786\"], [0.5555555555555556, \"#d8576b\"], [0.6666666666666666, \"#ed7953\"], [0.7777777777777778, \"#fb9f3a\"], [0.8888888888888888, \"#fdca26\"], [1.0, \"#f0f921\"]], \"type\": \"surface\"}], \"table\": [{\"cells\": {\"fill\": {\"color\": \"#EBF0F8\"}, \"line\": {\"color\": \"white\"}}, \"header\": {\"fill\": {\"color\": \"#C8D4E3\"}, \"line\": {\"color\": \"white\"}}, \"type\": \"table\"}]}, \"layout\": {\"annotationdefaults\": {\"arrowcolor\": \"#2a3f5f\", \"arrowhead\": 0, \"arrowwidth\": 1}, \"autotypenumbers\": \"strict\", \"coloraxis\": {\"colorbar\": {\"outlinewidth\": 0, \"ticks\": \"\"}}, \"colorscale\": {\"diverging\": [[0, \"#8e0152\"], [0.1, \"#c51b7d\"], [0.2, \"#de77ae\"], [0.3, \"#f1b6da\"], [0.4, \"#fde0ef\"], [0.5, \"#f7f7f7\"], [0.6, \"#e6f5d0\"], [0.7, \"#b8e186\"], [0.8, \"#7fbc41\"], [0.9, \"#4d9221\"], [1, \"#276419\"]], \"sequential\": [[0.0, \"#0d0887\"], [0.1111111111111111, \"#46039f\"], [0.2222222222222222, \"#7201a8\"], [0.3333333333333333, \"#9c179e\"], [0.4444444444444444, \"#bd3786\"], [0.5555555555555556, \"#d8576b\"], [0.6666666666666666, \"#ed7953\"], [0.7777777777777778, \"#fb9f3a\"], [0.8888888888888888, \"#fdca26\"], [1.0, \"#f0f921\"]], \"sequentialminus\": [[0.0, \"#0d0887\"], [0.1111111111111111, \"#46039f\"], [0.2222222222222222, \"#7201a8\"], [0.3333333333333333, \"#9c179e\"], [0.4444444444444444, \"#bd3786\"], [0.5555555555555556, \"#d8576b\"], [0.6666666666666666, \"#ed7953\"], [0.7777777777777778, \"#fb9f3a\"], [0.8888888888888888, \"#fdca26\"], [1.0, \"#f0f921\"]]}, \"colorway\": [\"#636efa\", \"#EF553B\", \"#00cc96\", \"#ab63fa\", \"#FFA15A\", \"#19d3f3\", \"#FF6692\", \"#B6E880\", \"#FF97FF\", \"#FECB52\"], \"font\": {\"color\": \"#2a3f5f\"}, \"geo\": {\"bgcolor\": \"white\", \"lakecolor\": \"white\", \"landcolor\": \"#E5ECF6\", \"showlakes\": true, \"showland\": true, \"subunitcolor\": \"white\"}, \"hoverlabel\": {\"align\": \"left\"}, \"hovermode\": \"closest\", \"mapbox\": {\"style\": \"light\"}, \"paper_bgcolor\": \"white\", \"plot_bgcolor\": \"#E5ECF6\", \"polar\": {\"angularaxis\": {\"gridcolor\": \"white\", \"linecolor\": \"white\", \"ticks\": \"\"}, \"bgcolor\": \"#E5ECF6\", \"radialaxis\": {\"gridcolor\": \"white\", \"linecolor\": \"white\", \"ticks\": \"\"}}, \"scene\": {\"xaxis\": {\"backgroundcolor\": \"#E5ECF6\", \"gridcolor\": \"white\", \"gridwidth\": 2, \"linecolor\": \"white\", \"showbackground\": true, \"ticks\": \"\", \"zerolinecolor\": \"white\"}, \"yaxis\": {\"backgroundcolor\": \"#E5ECF6\", \"gridcolor\": \"white\", \"gridwidth\": 2, \"linecolor\": \"white\", \"showbackground\": true, \"ticks\": \"\", \"zerolinecolor\": \"white\"}, \"zaxis\": {\"backgroundcolor\": \"#E5ECF6\", \"gridcolor\": \"white\", \"gridwidth\": 2, \"linecolor\": \"white\", \"showbackground\": true, \"ticks\": \"\", \"zerolinecolor\": \"white\"}}, \"shapedefaults\": {\"line\": {\"color\": \"#2a3f5f\"}}, \"ternary\": {\"aaxis\": {\"gridcolor\": \"white\", \"linecolor\": \"white\", \"ticks\": \"\"}, \"baxis\": {\"gridcolor\": \"white\", \"linecolor\": \"white\", \"ticks\": \"\"}, \"bgcolor\": \"#E5ECF6\", \"caxis\": {\"gridcolor\": \"white\", \"linecolor\": \"white\", \"ticks\": \"\"}}, \"title\": {\"x\": 0.05}, \"xaxis\": {\"automargin\": true, \"gridcolor\": \"white\", \"linecolor\": \"white\", \"ticks\": \"\", \"title\": {\"standoff\": 15}, \"zerolinecolor\": \"white\", \"zerolinewidth\": 2}, \"yaxis\": {\"automargin\": true, \"gridcolor\": \"white\", \"linecolor\": \"white\", \"ticks\": \"\", \"title\": {\"standoff\": 15}, \"zerolinecolor\": \"white\", \"zerolinewidth\": 2}}}, \"title\": {\"font\": {\"color\": \"#4D5663\"}}, \"xaxis\": {\"gridcolor\": \"#E1E5ED\", \"showgrid\": true, \"tickfont\": {\"color\": \"#4D5663\"}, \"title\": {\"font\": {\"color\": \"#4D5663\"}, \"text\": \"\"}, \"zerolinecolor\": \"#E1E5ED\"}, \"yaxis\": {\"gridcolor\": \"#E1E5ED\", \"showgrid\": true, \"tickfont\": {\"color\": \"#4D5663\"}, \"title\": {\"font\": {\"color\": \"#4D5663\"}, \"text\": \"\"}, \"zerolinecolor\": \"#E1E5ED\"}},                        {\"showLink\": true, \"linkText\": \"Export to plot.ly\", \"plotlyServerURL\": \"https://plot.ly\", \"responsive\": true}                    ).then(function(){\n",
       "                            \n",
       "var gd = document.getElementById('3c713d6c-28e6-44fb-aafe-92c5eca27806');\n",
       "var x = new MutationObserver(function (mutations, observer) {{\n",
       "        var display = window.getComputedStyle(gd).display;\n",
       "        if (!display || display === 'none') {{\n",
       "            console.log([gd, 'removed!']);\n",
       "            Plotly.purge(gd);\n",
       "            observer.disconnect();\n",
       "        }}\n",
       "}});\n",
       "\n",
       "// Listen for the removal of the full notebook cells\n",
       "var notebookContainer = gd.closest('#notebook-container');\n",
       "if (notebookContainer) {{\n",
       "    x.observe(notebookContainer, {childList: true});\n",
       "}}\n",
       "\n",
       "// Listen for the clearing of the current output cell\n",
       "var outputEl = gd.closest('.output');\n",
       "if (outputEl) {{\n",
       "    x.observe(outputEl, {childList: true});\n",
       "}}\n",
       "\n",
       "                        })                };                });            </script>        </div>"
      ]
     },
     "metadata": {},
     "output_type": "display_data"
    }
   ],
   "source": [
    "df.iplot(kind='scatter',x='A',y='B')"
   ]
  },
  {
   "cell_type": "code",
   "execution_count": 17,
   "id": "industrial-provision",
   "metadata": {},
   "outputs": [
    {
     "data": {
      "application/vnd.plotly.v1+json": {
       "config": {
        "linkText": "Export to plot.ly",
        "plotlyServerURL": "https://plot.ly",
        "showLink": true
       },
       "data": [
        {
         "line": {
          "color": "rgba(255, 153, 51, 1.0)",
          "dash": "solid",
          "shape": "linear",
          "width": 1.3
         },
         "marker": {
          "size": 20,
          "symbol": "circle"
         },
         "mode": "markers",
         "name": "B",
         "text": "",
         "type": "scatter",
         "x": [
          1.061473280205822,
          0.7788035401649821,
          -0.2843131564415733,
          0.4028606011071929,
          -1.0353566473067173,
          -1.5925881310692422,
          0.03764451610017262,
          0.09321189582306758,
          -0.4176584649435947,
          1.3425792835433714,
          1.0266554020785341,
          -0.3509763266194384,
          -1.1578507094975032,
          -0.10767980405124133,
          -0.7659349830162048,
          0.6359970746835948,
          0.781389848793117,
          -0.20999618974658754,
          -0.4724551602521327,
          -1.2611520993994236,
          0.5011595968288648,
          2.5021298775570124,
          -2.2161401806538175,
          -0.4213098675783744,
          1.406278824461392,
          1.0245563932292865,
          0.05793642079927353,
          0.5172455234185414,
          0.23237803736898088,
          -0.36851140968886364,
          -0.02331748092877489,
          1.1344686849252197,
          0.16803740412380333,
          -1.3287890912409976,
          0.7879241292820391,
          -0.005548678959254899,
          0.8329045559462215,
          -0.7430868096641571,
          -1.133100937544328,
          0.7006688816822035,
          2.035632575118046,
          0.5325886928830186,
          -0.8599991780600442,
          0.15505475981508404,
          -0.2783228994628211,
          -0.0935045987798122,
          0.257383871747999,
          0.9458026852206287,
          0.0523970154360034,
          0.028677167605447113,
          1.9243754536472717,
          -1.4517638419797148,
          -0.42240872112290845,
          -0.6830010989045584,
          0.8998411440376746,
          0.5661636957875802,
          1.8078923338402904,
          -0.1211574749952134,
          1.1628256796583745,
          -0.7747340750216297,
          -1.663603001451258,
          0.6205659519924192,
          1.1066279064691593,
          -0.4714356459473895,
          -0.6334083024936795,
          0.7840050962817294,
          0.5777402499571723,
          0.13624915721450132,
          0.12080615947972986,
          -0.7310373593845643,
          2.0878737842304975,
          -1.260657602083573,
          -0.9781991587314987,
          0.02552177479888971,
          -1.5312019439825595,
          0.3819009284644589,
          0.9627266602138024,
          -0.36528374506782496,
          -0.01330698839724629,
          -1.057342126647745,
          0.026874897028896363,
          1.4579519802072136,
          0.3436411938175002,
          -0.15839574242186497,
          0.9993958159176821,
          -0.8926368337194085,
          -0.427317895602847,
          0.6220513939400963,
          0.4957072394399795,
          -0.19188201177565387,
          -0.7045958601968229,
          -0.18917637706476753,
          -0.577505244222488,
          -0.6040999190689166,
          0.16031718046731083,
          -0.7914776160554775,
          1.025058265396455,
          1.5523763416710603,
          1.729160350179526,
          0.28383053480712556
         ],
         "y": [
          -0.1502090526950633,
          -1.4730229850054035,
          0.8343967846403096,
          0.07881786533117169,
          0.2173963689453169,
          -0.5528080492436792,
          -1.6258453109586075,
          -0.6767305514654233,
          -0.14300288693546617,
          0.4496954555587184,
          -0.01257683703554524,
          -0.28528865085325283,
          -0.6211655838808301,
          -0.2088464084433686,
          0.11963905119676699,
          -0.33498296236193226,
          -0.33505878250702303,
          1.7253129170246115,
          -1.1653926642573262,
          0.3805949514809733,
          0.09743708259195785,
          -1.0379640975634625,
          0.15098100983051105,
          0.4318977678868364,
          0.4963469437410477,
          0.028512895291313973,
          -1.0979847878044142,
          0.3971856542241418,
          -0.7638507427802923,
          0.04362940403433376,
          0.5493903482135887,
          0.43290716796591083,
          -0.44521194333356084,
          0.9661060689292932,
          0.44210330235753237,
          0.03321214661252483,
          -0.48936726967185207,
          -0.9304182896274302,
          1.6968215447462103,
          -0.278502027157531,
          0.35962316230753194,
          0.1694672554621009,
          1.3463629130177368,
          -0.4773321454887906,
          0.7558264273744825,
          0.30602848551497713,
          1.077734325636297,
          -0.06665598912475737,
          -0.40947446944564386,
          -1.046290912810996,
          0.15155824818897423,
          0.9479235219129352,
          0.5012297209712162,
          0.7202543172706395,
          1.2146155916317036,
          -0.761540003341629,
          1.4216908347738988,
          -0.8083797165101845,
          -0.9598316539739877,
          0.3250456999210159,
          0.7784293978884731,
          0.2913806361130591,
          -0.7031204864984019,
          -0.848852060370494,
          1.3077008994967214,
          2.3441676335625856,
          0.6737609401575443,
          -0.025823768466770602,
          -0.7677235483223626,
          -0.06131394849974311,
          0.039052404999263476,
          0.054768492284818365,
          -0.8498106331641933,
          0.706498180370543,
          -1.2607512917177826,
          -0.41172978961905266,
          -0.2707358279752124,
          0.23025681528889977,
          0.5539822404638315,
          -0.08288867817875158,
          -0.997771161936249,
          -0.678778928533606,
          -1.1474059797681828,
          0.13050467561654697,
          -0.20127543952445254,
          1.1734867634071395,
          -0.14447033334416912,
          -0.7768356529113692,
          2.108155468791955,
          0.2577470285525313,
          0.34417938196510817,
          -1.077596212923613,
          -0.6645104260980493,
          0.5900139902104728,
          -0.8875170695082091,
          1.6232057752672975,
          -0.4425887211319952,
          -0.11476017820101533,
          -0.33938732454496534,
          0.8827855572707493
         ]
        }
       ],
       "layout": {
        "legend": {
         "bgcolor": "#F5F6F9",
         "font": {
          "color": "#4D5663"
         }
        },
        "paper_bgcolor": "#F5F6F9",
        "plot_bgcolor": "#F5F6F9",
        "template": {
         "data": {
          "bar": [
           {
            "error_x": {
             "color": "#2a3f5f"
            },
            "error_y": {
             "color": "#2a3f5f"
            },
            "marker": {
             "line": {
              "color": "#E5ECF6",
              "width": 0.5
             }
            },
            "type": "bar"
           }
          ],
          "barpolar": [
           {
            "marker": {
             "line": {
              "color": "#E5ECF6",
              "width": 0.5
             }
            },
            "type": "barpolar"
           }
          ],
          "carpet": [
           {
            "aaxis": {
             "endlinecolor": "#2a3f5f",
             "gridcolor": "white",
             "linecolor": "white",
             "minorgridcolor": "white",
             "startlinecolor": "#2a3f5f"
            },
            "baxis": {
             "endlinecolor": "#2a3f5f",
             "gridcolor": "white",
             "linecolor": "white",
             "minorgridcolor": "white",
             "startlinecolor": "#2a3f5f"
            },
            "type": "carpet"
           }
          ],
          "choropleth": [
           {
            "colorbar": {
             "outlinewidth": 0,
             "ticks": ""
            },
            "type": "choropleth"
           }
          ],
          "contour": [
           {
            "colorbar": {
             "outlinewidth": 0,
             "ticks": ""
            },
            "colorscale": [
             [
              0,
              "#0d0887"
             ],
             [
              0.1111111111111111,
              "#46039f"
             ],
             [
              0.2222222222222222,
              "#7201a8"
             ],
             [
              0.3333333333333333,
              "#9c179e"
             ],
             [
              0.4444444444444444,
              "#bd3786"
             ],
             [
              0.5555555555555556,
              "#d8576b"
             ],
             [
              0.6666666666666666,
              "#ed7953"
             ],
             [
              0.7777777777777778,
              "#fb9f3a"
             ],
             [
              0.8888888888888888,
              "#fdca26"
             ],
             [
              1,
              "#f0f921"
             ]
            ],
            "type": "contour"
           }
          ],
          "contourcarpet": [
           {
            "colorbar": {
             "outlinewidth": 0,
             "ticks": ""
            },
            "type": "contourcarpet"
           }
          ],
          "heatmap": [
           {
            "colorbar": {
             "outlinewidth": 0,
             "ticks": ""
            },
            "colorscale": [
             [
              0,
              "#0d0887"
             ],
             [
              0.1111111111111111,
              "#46039f"
             ],
             [
              0.2222222222222222,
              "#7201a8"
             ],
             [
              0.3333333333333333,
              "#9c179e"
             ],
             [
              0.4444444444444444,
              "#bd3786"
             ],
             [
              0.5555555555555556,
              "#d8576b"
             ],
             [
              0.6666666666666666,
              "#ed7953"
             ],
             [
              0.7777777777777778,
              "#fb9f3a"
             ],
             [
              0.8888888888888888,
              "#fdca26"
             ],
             [
              1,
              "#f0f921"
             ]
            ],
            "type": "heatmap"
           }
          ],
          "heatmapgl": [
           {
            "colorbar": {
             "outlinewidth": 0,
             "ticks": ""
            },
            "colorscale": [
             [
              0,
              "#0d0887"
             ],
             [
              0.1111111111111111,
              "#46039f"
             ],
             [
              0.2222222222222222,
              "#7201a8"
             ],
             [
              0.3333333333333333,
              "#9c179e"
             ],
             [
              0.4444444444444444,
              "#bd3786"
             ],
             [
              0.5555555555555556,
              "#d8576b"
             ],
             [
              0.6666666666666666,
              "#ed7953"
             ],
             [
              0.7777777777777778,
              "#fb9f3a"
             ],
             [
              0.8888888888888888,
              "#fdca26"
             ],
             [
              1,
              "#f0f921"
             ]
            ],
            "type": "heatmapgl"
           }
          ],
          "histogram": [
           {
            "marker": {
             "colorbar": {
              "outlinewidth": 0,
              "ticks": ""
             }
            },
            "type": "histogram"
           }
          ],
          "histogram2d": [
           {
            "colorbar": {
             "outlinewidth": 0,
             "ticks": ""
            },
            "colorscale": [
             [
              0,
              "#0d0887"
             ],
             [
              0.1111111111111111,
              "#46039f"
             ],
             [
              0.2222222222222222,
              "#7201a8"
             ],
             [
              0.3333333333333333,
              "#9c179e"
             ],
             [
              0.4444444444444444,
              "#bd3786"
             ],
             [
              0.5555555555555556,
              "#d8576b"
             ],
             [
              0.6666666666666666,
              "#ed7953"
             ],
             [
              0.7777777777777778,
              "#fb9f3a"
             ],
             [
              0.8888888888888888,
              "#fdca26"
             ],
             [
              1,
              "#f0f921"
             ]
            ],
            "type": "histogram2d"
           }
          ],
          "histogram2dcontour": [
           {
            "colorbar": {
             "outlinewidth": 0,
             "ticks": ""
            },
            "colorscale": [
             [
              0,
              "#0d0887"
             ],
             [
              0.1111111111111111,
              "#46039f"
             ],
             [
              0.2222222222222222,
              "#7201a8"
             ],
             [
              0.3333333333333333,
              "#9c179e"
             ],
             [
              0.4444444444444444,
              "#bd3786"
             ],
             [
              0.5555555555555556,
              "#d8576b"
             ],
             [
              0.6666666666666666,
              "#ed7953"
             ],
             [
              0.7777777777777778,
              "#fb9f3a"
             ],
             [
              0.8888888888888888,
              "#fdca26"
             ],
             [
              1,
              "#f0f921"
             ]
            ],
            "type": "histogram2dcontour"
           }
          ],
          "mesh3d": [
           {
            "colorbar": {
             "outlinewidth": 0,
             "ticks": ""
            },
            "type": "mesh3d"
           }
          ],
          "parcoords": [
           {
            "line": {
             "colorbar": {
              "outlinewidth": 0,
              "ticks": ""
             }
            },
            "type": "parcoords"
           }
          ],
          "pie": [
           {
            "automargin": true,
            "type": "pie"
           }
          ],
          "scatter": [
           {
            "marker": {
             "colorbar": {
              "outlinewidth": 0,
              "ticks": ""
             }
            },
            "type": "scatter"
           }
          ],
          "scatter3d": [
           {
            "line": {
             "colorbar": {
              "outlinewidth": 0,
              "ticks": ""
             }
            },
            "marker": {
             "colorbar": {
              "outlinewidth": 0,
              "ticks": ""
             }
            },
            "type": "scatter3d"
           }
          ],
          "scattercarpet": [
           {
            "marker": {
             "colorbar": {
              "outlinewidth": 0,
              "ticks": ""
             }
            },
            "type": "scattercarpet"
           }
          ],
          "scattergeo": [
           {
            "marker": {
             "colorbar": {
              "outlinewidth": 0,
              "ticks": ""
             }
            },
            "type": "scattergeo"
           }
          ],
          "scattergl": [
           {
            "marker": {
             "colorbar": {
              "outlinewidth": 0,
              "ticks": ""
             }
            },
            "type": "scattergl"
           }
          ],
          "scattermapbox": [
           {
            "marker": {
             "colorbar": {
              "outlinewidth": 0,
              "ticks": ""
             }
            },
            "type": "scattermapbox"
           }
          ],
          "scatterpolar": [
           {
            "marker": {
             "colorbar": {
              "outlinewidth": 0,
              "ticks": ""
             }
            },
            "type": "scatterpolar"
           }
          ],
          "scatterpolargl": [
           {
            "marker": {
             "colorbar": {
              "outlinewidth": 0,
              "ticks": ""
             }
            },
            "type": "scatterpolargl"
           }
          ],
          "scatterternary": [
           {
            "marker": {
             "colorbar": {
              "outlinewidth": 0,
              "ticks": ""
             }
            },
            "type": "scatterternary"
           }
          ],
          "surface": [
           {
            "colorbar": {
             "outlinewidth": 0,
             "ticks": ""
            },
            "colorscale": [
             [
              0,
              "#0d0887"
             ],
             [
              0.1111111111111111,
              "#46039f"
             ],
             [
              0.2222222222222222,
              "#7201a8"
             ],
             [
              0.3333333333333333,
              "#9c179e"
             ],
             [
              0.4444444444444444,
              "#bd3786"
             ],
             [
              0.5555555555555556,
              "#d8576b"
             ],
             [
              0.6666666666666666,
              "#ed7953"
             ],
             [
              0.7777777777777778,
              "#fb9f3a"
             ],
             [
              0.8888888888888888,
              "#fdca26"
             ],
             [
              1,
              "#f0f921"
             ]
            ],
            "type": "surface"
           }
          ],
          "table": [
           {
            "cells": {
             "fill": {
              "color": "#EBF0F8"
             },
             "line": {
              "color": "white"
             }
            },
            "header": {
             "fill": {
              "color": "#C8D4E3"
             },
             "line": {
              "color": "white"
             }
            },
            "type": "table"
           }
          ]
         },
         "layout": {
          "annotationdefaults": {
           "arrowcolor": "#2a3f5f",
           "arrowhead": 0,
           "arrowwidth": 1
          },
          "autotypenumbers": "strict",
          "coloraxis": {
           "colorbar": {
            "outlinewidth": 0,
            "ticks": ""
           }
          },
          "colorscale": {
           "diverging": [
            [
             0,
             "#8e0152"
            ],
            [
             0.1,
             "#c51b7d"
            ],
            [
             0.2,
             "#de77ae"
            ],
            [
             0.3,
             "#f1b6da"
            ],
            [
             0.4,
             "#fde0ef"
            ],
            [
             0.5,
             "#f7f7f7"
            ],
            [
             0.6,
             "#e6f5d0"
            ],
            [
             0.7,
             "#b8e186"
            ],
            [
             0.8,
             "#7fbc41"
            ],
            [
             0.9,
             "#4d9221"
            ],
            [
             1,
             "#276419"
            ]
           ],
           "sequential": [
            [
             0,
             "#0d0887"
            ],
            [
             0.1111111111111111,
             "#46039f"
            ],
            [
             0.2222222222222222,
             "#7201a8"
            ],
            [
             0.3333333333333333,
             "#9c179e"
            ],
            [
             0.4444444444444444,
             "#bd3786"
            ],
            [
             0.5555555555555556,
             "#d8576b"
            ],
            [
             0.6666666666666666,
             "#ed7953"
            ],
            [
             0.7777777777777778,
             "#fb9f3a"
            ],
            [
             0.8888888888888888,
             "#fdca26"
            ],
            [
             1,
             "#f0f921"
            ]
           ],
           "sequentialminus": [
            [
             0,
             "#0d0887"
            ],
            [
             0.1111111111111111,
             "#46039f"
            ],
            [
             0.2222222222222222,
             "#7201a8"
            ],
            [
             0.3333333333333333,
             "#9c179e"
            ],
            [
             0.4444444444444444,
             "#bd3786"
            ],
            [
             0.5555555555555556,
             "#d8576b"
            ],
            [
             0.6666666666666666,
             "#ed7953"
            ],
            [
             0.7777777777777778,
             "#fb9f3a"
            ],
            [
             0.8888888888888888,
             "#fdca26"
            ],
            [
             1,
             "#f0f921"
            ]
           ]
          },
          "colorway": [
           "#636efa",
           "#EF553B",
           "#00cc96",
           "#ab63fa",
           "#FFA15A",
           "#19d3f3",
           "#FF6692",
           "#B6E880",
           "#FF97FF",
           "#FECB52"
          ],
          "font": {
           "color": "#2a3f5f"
          },
          "geo": {
           "bgcolor": "white",
           "lakecolor": "white",
           "landcolor": "#E5ECF6",
           "showlakes": true,
           "showland": true,
           "subunitcolor": "white"
          },
          "hoverlabel": {
           "align": "left"
          },
          "hovermode": "closest",
          "mapbox": {
           "style": "light"
          },
          "paper_bgcolor": "white",
          "plot_bgcolor": "#E5ECF6",
          "polar": {
           "angularaxis": {
            "gridcolor": "white",
            "linecolor": "white",
            "ticks": ""
           },
           "bgcolor": "#E5ECF6",
           "radialaxis": {
            "gridcolor": "white",
            "linecolor": "white",
            "ticks": ""
           }
          },
          "scene": {
           "xaxis": {
            "backgroundcolor": "#E5ECF6",
            "gridcolor": "white",
            "gridwidth": 2,
            "linecolor": "white",
            "showbackground": true,
            "ticks": "",
            "zerolinecolor": "white"
           },
           "yaxis": {
            "backgroundcolor": "#E5ECF6",
            "gridcolor": "white",
            "gridwidth": 2,
            "linecolor": "white",
            "showbackground": true,
            "ticks": "",
            "zerolinecolor": "white"
           },
           "zaxis": {
            "backgroundcolor": "#E5ECF6",
            "gridcolor": "white",
            "gridwidth": 2,
            "linecolor": "white",
            "showbackground": true,
            "ticks": "",
            "zerolinecolor": "white"
           }
          },
          "shapedefaults": {
           "line": {
            "color": "#2a3f5f"
           }
          },
          "ternary": {
           "aaxis": {
            "gridcolor": "white",
            "linecolor": "white",
            "ticks": ""
           },
           "baxis": {
            "gridcolor": "white",
            "linecolor": "white",
            "ticks": ""
           },
           "bgcolor": "#E5ECF6",
           "caxis": {
            "gridcolor": "white",
            "linecolor": "white",
            "ticks": ""
           }
          },
          "title": {
           "x": 0.05
          },
          "xaxis": {
           "automargin": true,
           "gridcolor": "white",
           "linecolor": "white",
           "ticks": "",
           "title": {
            "standoff": 15
           },
           "zerolinecolor": "white",
           "zerolinewidth": 2
          },
          "yaxis": {
           "automargin": true,
           "gridcolor": "white",
           "linecolor": "white",
           "ticks": "",
           "title": {
            "standoff": 15
           },
           "zerolinecolor": "white",
           "zerolinewidth": 2
          }
         }
        },
        "title": {
         "font": {
          "color": "#4D5663"
         }
        },
        "xaxis": {
         "gridcolor": "#E1E5ED",
         "showgrid": true,
         "tickfont": {
          "color": "#4D5663"
         },
         "title": {
          "font": {
           "color": "#4D5663"
          },
          "text": ""
         },
         "zerolinecolor": "#E1E5ED"
        },
        "yaxis": {
         "gridcolor": "#E1E5ED",
         "showgrid": true,
         "tickfont": {
          "color": "#4D5663"
         },
         "title": {
          "font": {
           "color": "#4D5663"
          },
          "text": ""
         },
         "zerolinecolor": "#E1E5ED"
        }
       }
      },
      "text/html": [
       "<div>                            <div id=\"8c4285c7-477f-455a-ac8f-9a29ce417785\" class=\"plotly-graph-div\" style=\"height:525px; width:100%;\"></div>            <script type=\"text/javascript\">                require([\"plotly\"], function(Plotly) {                    window.PLOTLYENV=window.PLOTLYENV || {};\n",
       "                    window.PLOTLYENV.BASE_URL='https://plot.ly';                                    if (document.getElementById(\"8c4285c7-477f-455a-ac8f-9a29ce417785\")) {                    Plotly.newPlot(                        \"8c4285c7-477f-455a-ac8f-9a29ce417785\",                        [{\"line\": {\"color\": \"rgba(255, 153, 51, 1.0)\", \"dash\": \"solid\", \"shape\": \"linear\", \"width\": 1.3}, \"marker\": {\"size\": 20, \"symbol\": \"circle\"}, \"mode\": \"markers\", \"name\": \"B\", \"text\": \"\", \"type\": \"scatter\", \"x\": [1.061473280205822, 0.7788035401649821, -0.2843131564415733, 0.4028606011071929, -1.0353566473067173, -1.5925881310692422, 0.03764451610017262, 0.09321189582306758, -0.4176584649435947, 1.3425792835433714, 1.0266554020785341, -0.3509763266194384, -1.1578507094975032, -0.10767980405124133, -0.7659349830162048, 0.6359970746835948, 0.781389848793117, -0.20999618974658754, -0.4724551602521327, -1.2611520993994236, 0.5011595968288648, 2.5021298775570124, -2.2161401806538175, -0.4213098675783744, 1.406278824461392, 1.0245563932292865, 0.05793642079927353, 0.5172455234185414, 0.23237803736898088, -0.36851140968886364, -0.02331748092877489, 1.1344686849252197, 0.16803740412380333, -1.3287890912409976, 0.7879241292820391, -0.005548678959254899, 0.8329045559462215, -0.7430868096641571, -1.133100937544328, 0.7006688816822035, 2.035632575118046, 0.5325886928830186, -0.8599991780600442, 0.15505475981508404, -0.2783228994628211, -0.0935045987798122, 0.257383871747999, 0.9458026852206287, 0.0523970154360034, 0.028677167605447113, 1.9243754536472717, -1.4517638419797148, -0.42240872112290845, -0.6830010989045584, 0.8998411440376746, 0.5661636957875802, 1.8078923338402904, -0.1211574749952134, 1.1628256796583745, -0.7747340750216297, -1.663603001451258, 0.6205659519924192, 1.1066279064691593, -0.4714356459473895, -0.6334083024936795, 0.7840050962817294, 0.5777402499571723, 0.13624915721450132, 0.12080615947972986, -0.7310373593845643, 2.0878737842304975, -1.260657602083573, -0.9781991587314987, 0.02552177479888971, -1.5312019439825595, 0.3819009284644589, 0.9627266602138024, -0.36528374506782496, -0.01330698839724629, -1.057342126647745, 0.026874897028896363, 1.4579519802072136, 0.3436411938175002, -0.15839574242186497, 0.9993958159176821, -0.8926368337194085, -0.427317895602847, 0.6220513939400963, 0.4957072394399795, -0.19188201177565387, -0.7045958601968229, -0.18917637706476753, -0.577505244222488, -0.6040999190689166, 0.16031718046731083, -0.7914776160554775, 1.025058265396455, 1.5523763416710603, 1.729160350179526, 0.28383053480712556], \"y\": [-0.1502090526950633, -1.4730229850054035, 0.8343967846403096, 0.07881786533117169, 0.2173963689453169, -0.5528080492436792, -1.6258453109586075, -0.6767305514654233, -0.14300288693546617, 0.4496954555587184, -0.01257683703554524, -0.28528865085325283, -0.6211655838808301, -0.2088464084433686, 0.11963905119676699, -0.33498296236193226, -0.33505878250702303, 1.7253129170246115, -1.1653926642573262, 0.3805949514809733, 0.09743708259195785, -1.0379640975634625, 0.15098100983051105, 0.4318977678868364, 0.4963469437410477, 0.028512895291313973, -1.0979847878044142, 0.3971856542241418, -0.7638507427802923, 0.04362940403433376, 0.5493903482135887, 0.43290716796591083, -0.44521194333356084, 0.9661060689292932, 0.44210330235753237, 0.03321214661252483, -0.48936726967185207, -0.9304182896274302, 1.6968215447462103, -0.278502027157531, 0.35962316230753194, 0.1694672554621009, 1.3463629130177368, -0.4773321454887906, 0.7558264273744825, 0.30602848551497713, 1.077734325636297, -0.06665598912475737, -0.40947446944564386, -1.046290912810996, 0.15155824818897423, 0.9479235219129352, 0.5012297209712162, 0.7202543172706395, 1.2146155916317036, -0.761540003341629, 1.4216908347738988, -0.8083797165101845, -0.9598316539739877, 0.3250456999210159, 0.7784293978884731, 0.2913806361130591, -0.7031204864984019, -0.848852060370494, 1.3077008994967214, 2.3441676335625856, 0.6737609401575443, -0.025823768466770602, -0.7677235483223626, -0.06131394849974311, 0.039052404999263476, 0.054768492284818365, -0.8498106331641933, 0.706498180370543, -1.2607512917177826, -0.41172978961905266, -0.2707358279752124, 0.23025681528889977, 0.5539822404638315, -0.08288867817875158, -0.997771161936249, -0.678778928533606, -1.1474059797681828, 0.13050467561654697, -0.20127543952445254, 1.1734867634071395, -0.14447033334416912, -0.7768356529113692, 2.108155468791955, 0.2577470285525313, 0.34417938196510817, -1.077596212923613, -0.6645104260980493, 0.5900139902104728, -0.8875170695082091, 1.6232057752672975, -0.4425887211319952, -0.11476017820101533, -0.33938732454496534, 0.8827855572707493]}],                        {\"legend\": {\"bgcolor\": \"#F5F6F9\", \"font\": {\"color\": \"#4D5663\"}}, \"paper_bgcolor\": \"#F5F6F9\", \"plot_bgcolor\": \"#F5F6F9\", \"template\": {\"data\": {\"bar\": [{\"error_x\": {\"color\": \"#2a3f5f\"}, \"error_y\": {\"color\": \"#2a3f5f\"}, \"marker\": {\"line\": {\"color\": \"#E5ECF6\", \"width\": 0.5}}, \"type\": \"bar\"}], \"barpolar\": [{\"marker\": {\"line\": {\"color\": \"#E5ECF6\", \"width\": 0.5}}, \"type\": \"barpolar\"}], \"carpet\": [{\"aaxis\": {\"endlinecolor\": \"#2a3f5f\", \"gridcolor\": \"white\", \"linecolor\": \"white\", \"minorgridcolor\": \"white\", \"startlinecolor\": \"#2a3f5f\"}, \"baxis\": {\"endlinecolor\": \"#2a3f5f\", \"gridcolor\": \"white\", \"linecolor\": \"white\", \"minorgridcolor\": \"white\", \"startlinecolor\": \"#2a3f5f\"}, \"type\": \"carpet\"}], \"choropleth\": [{\"colorbar\": {\"outlinewidth\": 0, \"ticks\": \"\"}, \"type\": \"choropleth\"}], \"contour\": [{\"colorbar\": {\"outlinewidth\": 0, \"ticks\": \"\"}, \"colorscale\": [[0.0, \"#0d0887\"], [0.1111111111111111, \"#46039f\"], [0.2222222222222222, \"#7201a8\"], [0.3333333333333333, \"#9c179e\"], [0.4444444444444444, \"#bd3786\"], [0.5555555555555556, \"#d8576b\"], [0.6666666666666666, \"#ed7953\"], [0.7777777777777778, \"#fb9f3a\"], [0.8888888888888888, \"#fdca26\"], [1.0, \"#f0f921\"]], \"type\": \"contour\"}], \"contourcarpet\": [{\"colorbar\": {\"outlinewidth\": 0, \"ticks\": \"\"}, \"type\": \"contourcarpet\"}], \"heatmap\": [{\"colorbar\": {\"outlinewidth\": 0, \"ticks\": \"\"}, \"colorscale\": [[0.0, \"#0d0887\"], [0.1111111111111111, \"#46039f\"], [0.2222222222222222, \"#7201a8\"], [0.3333333333333333, \"#9c179e\"], [0.4444444444444444, \"#bd3786\"], [0.5555555555555556, \"#d8576b\"], [0.6666666666666666, \"#ed7953\"], [0.7777777777777778, \"#fb9f3a\"], [0.8888888888888888, \"#fdca26\"], [1.0, \"#f0f921\"]], \"type\": \"heatmap\"}], \"heatmapgl\": [{\"colorbar\": {\"outlinewidth\": 0, \"ticks\": \"\"}, \"colorscale\": [[0.0, \"#0d0887\"], [0.1111111111111111, \"#46039f\"], [0.2222222222222222, \"#7201a8\"], [0.3333333333333333, \"#9c179e\"], [0.4444444444444444, \"#bd3786\"], [0.5555555555555556, \"#d8576b\"], [0.6666666666666666, \"#ed7953\"], [0.7777777777777778, \"#fb9f3a\"], [0.8888888888888888, \"#fdca26\"], [1.0, \"#f0f921\"]], \"type\": \"heatmapgl\"}], \"histogram\": [{\"marker\": {\"colorbar\": {\"outlinewidth\": 0, \"ticks\": \"\"}}, \"type\": \"histogram\"}], \"histogram2d\": [{\"colorbar\": {\"outlinewidth\": 0, \"ticks\": \"\"}, \"colorscale\": [[0.0, \"#0d0887\"], [0.1111111111111111, \"#46039f\"], [0.2222222222222222, \"#7201a8\"], [0.3333333333333333, \"#9c179e\"], [0.4444444444444444, \"#bd3786\"], [0.5555555555555556, \"#d8576b\"], [0.6666666666666666, \"#ed7953\"], [0.7777777777777778, \"#fb9f3a\"], [0.8888888888888888, \"#fdca26\"], [1.0, \"#f0f921\"]], \"type\": \"histogram2d\"}], \"histogram2dcontour\": [{\"colorbar\": {\"outlinewidth\": 0, \"ticks\": \"\"}, \"colorscale\": [[0.0, \"#0d0887\"], [0.1111111111111111, \"#46039f\"], [0.2222222222222222, \"#7201a8\"], [0.3333333333333333, \"#9c179e\"], [0.4444444444444444, \"#bd3786\"], [0.5555555555555556, \"#d8576b\"], [0.6666666666666666, \"#ed7953\"], [0.7777777777777778, \"#fb9f3a\"], [0.8888888888888888, \"#fdca26\"], [1.0, \"#f0f921\"]], \"type\": \"histogram2dcontour\"}], \"mesh3d\": [{\"colorbar\": {\"outlinewidth\": 0, \"ticks\": \"\"}, \"type\": \"mesh3d\"}], \"parcoords\": [{\"line\": {\"colorbar\": {\"outlinewidth\": 0, \"ticks\": \"\"}}, \"type\": \"parcoords\"}], \"pie\": [{\"automargin\": true, \"type\": \"pie\"}], \"scatter\": [{\"marker\": {\"colorbar\": {\"outlinewidth\": 0, \"ticks\": \"\"}}, \"type\": \"scatter\"}], \"scatter3d\": [{\"line\": {\"colorbar\": {\"outlinewidth\": 0, \"ticks\": \"\"}}, \"marker\": {\"colorbar\": {\"outlinewidth\": 0, \"ticks\": \"\"}}, \"type\": \"scatter3d\"}], \"scattercarpet\": [{\"marker\": {\"colorbar\": {\"outlinewidth\": 0, \"ticks\": \"\"}}, \"type\": \"scattercarpet\"}], \"scattergeo\": [{\"marker\": {\"colorbar\": {\"outlinewidth\": 0, \"ticks\": \"\"}}, \"type\": \"scattergeo\"}], \"scattergl\": [{\"marker\": {\"colorbar\": {\"outlinewidth\": 0, \"ticks\": \"\"}}, \"type\": \"scattergl\"}], \"scattermapbox\": [{\"marker\": {\"colorbar\": {\"outlinewidth\": 0, \"ticks\": \"\"}}, \"type\": \"scattermapbox\"}], \"scatterpolar\": [{\"marker\": {\"colorbar\": {\"outlinewidth\": 0, \"ticks\": \"\"}}, \"type\": \"scatterpolar\"}], \"scatterpolargl\": [{\"marker\": {\"colorbar\": {\"outlinewidth\": 0, \"ticks\": \"\"}}, \"type\": \"scatterpolargl\"}], \"scatterternary\": [{\"marker\": {\"colorbar\": {\"outlinewidth\": 0, \"ticks\": \"\"}}, \"type\": \"scatterternary\"}], \"surface\": [{\"colorbar\": {\"outlinewidth\": 0, \"ticks\": \"\"}, \"colorscale\": [[0.0, \"#0d0887\"], [0.1111111111111111, \"#46039f\"], [0.2222222222222222, \"#7201a8\"], [0.3333333333333333, \"#9c179e\"], [0.4444444444444444, \"#bd3786\"], [0.5555555555555556, \"#d8576b\"], [0.6666666666666666, \"#ed7953\"], [0.7777777777777778, \"#fb9f3a\"], [0.8888888888888888, \"#fdca26\"], [1.0, \"#f0f921\"]], \"type\": \"surface\"}], \"table\": [{\"cells\": {\"fill\": {\"color\": \"#EBF0F8\"}, \"line\": {\"color\": \"white\"}}, \"header\": {\"fill\": {\"color\": \"#C8D4E3\"}, \"line\": {\"color\": \"white\"}}, \"type\": \"table\"}]}, \"layout\": {\"annotationdefaults\": {\"arrowcolor\": \"#2a3f5f\", \"arrowhead\": 0, \"arrowwidth\": 1}, \"autotypenumbers\": \"strict\", \"coloraxis\": {\"colorbar\": {\"outlinewidth\": 0, \"ticks\": \"\"}}, \"colorscale\": {\"diverging\": [[0, \"#8e0152\"], [0.1, \"#c51b7d\"], [0.2, \"#de77ae\"], [0.3, \"#f1b6da\"], [0.4, \"#fde0ef\"], [0.5, \"#f7f7f7\"], [0.6, \"#e6f5d0\"], [0.7, \"#b8e186\"], [0.8, \"#7fbc41\"], [0.9, \"#4d9221\"], [1, \"#276419\"]], \"sequential\": [[0.0, \"#0d0887\"], [0.1111111111111111, \"#46039f\"], [0.2222222222222222, \"#7201a8\"], [0.3333333333333333, \"#9c179e\"], [0.4444444444444444, \"#bd3786\"], [0.5555555555555556, \"#d8576b\"], [0.6666666666666666, \"#ed7953\"], [0.7777777777777778, \"#fb9f3a\"], [0.8888888888888888, \"#fdca26\"], [1.0, \"#f0f921\"]], \"sequentialminus\": [[0.0, \"#0d0887\"], [0.1111111111111111, \"#46039f\"], [0.2222222222222222, \"#7201a8\"], [0.3333333333333333, \"#9c179e\"], [0.4444444444444444, \"#bd3786\"], [0.5555555555555556, \"#d8576b\"], [0.6666666666666666, \"#ed7953\"], [0.7777777777777778, \"#fb9f3a\"], [0.8888888888888888, \"#fdca26\"], [1.0, \"#f0f921\"]]}, \"colorway\": [\"#636efa\", \"#EF553B\", \"#00cc96\", \"#ab63fa\", \"#FFA15A\", \"#19d3f3\", \"#FF6692\", \"#B6E880\", \"#FF97FF\", \"#FECB52\"], \"font\": {\"color\": \"#2a3f5f\"}, \"geo\": {\"bgcolor\": \"white\", \"lakecolor\": \"white\", \"landcolor\": \"#E5ECF6\", \"showlakes\": true, \"showland\": true, \"subunitcolor\": \"white\"}, \"hoverlabel\": {\"align\": \"left\"}, \"hovermode\": \"closest\", \"mapbox\": {\"style\": \"light\"}, \"paper_bgcolor\": \"white\", \"plot_bgcolor\": \"#E5ECF6\", \"polar\": {\"angularaxis\": {\"gridcolor\": \"white\", \"linecolor\": \"white\", \"ticks\": \"\"}, \"bgcolor\": \"#E5ECF6\", \"radialaxis\": {\"gridcolor\": \"white\", \"linecolor\": \"white\", \"ticks\": \"\"}}, \"scene\": {\"xaxis\": {\"backgroundcolor\": \"#E5ECF6\", \"gridcolor\": \"white\", \"gridwidth\": 2, \"linecolor\": \"white\", \"showbackground\": true, \"ticks\": \"\", \"zerolinecolor\": \"white\"}, \"yaxis\": {\"backgroundcolor\": \"#E5ECF6\", \"gridcolor\": \"white\", \"gridwidth\": 2, \"linecolor\": \"white\", \"showbackground\": true, \"ticks\": \"\", \"zerolinecolor\": \"white\"}, \"zaxis\": {\"backgroundcolor\": \"#E5ECF6\", \"gridcolor\": \"white\", \"gridwidth\": 2, \"linecolor\": \"white\", \"showbackground\": true, \"ticks\": \"\", \"zerolinecolor\": \"white\"}}, \"shapedefaults\": {\"line\": {\"color\": \"#2a3f5f\"}}, \"ternary\": {\"aaxis\": {\"gridcolor\": \"white\", \"linecolor\": \"white\", \"ticks\": \"\"}, \"baxis\": {\"gridcolor\": \"white\", \"linecolor\": \"white\", \"ticks\": \"\"}, \"bgcolor\": \"#E5ECF6\", \"caxis\": {\"gridcolor\": \"white\", \"linecolor\": \"white\", \"ticks\": \"\"}}, \"title\": {\"x\": 0.05}, \"xaxis\": {\"automargin\": true, \"gridcolor\": \"white\", \"linecolor\": \"white\", \"ticks\": \"\", \"title\": {\"standoff\": 15}, \"zerolinecolor\": \"white\", \"zerolinewidth\": 2}, \"yaxis\": {\"automargin\": true, \"gridcolor\": \"white\", \"linecolor\": \"white\", \"ticks\": \"\", \"title\": {\"standoff\": 15}, \"zerolinecolor\": \"white\", \"zerolinewidth\": 2}}}, \"title\": {\"font\": {\"color\": \"#4D5663\"}}, \"xaxis\": {\"gridcolor\": \"#E1E5ED\", \"showgrid\": true, \"tickfont\": {\"color\": \"#4D5663\"}, \"title\": {\"font\": {\"color\": \"#4D5663\"}, \"text\": \"\"}, \"zerolinecolor\": \"#E1E5ED\"}, \"yaxis\": {\"gridcolor\": \"#E1E5ED\", \"showgrid\": true, \"tickfont\": {\"color\": \"#4D5663\"}, \"title\": {\"font\": {\"color\": \"#4D5663\"}, \"text\": \"\"}, \"zerolinecolor\": \"#E1E5ED\"}},                        {\"showLink\": true, \"linkText\": \"Export to plot.ly\", \"plotlyServerURL\": \"https://plot.ly\", \"responsive\": true}                    ).then(function(){\n",
       "                            \n",
       "var gd = document.getElementById('8c4285c7-477f-455a-ac8f-9a29ce417785');\n",
       "var x = new MutationObserver(function (mutations, observer) {{\n",
       "        var display = window.getComputedStyle(gd).display;\n",
       "        if (!display || display === 'none') {{\n",
       "            console.log([gd, 'removed!']);\n",
       "            Plotly.purge(gd);\n",
       "            observer.disconnect();\n",
       "        }}\n",
       "}});\n",
       "\n",
       "// Listen for the removal of the full notebook cells\n",
       "var notebookContainer = gd.closest('#notebook-container');\n",
       "if (notebookContainer) {{\n",
       "    x.observe(notebookContainer, {childList: true});\n",
       "}}\n",
       "\n",
       "// Listen for the clearing of the current output cell\n",
       "var outputEl = gd.closest('.output');\n",
       "if (outputEl) {{\n",
       "    x.observe(outputEl, {childList: true});\n",
       "}}\n",
       "\n",
       "                        })                };                });            </script>        </div>"
      ]
     },
     "metadata": {},
     "output_type": "display_data"
    }
   ],
   "source": [
    "df.iplot(kind='scatter',x='A',y='B',mode='markers',size=20)"
   ]
  },
  {
   "cell_type": "code",
   "execution_count": 21,
   "id": "approved-mexican",
   "metadata": {},
   "outputs": [
    {
     "data": {
      "application/vnd.plotly.v1+json": {
       "config": {
        "linkText": "Export to plot.ly",
        "plotlyServerURL": "https://plot.ly",
        "showLink": true
       },
       "data": [
        {
         "marker": {
          "color": "rgba(255, 153, 51, 0.6)",
          "line": {
           "color": "rgba(255, 153, 51, 1.0)",
           "width": 1
          }
         },
         "name": "values",
         "orientation": "v",
         "text": "",
         "type": "bar",
         "x": [
          "A",
          "B",
          "C"
         ],
         "y": [
          32,
          43,
          50
         ]
        }
       ],
       "layout": {
        "legend": {
         "bgcolor": "#F5F6F9",
         "font": {
          "color": "#4D5663"
         }
        },
        "paper_bgcolor": "#F5F6F9",
        "plot_bgcolor": "#F5F6F9",
        "template": {
         "data": {
          "bar": [
           {
            "error_x": {
             "color": "#2a3f5f"
            },
            "error_y": {
             "color": "#2a3f5f"
            },
            "marker": {
             "line": {
              "color": "#E5ECF6",
              "width": 0.5
             }
            },
            "type": "bar"
           }
          ],
          "barpolar": [
           {
            "marker": {
             "line": {
              "color": "#E5ECF6",
              "width": 0.5
             }
            },
            "type": "barpolar"
           }
          ],
          "carpet": [
           {
            "aaxis": {
             "endlinecolor": "#2a3f5f",
             "gridcolor": "white",
             "linecolor": "white",
             "minorgridcolor": "white",
             "startlinecolor": "#2a3f5f"
            },
            "baxis": {
             "endlinecolor": "#2a3f5f",
             "gridcolor": "white",
             "linecolor": "white",
             "minorgridcolor": "white",
             "startlinecolor": "#2a3f5f"
            },
            "type": "carpet"
           }
          ],
          "choropleth": [
           {
            "colorbar": {
             "outlinewidth": 0,
             "ticks": ""
            },
            "type": "choropleth"
           }
          ],
          "contour": [
           {
            "colorbar": {
             "outlinewidth": 0,
             "ticks": ""
            },
            "colorscale": [
             [
              0,
              "#0d0887"
             ],
             [
              0.1111111111111111,
              "#46039f"
             ],
             [
              0.2222222222222222,
              "#7201a8"
             ],
             [
              0.3333333333333333,
              "#9c179e"
             ],
             [
              0.4444444444444444,
              "#bd3786"
             ],
             [
              0.5555555555555556,
              "#d8576b"
             ],
             [
              0.6666666666666666,
              "#ed7953"
             ],
             [
              0.7777777777777778,
              "#fb9f3a"
             ],
             [
              0.8888888888888888,
              "#fdca26"
             ],
             [
              1,
              "#f0f921"
             ]
            ],
            "type": "contour"
           }
          ],
          "contourcarpet": [
           {
            "colorbar": {
             "outlinewidth": 0,
             "ticks": ""
            },
            "type": "contourcarpet"
           }
          ],
          "heatmap": [
           {
            "colorbar": {
             "outlinewidth": 0,
             "ticks": ""
            },
            "colorscale": [
             [
              0,
              "#0d0887"
             ],
             [
              0.1111111111111111,
              "#46039f"
             ],
             [
              0.2222222222222222,
              "#7201a8"
             ],
             [
              0.3333333333333333,
              "#9c179e"
             ],
             [
              0.4444444444444444,
              "#bd3786"
             ],
             [
              0.5555555555555556,
              "#d8576b"
             ],
             [
              0.6666666666666666,
              "#ed7953"
             ],
             [
              0.7777777777777778,
              "#fb9f3a"
             ],
             [
              0.8888888888888888,
              "#fdca26"
             ],
             [
              1,
              "#f0f921"
             ]
            ],
            "type": "heatmap"
           }
          ],
          "heatmapgl": [
           {
            "colorbar": {
             "outlinewidth": 0,
             "ticks": ""
            },
            "colorscale": [
             [
              0,
              "#0d0887"
             ],
             [
              0.1111111111111111,
              "#46039f"
             ],
             [
              0.2222222222222222,
              "#7201a8"
             ],
             [
              0.3333333333333333,
              "#9c179e"
             ],
             [
              0.4444444444444444,
              "#bd3786"
             ],
             [
              0.5555555555555556,
              "#d8576b"
             ],
             [
              0.6666666666666666,
              "#ed7953"
             ],
             [
              0.7777777777777778,
              "#fb9f3a"
             ],
             [
              0.8888888888888888,
              "#fdca26"
             ],
             [
              1,
              "#f0f921"
             ]
            ],
            "type": "heatmapgl"
           }
          ],
          "histogram": [
           {
            "marker": {
             "colorbar": {
              "outlinewidth": 0,
              "ticks": ""
             }
            },
            "type": "histogram"
           }
          ],
          "histogram2d": [
           {
            "colorbar": {
             "outlinewidth": 0,
             "ticks": ""
            },
            "colorscale": [
             [
              0,
              "#0d0887"
             ],
             [
              0.1111111111111111,
              "#46039f"
             ],
             [
              0.2222222222222222,
              "#7201a8"
             ],
             [
              0.3333333333333333,
              "#9c179e"
             ],
             [
              0.4444444444444444,
              "#bd3786"
             ],
             [
              0.5555555555555556,
              "#d8576b"
             ],
             [
              0.6666666666666666,
              "#ed7953"
             ],
             [
              0.7777777777777778,
              "#fb9f3a"
             ],
             [
              0.8888888888888888,
              "#fdca26"
             ],
             [
              1,
              "#f0f921"
             ]
            ],
            "type": "histogram2d"
           }
          ],
          "histogram2dcontour": [
           {
            "colorbar": {
             "outlinewidth": 0,
             "ticks": ""
            },
            "colorscale": [
             [
              0,
              "#0d0887"
             ],
             [
              0.1111111111111111,
              "#46039f"
             ],
             [
              0.2222222222222222,
              "#7201a8"
             ],
             [
              0.3333333333333333,
              "#9c179e"
             ],
             [
              0.4444444444444444,
              "#bd3786"
             ],
             [
              0.5555555555555556,
              "#d8576b"
             ],
             [
              0.6666666666666666,
              "#ed7953"
             ],
             [
              0.7777777777777778,
              "#fb9f3a"
             ],
             [
              0.8888888888888888,
              "#fdca26"
             ],
             [
              1,
              "#f0f921"
             ]
            ],
            "type": "histogram2dcontour"
           }
          ],
          "mesh3d": [
           {
            "colorbar": {
             "outlinewidth": 0,
             "ticks": ""
            },
            "type": "mesh3d"
           }
          ],
          "parcoords": [
           {
            "line": {
             "colorbar": {
              "outlinewidth": 0,
              "ticks": ""
             }
            },
            "type": "parcoords"
           }
          ],
          "pie": [
           {
            "automargin": true,
            "type": "pie"
           }
          ],
          "scatter": [
           {
            "marker": {
             "colorbar": {
              "outlinewidth": 0,
              "ticks": ""
             }
            },
            "type": "scatter"
           }
          ],
          "scatter3d": [
           {
            "line": {
             "colorbar": {
              "outlinewidth": 0,
              "ticks": ""
             }
            },
            "marker": {
             "colorbar": {
              "outlinewidth": 0,
              "ticks": ""
             }
            },
            "type": "scatter3d"
           }
          ],
          "scattercarpet": [
           {
            "marker": {
             "colorbar": {
              "outlinewidth": 0,
              "ticks": ""
             }
            },
            "type": "scattercarpet"
           }
          ],
          "scattergeo": [
           {
            "marker": {
             "colorbar": {
              "outlinewidth": 0,
              "ticks": ""
             }
            },
            "type": "scattergeo"
           }
          ],
          "scattergl": [
           {
            "marker": {
             "colorbar": {
              "outlinewidth": 0,
              "ticks": ""
             }
            },
            "type": "scattergl"
           }
          ],
          "scattermapbox": [
           {
            "marker": {
             "colorbar": {
              "outlinewidth": 0,
              "ticks": ""
             }
            },
            "type": "scattermapbox"
           }
          ],
          "scatterpolar": [
           {
            "marker": {
             "colorbar": {
              "outlinewidth": 0,
              "ticks": ""
             }
            },
            "type": "scatterpolar"
           }
          ],
          "scatterpolargl": [
           {
            "marker": {
             "colorbar": {
              "outlinewidth": 0,
              "ticks": ""
             }
            },
            "type": "scatterpolargl"
           }
          ],
          "scatterternary": [
           {
            "marker": {
             "colorbar": {
              "outlinewidth": 0,
              "ticks": ""
             }
            },
            "type": "scatterternary"
           }
          ],
          "surface": [
           {
            "colorbar": {
             "outlinewidth": 0,
             "ticks": ""
            },
            "colorscale": [
             [
              0,
              "#0d0887"
             ],
             [
              0.1111111111111111,
              "#46039f"
             ],
             [
              0.2222222222222222,
              "#7201a8"
             ],
             [
              0.3333333333333333,
              "#9c179e"
             ],
             [
              0.4444444444444444,
              "#bd3786"
             ],
             [
              0.5555555555555556,
              "#d8576b"
             ],
             [
              0.6666666666666666,
              "#ed7953"
             ],
             [
              0.7777777777777778,
              "#fb9f3a"
             ],
             [
              0.8888888888888888,
              "#fdca26"
             ],
             [
              1,
              "#f0f921"
             ]
            ],
            "type": "surface"
           }
          ],
          "table": [
           {
            "cells": {
             "fill": {
              "color": "#EBF0F8"
             },
             "line": {
              "color": "white"
             }
            },
            "header": {
             "fill": {
              "color": "#C8D4E3"
             },
             "line": {
              "color": "white"
             }
            },
            "type": "table"
           }
          ]
         },
         "layout": {
          "annotationdefaults": {
           "arrowcolor": "#2a3f5f",
           "arrowhead": 0,
           "arrowwidth": 1
          },
          "autotypenumbers": "strict",
          "coloraxis": {
           "colorbar": {
            "outlinewidth": 0,
            "ticks": ""
           }
          },
          "colorscale": {
           "diverging": [
            [
             0,
             "#8e0152"
            ],
            [
             0.1,
             "#c51b7d"
            ],
            [
             0.2,
             "#de77ae"
            ],
            [
             0.3,
             "#f1b6da"
            ],
            [
             0.4,
             "#fde0ef"
            ],
            [
             0.5,
             "#f7f7f7"
            ],
            [
             0.6,
             "#e6f5d0"
            ],
            [
             0.7,
             "#b8e186"
            ],
            [
             0.8,
             "#7fbc41"
            ],
            [
             0.9,
             "#4d9221"
            ],
            [
             1,
             "#276419"
            ]
           ],
           "sequential": [
            [
             0,
             "#0d0887"
            ],
            [
             0.1111111111111111,
             "#46039f"
            ],
            [
             0.2222222222222222,
             "#7201a8"
            ],
            [
             0.3333333333333333,
             "#9c179e"
            ],
            [
             0.4444444444444444,
             "#bd3786"
            ],
            [
             0.5555555555555556,
             "#d8576b"
            ],
            [
             0.6666666666666666,
             "#ed7953"
            ],
            [
             0.7777777777777778,
             "#fb9f3a"
            ],
            [
             0.8888888888888888,
             "#fdca26"
            ],
            [
             1,
             "#f0f921"
            ]
           ],
           "sequentialminus": [
            [
             0,
             "#0d0887"
            ],
            [
             0.1111111111111111,
             "#46039f"
            ],
            [
             0.2222222222222222,
             "#7201a8"
            ],
            [
             0.3333333333333333,
             "#9c179e"
            ],
            [
             0.4444444444444444,
             "#bd3786"
            ],
            [
             0.5555555555555556,
             "#d8576b"
            ],
            [
             0.6666666666666666,
             "#ed7953"
            ],
            [
             0.7777777777777778,
             "#fb9f3a"
            ],
            [
             0.8888888888888888,
             "#fdca26"
            ],
            [
             1,
             "#f0f921"
            ]
           ]
          },
          "colorway": [
           "#636efa",
           "#EF553B",
           "#00cc96",
           "#ab63fa",
           "#FFA15A",
           "#19d3f3",
           "#FF6692",
           "#B6E880",
           "#FF97FF",
           "#FECB52"
          ],
          "font": {
           "color": "#2a3f5f"
          },
          "geo": {
           "bgcolor": "white",
           "lakecolor": "white",
           "landcolor": "#E5ECF6",
           "showlakes": true,
           "showland": true,
           "subunitcolor": "white"
          },
          "hoverlabel": {
           "align": "left"
          },
          "hovermode": "closest",
          "mapbox": {
           "style": "light"
          },
          "paper_bgcolor": "white",
          "plot_bgcolor": "#E5ECF6",
          "polar": {
           "angularaxis": {
            "gridcolor": "white",
            "linecolor": "white",
            "ticks": ""
           },
           "bgcolor": "#E5ECF6",
           "radialaxis": {
            "gridcolor": "white",
            "linecolor": "white",
            "ticks": ""
           }
          },
          "scene": {
           "xaxis": {
            "backgroundcolor": "#E5ECF6",
            "gridcolor": "white",
            "gridwidth": 2,
            "linecolor": "white",
            "showbackground": true,
            "ticks": "",
            "zerolinecolor": "white"
           },
           "yaxis": {
            "backgroundcolor": "#E5ECF6",
            "gridcolor": "white",
            "gridwidth": 2,
            "linecolor": "white",
            "showbackground": true,
            "ticks": "",
            "zerolinecolor": "white"
           },
           "zaxis": {
            "backgroundcolor": "#E5ECF6",
            "gridcolor": "white",
            "gridwidth": 2,
            "linecolor": "white",
            "showbackground": true,
            "ticks": "",
            "zerolinecolor": "white"
           }
          },
          "shapedefaults": {
           "line": {
            "color": "#2a3f5f"
           }
          },
          "ternary": {
           "aaxis": {
            "gridcolor": "white",
            "linecolor": "white",
            "ticks": ""
           },
           "baxis": {
            "gridcolor": "white",
            "linecolor": "white",
            "ticks": ""
           },
           "bgcolor": "#E5ECF6",
           "caxis": {
            "gridcolor": "white",
            "linecolor": "white",
            "ticks": ""
           }
          },
          "title": {
           "x": 0.05
          },
          "xaxis": {
           "automargin": true,
           "gridcolor": "white",
           "linecolor": "white",
           "ticks": "",
           "title": {
            "standoff": 15
           },
           "zerolinecolor": "white",
           "zerolinewidth": 2
          },
          "yaxis": {
           "automargin": true,
           "gridcolor": "white",
           "linecolor": "white",
           "ticks": "",
           "title": {
            "standoff": 15
           },
           "zerolinecolor": "white",
           "zerolinewidth": 2
          }
         }
        },
        "title": {
         "font": {
          "color": "#4D5663"
         }
        },
        "xaxis": {
         "gridcolor": "#E1E5ED",
         "showgrid": true,
         "tickfont": {
          "color": "#4D5663"
         },
         "title": {
          "font": {
           "color": "#4D5663"
          },
          "text": ""
         },
         "zerolinecolor": "#E1E5ED"
        },
        "yaxis": {
         "gridcolor": "#E1E5ED",
         "showgrid": true,
         "tickfont": {
          "color": "#4D5663"
         },
         "title": {
          "font": {
           "color": "#4D5663"
          },
          "text": ""
         },
         "zerolinecolor": "#E1E5ED"
        }
       }
      },
      "text/html": [
       "<div>                            <div id=\"0dd930b7-b002-4078-b466-64b710ebdd68\" class=\"plotly-graph-div\" style=\"height:525px; width:100%;\"></div>            <script type=\"text/javascript\">                require([\"plotly\"], function(Plotly) {                    window.PLOTLYENV=window.PLOTLYENV || {};\n",
       "                    window.PLOTLYENV.BASE_URL='https://plot.ly';                                    if (document.getElementById(\"0dd930b7-b002-4078-b466-64b710ebdd68\")) {                    Plotly.newPlot(                        \"0dd930b7-b002-4078-b466-64b710ebdd68\",                        [{\"marker\": {\"color\": \"rgba(255, 153, 51, 0.6)\", \"line\": {\"color\": \"rgba(255, 153, 51, 1.0)\", \"width\": 1}}, \"name\": \"values\", \"orientation\": \"v\", \"text\": \"\", \"type\": \"bar\", \"x\": [\"A\", \"B\", \"C\"], \"y\": [32, 43, 50]}],                        {\"legend\": {\"bgcolor\": \"#F5F6F9\", \"font\": {\"color\": \"#4D5663\"}}, \"paper_bgcolor\": \"#F5F6F9\", \"plot_bgcolor\": \"#F5F6F9\", \"template\": {\"data\": {\"bar\": [{\"error_x\": {\"color\": \"#2a3f5f\"}, \"error_y\": {\"color\": \"#2a3f5f\"}, \"marker\": {\"line\": {\"color\": \"#E5ECF6\", \"width\": 0.5}}, \"type\": \"bar\"}], \"barpolar\": [{\"marker\": {\"line\": {\"color\": \"#E5ECF6\", \"width\": 0.5}}, \"type\": \"barpolar\"}], \"carpet\": [{\"aaxis\": {\"endlinecolor\": \"#2a3f5f\", \"gridcolor\": \"white\", \"linecolor\": \"white\", \"minorgridcolor\": \"white\", \"startlinecolor\": \"#2a3f5f\"}, \"baxis\": {\"endlinecolor\": \"#2a3f5f\", \"gridcolor\": \"white\", \"linecolor\": \"white\", \"minorgridcolor\": \"white\", \"startlinecolor\": \"#2a3f5f\"}, \"type\": \"carpet\"}], \"choropleth\": [{\"colorbar\": {\"outlinewidth\": 0, \"ticks\": \"\"}, \"type\": \"choropleth\"}], \"contour\": [{\"colorbar\": {\"outlinewidth\": 0, \"ticks\": \"\"}, \"colorscale\": [[0.0, \"#0d0887\"], [0.1111111111111111, \"#46039f\"], [0.2222222222222222, \"#7201a8\"], [0.3333333333333333, \"#9c179e\"], [0.4444444444444444, \"#bd3786\"], [0.5555555555555556, \"#d8576b\"], [0.6666666666666666, \"#ed7953\"], [0.7777777777777778, \"#fb9f3a\"], [0.8888888888888888, \"#fdca26\"], [1.0, \"#f0f921\"]], \"type\": \"contour\"}], \"contourcarpet\": [{\"colorbar\": {\"outlinewidth\": 0, \"ticks\": \"\"}, \"type\": \"contourcarpet\"}], \"heatmap\": [{\"colorbar\": {\"outlinewidth\": 0, \"ticks\": \"\"}, \"colorscale\": [[0.0, \"#0d0887\"], [0.1111111111111111, \"#46039f\"], [0.2222222222222222, \"#7201a8\"], [0.3333333333333333, \"#9c179e\"], [0.4444444444444444, \"#bd3786\"], [0.5555555555555556, \"#d8576b\"], [0.6666666666666666, \"#ed7953\"], [0.7777777777777778, \"#fb9f3a\"], [0.8888888888888888, \"#fdca26\"], [1.0, \"#f0f921\"]], \"type\": \"heatmap\"}], \"heatmapgl\": [{\"colorbar\": {\"outlinewidth\": 0, \"ticks\": \"\"}, \"colorscale\": [[0.0, \"#0d0887\"], [0.1111111111111111, \"#46039f\"], [0.2222222222222222, \"#7201a8\"], [0.3333333333333333, \"#9c179e\"], [0.4444444444444444, \"#bd3786\"], [0.5555555555555556, \"#d8576b\"], [0.6666666666666666, \"#ed7953\"], [0.7777777777777778, \"#fb9f3a\"], [0.8888888888888888, \"#fdca26\"], [1.0, \"#f0f921\"]], \"type\": \"heatmapgl\"}], \"histogram\": [{\"marker\": {\"colorbar\": {\"outlinewidth\": 0, \"ticks\": \"\"}}, \"type\": \"histogram\"}], \"histogram2d\": [{\"colorbar\": {\"outlinewidth\": 0, \"ticks\": \"\"}, \"colorscale\": [[0.0, \"#0d0887\"], [0.1111111111111111, \"#46039f\"], [0.2222222222222222, \"#7201a8\"], [0.3333333333333333, \"#9c179e\"], [0.4444444444444444, \"#bd3786\"], [0.5555555555555556, \"#d8576b\"], [0.6666666666666666, \"#ed7953\"], [0.7777777777777778, \"#fb9f3a\"], [0.8888888888888888, \"#fdca26\"], [1.0, \"#f0f921\"]], \"type\": \"histogram2d\"}], \"histogram2dcontour\": [{\"colorbar\": {\"outlinewidth\": 0, \"ticks\": \"\"}, \"colorscale\": [[0.0, \"#0d0887\"], [0.1111111111111111, \"#46039f\"], [0.2222222222222222, \"#7201a8\"], [0.3333333333333333, \"#9c179e\"], [0.4444444444444444, \"#bd3786\"], [0.5555555555555556, \"#d8576b\"], [0.6666666666666666, \"#ed7953\"], [0.7777777777777778, \"#fb9f3a\"], [0.8888888888888888, \"#fdca26\"], [1.0, \"#f0f921\"]], \"type\": \"histogram2dcontour\"}], \"mesh3d\": [{\"colorbar\": {\"outlinewidth\": 0, \"ticks\": \"\"}, \"type\": \"mesh3d\"}], \"parcoords\": [{\"line\": {\"colorbar\": {\"outlinewidth\": 0, \"ticks\": \"\"}}, \"type\": \"parcoords\"}], \"pie\": [{\"automargin\": true, \"type\": \"pie\"}], \"scatter\": [{\"marker\": {\"colorbar\": {\"outlinewidth\": 0, \"ticks\": \"\"}}, \"type\": \"scatter\"}], \"scatter3d\": [{\"line\": {\"colorbar\": {\"outlinewidth\": 0, \"ticks\": \"\"}}, \"marker\": {\"colorbar\": {\"outlinewidth\": 0, \"ticks\": \"\"}}, \"type\": \"scatter3d\"}], \"scattercarpet\": [{\"marker\": {\"colorbar\": {\"outlinewidth\": 0, \"ticks\": \"\"}}, \"type\": \"scattercarpet\"}], \"scattergeo\": [{\"marker\": {\"colorbar\": {\"outlinewidth\": 0, \"ticks\": \"\"}}, \"type\": \"scattergeo\"}], \"scattergl\": [{\"marker\": {\"colorbar\": {\"outlinewidth\": 0, \"ticks\": \"\"}}, \"type\": \"scattergl\"}], \"scattermapbox\": [{\"marker\": {\"colorbar\": {\"outlinewidth\": 0, \"ticks\": \"\"}}, \"type\": \"scattermapbox\"}], \"scatterpolar\": [{\"marker\": {\"colorbar\": {\"outlinewidth\": 0, \"ticks\": \"\"}}, \"type\": \"scatterpolar\"}], \"scatterpolargl\": [{\"marker\": {\"colorbar\": {\"outlinewidth\": 0, \"ticks\": \"\"}}, \"type\": \"scatterpolargl\"}], \"scatterternary\": [{\"marker\": {\"colorbar\": {\"outlinewidth\": 0, \"ticks\": \"\"}}, \"type\": \"scatterternary\"}], \"surface\": [{\"colorbar\": {\"outlinewidth\": 0, \"ticks\": \"\"}, \"colorscale\": [[0.0, \"#0d0887\"], [0.1111111111111111, \"#46039f\"], [0.2222222222222222, \"#7201a8\"], [0.3333333333333333, \"#9c179e\"], [0.4444444444444444, \"#bd3786\"], [0.5555555555555556, \"#d8576b\"], [0.6666666666666666, \"#ed7953\"], [0.7777777777777778, \"#fb9f3a\"], [0.8888888888888888, \"#fdca26\"], [1.0, \"#f0f921\"]], \"type\": \"surface\"}], \"table\": [{\"cells\": {\"fill\": {\"color\": \"#EBF0F8\"}, \"line\": {\"color\": \"white\"}}, \"header\": {\"fill\": {\"color\": \"#C8D4E3\"}, \"line\": {\"color\": \"white\"}}, \"type\": \"table\"}]}, \"layout\": {\"annotationdefaults\": {\"arrowcolor\": \"#2a3f5f\", \"arrowhead\": 0, \"arrowwidth\": 1}, \"autotypenumbers\": \"strict\", \"coloraxis\": {\"colorbar\": {\"outlinewidth\": 0, \"ticks\": \"\"}}, \"colorscale\": {\"diverging\": [[0, \"#8e0152\"], [0.1, \"#c51b7d\"], [0.2, \"#de77ae\"], [0.3, \"#f1b6da\"], [0.4, \"#fde0ef\"], [0.5, \"#f7f7f7\"], [0.6, \"#e6f5d0\"], [0.7, \"#b8e186\"], [0.8, \"#7fbc41\"], [0.9, \"#4d9221\"], [1, \"#276419\"]], \"sequential\": [[0.0, \"#0d0887\"], [0.1111111111111111, \"#46039f\"], [0.2222222222222222, \"#7201a8\"], [0.3333333333333333, \"#9c179e\"], [0.4444444444444444, \"#bd3786\"], [0.5555555555555556, \"#d8576b\"], [0.6666666666666666, \"#ed7953\"], [0.7777777777777778, \"#fb9f3a\"], [0.8888888888888888, \"#fdca26\"], [1.0, \"#f0f921\"]], \"sequentialminus\": [[0.0, \"#0d0887\"], [0.1111111111111111, \"#46039f\"], [0.2222222222222222, \"#7201a8\"], [0.3333333333333333, \"#9c179e\"], [0.4444444444444444, \"#bd3786\"], [0.5555555555555556, \"#d8576b\"], [0.6666666666666666, \"#ed7953\"], [0.7777777777777778, \"#fb9f3a\"], [0.8888888888888888, \"#fdca26\"], [1.0, \"#f0f921\"]]}, \"colorway\": [\"#636efa\", \"#EF553B\", \"#00cc96\", \"#ab63fa\", \"#FFA15A\", \"#19d3f3\", \"#FF6692\", \"#B6E880\", \"#FF97FF\", \"#FECB52\"], \"font\": {\"color\": \"#2a3f5f\"}, \"geo\": {\"bgcolor\": \"white\", \"lakecolor\": \"white\", \"landcolor\": \"#E5ECF6\", \"showlakes\": true, \"showland\": true, \"subunitcolor\": \"white\"}, \"hoverlabel\": {\"align\": \"left\"}, \"hovermode\": \"closest\", \"mapbox\": {\"style\": \"light\"}, \"paper_bgcolor\": \"white\", \"plot_bgcolor\": \"#E5ECF6\", \"polar\": {\"angularaxis\": {\"gridcolor\": \"white\", \"linecolor\": \"white\", \"ticks\": \"\"}, \"bgcolor\": \"#E5ECF6\", \"radialaxis\": {\"gridcolor\": \"white\", \"linecolor\": \"white\", \"ticks\": \"\"}}, \"scene\": {\"xaxis\": {\"backgroundcolor\": \"#E5ECF6\", \"gridcolor\": \"white\", \"gridwidth\": 2, \"linecolor\": \"white\", \"showbackground\": true, \"ticks\": \"\", \"zerolinecolor\": \"white\"}, \"yaxis\": {\"backgroundcolor\": \"#E5ECF6\", \"gridcolor\": \"white\", \"gridwidth\": 2, \"linecolor\": \"white\", \"showbackground\": true, \"ticks\": \"\", \"zerolinecolor\": \"white\"}, \"zaxis\": {\"backgroundcolor\": \"#E5ECF6\", \"gridcolor\": \"white\", \"gridwidth\": 2, \"linecolor\": \"white\", \"showbackground\": true, \"ticks\": \"\", \"zerolinecolor\": \"white\"}}, \"shapedefaults\": {\"line\": {\"color\": \"#2a3f5f\"}}, \"ternary\": {\"aaxis\": {\"gridcolor\": \"white\", \"linecolor\": \"white\", \"ticks\": \"\"}, \"baxis\": {\"gridcolor\": \"white\", \"linecolor\": \"white\", \"ticks\": \"\"}, \"bgcolor\": \"#E5ECF6\", \"caxis\": {\"gridcolor\": \"white\", \"linecolor\": \"white\", \"ticks\": \"\"}}, \"title\": {\"x\": 0.05}, \"xaxis\": {\"automargin\": true, \"gridcolor\": \"white\", \"linecolor\": \"white\", \"ticks\": \"\", \"title\": {\"standoff\": 15}, \"zerolinecolor\": \"white\", \"zerolinewidth\": 2}, \"yaxis\": {\"automargin\": true, \"gridcolor\": \"white\", \"linecolor\": \"white\", \"ticks\": \"\", \"title\": {\"standoff\": 15}, \"zerolinecolor\": \"white\", \"zerolinewidth\": 2}}}, \"title\": {\"font\": {\"color\": \"#4D5663\"}}, \"xaxis\": {\"gridcolor\": \"#E1E5ED\", \"showgrid\": true, \"tickfont\": {\"color\": \"#4D5663\"}, \"title\": {\"font\": {\"color\": \"#4D5663\"}, \"text\": \"\"}, \"zerolinecolor\": \"#E1E5ED\"}, \"yaxis\": {\"gridcolor\": \"#E1E5ED\", \"showgrid\": true, \"tickfont\": {\"color\": \"#4D5663\"}, \"title\": {\"font\": {\"color\": \"#4D5663\"}, \"text\": \"\"}, \"zerolinecolor\": \"#E1E5ED\"}},                        {\"showLink\": true, \"linkText\": \"Export to plot.ly\", \"plotlyServerURL\": \"https://plot.ly\", \"responsive\": true}                    ).then(function(){\n",
       "                            \n",
       "var gd = document.getElementById('0dd930b7-b002-4078-b466-64b710ebdd68');\n",
       "var x = new MutationObserver(function (mutations, observer) {{\n",
       "        var display = window.getComputedStyle(gd).display;\n",
       "        if (!display || display === 'none') {{\n",
       "            console.log([gd, 'removed!']);\n",
       "            Plotly.purge(gd);\n",
       "            observer.disconnect();\n",
       "        }}\n",
       "}});\n",
       "\n",
       "// Listen for the removal of the full notebook cells\n",
       "var notebookContainer = gd.closest('#notebook-container');\n",
       "if (notebookContainer) {{\n",
       "    x.observe(notebookContainer, {childList: true});\n",
       "}}\n",
       "\n",
       "// Listen for the clearing of the current output cell\n",
       "var outputEl = gd.closest('.output');\n",
       "if (outputEl) {{\n",
       "    x.observe(outputEl, {childList: true});\n",
       "}}\n",
       "\n",
       "                        })                };                });            </script>        </div>"
      ]
     },
     "metadata": {},
     "output_type": "display_data"
    }
   ],
   "source": [
    "df2.iplot(kind='bar',x='category',y='values')"
   ]
  },
  {
   "cell_type": "code",
   "execution_count": 46,
   "id": "antique-friend",
   "metadata": {},
   "outputs": [
    {
     "data": {
      "text/html": [
       "<div>\n",
       "<style scoped>\n",
       "    .dataframe tbody tr th:only-of-type {\n",
       "        vertical-align: middle;\n",
       "    }\n",
       "\n",
       "    .dataframe tbody tr th {\n",
       "        vertical-align: top;\n",
       "    }\n",
       "\n",
       "    .dataframe thead th {\n",
       "        text-align: right;\n",
       "    }\n",
       "</style>\n",
       "<table border=\"1\" class=\"dataframe\">\n",
       "  <thead>\n",
       "    <tr style=\"text-align: right;\">\n",
       "      <th></th>\n",
       "      <th>A</th>\n",
       "      <th>B</th>\n",
       "      <th>C</th>\n",
       "      <th>D</th>\n",
       "    </tr>\n",
       "  </thead>\n",
       "  <tbody>\n",
       "    <tr>\n",
       "      <th>0</th>\n",
       "      <td>0.912144</td>\n",
       "      <td>2.140225</td>\n",
       "      <td>0.328512</td>\n",
       "      <td>-0.682699</td>\n",
       "    </tr>\n",
       "    <tr>\n",
       "      <th>1</th>\n",
       "      <td>-0.749623</td>\n",
       "      <td>-0.139766</td>\n",
       "      <td>0.070493</td>\n",
       "      <td>1.759366</td>\n",
       "    </tr>\n",
       "    <tr>\n",
       "      <th>2</th>\n",
       "      <td>0.229576</td>\n",
       "      <td>0.920644</td>\n",
       "      <td>-0.462797</td>\n",
       "      <td>1.900371</td>\n",
       "    </tr>\n",
       "    <tr>\n",
       "      <th>3</th>\n",
       "      <td>-0.263954</td>\n",
       "      <td>-0.342270</td>\n",
       "      <td>-0.663432</td>\n",
       "      <td>-1.020954</td>\n",
       "    </tr>\n",
       "    <tr>\n",
       "      <th>4</th>\n",
       "      <td>0.751605</td>\n",
       "      <td>0.990467</td>\n",
       "      <td>0.044140</td>\n",
       "      <td>-1.560705</td>\n",
       "    </tr>\n",
       "    <tr>\n",
       "      <th>...</th>\n",
       "      <td>...</td>\n",
       "      <td>...</td>\n",
       "      <td>...</td>\n",
       "      <td>...</td>\n",
       "    </tr>\n",
       "    <tr>\n",
       "      <th>95</th>\n",
       "      <td>-0.347855</td>\n",
       "      <td>0.434566</td>\n",
       "      <td>0.305376</td>\n",
       "      <td>-0.686198</td>\n",
       "    </tr>\n",
       "    <tr>\n",
       "      <th>96</th>\n",
       "      <td>0.975830</td>\n",
       "      <td>-1.114096</td>\n",
       "      <td>0.073353</td>\n",
       "      <td>0.330622</td>\n",
       "    </tr>\n",
       "    <tr>\n",
       "      <th>97</th>\n",
       "      <td>-0.263570</td>\n",
       "      <td>-0.481250</td>\n",
       "      <td>-1.279483</td>\n",
       "      <td>0.595041</td>\n",
       "    </tr>\n",
       "    <tr>\n",
       "      <th>98</th>\n",
       "      <td>-0.874715</td>\n",
       "      <td>-0.489055</td>\n",
       "      <td>-2.269502</td>\n",
       "      <td>0.610208</td>\n",
       "    </tr>\n",
       "    <tr>\n",
       "      <th>99</th>\n",
       "      <td>-0.689772</td>\n",
       "      <td>-1.286959</td>\n",
       "      <td>1.017261</td>\n",
       "      <td>0.486847</td>\n",
       "    </tr>\n",
       "  </tbody>\n",
       "</table>\n",
       "<p>100 rows × 4 columns</p>\n",
       "</div>"
      ],
      "text/plain": [
       "           A         B         C         D\n",
       "0   0.912144  2.140225  0.328512 -0.682699\n",
       "1  -0.749623 -0.139766  0.070493  1.759366\n",
       "2   0.229576  0.920644 -0.462797  1.900371\n",
       "3  -0.263954 -0.342270 -0.663432 -1.020954\n",
       "4   0.751605  0.990467  0.044140 -1.560705\n",
       "..       ...       ...       ...       ...\n",
       "95 -0.347855  0.434566  0.305376 -0.686198\n",
       "96  0.975830 -1.114096  0.073353  0.330622\n",
       "97 -0.263570 -0.481250 -1.279483  0.595041\n",
       "98 -0.874715 -0.489055 -2.269502  0.610208\n",
       "99 -0.689772 -1.286959  1.017261  0.486847\n",
       "\n",
       "[100 rows x 4 columns]"
      ]
     },
     "execution_count": 46,
     "metadata": {},
     "output_type": "execute_result"
    }
   ],
   "source": [
    "df"
   ]
  },
  {
   "cell_type": "code",
   "execution_count": 22,
   "id": "after-universe",
   "metadata": {},
   "outputs": [
    {
     "data": {
      "application/vnd.plotly.v1+json": {
       "config": {
        "linkText": "Export to plot.ly",
        "plotlyServerURL": "https://plot.ly",
        "showLink": true
       },
       "data": [
        {
         "marker": {
          "color": "rgba(255, 153, 51, 0.6)",
          "line": {
           "color": "rgba(255, 153, 51, 1.0)",
           "width": 1
          }
         },
         "name": "None",
         "orientation": "v",
         "text": "",
         "type": "bar",
         "x": [
          "A",
          "B",
          "C",
          "D"
         ],
         "y": [
          100,
          100,
          100,
          100
         ]
        }
       ],
       "layout": {
        "legend": {
         "bgcolor": "#F5F6F9",
         "font": {
          "color": "#4D5663"
         }
        },
        "paper_bgcolor": "#F5F6F9",
        "plot_bgcolor": "#F5F6F9",
        "template": {
         "data": {
          "bar": [
           {
            "error_x": {
             "color": "#2a3f5f"
            },
            "error_y": {
             "color": "#2a3f5f"
            },
            "marker": {
             "line": {
              "color": "#E5ECF6",
              "width": 0.5
             }
            },
            "type": "bar"
           }
          ],
          "barpolar": [
           {
            "marker": {
             "line": {
              "color": "#E5ECF6",
              "width": 0.5
             }
            },
            "type": "barpolar"
           }
          ],
          "carpet": [
           {
            "aaxis": {
             "endlinecolor": "#2a3f5f",
             "gridcolor": "white",
             "linecolor": "white",
             "minorgridcolor": "white",
             "startlinecolor": "#2a3f5f"
            },
            "baxis": {
             "endlinecolor": "#2a3f5f",
             "gridcolor": "white",
             "linecolor": "white",
             "minorgridcolor": "white",
             "startlinecolor": "#2a3f5f"
            },
            "type": "carpet"
           }
          ],
          "choropleth": [
           {
            "colorbar": {
             "outlinewidth": 0,
             "ticks": ""
            },
            "type": "choropleth"
           }
          ],
          "contour": [
           {
            "colorbar": {
             "outlinewidth": 0,
             "ticks": ""
            },
            "colorscale": [
             [
              0,
              "#0d0887"
             ],
             [
              0.1111111111111111,
              "#46039f"
             ],
             [
              0.2222222222222222,
              "#7201a8"
             ],
             [
              0.3333333333333333,
              "#9c179e"
             ],
             [
              0.4444444444444444,
              "#bd3786"
             ],
             [
              0.5555555555555556,
              "#d8576b"
             ],
             [
              0.6666666666666666,
              "#ed7953"
             ],
             [
              0.7777777777777778,
              "#fb9f3a"
             ],
             [
              0.8888888888888888,
              "#fdca26"
             ],
             [
              1,
              "#f0f921"
             ]
            ],
            "type": "contour"
           }
          ],
          "contourcarpet": [
           {
            "colorbar": {
             "outlinewidth": 0,
             "ticks": ""
            },
            "type": "contourcarpet"
           }
          ],
          "heatmap": [
           {
            "colorbar": {
             "outlinewidth": 0,
             "ticks": ""
            },
            "colorscale": [
             [
              0,
              "#0d0887"
             ],
             [
              0.1111111111111111,
              "#46039f"
             ],
             [
              0.2222222222222222,
              "#7201a8"
             ],
             [
              0.3333333333333333,
              "#9c179e"
             ],
             [
              0.4444444444444444,
              "#bd3786"
             ],
             [
              0.5555555555555556,
              "#d8576b"
             ],
             [
              0.6666666666666666,
              "#ed7953"
             ],
             [
              0.7777777777777778,
              "#fb9f3a"
             ],
             [
              0.8888888888888888,
              "#fdca26"
             ],
             [
              1,
              "#f0f921"
             ]
            ],
            "type": "heatmap"
           }
          ],
          "heatmapgl": [
           {
            "colorbar": {
             "outlinewidth": 0,
             "ticks": ""
            },
            "colorscale": [
             [
              0,
              "#0d0887"
             ],
             [
              0.1111111111111111,
              "#46039f"
             ],
             [
              0.2222222222222222,
              "#7201a8"
             ],
             [
              0.3333333333333333,
              "#9c179e"
             ],
             [
              0.4444444444444444,
              "#bd3786"
             ],
             [
              0.5555555555555556,
              "#d8576b"
             ],
             [
              0.6666666666666666,
              "#ed7953"
             ],
             [
              0.7777777777777778,
              "#fb9f3a"
             ],
             [
              0.8888888888888888,
              "#fdca26"
             ],
             [
              1,
              "#f0f921"
             ]
            ],
            "type": "heatmapgl"
           }
          ],
          "histogram": [
           {
            "marker": {
             "colorbar": {
              "outlinewidth": 0,
              "ticks": ""
             }
            },
            "type": "histogram"
           }
          ],
          "histogram2d": [
           {
            "colorbar": {
             "outlinewidth": 0,
             "ticks": ""
            },
            "colorscale": [
             [
              0,
              "#0d0887"
             ],
             [
              0.1111111111111111,
              "#46039f"
             ],
             [
              0.2222222222222222,
              "#7201a8"
             ],
             [
              0.3333333333333333,
              "#9c179e"
             ],
             [
              0.4444444444444444,
              "#bd3786"
             ],
             [
              0.5555555555555556,
              "#d8576b"
             ],
             [
              0.6666666666666666,
              "#ed7953"
             ],
             [
              0.7777777777777778,
              "#fb9f3a"
             ],
             [
              0.8888888888888888,
              "#fdca26"
             ],
             [
              1,
              "#f0f921"
             ]
            ],
            "type": "histogram2d"
           }
          ],
          "histogram2dcontour": [
           {
            "colorbar": {
             "outlinewidth": 0,
             "ticks": ""
            },
            "colorscale": [
             [
              0,
              "#0d0887"
             ],
             [
              0.1111111111111111,
              "#46039f"
             ],
             [
              0.2222222222222222,
              "#7201a8"
             ],
             [
              0.3333333333333333,
              "#9c179e"
             ],
             [
              0.4444444444444444,
              "#bd3786"
             ],
             [
              0.5555555555555556,
              "#d8576b"
             ],
             [
              0.6666666666666666,
              "#ed7953"
             ],
             [
              0.7777777777777778,
              "#fb9f3a"
             ],
             [
              0.8888888888888888,
              "#fdca26"
             ],
             [
              1,
              "#f0f921"
             ]
            ],
            "type": "histogram2dcontour"
           }
          ],
          "mesh3d": [
           {
            "colorbar": {
             "outlinewidth": 0,
             "ticks": ""
            },
            "type": "mesh3d"
           }
          ],
          "parcoords": [
           {
            "line": {
             "colorbar": {
              "outlinewidth": 0,
              "ticks": ""
             }
            },
            "type": "parcoords"
           }
          ],
          "pie": [
           {
            "automargin": true,
            "type": "pie"
           }
          ],
          "scatter": [
           {
            "marker": {
             "colorbar": {
              "outlinewidth": 0,
              "ticks": ""
             }
            },
            "type": "scatter"
           }
          ],
          "scatter3d": [
           {
            "line": {
             "colorbar": {
              "outlinewidth": 0,
              "ticks": ""
             }
            },
            "marker": {
             "colorbar": {
              "outlinewidth": 0,
              "ticks": ""
             }
            },
            "type": "scatter3d"
           }
          ],
          "scattercarpet": [
           {
            "marker": {
             "colorbar": {
              "outlinewidth": 0,
              "ticks": ""
             }
            },
            "type": "scattercarpet"
           }
          ],
          "scattergeo": [
           {
            "marker": {
             "colorbar": {
              "outlinewidth": 0,
              "ticks": ""
             }
            },
            "type": "scattergeo"
           }
          ],
          "scattergl": [
           {
            "marker": {
             "colorbar": {
              "outlinewidth": 0,
              "ticks": ""
             }
            },
            "type": "scattergl"
           }
          ],
          "scattermapbox": [
           {
            "marker": {
             "colorbar": {
              "outlinewidth": 0,
              "ticks": ""
             }
            },
            "type": "scattermapbox"
           }
          ],
          "scatterpolar": [
           {
            "marker": {
             "colorbar": {
              "outlinewidth": 0,
              "ticks": ""
             }
            },
            "type": "scatterpolar"
           }
          ],
          "scatterpolargl": [
           {
            "marker": {
             "colorbar": {
              "outlinewidth": 0,
              "ticks": ""
             }
            },
            "type": "scatterpolargl"
           }
          ],
          "scatterternary": [
           {
            "marker": {
             "colorbar": {
              "outlinewidth": 0,
              "ticks": ""
             }
            },
            "type": "scatterternary"
           }
          ],
          "surface": [
           {
            "colorbar": {
             "outlinewidth": 0,
             "ticks": ""
            },
            "colorscale": [
             [
              0,
              "#0d0887"
             ],
             [
              0.1111111111111111,
              "#46039f"
             ],
             [
              0.2222222222222222,
              "#7201a8"
             ],
             [
              0.3333333333333333,
              "#9c179e"
             ],
             [
              0.4444444444444444,
              "#bd3786"
             ],
             [
              0.5555555555555556,
              "#d8576b"
             ],
             [
              0.6666666666666666,
              "#ed7953"
             ],
             [
              0.7777777777777778,
              "#fb9f3a"
             ],
             [
              0.8888888888888888,
              "#fdca26"
             ],
             [
              1,
              "#f0f921"
             ]
            ],
            "type": "surface"
           }
          ],
          "table": [
           {
            "cells": {
             "fill": {
              "color": "#EBF0F8"
             },
             "line": {
              "color": "white"
             }
            },
            "header": {
             "fill": {
              "color": "#C8D4E3"
             },
             "line": {
              "color": "white"
             }
            },
            "type": "table"
           }
          ]
         },
         "layout": {
          "annotationdefaults": {
           "arrowcolor": "#2a3f5f",
           "arrowhead": 0,
           "arrowwidth": 1
          },
          "autotypenumbers": "strict",
          "coloraxis": {
           "colorbar": {
            "outlinewidth": 0,
            "ticks": ""
           }
          },
          "colorscale": {
           "diverging": [
            [
             0,
             "#8e0152"
            ],
            [
             0.1,
             "#c51b7d"
            ],
            [
             0.2,
             "#de77ae"
            ],
            [
             0.3,
             "#f1b6da"
            ],
            [
             0.4,
             "#fde0ef"
            ],
            [
             0.5,
             "#f7f7f7"
            ],
            [
             0.6,
             "#e6f5d0"
            ],
            [
             0.7,
             "#b8e186"
            ],
            [
             0.8,
             "#7fbc41"
            ],
            [
             0.9,
             "#4d9221"
            ],
            [
             1,
             "#276419"
            ]
           ],
           "sequential": [
            [
             0,
             "#0d0887"
            ],
            [
             0.1111111111111111,
             "#46039f"
            ],
            [
             0.2222222222222222,
             "#7201a8"
            ],
            [
             0.3333333333333333,
             "#9c179e"
            ],
            [
             0.4444444444444444,
             "#bd3786"
            ],
            [
             0.5555555555555556,
             "#d8576b"
            ],
            [
             0.6666666666666666,
             "#ed7953"
            ],
            [
             0.7777777777777778,
             "#fb9f3a"
            ],
            [
             0.8888888888888888,
             "#fdca26"
            ],
            [
             1,
             "#f0f921"
            ]
           ],
           "sequentialminus": [
            [
             0,
             "#0d0887"
            ],
            [
             0.1111111111111111,
             "#46039f"
            ],
            [
             0.2222222222222222,
             "#7201a8"
            ],
            [
             0.3333333333333333,
             "#9c179e"
            ],
            [
             0.4444444444444444,
             "#bd3786"
            ],
            [
             0.5555555555555556,
             "#d8576b"
            ],
            [
             0.6666666666666666,
             "#ed7953"
            ],
            [
             0.7777777777777778,
             "#fb9f3a"
            ],
            [
             0.8888888888888888,
             "#fdca26"
            ],
            [
             1,
             "#f0f921"
            ]
           ]
          },
          "colorway": [
           "#636efa",
           "#EF553B",
           "#00cc96",
           "#ab63fa",
           "#FFA15A",
           "#19d3f3",
           "#FF6692",
           "#B6E880",
           "#FF97FF",
           "#FECB52"
          ],
          "font": {
           "color": "#2a3f5f"
          },
          "geo": {
           "bgcolor": "white",
           "lakecolor": "white",
           "landcolor": "#E5ECF6",
           "showlakes": true,
           "showland": true,
           "subunitcolor": "white"
          },
          "hoverlabel": {
           "align": "left"
          },
          "hovermode": "closest",
          "mapbox": {
           "style": "light"
          },
          "paper_bgcolor": "white",
          "plot_bgcolor": "#E5ECF6",
          "polar": {
           "angularaxis": {
            "gridcolor": "white",
            "linecolor": "white",
            "ticks": ""
           },
           "bgcolor": "#E5ECF6",
           "radialaxis": {
            "gridcolor": "white",
            "linecolor": "white",
            "ticks": ""
           }
          },
          "scene": {
           "xaxis": {
            "backgroundcolor": "#E5ECF6",
            "gridcolor": "white",
            "gridwidth": 2,
            "linecolor": "white",
            "showbackground": true,
            "ticks": "",
            "zerolinecolor": "white"
           },
           "yaxis": {
            "backgroundcolor": "#E5ECF6",
            "gridcolor": "white",
            "gridwidth": 2,
            "linecolor": "white",
            "showbackground": true,
            "ticks": "",
            "zerolinecolor": "white"
           },
           "zaxis": {
            "backgroundcolor": "#E5ECF6",
            "gridcolor": "white",
            "gridwidth": 2,
            "linecolor": "white",
            "showbackground": true,
            "ticks": "",
            "zerolinecolor": "white"
           }
          },
          "shapedefaults": {
           "line": {
            "color": "#2a3f5f"
           }
          },
          "ternary": {
           "aaxis": {
            "gridcolor": "white",
            "linecolor": "white",
            "ticks": ""
           },
           "baxis": {
            "gridcolor": "white",
            "linecolor": "white",
            "ticks": ""
           },
           "bgcolor": "#E5ECF6",
           "caxis": {
            "gridcolor": "white",
            "linecolor": "white",
            "ticks": ""
           }
          },
          "title": {
           "x": 0.05
          },
          "xaxis": {
           "automargin": true,
           "gridcolor": "white",
           "linecolor": "white",
           "ticks": "",
           "title": {
            "standoff": 15
           },
           "zerolinecolor": "white",
           "zerolinewidth": 2
          },
          "yaxis": {
           "automargin": true,
           "gridcolor": "white",
           "linecolor": "white",
           "ticks": "",
           "title": {
            "standoff": 15
           },
           "zerolinecolor": "white",
           "zerolinewidth": 2
          }
         }
        },
        "title": {
         "font": {
          "color": "#4D5663"
         }
        },
        "xaxis": {
         "gridcolor": "#E1E5ED",
         "showgrid": true,
         "tickfont": {
          "color": "#4D5663"
         },
         "title": {
          "font": {
           "color": "#4D5663"
          },
          "text": ""
         },
         "zerolinecolor": "#E1E5ED"
        },
        "yaxis": {
         "gridcolor": "#E1E5ED",
         "showgrid": true,
         "tickfont": {
          "color": "#4D5663"
         },
         "title": {
          "font": {
           "color": "#4D5663"
          },
          "text": ""
         },
         "zerolinecolor": "#E1E5ED"
        }
       }
      },
      "text/html": [
       "<div>                            <div id=\"462f603b-4157-4a20-8e55-62eaba3fdd91\" class=\"plotly-graph-div\" style=\"height:525px; width:100%;\"></div>            <script type=\"text/javascript\">                require([\"plotly\"], function(Plotly) {                    window.PLOTLYENV=window.PLOTLYENV || {};\n",
       "                    window.PLOTLYENV.BASE_URL='https://plot.ly';                                    if (document.getElementById(\"462f603b-4157-4a20-8e55-62eaba3fdd91\")) {                    Plotly.newPlot(                        \"462f603b-4157-4a20-8e55-62eaba3fdd91\",                        [{\"marker\": {\"color\": \"rgba(255, 153, 51, 0.6)\", \"line\": {\"color\": \"rgba(255, 153, 51, 1.0)\", \"width\": 1}}, \"name\": \"None\", \"orientation\": \"v\", \"text\": \"\", \"type\": \"bar\", \"x\": [\"A\", \"B\", \"C\", \"D\"], \"y\": [100, 100, 100, 100]}],                        {\"legend\": {\"bgcolor\": \"#F5F6F9\", \"font\": {\"color\": \"#4D5663\"}}, \"paper_bgcolor\": \"#F5F6F9\", \"plot_bgcolor\": \"#F5F6F9\", \"template\": {\"data\": {\"bar\": [{\"error_x\": {\"color\": \"#2a3f5f\"}, \"error_y\": {\"color\": \"#2a3f5f\"}, \"marker\": {\"line\": {\"color\": \"#E5ECF6\", \"width\": 0.5}}, \"type\": \"bar\"}], \"barpolar\": [{\"marker\": {\"line\": {\"color\": \"#E5ECF6\", \"width\": 0.5}}, \"type\": \"barpolar\"}], \"carpet\": [{\"aaxis\": {\"endlinecolor\": \"#2a3f5f\", \"gridcolor\": \"white\", \"linecolor\": \"white\", \"minorgridcolor\": \"white\", \"startlinecolor\": \"#2a3f5f\"}, \"baxis\": {\"endlinecolor\": \"#2a3f5f\", \"gridcolor\": \"white\", \"linecolor\": \"white\", \"minorgridcolor\": \"white\", \"startlinecolor\": \"#2a3f5f\"}, \"type\": \"carpet\"}], \"choropleth\": [{\"colorbar\": {\"outlinewidth\": 0, \"ticks\": \"\"}, \"type\": \"choropleth\"}], \"contour\": [{\"colorbar\": {\"outlinewidth\": 0, \"ticks\": \"\"}, \"colorscale\": [[0.0, \"#0d0887\"], [0.1111111111111111, \"#46039f\"], [0.2222222222222222, \"#7201a8\"], [0.3333333333333333, \"#9c179e\"], [0.4444444444444444, \"#bd3786\"], [0.5555555555555556, \"#d8576b\"], [0.6666666666666666, \"#ed7953\"], [0.7777777777777778, \"#fb9f3a\"], [0.8888888888888888, \"#fdca26\"], [1.0, \"#f0f921\"]], \"type\": \"contour\"}], \"contourcarpet\": [{\"colorbar\": {\"outlinewidth\": 0, \"ticks\": \"\"}, \"type\": \"contourcarpet\"}], \"heatmap\": [{\"colorbar\": {\"outlinewidth\": 0, \"ticks\": \"\"}, \"colorscale\": [[0.0, \"#0d0887\"], [0.1111111111111111, \"#46039f\"], [0.2222222222222222, \"#7201a8\"], [0.3333333333333333, \"#9c179e\"], [0.4444444444444444, \"#bd3786\"], [0.5555555555555556, \"#d8576b\"], [0.6666666666666666, \"#ed7953\"], [0.7777777777777778, \"#fb9f3a\"], [0.8888888888888888, \"#fdca26\"], [1.0, \"#f0f921\"]], \"type\": \"heatmap\"}], \"heatmapgl\": [{\"colorbar\": {\"outlinewidth\": 0, \"ticks\": \"\"}, \"colorscale\": [[0.0, \"#0d0887\"], [0.1111111111111111, \"#46039f\"], [0.2222222222222222, \"#7201a8\"], [0.3333333333333333, \"#9c179e\"], [0.4444444444444444, \"#bd3786\"], [0.5555555555555556, \"#d8576b\"], [0.6666666666666666, \"#ed7953\"], [0.7777777777777778, \"#fb9f3a\"], [0.8888888888888888, \"#fdca26\"], [1.0, \"#f0f921\"]], \"type\": \"heatmapgl\"}], \"histogram\": [{\"marker\": {\"colorbar\": {\"outlinewidth\": 0, \"ticks\": \"\"}}, \"type\": \"histogram\"}], \"histogram2d\": [{\"colorbar\": {\"outlinewidth\": 0, \"ticks\": \"\"}, \"colorscale\": [[0.0, \"#0d0887\"], [0.1111111111111111, \"#46039f\"], [0.2222222222222222, \"#7201a8\"], [0.3333333333333333, \"#9c179e\"], [0.4444444444444444, \"#bd3786\"], [0.5555555555555556, \"#d8576b\"], [0.6666666666666666, \"#ed7953\"], [0.7777777777777778, \"#fb9f3a\"], [0.8888888888888888, \"#fdca26\"], [1.0, \"#f0f921\"]], \"type\": \"histogram2d\"}], \"histogram2dcontour\": [{\"colorbar\": {\"outlinewidth\": 0, \"ticks\": \"\"}, \"colorscale\": [[0.0, \"#0d0887\"], [0.1111111111111111, \"#46039f\"], [0.2222222222222222, \"#7201a8\"], [0.3333333333333333, \"#9c179e\"], [0.4444444444444444, \"#bd3786\"], [0.5555555555555556, \"#d8576b\"], [0.6666666666666666, \"#ed7953\"], [0.7777777777777778, \"#fb9f3a\"], [0.8888888888888888, \"#fdca26\"], [1.0, \"#f0f921\"]], \"type\": \"histogram2dcontour\"}], \"mesh3d\": [{\"colorbar\": {\"outlinewidth\": 0, \"ticks\": \"\"}, \"type\": \"mesh3d\"}], \"parcoords\": [{\"line\": {\"colorbar\": {\"outlinewidth\": 0, \"ticks\": \"\"}}, \"type\": \"parcoords\"}], \"pie\": [{\"automargin\": true, \"type\": \"pie\"}], \"scatter\": [{\"marker\": {\"colorbar\": {\"outlinewidth\": 0, \"ticks\": \"\"}}, \"type\": \"scatter\"}], \"scatter3d\": [{\"line\": {\"colorbar\": {\"outlinewidth\": 0, \"ticks\": \"\"}}, \"marker\": {\"colorbar\": {\"outlinewidth\": 0, \"ticks\": \"\"}}, \"type\": \"scatter3d\"}], \"scattercarpet\": [{\"marker\": {\"colorbar\": {\"outlinewidth\": 0, \"ticks\": \"\"}}, \"type\": \"scattercarpet\"}], \"scattergeo\": [{\"marker\": {\"colorbar\": {\"outlinewidth\": 0, \"ticks\": \"\"}}, \"type\": \"scattergeo\"}], \"scattergl\": [{\"marker\": {\"colorbar\": {\"outlinewidth\": 0, \"ticks\": \"\"}}, \"type\": \"scattergl\"}], \"scattermapbox\": [{\"marker\": {\"colorbar\": {\"outlinewidth\": 0, \"ticks\": \"\"}}, \"type\": \"scattermapbox\"}], \"scatterpolar\": [{\"marker\": {\"colorbar\": {\"outlinewidth\": 0, \"ticks\": \"\"}}, \"type\": \"scatterpolar\"}], \"scatterpolargl\": [{\"marker\": {\"colorbar\": {\"outlinewidth\": 0, \"ticks\": \"\"}}, \"type\": \"scatterpolargl\"}], \"scatterternary\": [{\"marker\": {\"colorbar\": {\"outlinewidth\": 0, \"ticks\": \"\"}}, \"type\": \"scatterternary\"}], \"surface\": [{\"colorbar\": {\"outlinewidth\": 0, \"ticks\": \"\"}, \"colorscale\": [[0.0, \"#0d0887\"], [0.1111111111111111, \"#46039f\"], [0.2222222222222222, \"#7201a8\"], [0.3333333333333333, \"#9c179e\"], [0.4444444444444444, \"#bd3786\"], [0.5555555555555556, \"#d8576b\"], [0.6666666666666666, \"#ed7953\"], [0.7777777777777778, \"#fb9f3a\"], [0.8888888888888888, \"#fdca26\"], [1.0, \"#f0f921\"]], \"type\": \"surface\"}], \"table\": [{\"cells\": {\"fill\": {\"color\": \"#EBF0F8\"}, \"line\": {\"color\": \"white\"}}, \"header\": {\"fill\": {\"color\": \"#C8D4E3\"}, \"line\": {\"color\": \"white\"}}, \"type\": \"table\"}]}, \"layout\": {\"annotationdefaults\": {\"arrowcolor\": \"#2a3f5f\", \"arrowhead\": 0, \"arrowwidth\": 1}, \"autotypenumbers\": \"strict\", \"coloraxis\": {\"colorbar\": {\"outlinewidth\": 0, \"ticks\": \"\"}}, \"colorscale\": {\"diverging\": [[0, \"#8e0152\"], [0.1, \"#c51b7d\"], [0.2, \"#de77ae\"], [0.3, \"#f1b6da\"], [0.4, \"#fde0ef\"], [0.5, \"#f7f7f7\"], [0.6, \"#e6f5d0\"], [0.7, \"#b8e186\"], [0.8, \"#7fbc41\"], [0.9, \"#4d9221\"], [1, \"#276419\"]], \"sequential\": [[0.0, \"#0d0887\"], [0.1111111111111111, \"#46039f\"], [0.2222222222222222, \"#7201a8\"], [0.3333333333333333, \"#9c179e\"], [0.4444444444444444, \"#bd3786\"], [0.5555555555555556, \"#d8576b\"], [0.6666666666666666, \"#ed7953\"], [0.7777777777777778, \"#fb9f3a\"], [0.8888888888888888, \"#fdca26\"], [1.0, \"#f0f921\"]], \"sequentialminus\": [[0.0, \"#0d0887\"], [0.1111111111111111, \"#46039f\"], [0.2222222222222222, \"#7201a8\"], [0.3333333333333333, \"#9c179e\"], [0.4444444444444444, \"#bd3786\"], [0.5555555555555556, \"#d8576b\"], [0.6666666666666666, \"#ed7953\"], [0.7777777777777778, \"#fb9f3a\"], [0.8888888888888888, \"#fdca26\"], [1.0, \"#f0f921\"]]}, \"colorway\": [\"#636efa\", \"#EF553B\", \"#00cc96\", \"#ab63fa\", \"#FFA15A\", \"#19d3f3\", \"#FF6692\", \"#B6E880\", \"#FF97FF\", \"#FECB52\"], \"font\": {\"color\": \"#2a3f5f\"}, \"geo\": {\"bgcolor\": \"white\", \"lakecolor\": \"white\", \"landcolor\": \"#E5ECF6\", \"showlakes\": true, \"showland\": true, \"subunitcolor\": \"white\"}, \"hoverlabel\": {\"align\": \"left\"}, \"hovermode\": \"closest\", \"mapbox\": {\"style\": \"light\"}, \"paper_bgcolor\": \"white\", \"plot_bgcolor\": \"#E5ECF6\", \"polar\": {\"angularaxis\": {\"gridcolor\": \"white\", \"linecolor\": \"white\", \"ticks\": \"\"}, \"bgcolor\": \"#E5ECF6\", \"radialaxis\": {\"gridcolor\": \"white\", \"linecolor\": \"white\", \"ticks\": \"\"}}, \"scene\": {\"xaxis\": {\"backgroundcolor\": \"#E5ECF6\", \"gridcolor\": \"white\", \"gridwidth\": 2, \"linecolor\": \"white\", \"showbackground\": true, \"ticks\": \"\", \"zerolinecolor\": \"white\"}, \"yaxis\": {\"backgroundcolor\": \"#E5ECF6\", \"gridcolor\": \"white\", \"gridwidth\": 2, \"linecolor\": \"white\", \"showbackground\": true, \"ticks\": \"\", \"zerolinecolor\": \"white\"}, \"zaxis\": {\"backgroundcolor\": \"#E5ECF6\", \"gridcolor\": \"white\", \"gridwidth\": 2, \"linecolor\": \"white\", \"showbackground\": true, \"ticks\": \"\", \"zerolinecolor\": \"white\"}}, \"shapedefaults\": {\"line\": {\"color\": \"#2a3f5f\"}}, \"ternary\": {\"aaxis\": {\"gridcolor\": \"white\", \"linecolor\": \"white\", \"ticks\": \"\"}, \"baxis\": {\"gridcolor\": \"white\", \"linecolor\": \"white\", \"ticks\": \"\"}, \"bgcolor\": \"#E5ECF6\", \"caxis\": {\"gridcolor\": \"white\", \"linecolor\": \"white\", \"ticks\": \"\"}}, \"title\": {\"x\": 0.05}, \"xaxis\": {\"automargin\": true, \"gridcolor\": \"white\", \"linecolor\": \"white\", \"ticks\": \"\", \"title\": {\"standoff\": 15}, \"zerolinecolor\": \"white\", \"zerolinewidth\": 2}, \"yaxis\": {\"automargin\": true, \"gridcolor\": \"white\", \"linecolor\": \"white\", \"ticks\": \"\", \"title\": {\"standoff\": 15}, \"zerolinecolor\": \"white\", \"zerolinewidth\": 2}}}, \"title\": {\"font\": {\"color\": \"#4D5663\"}}, \"xaxis\": {\"gridcolor\": \"#E1E5ED\", \"showgrid\": true, \"tickfont\": {\"color\": \"#4D5663\"}, \"title\": {\"font\": {\"color\": \"#4D5663\"}, \"text\": \"\"}, \"zerolinecolor\": \"#E1E5ED\"}, \"yaxis\": {\"gridcolor\": \"#E1E5ED\", \"showgrid\": true, \"tickfont\": {\"color\": \"#4D5663\"}, \"title\": {\"font\": {\"color\": \"#4D5663\"}, \"text\": \"\"}, \"zerolinecolor\": \"#E1E5ED\"}},                        {\"showLink\": true, \"linkText\": \"Export to plot.ly\", \"plotlyServerURL\": \"https://plot.ly\", \"responsive\": true}                    ).then(function(){\n",
       "                            \n",
       "var gd = document.getElementById('462f603b-4157-4a20-8e55-62eaba3fdd91');\n",
       "var x = new MutationObserver(function (mutations, observer) {{\n",
       "        var display = window.getComputedStyle(gd).display;\n",
       "        if (!display || display === 'none') {{\n",
       "            console.log([gd, 'removed!']);\n",
       "            Plotly.purge(gd);\n",
       "            observer.disconnect();\n",
       "        }}\n",
       "}});\n",
       "\n",
       "// Listen for the removal of the full notebook cells\n",
       "var notebookContainer = gd.closest('#notebook-container');\n",
       "if (notebookContainer) {{\n",
       "    x.observe(notebookContainer, {childList: true});\n",
       "}}\n",
       "\n",
       "// Listen for the clearing of the current output cell\n",
       "var outputEl = gd.closest('.output');\n",
       "if (outputEl) {{\n",
       "    x.observe(outputEl, {childList: true});\n",
       "}}\n",
       "\n",
       "                        })                };                });            </script>        </div>"
      ]
     },
     "metadata": {},
     "output_type": "display_data"
    }
   ],
   "source": [
    "df.count().iplot(kind='bar')"
   ]
  },
  {
   "cell_type": "code",
   "execution_count": 23,
   "id": "competitive-saskatchewan",
   "metadata": {},
   "outputs": [
    {
     "data": {
      "application/vnd.plotly.v1+json": {
       "config": {
        "linkText": "Export to plot.ly",
        "plotlyServerURL": "https://plot.ly",
        "showLink": true
       },
       "data": [
        {
         "marker": {
          "color": "rgba(255, 153, 51, 0.6)",
          "line": {
           "color": "rgba(255, 153, 51, 1.0)",
           "width": 1
          }
         },
         "name": "None",
         "orientation": "v",
         "text": "",
         "type": "bar",
         "x": [
          "A",
          "B",
          "C",
          "D"
         ],
         "y": [
          10.072100317650808,
          3.046439280778028,
          -1.134800512629107,
          5.754129002991604
         ]
        }
       ],
       "layout": {
        "legend": {
         "bgcolor": "#F5F6F9",
         "font": {
          "color": "#4D5663"
         }
        },
        "paper_bgcolor": "#F5F6F9",
        "plot_bgcolor": "#F5F6F9",
        "template": {
         "data": {
          "bar": [
           {
            "error_x": {
             "color": "#2a3f5f"
            },
            "error_y": {
             "color": "#2a3f5f"
            },
            "marker": {
             "line": {
              "color": "#E5ECF6",
              "width": 0.5
             }
            },
            "type": "bar"
           }
          ],
          "barpolar": [
           {
            "marker": {
             "line": {
              "color": "#E5ECF6",
              "width": 0.5
             }
            },
            "type": "barpolar"
           }
          ],
          "carpet": [
           {
            "aaxis": {
             "endlinecolor": "#2a3f5f",
             "gridcolor": "white",
             "linecolor": "white",
             "minorgridcolor": "white",
             "startlinecolor": "#2a3f5f"
            },
            "baxis": {
             "endlinecolor": "#2a3f5f",
             "gridcolor": "white",
             "linecolor": "white",
             "minorgridcolor": "white",
             "startlinecolor": "#2a3f5f"
            },
            "type": "carpet"
           }
          ],
          "choropleth": [
           {
            "colorbar": {
             "outlinewidth": 0,
             "ticks": ""
            },
            "type": "choropleth"
           }
          ],
          "contour": [
           {
            "colorbar": {
             "outlinewidth": 0,
             "ticks": ""
            },
            "colorscale": [
             [
              0,
              "#0d0887"
             ],
             [
              0.1111111111111111,
              "#46039f"
             ],
             [
              0.2222222222222222,
              "#7201a8"
             ],
             [
              0.3333333333333333,
              "#9c179e"
             ],
             [
              0.4444444444444444,
              "#bd3786"
             ],
             [
              0.5555555555555556,
              "#d8576b"
             ],
             [
              0.6666666666666666,
              "#ed7953"
             ],
             [
              0.7777777777777778,
              "#fb9f3a"
             ],
             [
              0.8888888888888888,
              "#fdca26"
             ],
             [
              1,
              "#f0f921"
             ]
            ],
            "type": "contour"
           }
          ],
          "contourcarpet": [
           {
            "colorbar": {
             "outlinewidth": 0,
             "ticks": ""
            },
            "type": "contourcarpet"
           }
          ],
          "heatmap": [
           {
            "colorbar": {
             "outlinewidth": 0,
             "ticks": ""
            },
            "colorscale": [
             [
              0,
              "#0d0887"
             ],
             [
              0.1111111111111111,
              "#46039f"
             ],
             [
              0.2222222222222222,
              "#7201a8"
             ],
             [
              0.3333333333333333,
              "#9c179e"
             ],
             [
              0.4444444444444444,
              "#bd3786"
             ],
             [
              0.5555555555555556,
              "#d8576b"
             ],
             [
              0.6666666666666666,
              "#ed7953"
             ],
             [
              0.7777777777777778,
              "#fb9f3a"
             ],
             [
              0.8888888888888888,
              "#fdca26"
             ],
             [
              1,
              "#f0f921"
             ]
            ],
            "type": "heatmap"
           }
          ],
          "heatmapgl": [
           {
            "colorbar": {
             "outlinewidth": 0,
             "ticks": ""
            },
            "colorscale": [
             [
              0,
              "#0d0887"
             ],
             [
              0.1111111111111111,
              "#46039f"
             ],
             [
              0.2222222222222222,
              "#7201a8"
             ],
             [
              0.3333333333333333,
              "#9c179e"
             ],
             [
              0.4444444444444444,
              "#bd3786"
             ],
             [
              0.5555555555555556,
              "#d8576b"
             ],
             [
              0.6666666666666666,
              "#ed7953"
             ],
             [
              0.7777777777777778,
              "#fb9f3a"
             ],
             [
              0.8888888888888888,
              "#fdca26"
             ],
             [
              1,
              "#f0f921"
             ]
            ],
            "type": "heatmapgl"
           }
          ],
          "histogram": [
           {
            "marker": {
             "colorbar": {
              "outlinewidth": 0,
              "ticks": ""
             }
            },
            "type": "histogram"
           }
          ],
          "histogram2d": [
           {
            "colorbar": {
             "outlinewidth": 0,
             "ticks": ""
            },
            "colorscale": [
             [
              0,
              "#0d0887"
             ],
             [
              0.1111111111111111,
              "#46039f"
             ],
             [
              0.2222222222222222,
              "#7201a8"
             ],
             [
              0.3333333333333333,
              "#9c179e"
             ],
             [
              0.4444444444444444,
              "#bd3786"
             ],
             [
              0.5555555555555556,
              "#d8576b"
             ],
             [
              0.6666666666666666,
              "#ed7953"
             ],
             [
              0.7777777777777778,
              "#fb9f3a"
             ],
             [
              0.8888888888888888,
              "#fdca26"
             ],
             [
              1,
              "#f0f921"
             ]
            ],
            "type": "histogram2d"
           }
          ],
          "histogram2dcontour": [
           {
            "colorbar": {
             "outlinewidth": 0,
             "ticks": ""
            },
            "colorscale": [
             [
              0,
              "#0d0887"
             ],
             [
              0.1111111111111111,
              "#46039f"
             ],
             [
              0.2222222222222222,
              "#7201a8"
             ],
             [
              0.3333333333333333,
              "#9c179e"
             ],
             [
              0.4444444444444444,
              "#bd3786"
             ],
             [
              0.5555555555555556,
              "#d8576b"
             ],
             [
              0.6666666666666666,
              "#ed7953"
             ],
             [
              0.7777777777777778,
              "#fb9f3a"
             ],
             [
              0.8888888888888888,
              "#fdca26"
             ],
             [
              1,
              "#f0f921"
             ]
            ],
            "type": "histogram2dcontour"
           }
          ],
          "mesh3d": [
           {
            "colorbar": {
             "outlinewidth": 0,
             "ticks": ""
            },
            "type": "mesh3d"
           }
          ],
          "parcoords": [
           {
            "line": {
             "colorbar": {
              "outlinewidth": 0,
              "ticks": ""
             }
            },
            "type": "parcoords"
           }
          ],
          "pie": [
           {
            "automargin": true,
            "type": "pie"
           }
          ],
          "scatter": [
           {
            "marker": {
             "colorbar": {
              "outlinewidth": 0,
              "ticks": ""
             }
            },
            "type": "scatter"
           }
          ],
          "scatter3d": [
           {
            "line": {
             "colorbar": {
              "outlinewidth": 0,
              "ticks": ""
             }
            },
            "marker": {
             "colorbar": {
              "outlinewidth": 0,
              "ticks": ""
             }
            },
            "type": "scatter3d"
           }
          ],
          "scattercarpet": [
           {
            "marker": {
             "colorbar": {
              "outlinewidth": 0,
              "ticks": ""
             }
            },
            "type": "scattercarpet"
           }
          ],
          "scattergeo": [
           {
            "marker": {
             "colorbar": {
              "outlinewidth": 0,
              "ticks": ""
             }
            },
            "type": "scattergeo"
           }
          ],
          "scattergl": [
           {
            "marker": {
             "colorbar": {
              "outlinewidth": 0,
              "ticks": ""
             }
            },
            "type": "scattergl"
           }
          ],
          "scattermapbox": [
           {
            "marker": {
             "colorbar": {
              "outlinewidth": 0,
              "ticks": ""
             }
            },
            "type": "scattermapbox"
           }
          ],
          "scatterpolar": [
           {
            "marker": {
             "colorbar": {
              "outlinewidth": 0,
              "ticks": ""
             }
            },
            "type": "scatterpolar"
           }
          ],
          "scatterpolargl": [
           {
            "marker": {
             "colorbar": {
              "outlinewidth": 0,
              "ticks": ""
             }
            },
            "type": "scatterpolargl"
           }
          ],
          "scatterternary": [
           {
            "marker": {
             "colorbar": {
              "outlinewidth": 0,
              "ticks": ""
             }
            },
            "type": "scatterternary"
           }
          ],
          "surface": [
           {
            "colorbar": {
             "outlinewidth": 0,
             "ticks": ""
            },
            "colorscale": [
             [
              0,
              "#0d0887"
             ],
             [
              0.1111111111111111,
              "#46039f"
             ],
             [
              0.2222222222222222,
              "#7201a8"
             ],
             [
              0.3333333333333333,
              "#9c179e"
             ],
             [
              0.4444444444444444,
              "#bd3786"
             ],
             [
              0.5555555555555556,
              "#d8576b"
             ],
             [
              0.6666666666666666,
              "#ed7953"
             ],
             [
              0.7777777777777778,
              "#fb9f3a"
             ],
             [
              0.8888888888888888,
              "#fdca26"
             ],
             [
              1,
              "#f0f921"
             ]
            ],
            "type": "surface"
           }
          ],
          "table": [
           {
            "cells": {
             "fill": {
              "color": "#EBF0F8"
             },
             "line": {
              "color": "white"
             }
            },
            "header": {
             "fill": {
              "color": "#C8D4E3"
             },
             "line": {
              "color": "white"
             }
            },
            "type": "table"
           }
          ]
         },
         "layout": {
          "annotationdefaults": {
           "arrowcolor": "#2a3f5f",
           "arrowhead": 0,
           "arrowwidth": 1
          },
          "autotypenumbers": "strict",
          "coloraxis": {
           "colorbar": {
            "outlinewidth": 0,
            "ticks": ""
           }
          },
          "colorscale": {
           "diverging": [
            [
             0,
             "#8e0152"
            ],
            [
             0.1,
             "#c51b7d"
            ],
            [
             0.2,
             "#de77ae"
            ],
            [
             0.3,
             "#f1b6da"
            ],
            [
             0.4,
             "#fde0ef"
            ],
            [
             0.5,
             "#f7f7f7"
            ],
            [
             0.6,
             "#e6f5d0"
            ],
            [
             0.7,
             "#b8e186"
            ],
            [
             0.8,
             "#7fbc41"
            ],
            [
             0.9,
             "#4d9221"
            ],
            [
             1,
             "#276419"
            ]
           ],
           "sequential": [
            [
             0,
             "#0d0887"
            ],
            [
             0.1111111111111111,
             "#46039f"
            ],
            [
             0.2222222222222222,
             "#7201a8"
            ],
            [
             0.3333333333333333,
             "#9c179e"
            ],
            [
             0.4444444444444444,
             "#bd3786"
            ],
            [
             0.5555555555555556,
             "#d8576b"
            ],
            [
             0.6666666666666666,
             "#ed7953"
            ],
            [
             0.7777777777777778,
             "#fb9f3a"
            ],
            [
             0.8888888888888888,
             "#fdca26"
            ],
            [
             1,
             "#f0f921"
            ]
           ],
           "sequentialminus": [
            [
             0,
             "#0d0887"
            ],
            [
             0.1111111111111111,
             "#46039f"
            ],
            [
             0.2222222222222222,
             "#7201a8"
            ],
            [
             0.3333333333333333,
             "#9c179e"
            ],
            [
             0.4444444444444444,
             "#bd3786"
            ],
            [
             0.5555555555555556,
             "#d8576b"
            ],
            [
             0.6666666666666666,
             "#ed7953"
            ],
            [
             0.7777777777777778,
             "#fb9f3a"
            ],
            [
             0.8888888888888888,
             "#fdca26"
            ],
            [
             1,
             "#f0f921"
            ]
           ]
          },
          "colorway": [
           "#636efa",
           "#EF553B",
           "#00cc96",
           "#ab63fa",
           "#FFA15A",
           "#19d3f3",
           "#FF6692",
           "#B6E880",
           "#FF97FF",
           "#FECB52"
          ],
          "font": {
           "color": "#2a3f5f"
          },
          "geo": {
           "bgcolor": "white",
           "lakecolor": "white",
           "landcolor": "#E5ECF6",
           "showlakes": true,
           "showland": true,
           "subunitcolor": "white"
          },
          "hoverlabel": {
           "align": "left"
          },
          "hovermode": "closest",
          "mapbox": {
           "style": "light"
          },
          "paper_bgcolor": "white",
          "plot_bgcolor": "#E5ECF6",
          "polar": {
           "angularaxis": {
            "gridcolor": "white",
            "linecolor": "white",
            "ticks": ""
           },
           "bgcolor": "#E5ECF6",
           "radialaxis": {
            "gridcolor": "white",
            "linecolor": "white",
            "ticks": ""
           }
          },
          "scene": {
           "xaxis": {
            "backgroundcolor": "#E5ECF6",
            "gridcolor": "white",
            "gridwidth": 2,
            "linecolor": "white",
            "showbackground": true,
            "ticks": "",
            "zerolinecolor": "white"
           },
           "yaxis": {
            "backgroundcolor": "#E5ECF6",
            "gridcolor": "white",
            "gridwidth": 2,
            "linecolor": "white",
            "showbackground": true,
            "ticks": "",
            "zerolinecolor": "white"
           },
           "zaxis": {
            "backgroundcolor": "#E5ECF6",
            "gridcolor": "white",
            "gridwidth": 2,
            "linecolor": "white",
            "showbackground": true,
            "ticks": "",
            "zerolinecolor": "white"
           }
          },
          "shapedefaults": {
           "line": {
            "color": "#2a3f5f"
           }
          },
          "ternary": {
           "aaxis": {
            "gridcolor": "white",
            "linecolor": "white",
            "ticks": ""
           },
           "baxis": {
            "gridcolor": "white",
            "linecolor": "white",
            "ticks": ""
           },
           "bgcolor": "#E5ECF6",
           "caxis": {
            "gridcolor": "white",
            "linecolor": "white",
            "ticks": ""
           }
          },
          "title": {
           "x": 0.05
          },
          "xaxis": {
           "automargin": true,
           "gridcolor": "white",
           "linecolor": "white",
           "ticks": "",
           "title": {
            "standoff": 15
           },
           "zerolinecolor": "white",
           "zerolinewidth": 2
          },
          "yaxis": {
           "automargin": true,
           "gridcolor": "white",
           "linecolor": "white",
           "ticks": "",
           "title": {
            "standoff": 15
           },
           "zerolinecolor": "white",
           "zerolinewidth": 2
          }
         }
        },
        "title": {
         "font": {
          "color": "#4D5663"
         }
        },
        "xaxis": {
         "gridcolor": "#E1E5ED",
         "showgrid": true,
         "tickfont": {
          "color": "#4D5663"
         },
         "title": {
          "font": {
           "color": "#4D5663"
          },
          "text": ""
         },
         "zerolinecolor": "#E1E5ED"
        },
        "yaxis": {
         "gridcolor": "#E1E5ED",
         "showgrid": true,
         "tickfont": {
          "color": "#4D5663"
         },
         "title": {
          "font": {
           "color": "#4D5663"
          },
          "text": ""
         },
         "zerolinecolor": "#E1E5ED"
        }
       }
      },
      "text/html": [
       "<div>                            <div id=\"701babf0-926a-4854-b99e-1476d5fb66cb\" class=\"plotly-graph-div\" style=\"height:525px; width:100%;\"></div>            <script type=\"text/javascript\">                require([\"plotly\"], function(Plotly) {                    window.PLOTLYENV=window.PLOTLYENV || {};\n",
       "                    window.PLOTLYENV.BASE_URL='https://plot.ly';                                    if (document.getElementById(\"701babf0-926a-4854-b99e-1476d5fb66cb\")) {                    Plotly.newPlot(                        \"701babf0-926a-4854-b99e-1476d5fb66cb\",                        [{\"marker\": {\"color\": \"rgba(255, 153, 51, 0.6)\", \"line\": {\"color\": \"rgba(255, 153, 51, 1.0)\", \"width\": 1}}, \"name\": \"None\", \"orientation\": \"v\", \"text\": \"\", \"type\": \"bar\", \"x\": [\"A\", \"B\", \"C\", \"D\"], \"y\": [10.072100317650808, 3.046439280778028, -1.134800512629107, 5.754129002991604]}],                        {\"legend\": {\"bgcolor\": \"#F5F6F9\", \"font\": {\"color\": \"#4D5663\"}}, \"paper_bgcolor\": \"#F5F6F9\", \"plot_bgcolor\": \"#F5F6F9\", \"template\": {\"data\": {\"bar\": [{\"error_x\": {\"color\": \"#2a3f5f\"}, \"error_y\": {\"color\": \"#2a3f5f\"}, \"marker\": {\"line\": {\"color\": \"#E5ECF6\", \"width\": 0.5}}, \"type\": \"bar\"}], \"barpolar\": [{\"marker\": {\"line\": {\"color\": \"#E5ECF6\", \"width\": 0.5}}, \"type\": \"barpolar\"}], \"carpet\": [{\"aaxis\": {\"endlinecolor\": \"#2a3f5f\", \"gridcolor\": \"white\", \"linecolor\": \"white\", \"minorgridcolor\": \"white\", \"startlinecolor\": \"#2a3f5f\"}, \"baxis\": {\"endlinecolor\": \"#2a3f5f\", \"gridcolor\": \"white\", \"linecolor\": \"white\", \"minorgridcolor\": \"white\", \"startlinecolor\": \"#2a3f5f\"}, \"type\": \"carpet\"}], \"choropleth\": [{\"colorbar\": {\"outlinewidth\": 0, \"ticks\": \"\"}, \"type\": \"choropleth\"}], \"contour\": [{\"colorbar\": {\"outlinewidth\": 0, \"ticks\": \"\"}, \"colorscale\": [[0.0, \"#0d0887\"], [0.1111111111111111, \"#46039f\"], [0.2222222222222222, \"#7201a8\"], [0.3333333333333333, \"#9c179e\"], [0.4444444444444444, \"#bd3786\"], [0.5555555555555556, \"#d8576b\"], [0.6666666666666666, \"#ed7953\"], [0.7777777777777778, \"#fb9f3a\"], [0.8888888888888888, \"#fdca26\"], [1.0, \"#f0f921\"]], \"type\": \"contour\"}], \"contourcarpet\": [{\"colorbar\": {\"outlinewidth\": 0, \"ticks\": \"\"}, \"type\": \"contourcarpet\"}], \"heatmap\": [{\"colorbar\": {\"outlinewidth\": 0, \"ticks\": \"\"}, \"colorscale\": [[0.0, \"#0d0887\"], [0.1111111111111111, \"#46039f\"], [0.2222222222222222, \"#7201a8\"], [0.3333333333333333, \"#9c179e\"], [0.4444444444444444, \"#bd3786\"], [0.5555555555555556, \"#d8576b\"], [0.6666666666666666, \"#ed7953\"], [0.7777777777777778, \"#fb9f3a\"], [0.8888888888888888, \"#fdca26\"], [1.0, \"#f0f921\"]], \"type\": \"heatmap\"}], \"heatmapgl\": [{\"colorbar\": {\"outlinewidth\": 0, \"ticks\": \"\"}, \"colorscale\": [[0.0, \"#0d0887\"], [0.1111111111111111, \"#46039f\"], [0.2222222222222222, \"#7201a8\"], [0.3333333333333333, \"#9c179e\"], [0.4444444444444444, \"#bd3786\"], [0.5555555555555556, \"#d8576b\"], [0.6666666666666666, \"#ed7953\"], [0.7777777777777778, \"#fb9f3a\"], [0.8888888888888888, \"#fdca26\"], [1.0, \"#f0f921\"]], \"type\": \"heatmapgl\"}], \"histogram\": [{\"marker\": {\"colorbar\": {\"outlinewidth\": 0, \"ticks\": \"\"}}, \"type\": \"histogram\"}], \"histogram2d\": [{\"colorbar\": {\"outlinewidth\": 0, \"ticks\": \"\"}, \"colorscale\": [[0.0, \"#0d0887\"], [0.1111111111111111, \"#46039f\"], [0.2222222222222222, \"#7201a8\"], [0.3333333333333333, \"#9c179e\"], [0.4444444444444444, \"#bd3786\"], [0.5555555555555556, \"#d8576b\"], [0.6666666666666666, \"#ed7953\"], [0.7777777777777778, \"#fb9f3a\"], [0.8888888888888888, \"#fdca26\"], [1.0, \"#f0f921\"]], \"type\": \"histogram2d\"}], \"histogram2dcontour\": [{\"colorbar\": {\"outlinewidth\": 0, \"ticks\": \"\"}, \"colorscale\": [[0.0, \"#0d0887\"], [0.1111111111111111, \"#46039f\"], [0.2222222222222222, \"#7201a8\"], [0.3333333333333333, \"#9c179e\"], [0.4444444444444444, \"#bd3786\"], [0.5555555555555556, \"#d8576b\"], [0.6666666666666666, \"#ed7953\"], [0.7777777777777778, \"#fb9f3a\"], [0.8888888888888888, \"#fdca26\"], [1.0, \"#f0f921\"]], \"type\": \"histogram2dcontour\"}], \"mesh3d\": [{\"colorbar\": {\"outlinewidth\": 0, \"ticks\": \"\"}, \"type\": \"mesh3d\"}], \"parcoords\": [{\"line\": {\"colorbar\": {\"outlinewidth\": 0, \"ticks\": \"\"}}, \"type\": \"parcoords\"}], \"pie\": [{\"automargin\": true, \"type\": \"pie\"}], \"scatter\": [{\"marker\": {\"colorbar\": {\"outlinewidth\": 0, \"ticks\": \"\"}}, \"type\": \"scatter\"}], \"scatter3d\": [{\"line\": {\"colorbar\": {\"outlinewidth\": 0, \"ticks\": \"\"}}, \"marker\": {\"colorbar\": {\"outlinewidth\": 0, \"ticks\": \"\"}}, \"type\": \"scatter3d\"}], \"scattercarpet\": [{\"marker\": {\"colorbar\": {\"outlinewidth\": 0, \"ticks\": \"\"}}, \"type\": \"scattercarpet\"}], \"scattergeo\": [{\"marker\": {\"colorbar\": {\"outlinewidth\": 0, \"ticks\": \"\"}}, \"type\": \"scattergeo\"}], \"scattergl\": [{\"marker\": {\"colorbar\": {\"outlinewidth\": 0, \"ticks\": \"\"}}, \"type\": \"scattergl\"}], \"scattermapbox\": [{\"marker\": {\"colorbar\": {\"outlinewidth\": 0, \"ticks\": \"\"}}, \"type\": \"scattermapbox\"}], \"scatterpolar\": [{\"marker\": {\"colorbar\": {\"outlinewidth\": 0, \"ticks\": \"\"}}, \"type\": \"scatterpolar\"}], \"scatterpolargl\": [{\"marker\": {\"colorbar\": {\"outlinewidth\": 0, \"ticks\": \"\"}}, \"type\": \"scatterpolargl\"}], \"scatterternary\": [{\"marker\": {\"colorbar\": {\"outlinewidth\": 0, \"ticks\": \"\"}}, \"type\": \"scatterternary\"}], \"surface\": [{\"colorbar\": {\"outlinewidth\": 0, \"ticks\": \"\"}, \"colorscale\": [[0.0, \"#0d0887\"], [0.1111111111111111, \"#46039f\"], [0.2222222222222222, \"#7201a8\"], [0.3333333333333333, \"#9c179e\"], [0.4444444444444444, \"#bd3786\"], [0.5555555555555556, \"#d8576b\"], [0.6666666666666666, \"#ed7953\"], [0.7777777777777778, \"#fb9f3a\"], [0.8888888888888888, \"#fdca26\"], [1.0, \"#f0f921\"]], \"type\": \"surface\"}], \"table\": [{\"cells\": {\"fill\": {\"color\": \"#EBF0F8\"}, \"line\": {\"color\": \"white\"}}, \"header\": {\"fill\": {\"color\": \"#C8D4E3\"}, \"line\": {\"color\": \"white\"}}, \"type\": \"table\"}]}, \"layout\": {\"annotationdefaults\": {\"arrowcolor\": \"#2a3f5f\", \"arrowhead\": 0, \"arrowwidth\": 1}, \"autotypenumbers\": \"strict\", \"coloraxis\": {\"colorbar\": {\"outlinewidth\": 0, \"ticks\": \"\"}}, \"colorscale\": {\"diverging\": [[0, \"#8e0152\"], [0.1, \"#c51b7d\"], [0.2, \"#de77ae\"], [0.3, \"#f1b6da\"], [0.4, \"#fde0ef\"], [0.5, \"#f7f7f7\"], [0.6, \"#e6f5d0\"], [0.7, \"#b8e186\"], [0.8, \"#7fbc41\"], [0.9, \"#4d9221\"], [1, \"#276419\"]], \"sequential\": [[0.0, \"#0d0887\"], [0.1111111111111111, \"#46039f\"], [0.2222222222222222, \"#7201a8\"], [0.3333333333333333, \"#9c179e\"], [0.4444444444444444, \"#bd3786\"], [0.5555555555555556, \"#d8576b\"], [0.6666666666666666, \"#ed7953\"], [0.7777777777777778, \"#fb9f3a\"], [0.8888888888888888, \"#fdca26\"], [1.0, \"#f0f921\"]], \"sequentialminus\": [[0.0, \"#0d0887\"], [0.1111111111111111, \"#46039f\"], [0.2222222222222222, \"#7201a8\"], [0.3333333333333333, \"#9c179e\"], [0.4444444444444444, \"#bd3786\"], [0.5555555555555556, \"#d8576b\"], [0.6666666666666666, \"#ed7953\"], [0.7777777777777778, \"#fb9f3a\"], [0.8888888888888888, \"#fdca26\"], [1.0, \"#f0f921\"]]}, \"colorway\": [\"#636efa\", \"#EF553B\", \"#00cc96\", \"#ab63fa\", \"#FFA15A\", \"#19d3f3\", \"#FF6692\", \"#B6E880\", \"#FF97FF\", \"#FECB52\"], \"font\": {\"color\": \"#2a3f5f\"}, \"geo\": {\"bgcolor\": \"white\", \"lakecolor\": \"white\", \"landcolor\": \"#E5ECF6\", \"showlakes\": true, \"showland\": true, \"subunitcolor\": \"white\"}, \"hoverlabel\": {\"align\": \"left\"}, \"hovermode\": \"closest\", \"mapbox\": {\"style\": \"light\"}, \"paper_bgcolor\": \"white\", \"plot_bgcolor\": \"#E5ECF6\", \"polar\": {\"angularaxis\": {\"gridcolor\": \"white\", \"linecolor\": \"white\", \"ticks\": \"\"}, \"bgcolor\": \"#E5ECF6\", \"radialaxis\": {\"gridcolor\": \"white\", \"linecolor\": \"white\", \"ticks\": \"\"}}, \"scene\": {\"xaxis\": {\"backgroundcolor\": \"#E5ECF6\", \"gridcolor\": \"white\", \"gridwidth\": 2, \"linecolor\": \"white\", \"showbackground\": true, \"ticks\": \"\", \"zerolinecolor\": \"white\"}, \"yaxis\": {\"backgroundcolor\": \"#E5ECF6\", \"gridcolor\": \"white\", \"gridwidth\": 2, \"linecolor\": \"white\", \"showbackground\": true, \"ticks\": \"\", \"zerolinecolor\": \"white\"}, \"zaxis\": {\"backgroundcolor\": \"#E5ECF6\", \"gridcolor\": \"white\", \"gridwidth\": 2, \"linecolor\": \"white\", \"showbackground\": true, \"ticks\": \"\", \"zerolinecolor\": \"white\"}}, \"shapedefaults\": {\"line\": {\"color\": \"#2a3f5f\"}}, \"ternary\": {\"aaxis\": {\"gridcolor\": \"white\", \"linecolor\": \"white\", \"ticks\": \"\"}, \"baxis\": {\"gridcolor\": \"white\", \"linecolor\": \"white\", \"ticks\": \"\"}, \"bgcolor\": \"#E5ECF6\", \"caxis\": {\"gridcolor\": \"white\", \"linecolor\": \"white\", \"ticks\": \"\"}}, \"title\": {\"x\": 0.05}, \"xaxis\": {\"automargin\": true, \"gridcolor\": \"white\", \"linecolor\": \"white\", \"ticks\": \"\", \"title\": {\"standoff\": 15}, \"zerolinecolor\": \"white\", \"zerolinewidth\": 2}, \"yaxis\": {\"automargin\": true, \"gridcolor\": \"white\", \"linecolor\": \"white\", \"ticks\": \"\", \"title\": {\"standoff\": 15}, \"zerolinecolor\": \"white\", \"zerolinewidth\": 2}}}, \"title\": {\"font\": {\"color\": \"#4D5663\"}}, \"xaxis\": {\"gridcolor\": \"#E1E5ED\", \"showgrid\": true, \"tickfont\": {\"color\": \"#4D5663\"}, \"title\": {\"font\": {\"color\": \"#4D5663\"}, \"text\": \"\"}, \"zerolinecolor\": \"#E1E5ED\"}, \"yaxis\": {\"gridcolor\": \"#E1E5ED\", \"showgrid\": true, \"tickfont\": {\"color\": \"#4D5663\"}, \"title\": {\"font\": {\"color\": \"#4D5663\"}, \"text\": \"\"}, \"zerolinecolor\": \"#E1E5ED\"}},                        {\"showLink\": true, \"linkText\": \"Export to plot.ly\", \"plotlyServerURL\": \"https://plot.ly\", \"responsive\": true}                    ).then(function(){\n",
       "                            \n",
       "var gd = document.getElementById('701babf0-926a-4854-b99e-1476d5fb66cb');\n",
       "var x = new MutationObserver(function (mutations, observer) {{\n",
       "        var display = window.getComputedStyle(gd).display;\n",
       "        if (!display || display === 'none') {{\n",
       "            console.log([gd, 'removed!']);\n",
       "            Plotly.purge(gd);\n",
       "            observer.disconnect();\n",
       "        }}\n",
       "}});\n",
       "\n",
       "// Listen for the removal of the full notebook cells\n",
       "var notebookContainer = gd.closest('#notebook-container');\n",
       "if (notebookContainer) {{\n",
       "    x.observe(notebookContainer, {childList: true});\n",
       "}}\n",
       "\n",
       "// Listen for the clearing of the current output cell\n",
       "var outputEl = gd.closest('.output');\n",
       "if (outputEl) {{\n",
       "    x.observe(outputEl, {childList: true});\n",
       "}}\n",
       "\n",
       "                        })                };                });            </script>        </div>"
      ]
     },
     "metadata": {},
     "output_type": "display_data"
    }
   ],
   "source": [
    "df.sum().iplot(kind='bar')"
   ]
  },
  {
   "cell_type": "code",
   "execution_count": 24,
   "id": "eleven-correction",
   "metadata": {},
   "outputs": [
    {
     "data": {
      "text/html": [
       "<div>\n",
       "<style scoped>\n",
       "    .dataframe tbody tr th:only-of-type {\n",
       "        vertical-align: middle;\n",
       "    }\n",
       "\n",
       "    .dataframe tbody tr th {\n",
       "        vertical-align: top;\n",
       "    }\n",
       "\n",
       "    .dataframe thead th {\n",
       "        text-align: right;\n",
       "    }\n",
       "</style>\n",
       "<table border=\"1\" class=\"dataframe\">\n",
       "  <thead>\n",
       "    <tr style=\"text-align: right;\">\n",
       "      <th></th>\n",
       "      <th>A</th>\n",
       "      <th>B</th>\n",
       "      <th>C</th>\n",
       "      <th>D</th>\n",
       "    </tr>\n",
       "  </thead>\n",
       "  <tbody>\n",
       "    <tr>\n",
       "      <th>0</th>\n",
       "      <td>1.061473</td>\n",
       "      <td>-0.150209</td>\n",
       "      <td>-0.477141</td>\n",
       "      <td>1.631489</td>\n",
       "    </tr>\n",
       "    <tr>\n",
       "      <th>1</th>\n",
       "      <td>0.778804</td>\n",
       "      <td>-1.473023</td>\n",
       "      <td>-1.334599</td>\n",
       "      <td>-0.696572</td>\n",
       "    </tr>\n",
       "    <tr>\n",
       "      <th>2</th>\n",
       "      <td>-0.284313</td>\n",
       "      <td>0.834397</td>\n",
       "      <td>-0.097068</td>\n",
       "      <td>0.350843</td>\n",
       "    </tr>\n",
       "    <tr>\n",
       "      <th>3</th>\n",
       "      <td>0.402861</td>\n",
       "      <td>0.078818</td>\n",
       "      <td>1.196828</td>\n",
       "      <td>-1.222264</td>\n",
       "    </tr>\n",
       "    <tr>\n",
       "      <th>4</th>\n",
       "      <td>-1.035357</td>\n",
       "      <td>0.217396</td>\n",
       "      <td>-0.678142</td>\n",
       "      <td>0.605749</td>\n",
       "    </tr>\n",
       "    <tr>\n",
       "      <th>...</th>\n",
       "      <td>...</td>\n",
       "      <td>...</td>\n",
       "      <td>...</td>\n",
       "      <td>...</td>\n",
       "    </tr>\n",
       "    <tr>\n",
       "      <th>95</th>\n",
       "      <td>-0.791478</td>\n",
       "      <td>1.623206</td>\n",
       "      <td>1.233483</td>\n",
       "      <td>-0.989860</td>\n",
       "    </tr>\n",
       "    <tr>\n",
       "      <th>96</th>\n",
       "      <td>1.025058</td>\n",
       "      <td>-0.442589</td>\n",
       "      <td>-0.271343</td>\n",
       "      <td>-0.240674</td>\n",
       "    </tr>\n",
       "    <tr>\n",
       "      <th>97</th>\n",
       "      <td>1.552376</td>\n",
       "      <td>-0.114760</td>\n",
       "      <td>0.092559</td>\n",
       "      <td>-1.991382</td>\n",
       "    </tr>\n",
       "    <tr>\n",
       "      <th>98</th>\n",
       "      <td>1.729160</td>\n",
       "      <td>-0.339387</td>\n",
       "      <td>-0.938769</td>\n",
       "      <td>0.230640</td>\n",
       "    </tr>\n",
       "    <tr>\n",
       "      <th>99</th>\n",
       "      <td>0.283831</td>\n",
       "      <td>0.882786</td>\n",
       "      <td>-1.314363</td>\n",
       "      <td>1.278168</td>\n",
       "    </tr>\n",
       "  </tbody>\n",
       "</table>\n",
       "<p>100 rows × 4 columns</p>\n",
       "</div>"
      ],
      "text/plain": [
       "           A         B         C         D\n",
       "0   1.061473 -0.150209 -0.477141  1.631489\n",
       "1   0.778804 -1.473023 -1.334599 -0.696572\n",
       "2  -0.284313  0.834397 -0.097068  0.350843\n",
       "3   0.402861  0.078818  1.196828 -1.222264\n",
       "4  -1.035357  0.217396 -0.678142  0.605749\n",
       "..       ...       ...       ...       ...\n",
       "95 -0.791478  1.623206  1.233483 -0.989860\n",
       "96  1.025058 -0.442589 -0.271343 -0.240674\n",
       "97  1.552376 -0.114760  0.092559 -1.991382\n",
       "98  1.729160 -0.339387 -0.938769  0.230640\n",
       "99  0.283831  0.882786 -1.314363  1.278168\n",
       "\n",
       "[100 rows x 4 columns]"
      ]
     },
     "execution_count": 24,
     "metadata": {},
     "output_type": "execute_result"
    }
   ],
   "source": [
    "df"
   ]
  },
  {
   "cell_type": "code",
   "execution_count": 26,
   "id": "southern-technician",
   "metadata": {},
   "outputs": [
    {
     "data": {
      "application/vnd.plotly.v1+json": {
       "config": {
        "linkText": "Export to plot.ly",
        "plotlyServerURL": "https://plot.ly",
        "showLink": true
       },
       "data": [
        {
         "boxpoints": false,
         "line": {
          "width": 1.3
         },
         "marker": {
          "color": "rgba(255, 153, 51, 1.0)"
         },
         "name": "A",
         "orientation": "v",
         "type": "box",
         "y": [
          1.061473280205822,
          0.7788035401649821,
          -0.2843131564415733,
          0.4028606011071929,
          -1.0353566473067173,
          -1.5925881310692422,
          0.03764451610017262,
          0.09321189582306758,
          -0.4176584649435947,
          1.3425792835433714,
          1.0266554020785341,
          -0.3509763266194384,
          -1.1578507094975032,
          -0.10767980405124133,
          -0.7659349830162048,
          0.6359970746835948,
          0.781389848793117,
          -0.20999618974658754,
          -0.4724551602521327,
          -1.2611520993994236,
          0.5011595968288648,
          2.5021298775570124,
          -2.2161401806538175,
          -0.4213098675783744,
          1.406278824461392,
          1.0245563932292865,
          0.05793642079927353,
          0.5172455234185414,
          0.23237803736898088,
          -0.36851140968886364,
          -0.02331748092877489,
          1.1344686849252197,
          0.16803740412380333,
          -1.3287890912409976,
          0.7879241292820391,
          -0.005548678959254899,
          0.8329045559462215,
          -0.7430868096641571,
          -1.133100937544328,
          0.7006688816822035,
          2.035632575118046,
          0.5325886928830186,
          -0.8599991780600442,
          0.15505475981508404,
          -0.2783228994628211,
          -0.0935045987798122,
          0.257383871747999,
          0.9458026852206287,
          0.0523970154360034,
          0.028677167605447113,
          1.9243754536472717,
          -1.4517638419797148,
          -0.42240872112290845,
          -0.6830010989045584,
          0.8998411440376746,
          0.5661636957875802,
          1.8078923338402904,
          -0.1211574749952134,
          1.1628256796583745,
          -0.7747340750216297,
          -1.663603001451258,
          0.6205659519924192,
          1.1066279064691593,
          -0.4714356459473895,
          -0.6334083024936795,
          0.7840050962817294,
          0.5777402499571723,
          0.13624915721450132,
          0.12080615947972986,
          -0.7310373593845643,
          2.0878737842304975,
          -1.260657602083573,
          -0.9781991587314987,
          0.02552177479888971,
          -1.5312019439825595,
          0.3819009284644589,
          0.9627266602138024,
          -0.36528374506782496,
          -0.01330698839724629,
          -1.057342126647745,
          0.026874897028896363,
          1.4579519802072136,
          0.3436411938175002,
          -0.15839574242186497,
          0.9993958159176821,
          -0.8926368337194085,
          -0.427317895602847,
          0.6220513939400963,
          0.4957072394399795,
          -0.19188201177565387,
          -0.7045958601968229,
          -0.18917637706476753,
          -0.577505244222488,
          -0.6040999190689166,
          0.16031718046731083,
          -0.7914776160554775,
          1.025058265396455,
          1.5523763416710603,
          1.729160350179526,
          0.28383053480712556
         ]
        },
        {
         "boxpoints": false,
         "line": {
          "width": 1.3
         },
         "marker": {
          "color": "rgba(55, 128, 191, 1.0)"
         },
         "name": "B",
         "orientation": "v",
         "type": "box",
         "y": [
          -0.1502090526950633,
          -1.4730229850054035,
          0.8343967846403096,
          0.07881786533117169,
          0.2173963689453169,
          -0.5528080492436792,
          -1.6258453109586075,
          -0.6767305514654233,
          -0.14300288693546617,
          0.4496954555587184,
          -0.01257683703554524,
          -0.28528865085325283,
          -0.6211655838808301,
          -0.2088464084433686,
          0.11963905119676699,
          -0.33498296236193226,
          -0.33505878250702303,
          1.7253129170246115,
          -1.1653926642573262,
          0.3805949514809733,
          0.09743708259195785,
          -1.0379640975634625,
          0.15098100983051105,
          0.4318977678868364,
          0.4963469437410477,
          0.028512895291313973,
          -1.0979847878044142,
          0.3971856542241418,
          -0.7638507427802923,
          0.04362940403433376,
          0.5493903482135887,
          0.43290716796591083,
          -0.44521194333356084,
          0.9661060689292932,
          0.44210330235753237,
          0.03321214661252483,
          -0.48936726967185207,
          -0.9304182896274302,
          1.6968215447462103,
          -0.278502027157531,
          0.35962316230753194,
          0.1694672554621009,
          1.3463629130177368,
          -0.4773321454887906,
          0.7558264273744825,
          0.30602848551497713,
          1.077734325636297,
          -0.06665598912475737,
          -0.40947446944564386,
          -1.046290912810996,
          0.15155824818897423,
          0.9479235219129352,
          0.5012297209712162,
          0.7202543172706395,
          1.2146155916317036,
          -0.761540003341629,
          1.4216908347738988,
          -0.8083797165101845,
          -0.9598316539739877,
          0.3250456999210159,
          0.7784293978884731,
          0.2913806361130591,
          -0.7031204864984019,
          -0.848852060370494,
          1.3077008994967214,
          2.3441676335625856,
          0.6737609401575443,
          -0.025823768466770602,
          -0.7677235483223626,
          -0.06131394849974311,
          0.039052404999263476,
          0.054768492284818365,
          -0.8498106331641933,
          0.706498180370543,
          -1.2607512917177826,
          -0.41172978961905266,
          -0.2707358279752124,
          0.23025681528889977,
          0.5539822404638315,
          -0.08288867817875158,
          -0.997771161936249,
          -0.678778928533606,
          -1.1474059797681828,
          0.13050467561654697,
          -0.20127543952445254,
          1.1734867634071395,
          -0.14447033334416912,
          -0.7768356529113692,
          2.108155468791955,
          0.2577470285525313,
          0.34417938196510817,
          -1.077596212923613,
          -0.6645104260980493,
          0.5900139902104728,
          -0.8875170695082091,
          1.6232057752672975,
          -0.4425887211319952,
          -0.11476017820101533,
          -0.33938732454496534,
          0.8827855572707493
         ]
        },
        {
         "boxpoints": false,
         "line": {
          "width": 1.3
         },
         "marker": {
          "color": "rgba(50, 171, 96, 1.0)"
         },
         "name": "C",
         "orientation": "v",
         "type": "box",
         "y": [
          -0.47714094631062437,
          -1.3345994918462734,
          -0.09706841022884331,
          1.1968284173047101,
          -0.6781421534686967,
          0.43159356038013935,
          0.6835822972305295,
          1.5711798443259752,
          -0.27737562899744533,
          0.5994425730797492,
          -0.15410497991092595,
          1.0107493932087777,
          0.15790142926355047,
          -0.8841180511952776,
          -1.3350209756308677,
          0.5485462338639149,
          -0.8619817842262595,
          -0.7168525530062234,
          1.1273469677020778,
          0.8730206000954404,
          -0.24702144524183348,
          0.7880028275551544,
          0.2071746893225869,
          -0.029225038016002854,
          1.865403567959548,
          0.11538188550007665,
          1.269548326304167,
          0.16509610572813474,
          0.8999860999795253,
          -0.0354781432835169,
          -0.49133860040138927,
          0.9079135076642156,
          -0.8114482812530663,
          0.8220565081765221,
          0.39946462690287393,
          -0.5547203946074728,
          -1.62037719639545,
          0.26472999659299234,
          -0.45658294841827207,
          -1.2614757474644993,
          -0.43639157115159743,
          1.2881598359634865,
          -0.23110420853353672,
          -0.4744266952361845,
          0.8272940547801969,
          -0.477104784804838,
          -0.7963256279031508,
          -0.8925126287583691,
          -1.5330790864952706,
          0.6151987020079225,
          0.4591690773644197,
          -1.5059313243649641,
          0.29372259009452656,
          1.1736766502681213,
          0.7310143871935828,
          0.22948656932661435,
          0.9737063267905761,
          0.9345629639664688,
          -0.7114277853243768,
          0.5927372448969023,
          0.285849459719758,
          0.60474917891961,
          -0.6367443989963583,
          -1.2001184162791918,
          0.6190840465127015,
          1.2339947962318631,
          -0.8187481609627966,
          -1.5506335715530588,
          0.27012562568802667,
          -0.4171533248547998,
          -0.8984022932891833,
          -1.3991492296082042,
          -0.5598386542022132,
          1.1269459966469904,
          1.8281568708288565,
          -0.406172312652385,
          -0.1640700800271707,
          -1.040967602120725,
          -1.0298408006190567,
          -1.5270696190537125,
          -0.2873013178148533,
          2.356989409619273,
          1.3783874582632833,
          -0.5733734484701256,
          -1.3093978213393007,
          -0.031035089615515692,
          -1.0539086734360197,
          1.319453591012269,
          -0.5158746252674392,
          0.4087916669098679,
          -0.6591222849766853,
          -2.197209533022403,
          0.0022492549136631694,
          0.8021121429442958,
          1.461573563904791,
          1.233482781292835,
          -0.2713433242778099,
          0.09255866193143845,
          -0.9387691637262042,
          -1.3143626501216688
         ]
        },
        {
         "boxpoints": false,
         "line": {
          "width": 1.3
         },
         "marker": {
          "color": "rgba(128, 0, 128, 1.0)"
         },
         "name": "D",
         "orientation": "v",
         "type": "box",
         "y": [
          1.6314890263197093,
          -0.6965718949158347,
          0.35084318365036765,
          -1.2222638113329922,
          0.6057486684596096,
          0.1452009905992692,
          -0.6668275595094052,
          0.49909495279141736,
          -1.1829092869149782,
          0.6705087643248491,
          0.8622858501949637,
          1.225417623604347,
          1.755725704148251,
          1.1309847736467293,
          -0.5336105481216621,
          0.7107270765748982,
          2.0435749991999623,
          1.2961399551551187,
          -1.6630925483891579,
          0.4230686092321981,
          -1.1447678627644444,
          0.5153826472117116,
          -0.0002649357515297671,
          0.31907947552678717,
          1.9410031412628177,
          1.3972847873794798,
          -0.3360358659654972,
          1.1498644432680514,
          1.1186222369629626,
          -1.0632158208343334,
          -0.05930212027860439,
          1.9594955868731154,
          -1.4415945415090048,
          0.5543778984758491,
          1.6684568260885326,
          -0.9657872528147986,
          -0.275521957970055,
          -0.18596131515277367,
          0.8938964819496332,
          1.2875885101092677,
          -0.4272488078580057,
          -0.26185929298795513,
          0.47858563361446205,
          -0.28598242623725545,
          0.38454741202639714,
          -1.3527736346922408,
          1.5444272867441986,
          -0.3570274407771999,
          -0.7262802270049282,
          1.2520672171528433,
          0.5073482762541652,
          -0.010703223441998921,
          -0.7018499206350687,
          -0.010451541881170784,
          -0.24866318791685305,
          -0.8482855975753855,
          0.8344833151665356,
          1.1409383112926403,
          -1.3915829568990927,
          -0.30856369866854416,
          0.7064812547399467,
          -0.8545392957094377,
          1.0022935778450717,
          -0.9919371688360995,
          0.36963442707580324,
          -0.5629342487974898,
          0.16960105239569848,
          -0.40362658397962303,
          -1.6780961091806244,
          -0.9687692761826167,
          -0.5029640394538285,
          0.23498051849444426,
          -0.6979677180565823,
          0.9919702901846777,
          -2.3777343087528027,
          -1.227705051199071,
          -0.059914758678974736,
          1.672020587047513,
          -1.9817420768305458,
          -0.5382447203064389,
          -1.2468599687743567,
          1.0967785445323446,
          -1.294038898804085,
          -0.38134039447576606,
          0.8389213301310103,
          0.7556168393816037,
          2.0671722471818614,
          1.3722760538868541,
          -0.42438600997816767,
          1.4249998743946992,
          0.2601743447370759,
          0.020246716306334817,
          -0.7555172138596694,
          0.07425581796169935,
          -2.5711289485102866,
          -0.9898595722162504,
          -0.24067441805738782,
          -1.991382303709734,
          0.23063973668514276,
          1.278168487899292
         ]
        }
       ],
       "layout": {
        "legend": {
         "bgcolor": "#F5F6F9",
         "font": {
          "color": "#4D5663"
         }
        },
        "paper_bgcolor": "#F5F6F9",
        "plot_bgcolor": "#F5F6F9",
        "template": {
         "data": {
          "bar": [
           {
            "error_x": {
             "color": "#2a3f5f"
            },
            "error_y": {
             "color": "#2a3f5f"
            },
            "marker": {
             "line": {
              "color": "#E5ECF6",
              "width": 0.5
             }
            },
            "type": "bar"
           }
          ],
          "barpolar": [
           {
            "marker": {
             "line": {
              "color": "#E5ECF6",
              "width": 0.5
             }
            },
            "type": "barpolar"
           }
          ],
          "carpet": [
           {
            "aaxis": {
             "endlinecolor": "#2a3f5f",
             "gridcolor": "white",
             "linecolor": "white",
             "minorgridcolor": "white",
             "startlinecolor": "#2a3f5f"
            },
            "baxis": {
             "endlinecolor": "#2a3f5f",
             "gridcolor": "white",
             "linecolor": "white",
             "minorgridcolor": "white",
             "startlinecolor": "#2a3f5f"
            },
            "type": "carpet"
           }
          ],
          "choropleth": [
           {
            "colorbar": {
             "outlinewidth": 0,
             "ticks": ""
            },
            "type": "choropleth"
           }
          ],
          "contour": [
           {
            "colorbar": {
             "outlinewidth": 0,
             "ticks": ""
            },
            "colorscale": [
             [
              0,
              "#0d0887"
             ],
             [
              0.1111111111111111,
              "#46039f"
             ],
             [
              0.2222222222222222,
              "#7201a8"
             ],
             [
              0.3333333333333333,
              "#9c179e"
             ],
             [
              0.4444444444444444,
              "#bd3786"
             ],
             [
              0.5555555555555556,
              "#d8576b"
             ],
             [
              0.6666666666666666,
              "#ed7953"
             ],
             [
              0.7777777777777778,
              "#fb9f3a"
             ],
             [
              0.8888888888888888,
              "#fdca26"
             ],
             [
              1,
              "#f0f921"
             ]
            ],
            "type": "contour"
           }
          ],
          "contourcarpet": [
           {
            "colorbar": {
             "outlinewidth": 0,
             "ticks": ""
            },
            "type": "contourcarpet"
           }
          ],
          "heatmap": [
           {
            "colorbar": {
             "outlinewidth": 0,
             "ticks": ""
            },
            "colorscale": [
             [
              0,
              "#0d0887"
             ],
             [
              0.1111111111111111,
              "#46039f"
             ],
             [
              0.2222222222222222,
              "#7201a8"
             ],
             [
              0.3333333333333333,
              "#9c179e"
             ],
             [
              0.4444444444444444,
              "#bd3786"
             ],
             [
              0.5555555555555556,
              "#d8576b"
             ],
             [
              0.6666666666666666,
              "#ed7953"
             ],
             [
              0.7777777777777778,
              "#fb9f3a"
             ],
             [
              0.8888888888888888,
              "#fdca26"
             ],
             [
              1,
              "#f0f921"
             ]
            ],
            "type": "heatmap"
           }
          ],
          "heatmapgl": [
           {
            "colorbar": {
             "outlinewidth": 0,
             "ticks": ""
            },
            "colorscale": [
             [
              0,
              "#0d0887"
             ],
             [
              0.1111111111111111,
              "#46039f"
             ],
             [
              0.2222222222222222,
              "#7201a8"
             ],
             [
              0.3333333333333333,
              "#9c179e"
             ],
             [
              0.4444444444444444,
              "#bd3786"
             ],
             [
              0.5555555555555556,
              "#d8576b"
             ],
             [
              0.6666666666666666,
              "#ed7953"
             ],
             [
              0.7777777777777778,
              "#fb9f3a"
             ],
             [
              0.8888888888888888,
              "#fdca26"
             ],
             [
              1,
              "#f0f921"
             ]
            ],
            "type": "heatmapgl"
           }
          ],
          "histogram": [
           {
            "marker": {
             "colorbar": {
              "outlinewidth": 0,
              "ticks": ""
             }
            },
            "type": "histogram"
           }
          ],
          "histogram2d": [
           {
            "colorbar": {
             "outlinewidth": 0,
             "ticks": ""
            },
            "colorscale": [
             [
              0,
              "#0d0887"
             ],
             [
              0.1111111111111111,
              "#46039f"
             ],
             [
              0.2222222222222222,
              "#7201a8"
             ],
             [
              0.3333333333333333,
              "#9c179e"
             ],
             [
              0.4444444444444444,
              "#bd3786"
             ],
             [
              0.5555555555555556,
              "#d8576b"
             ],
             [
              0.6666666666666666,
              "#ed7953"
             ],
             [
              0.7777777777777778,
              "#fb9f3a"
             ],
             [
              0.8888888888888888,
              "#fdca26"
             ],
             [
              1,
              "#f0f921"
             ]
            ],
            "type": "histogram2d"
           }
          ],
          "histogram2dcontour": [
           {
            "colorbar": {
             "outlinewidth": 0,
             "ticks": ""
            },
            "colorscale": [
             [
              0,
              "#0d0887"
             ],
             [
              0.1111111111111111,
              "#46039f"
             ],
             [
              0.2222222222222222,
              "#7201a8"
             ],
             [
              0.3333333333333333,
              "#9c179e"
             ],
             [
              0.4444444444444444,
              "#bd3786"
             ],
             [
              0.5555555555555556,
              "#d8576b"
             ],
             [
              0.6666666666666666,
              "#ed7953"
             ],
             [
              0.7777777777777778,
              "#fb9f3a"
             ],
             [
              0.8888888888888888,
              "#fdca26"
             ],
             [
              1,
              "#f0f921"
             ]
            ],
            "type": "histogram2dcontour"
           }
          ],
          "mesh3d": [
           {
            "colorbar": {
             "outlinewidth": 0,
             "ticks": ""
            },
            "type": "mesh3d"
           }
          ],
          "parcoords": [
           {
            "line": {
             "colorbar": {
              "outlinewidth": 0,
              "ticks": ""
             }
            },
            "type": "parcoords"
           }
          ],
          "pie": [
           {
            "automargin": true,
            "type": "pie"
           }
          ],
          "scatter": [
           {
            "marker": {
             "colorbar": {
              "outlinewidth": 0,
              "ticks": ""
             }
            },
            "type": "scatter"
           }
          ],
          "scatter3d": [
           {
            "line": {
             "colorbar": {
              "outlinewidth": 0,
              "ticks": ""
             }
            },
            "marker": {
             "colorbar": {
              "outlinewidth": 0,
              "ticks": ""
             }
            },
            "type": "scatter3d"
           }
          ],
          "scattercarpet": [
           {
            "marker": {
             "colorbar": {
              "outlinewidth": 0,
              "ticks": ""
             }
            },
            "type": "scattercarpet"
           }
          ],
          "scattergeo": [
           {
            "marker": {
             "colorbar": {
              "outlinewidth": 0,
              "ticks": ""
             }
            },
            "type": "scattergeo"
           }
          ],
          "scattergl": [
           {
            "marker": {
             "colorbar": {
              "outlinewidth": 0,
              "ticks": ""
             }
            },
            "type": "scattergl"
           }
          ],
          "scattermapbox": [
           {
            "marker": {
             "colorbar": {
              "outlinewidth": 0,
              "ticks": ""
             }
            },
            "type": "scattermapbox"
           }
          ],
          "scatterpolar": [
           {
            "marker": {
             "colorbar": {
              "outlinewidth": 0,
              "ticks": ""
             }
            },
            "type": "scatterpolar"
           }
          ],
          "scatterpolargl": [
           {
            "marker": {
             "colorbar": {
              "outlinewidth": 0,
              "ticks": ""
             }
            },
            "type": "scatterpolargl"
           }
          ],
          "scatterternary": [
           {
            "marker": {
             "colorbar": {
              "outlinewidth": 0,
              "ticks": ""
             }
            },
            "type": "scatterternary"
           }
          ],
          "surface": [
           {
            "colorbar": {
             "outlinewidth": 0,
             "ticks": ""
            },
            "colorscale": [
             [
              0,
              "#0d0887"
             ],
             [
              0.1111111111111111,
              "#46039f"
             ],
             [
              0.2222222222222222,
              "#7201a8"
             ],
             [
              0.3333333333333333,
              "#9c179e"
             ],
             [
              0.4444444444444444,
              "#bd3786"
             ],
             [
              0.5555555555555556,
              "#d8576b"
             ],
             [
              0.6666666666666666,
              "#ed7953"
             ],
             [
              0.7777777777777778,
              "#fb9f3a"
             ],
             [
              0.8888888888888888,
              "#fdca26"
             ],
             [
              1,
              "#f0f921"
             ]
            ],
            "type": "surface"
           }
          ],
          "table": [
           {
            "cells": {
             "fill": {
              "color": "#EBF0F8"
             },
             "line": {
              "color": "white"
             }
            },
            "header": {
             "fill": {
              "color": "#C8D4E3"
             },
             "line": {
              "color": "white"
             }
            },
            "type": "table"
           }
          ]
         },
         "layout": {
          "annotationdefaults": {
           "arrowcolor": "#2a3f5f",
           "arrowhead": 0,
           "arrowwidth": 1
          },
          "autotypenumbers": "strict",
          "coloraxis": {
           "colorbar": {
            "outlinewidth": 0,
            "ticks": ""
           }
          },
          "colorscale": {
           "diverging": [
            [
             0,
             "#8e0152"
            ],
            [
             0.1,
             "#c51b7d"
            ],
            [
             0.2,
             "#de77ae"
            ],
            [
             0.3,
             "#f1b6da"
            ],
            [
             0.4,
             "#fde0ef"
            ],
            [
             0.5,
             "#f7f7f7"
            ],
            [
             0.6,
             "#e6f5d0"
            ],
            [
             0.7,
             "#b8e186"
            ],
            [
             0.8,
             "#7fbc41"
            ],
            [
             0.9,
             "#4d9221"
            ],
            [
             1,
             "#276419"
            ]
           ],
           "sequential": [
            [
             0,
             "#0d0887"
            ],
            [
             0.1111111111111111,
             "#46039f"
            ],
            [
             0.2222222222222222,
             "#7201a8"
            ],
            [
             0.3333333333333333,
             "#9c179e"
            ],
            [
             0.4444444444444444,
             "#bd3786"
            ],
            [
             0.5555555555555556,
             "#d8576b"
            ],
            [
             0.6666666666666666,
             "#ed7953"
            ],
            [
             0.7777777777777778,
             "#fb9f3a"
            ],
            [
             0.8888888888888888,
             "#fdca26"
            ],
            [
             1,
             "#f0f921"
            ]
           ],
           "sequentialminus": [
            [
             0,
             "#0d0887"
            ],
            [
             0.1111111111111111,
             "#46039f"
            ],
            [
             0.2222222222222222,
             "#7201a8"
            ],
            [
             0.3333333333333333,
             "#9c179e"
            ],
            [
             0.4444444444444444,
             "#bd3786"
            ],
            [
             0.5555555555555556,
             "#d8576b"
            ],
            [
             0.6666666666666666,
             "#ed7953"
            ],
            [
             0.7777777777777778,
             "#fb9f3a"
            ],
            [
             0.8888888888888888,
             "#fdca26"
            ],
            [
             1,
             "#f0f921"
            ]
           ]
          },
          "colorway": [
           "#636efa",
           "#EF553B",
           "#00cc96",
           "#ab63fa",
           "#FFA15A",
           "#19d3f3",
           "#FF6692",
           "#B6E880",
           "#FF97FF",
           "#FECB52"
          ],
          "font": {
           "color": "#2a3f5f"
          },
          "geo": {
           "bgcolor": "white",
           "lakecolor": "white",
           "landcolor": "#E5ECF6",
           "showlakes": true,
           "showland": true,
           "subunitcolor": "white"
          },
          "hoverlabel": {
           "align": "left"
          },
          "hovermode": "closest",
          "mapbox": {
           "style": "light"
          },
          "paper_bgcolor": "white",
          "plot_bgcolor": "#E5ECF6",
          "polar": {
           "angularaxis": {
            "gridcolor": "white",
            "linecolor": "white",
            "ticks": ""
           },
           "bgcolor": "#E5ECF6",
           "radialaxis": {
            "gridcolor": "white",
            "linecolor": "white",
            "ticks": ""
           }
          },
          "scene": {
           "xaxis": {
            "backgroundcolor": "#E5ECF6",
            "gridcolor": "white",
            "gridwidth": 2,
            "linecolor": "white",
            "showbackground": true,
            "ticks": "",
            "zerolinecolor": "white"
           },
           "yaxis": {
            "backgroundcolor": "#E5ECF6",
            "gridcolor": "white",
            "gridwidth": 2,
            "linecolor": "white",
            "showbackground": true,
            "ticks": "",
            "zerolinecolor": "white"
           },
           "zaxis": {
            "backgroundcolor": "#E5ECF6",
            "gridcolor": "white",
            "gridwidth": 2,
            "linecolor": "white",
            "showbackground": true,
            "ticks": "",
            "zerolinecolor": "white"
           }
          },
          "shapedefaults": {
           "line": {
            "color": "#2a3f5f"
           }
          },
          "ternary": {
           "aaxis": {
            "gridcolor": "white",
            "linecolor": "white",
            "ticks": ""
           },
           "baxis": {
            "gridcolor": "white",
            "linecolor": "white",
            "ticks": ""
           },
           "bgcolor": "#E5ECF6",
           "caxis": {
            "gridcolor": "white",
            "linecolor": "white",
            "ticks": ""
           }
          },
          "title": {
           "x": 0.05
          },
          "xaxis": {
           "automargin": true,
           "gridcolor": "white",
           "linecolor": "white",
           "ticks": "",
           "title": {
            "standoff": 15
           },
           "zerolinecolor": "white",
           "zerolinewidth": 2
          },
          "yaxis": {
           "automargin": true,
           "gridcolor": "white",
           "linecolor": "white",
           "ticks": "",
           "title": {
            "standoff": 15
           },
           "zerolinecolor": "white",
           "zerolinewidth": 2
          }
         }
        },
        "title": {
         "font": {
          "color": "#4D5663"
         }
        },
        "xaxis": {
         "gridcolor": "#E1E5ED",
         "showgrid": true,
         "tickfont": {
          "color": "#4D5663"
         },
         "title": {
          "font": {
           "color": "#4D5663"
          },
          "text": ""
         },
         "zerolinecolor": "#E1E5ED"
        },
        "yaxis": {
         "gridcolor": "#E1E5ED",
         "showgrid": true,
         "tickfont": {
          "color": "#4D5663"
         },
         "title": {
          "font": {
           "color": "#4D5663"
          },
          "text": ""
         },
         "zerolinecolor": "#E1E5ED"
        }
       }
      },
      "text/html": [
       "<div>                            <div id=\"6a35a9ce-6946-49a5-b494-157c5a86e23b\" class=\"plotly-graph-div\" style=\"height:525px; width:100%;\"></div>            <script type=\"text/javascript\">                require([\"plotly\"], function(Plotly) {                    window.PLOTLYENV=window.PLOTLYENV || {};\n",
       "                    window.PLOTLYENV.BASE_URL='https://plot.ly';                                    if (document.getElementById(\"6a35a9ce-6946-49a5-b494-157c5a86e23b\")) {                    Plotly.newPlot(                        \"6a35a9ce-6946-49a5-b494-157c5a86e23b\",                        [{\"boxpoints\": false, \"line\": {\"width\": 1.3}, \"marker\": {\"color\": \"rgba(255, 153, 51, 1.0)\"}, \"name\": \"A\", \"orientation\": \"v\", \"type\": \"box\", \"y\": [1.061473280205822, 0.7788035401649821, -0.2843131564415733, 0.4028606011071929, -1.0353566473067173, -1.5925881310692422, 0.03764451610017262, 0.09321189582306758, -0.4176584649435947, 1.3425792835433714, 1.0266554020785341, -0.3509763266194384, -1.1578507094975032, -0.10767980405124133, -0.7659349830162048, 0.6359970746835948, 0.781389848793117, -0.20999618974658754, -0.4724551602521327, -1.2611520993994236, 0.5011595968288648, 2.5021298775570124, -2.2161401806538175, -0.4213098675783744, 1.406278824461392, 1.0245563932292865, 0.05793642079927353, 0.5172455234185414, 0.23237803736898088, -0.36851140968886364, -0.02331748092877489, 1.1344686849252197, 0.16803740412380333, -1.3287890912409976, 0.7879241292820391, -0.005548678959254899, 0.8329045559462215, -0.7430868096641571, -1.133100937544328, 0.7006688816822035, 2.035632575118046, 0.5325886928830186, -0.8599991780600442, 0.15505475981508404, -0.2783228994628211, -0.0935045987798122, 0.257383871747999, 0.9458026852206287, 0.0523970154360034, 0.028677167605447113, 1.9243754536472717, -1.4517638419797148, -0.42240872112290845, -0.6830010989045584, 0.8998411440376746, 0.5661636957875802, 1.8078923338402904, -0.1211574749952134, 1.1628256796583745, -0.7747340750216297, -1.663603001451258, 0.6205659519924192, 1.1066279064691593, -0.4714356459473895, -0.6334083024936795, 0.7840050962817294, 0.5777402499571723, 0.13624915721450132, 0.12080615947972986, -0.7310373593845643, 2.0878737842304975, -1.260657602083573, -0.9781991587314987, 0.02552177479888971, -1.5312019439825595, 0.3819009284644589, 0.9627266602138024, -0.36528374506782496, -0.01330698839724629, -1.057342126647745, 0.026874897028896363, 1.4579519802072136, 0.3436411938175002, -0.15839574242186497, 0.9993958159176821, -0.8926368337194085, -0.427317895602847, 0.6220513939400963, 0.4957072394399795, -0.19188201177565387, -0.7045958601968229, -0.18917637706476753, -0.577505244222488, -0.6040999190689166, 0.16031718046731083, -0.7914776160554775, 1.025058265396455, 1.5523763416710603, 1.729160350179526, 0.28383053480712556]}, {\"boxpoints\": false, \"line\": {\"width\": 1.3}, \"marker\": {\"color\": \"rgba(55, 128, 191, 1.0)\"}, \"name\": \"B\", \"orientation\": \"v\", \"type\": \"box\", \"y\": [-0.1502090526950633, -1.4730229850054035, 0.8343967846403096, 0.07881786533117169, 0.2173963689453169, -0.5528080492436792, -1.6258453109586075, -0.6767305514654233, -0.14300288693546617, 0.4496954555587184, -0.01257683703554524, -0.28528865085325283, -0.6211655838808301, -0.2088464084433686, 0.11963905119676699, -0.33498296236193226, -0.33505878250702303, 1.7253129170246115, -1.1653926642573262, 0.3805949514809733, 0.09743708259195785, -1.0379640975634625, 0.15098100983051105, 0.4318977678868364, 0.4963469437410477, 0.028512895291313973, -1.0979847878044142, 0.3971856542241418, -0.7638507427802923, 0.04362940403433376, 0.5493903482135887, 0.43290716796591083, -0.44521194333356084, 0.9661060689292932, 0.44210330235753237, 0.03321214661252483, -0.48936726967185207, -0.9304182896274302, 1.6968215447462103, -0.278502027157531, 0.35962316230753194, 0.1694672554621009, 1.3463629130177368, -0.4773321454887906, 0.7558264273744825, 0.30602848551497713, 1.077734325636297, -0.06665598912475737, -0.40947446944564386, -1.046290912810996, 0.15155824818897423, 0.9479235219129352, 0.5012297209712162, 0.7202543172706395, 1.2146155916317036, -0.761540003341629, 1.4216908347738988, -0.8083797165101845, -0.9598316539739877, 0.3250456999210159, 0.7784293978884731, 0.2913806361130591, -0.7031204864984019, -0.848852060370494, 1.3077008994967214, 2.3441676335625856, 0.6737609401575443, -0.025823768466770602, -0.7677235483223626, -0.06131394849974311, 0.039052404999263476, 0.054768492284818365, -0.8498106331641933, 0.706498180370543, -1.2607512917177826, -0.41172978961905266, -0.2707358279752124, 0.23025681528889977, 0.5539822404638315, -0.08288867817875158, -0.997771161936249, -0.678778928533606, -1.1474059797681828, 0.13050467561654697, -0.20127543952445254, 1.1734867634071395, -0.14447033334416912, -0.7768356529113692, 2.108155468791955, 0.2577470285525313, 0.34417938196510817, -1.077596212923613, -0.6645104260980493, 0.5900139902104728, -0.8875170695082091, 1.6232057752672975, -0.4425887211319952, -0.11476017820101533, -0.33938732454496534, 0.8827855572707493]}, {\"boxpoints\": false, \"line\": {\"width\": 1.3}, \"marker\": {\"color\": \"rgba(50, 171, 96, 1.0)\"}, \"name\": \"C\", \"orientation\": \"v\", \"type\": \"box\", \"y\": [-0.47714094631062437, -1.3345994918462734, -0.09706841022884331, 1.1968284173047101, -0.6781421534686967, 0.43159356038013935, 0.6835822972305295, 1.5711798443259752, -0.27737562899744533, 0.5994425730797492, -0.15410497991092595, 1.0107493932087777, 0.15790142926355047, -0.8841180511952776, -1.3350209756308677, 0.5485462338639149, -0.8619817842262595, -0.7168525530062234, 1.1273469677020778, 0.8730206000954404, -0.24702144524183348, 0.7880028275551544, 0.2071746893225869, -0.029225038016002854, 1.865403567959548, 0.11538188550007665, 1.269548326304167, 0.16509610572813474, 0.8999860999795253, -0.0354781432835169, -0.49133860040138927, 0.9079135076642156, -0.8114482812530663, 0.8220565081765221, 0.39946462690287393, -0.5547203946074728, -1.62037719639545, 0.26472999659299234, -0.45658294841827207, -1.2614757474644993, -0.43639157115159743, 1.2881598359634865, -0.23110420853353672, -0.4744266952361845, 0.8272940547801969, -0.477104784804838, -0.7963256279031508, -0.8925126287583691, -1.5330790864952706, 0.6151987020079225, 0.4591690773644197, -1.5059313243649641, 0.29372259009452656, 1.1736766502681213, 0.7310143871935828, 0.22948656932661435, 0.9737063267905761, 0.9345629639664688, -0.7114277853243768, 0.5927372448969023, 0.285849459719758, 0.60474917891961, -0.6367443989963583, -1.2001184162791918, 0.6190840465127015, 1.2339947962318631, -0.8187481609627966, -1.5506335715530588, 0.27012562568802667, -0.4171533248547998, -0.8984022932891833, -1.3991492296082042, -0.5598386542022132, 1.1269459966469904, 1.8281568708288565, -0.406172312652385, -0.1640700800271707, -1.040967602120725, -1.0298408006190567, -1.5270696190537125, -0.2873013178148533, 2.356989409619273, 1.3783874582632833, -0.5733734484701256, -1.3093978213393007, -0.031035089615515692, -1.0539086734360197, 1.319453591012269, -0.5158746252674392, 0.4087916669098679, -0.6591222849766853, -2.197209533022403, 0.0022492549136631694, 0.8021121429442958, 1.461573563904791, 1.233482781292835, -0.2713433242778099, 0.09255866193143845, -0.9387691637262042, -1.3143626501216688]}, {\"boxpoints\": false, \"line\": {\"width\": 1.3}, \"marker\": {\"color\": \"rgba(128, 0, 128, 1.0)\"}, \"name\": \"D\", \"orientation\": \"v\", \"type\": \"box\", \"y\": [1.6314890263197093, -0.6965718949158347, 0.35084318365036765, -1.2222638113329922, 0.6057486684596096, 0.1452009905992692, -0.6668275595094052, 0.49909495279141736, -1.1829092869149782, 0.6705087643248491, 0.8622858501949637, 1.225417623604347, 1.755725704148251, 1.1309847736467293, -0.5336105481216621, 0.7107270765748982, 2.0435749991999623, 1.2961399551551187, -1.6630925483891579, 0.4230686092321981, -1.1447678627644444, 0.5153826472117116, -0.0002649357515297671, 0.31907947552678717, 1.9410031412628177, 1.3972847873794798, -0.3360358659654972, 1.1498644432680514, 1.1186222369629626, -1.0632158208343334, -0.05930212027860439, 1.9594955868731154, -1.4415945415090048, 0.5543778984758491, 1.6684568260885326, -0.9657872528147986, -0.275521957970055, -0.18596131515277367, 0.8938964819496332, 1.2875885101092677, -0.4272488078580057, -0.26185929298795513, 0.47858563361446205, -0.28598242623725545, 0.38454741202639714, -1.3527736346922408, 1.5444272867441986, -0.3570274407771999, -0.7262802270049282, 1.2520672171528433, 0.5073482762541652, -0.010703223441998921, -0.7018499206350687, -0.010451541881170784, -0.24866318791685305, -0.8482855975753855, 0.8344833151665356, 1.1409383112926403, -1.3915829568990927, -0.30856369866854416, 0.7064812547399467, -0.8545392957094377, 1.0022935778450717, -0.9919371688360995, 0.36963442707580324, -0.5629342487974898, 0.16960105239569848, -0.40362658397962303, -1.6780961091806244, -0.9687692761826167, -0.5029640394538285, 0.23498051849444426, -0.6979677180565823, 0.9919702901846777, -2.3777343087528027, -1.227705051199071, -0.059914758678974736, 1.672020587047513, -1.9817420768305458, -0.5382447203064389, -1.2468599687743567, 1.0967785445323446, -1.294038898804085, -0.38134039447576606, 0.8389213301310103, 0.7556168393816037, 2.0671722471818614, 1.3722760538868541, -0.42438600997816767, 1.4249998743946992, 0.2601743447370759, 0.020246716306334817, -0.7555172138596694, 0.07425581796169935, -2.5711289485102866, -0.9898595722162504, -0.24067441805738782, -1.991382303709734, 0.23063973668514276, 1.278168487899292]}],                        {\"legend\": {\"bgcolor\": \"#F5F6F9\", \"font\": {\"color\": \"#4D5663\"}}, \"paper_bgcolor\": \"#F5F6F9\", \"plot_bgcolor\": \"#F5F6F9\", \"template\": {\"data\": {\"bar\": [{\"error_x\": {\"color\": \"#2a3f5f\"}, \"error_y\": {\"color\": \"#2a3f5f\"}, \"marker\": {\"line\": {\"color\": \"#E5ECF6\", \"width\": 0.5}}, \"type\": \"bar\"}], \"barpolar\": [{\"marker\": {\"line\": {\"color\": \"#E5ECF6\", \"width\": 0.5}}, \"type\": \"barpolar\"}], \"carpet\": [{\"aaxis\": {\"endlinecolor\": \"#2a3f5f\", \"gridcolor\": \"white\", \"linecolor\": \"white\", \"minorgridcolor\": \"white\", \"startlinecolor\": \"#2a3f5f\"}, \"baxis\": {\"endlinecolor\": \"#2a3f5f\", \"gridcolor\": \"white\", \"linecolor\": \"white\", \"minorgridcolor\": \"white\", \"startlinecolor\": \"#2a3f5f\"}, \"type\": \"carpet\"}], \"choropleth\": [{\"colorbar\": {\"outlinewidth\": 0, \"ticks\": \"\"}, \"type\": \"choropleth\"}], \"contour\": [{\"colorbar\": {\"outlinewidth\": 0, \"ticks\": \"\"}, \"colorscale\": [[0.0, \"#0d0887\"], [0.1111111111111111, \"#46039f\"], [0.2222222222222222, \"#7201a8\"], [0.3333333333333333, \"#9c179e\"], [0.4444444444444444, \"#bd3786\"], [0.5555555555555556, \"#d8576b\"], [0.6666666666666666, \"#ed7953\"], [0.7777777777777778, \"#fb9f3a\"], [0.8888888888888888, \"#fdca26\"], [1.0, \"#f0f921\"]], \"type\": \"contour\"}], \"contourcarpet\": [{\"colorbar\": {\"outlinewidth\": 0, \"ticks\": \"\"}, \"type\": \"contourcarpet\"}], \"heatmap\": [{\"colorbar\": {\"outlinewidth\": 0, \"ticks\": \"\"}, \"colorscale\": [[0.0, \"#0d0887\"], [0.1111111111111111, \"#46039f\"], [0.2222222222222222, \"#7201a8\"], [0.3333333333333333, \"#9c179e\"], [0.4444444444444444, \"#bd3786\"], [0.5555555555555556, \"#d8576b\"], [0.6666666666666666, \"#ed7953\"], [0.7777777777777778, \"#fb9f3a\"], [0.8888888888888888, \"#fdca26\"], [1.0, \"#f0f921\"]], \"type\": \"heatmap\"}], \"heatmapgl\": [{\"colorbar\": {\"outlinewidth\": 0, \"ticks\": \"\"}, \"colorscale\": [[0.0, \"#0d0887\"], [0.1111111111111111, \"#46039f\"], [0.2222222222222222, \"#7201a8\"], [0.3333333333333333, \"#9c179e\"], [0.4444444444444444, \"#bd3786\"], [0.5555555555555556, \"#d8576b\"], [0.6666666666666666, \"#ed7953\"], [0.7777777777777778, \"#fb9f3a\"], [0.8888888888888888, \"#fdca26\"], [1.0, \"#f0f921\"]], \"type\": \"heatmapgl\"}], \"histogram\": [{\"marker\": {\"colorbar\": {\"outlinewidth\": 0, \"ticks\": \"\"}}, \"type\": \"histogram\"}], \"histogram2d\": [{\"colorbar\": {\"outlinewidth\": 0, \"ticks\": \"\"}, \"colorscale\": [[0.0, \"#0d0887\"], [0.1111111111111111, \"#46039f\"], [0.2222222222222222, \"#7201a8\"], [0.3333333333333333, \"#9c179e\"], [0.4444444444444444, \"#bd3786\"], [0.5555555555555556, \"#d8576b\"], [0.6666666666666666, \"#ed7953\"], [0.7777777777777778, \"#fb9f3a\"], [0.8888888888888888, \"#fdca26\"], [1.0, \"#f0f921\"]], \"type\": \"histogram2d\"}], \"histogram2dcontour\": [{\"colorbar\": {\"outlinewidth\": 0, \"ticks\": \"\"}, \"colorscale\": [[0.0, \"#0d0887\"], [0.1111111111111111, \"#46039f\"], [0.2222222222222222, \"#7201a8\"], [0.3333333333333333, \"#9c179e\"], [0.4444444444444444, \"#bd3786\"], [0.5555555555555556, \"#d8576b\"], [0.6666666666666666, \"#ed7953\"], [0.7777777777777778, \"#fb9f3a\"], [0.8888888888888888, \"#fdca26\"], [1.0, \"#f0f921\"]], \"type\": \"histogram2dcontour\"}], \"mesh3d\": [{\"colorbar\": {\"outlinewidth\": 0, \"ticks\": \"\"}, \"type\": \"mesh3d\"}], \"parcoords\": [{\"line\": {\"colorbar\": {\"outlinewidth\": 0, \"ticks\": \"\"}}, \"type\": \"parcoords\"}], \"pie\": [{\"automargin\": true, \"type\": \"pie\"}], \"scatter\": [{\"marker\": {\"colorbar\": {\"outlinewidth\": 0, \"ticks\": \"\"}}, \"type\": \"scatter\"}], \"scatter3d\": [{\"line\": {\"colorbar\": {\"outlinewidth\": 0, \"ticks\": \"\"}}, \"marker\": {\"colorbar\": {\"outlinewidth\": 0, \"ticks\": \"\"}}, \"type\": \"scatter3d\"}], \"scattercarpet\": [{\"marker\": {\"colorbar\": {\"outlinewidth\": 0, \"ticks\": \"\"}}, \"type\": \"scattercarpet\"}], \"scattergeo\": [{\"marker\": {\"colorbar\": {\"outlinewidth\": 0, \"ticks\": \"\"}}, \"type\": \"scattergeo\"}], \"scattergl\": [{\"marker\": {\"colorbar\": {\"outlinewidth\": 0, \"ticks\": \"\"}}, \"type\": \"scattergl\"}], \"scattermapbox\": [{\"marker\": {\"colorbar\": {\"outlinewidth\": 0, \"ticks\": \"\"}}, \"type\": \"scattermapbox\"}], \"scatterpolar\": [{\"marker\": {\"colorbar\": {\"outlinewidth\": 0, \"ticks\": \"\"}}, \"type\": \"scatterpolar\"}], \"scatterpolargl\": [{\"marker\": {\"colorbar\": {\"outlinewidth\": 0, \"ticks\": \"\"}}, \"type\": \"scatterpolargl\"}], \"scatterternary\": [{\"marker\": {\"colorbar\": {\"outlinewidth\": 0, \"ticks\": \"\"}}, \"type\": \"scatterternary\"}], \"surface\": [{\"colorbar\": {\"outlinewidth\": 0, \"ticks\": \"\"}, \"colorscale\": [[0.0, \"#0d0887\"], [0.1111111111111111, \"#46039f\"], [0.2222222222222222, \"#7201a8\"], [0.3333333333333333, \"#9c179e\"], [0.4444444444444444, \"#bd3786\"], [0.5555555555555556, \"#d8576b\"], [0.6666666666666666, \"#ed7953\"], [0.7777777777777778, \"#fb9f3a\"], [0.8888888888888888, \"#fdca26\"], [1.0, \"#f0f921\"]], \"type\": \"surface\"}], \"table\": [{\"cells\": {\"fill\": {\"color\": \"#EBF0F8\"}, \"line\": {\"color\": \"white\"}}, \"header\": {\"fill\": {\"color\": \"#C8D4E3\"}, \"line\": {\"color\": \"white\"}}, \"type\": \"table\"}]}, \"layout\": {\"annotationdefaults\": {\"arrowcolor\": \"#2a3f5f\", \"arrowhead\": 0, \"arrowwidth\": 1}, \"autotypenumbers\": \"strict\", \"coloraxis\": {\"colorbar\": {\"outlinewidth\": 0, \"ticks\": \"\"}}, \"colorscale\": {\"diverging\": [[0, \"#8e0152\"], [0.1, \"#c51b7d\"], [0.2, \"#de77ae\"], [0.3, \"#f1b6da\"], [0.4, \"#fde0ef\"], [0.5, \"#f7f7f7\"], [0.6, \"#e6f5d0\"], [0.7, \"#b8e186\"], [0.8, \"#7fbc41\"], [0.9, \"#4d9221\"], [1, \"#276419\"]], \"sequential\": [[0.0, \"#0d0887\"], [0.1111111111111111, \"#46039f\"], [0.2222222222222222, \"#7201a8\"], [0.3333333333333333, \"#9c179e\"], [0.4444444444444444, \"#bd3786\"], [0.5555555555555556, \"#d8576b\"], [0.6666666666666666, \"#ed7953\"], [0.7777777777777778, \"#fb9f3a\"], [0.8888888888888888, \"#fdca26\"], [1.0, \"#f0f921\"]], \"sequentialminus\": [[0.0, \"#0d0887\"], [0.1111111111111111, \"#46039f\"], [0.2222222222222222, \"#7201a8\"], [0.3333333333333333, \"#9c179e\"], [0.4444444444444444, \"#bd3786\"], [0.5555555555555556, \"#d8576b\"], [0.6666666666666666, \"#ed7953\"], [0.7777777777777778, \"#fb9f3a\"], [0.8888888888888888, \"#fdca26\"], [1.0, \"#f0f921\"]]}, \"colorway\": [\"#636efa\", \"#EF553B\", \"#00cc96\", \"#ab63fa\", \"#FFA15A\", \"#19d3f3\", \"#FF6692\", \"#B6E880\", \"#FF97FF\", \"#FECB52\"], \"font\": {\"color\": \"#2a3f5f\"}, \"geo\": {\"bgcolor\": \"white\", \"lakecolor\": \"white\", \"landcolor\": \"#E5ECF6\", \"showlakes\": true, \"showland\": true, \"subunitcolor\": \"white\"}, \"hoverlabel\": {\"align\": \"left\"}, \"hovermode\": \"closest\", \"mapbox\": {\"style\": \"light\"}, \"paper_bgcolor\": \"white\", \"plot_bgcolor\": \"#E5ECF6\", \"polar\": {\"angularaxis\": {\"gridcolor\": \"white\", \"linecolor\": \"white\", \"ticks\": \"\"}, \"bgcolor\": \"#E5ECF6\", \"radialaxis\": {\"gridcolor\": \"white\", \"linecolor\": \"white\", \"ticks\": \"\"}}, \"scene\": {\"xaxis\": {\"backgroundcolor\": \"#E5ECF6\", \"gridcolor\": \"white\", \"gridwidth\": 2, \"linecolor\": \"white\", \"showbackground\": true, \"ticks\": \"\", \"zerolinecolor\": \"white\"}, \"yaxis\": {\"backgroundcolor\": \"#E5ECF6\", \"gridcolor\": \"white\", \"gridwidth\": 2, \"linecolor\": \"white\", \"showbackground\": true, \"ticks\": \"\", \"zerolinecolor\": \"white\"}, \"zaxis\": {\"backgroundcolor\": \"#E5ECF6\", \"gridcolor\": \"white\", \"gridwidth\": 2, \"linecolor\": \"white\", \"showbackground\": true, \"ticks\": \"\", \"zerolinecolor\": \"white\"}}, \"shapedefaults\": {\"line\": {\"color\": \"#2a3f5f\"}}, \"ternary\": {\"aaxis\": {\"gridcolor\": \"white\", \"linecolor\": \"white\", \"ticks\": \"\"}, \"baxis\": {\"gridcolor\": \"white\", \"linecolor\": \"white\", \"ticks\": \"\"}, \"bgcolor\": \"#E5ECF6\", \"caxis\": {\"gridcolor\": \"white\", \"linecolor\": \"white\", \"ticks\": \"\"}}, \"title\": {\"x\": 0.05}, \"xaxis\": {\"automargin\": true, \"gridcolor\": \"white\", \"linecolor\": \"white\", \"ticks\": \"\", \"title\": {\"standoff\": 15}, \"zerolinecolor\": \"white\", \"zerolinewidth\": 2}, \"yaxis\": {\"automargin\": true, \"gridcolor\": \"white\", \"linecolor\": \"white\", \"ticks\": \"\", \"title\": {\"standoff\": 15}, \"zerolinecolor\": \"white\", \"zerolinewidth\": 2}}}, \"title\": {\"font\": {\"color\": \"#4D5663\"}}, \"xaxis\": {\"gridcolor\": \"#E1E5ED\", \"showgrid\": true, \"tickfont\": {\"color\": \"#4D5663\"}, \"title\": {\"font\": {\"color\": \"#4D5663\"}, \"text\": \"\"}, \"zerolinecolor\": \"#E1E5ED\"}, \"yaxis\": {\"gridcolor\": \"#E1E5ED\", \"showgrid\": true, \"tickfont\": {\"color\": \"#4D5663\"}, \"title\": {\"font\": {\"color\": \"#4D5663\"}, \"text\": \"\"}, \"zerolinecolor\": \"#E1E5ED\"}},                        {\"showLink\": true, \"linkText\": \"Export to plot.ly\", \"plotlyServerURL\": \"https://plot.ly\", \"responsive\": true}                    ).then(function(){\n",
       "                            \n",
       "var gd = document.getElementById('6a35a9ce-6946-49a5-b494-157c5a86e23b');\n",
       "var x = new MutationObserver(function (mutations, observer) {{\n",
       "        var display = window.getComputedStyle(gd).display;\n",
       "        if (!display || display === 'none') {{\n",
       "            console.log([gd, 'removed!']);\n",
       "            Plotly.purge(gd);\n",
       "            observer.disconnect();\n",
       "        }}\n",
       "}});\n",
       "\n",
       "// Listen for the removal of the full notebook cells\n",
       "var notebookContainer = gd.closest('#notebook-container');\n",
       "if (notebookContainer) {{\n",
       "    x.observe(notebookContainer, {childList: true});\n",
       "}}\n",
       "\n",
       "// Listen for the clearing of the current output cell\n",
       "var outputEl = gd.closest('.output');\n",
       "if (outputEl) {{\n",
       "    x.observe(outputEl, {childList: true});\n",
       "}}\n",
       "\n",
       "                        })                };                });            </script>        </div>"
      ]
     },
     "metadata": {},
     "output_type": "display_data"
    }
   ],
   "source": [
    "df.iplot(kind='box')"
   ]
  },
  {
   "cell_type": "code",
   "execution_count": 31,
   "id": "several-banana",
   "metadata": {},
   "outputs": [],
   "source": [
    "df3=pd.DataFrame({'x':[1,2,3,4,5],'y':[10,20,30,40,50],'z':[100,200,300,400,500]}) #three dimensional value"
   ]
  },
  {
   "cell_type": "code",
   "execution_count": 32,
   "id": "wireless-private",
   "metadata": {},
   "outputs": [
    {
     "data": {
      "text/html": [
       "<div>\n",
       "<style scoped>\n",
       "    .dataframe tbody tr th:only-of-type {\n",
       "        vertical-align: middle;\n",
       "    }\n",
       "\n",
       "    .dataframe tbody tr th {\n",
       "        vertical-align: top;\n",
       "    }\n",
       "\n",
       "    .dataframe thead th {\n",
       "        text-align: right;\n",
       "    }\n",
       "</style>\n",
       "<table border=\"1\" class=\"dataframe\">\n",
       "  <thead>\n",
       "    <tr style=\"text-align: right;\">\n",
       "      <th></th>\n",
       "      <th>x</th>\n",
       "      <th>y</th>\n",
       "      <th>z</th>\n",
       "    </tr>\n",
       "  </thead>\n",
       "  <tbody>\n",
       "    <tr>\n",
       "      <th>0</th>\n",
       "      <td>1</td>\n",
       "      <td>10</td>\n",
       "      <td>100</td>\n",
       "    </tr>\n",
       "    <tr>\n",
       "      <th>1</th>\n",
       "      <td>2</td>\n",
       "      <td>20</td>\n",
       "      <td>200</td>\n",
       "    </tr>\n",
       "    <tr>\n",
       "      <th>2</th>\n",
       "      <td>3</td>\n",
       "      <td>30</td>\n",
       "      <td>300</td>\n",
       "    </tr>\n",
       "    <tr>\n",
       "      <th>3</th>\n",
       "      <td>4</td>\n",
       "      <td>40</td>\n",
       "      <td>400</td>\n",
       "    </tr>\n",
       "    <tr>\n",
       "      <th>4</th>\n",
       "      <td>5</td>\n",
       "      <td>50</td>\n",
       "      <td>500</td>\n",
       "    </tr>\n",
       "  </tbody>\n",
       "</table>\n",
       "</div>"
      ],
      "text/plain": [
       "   x   y    z\n",
       "0  1  10  100\n",
       "1  2  20  200\n",
       "2  3  30  300\n",
       "3  4  40  400\n",
       "4  5  50  500"
      ]
     },
     "execution_count": 32,
     "metadata": {},
     "output_type": "execute_result"
    }
   ],
   "source": [
    "df3"
   ]
  },
  {
   "cell_type": "code",
   "execution_count": 34,
   "id": "angry-silver",
   "metadata": {},
   "outputs": [
    {
     "data": {
      "application/vnd.plotly.v1+json": {
       "config": {
        "linkText": "Export to plot.ly",
        "plotlyServerURL": "https://plot.ly",
        "showLink": true
       },
       "data": [
        {
         "colorscale": [
          [
           0,
           "rgb(165,0,38)"
          ],
          [
           0.1,
           "rgb(215,48,39)"
          ],
          [
           0.2,
           "rgb(244,109,67)"
          ],
          [
           0.3,
           "rgb(253,174,97)"
          ],
          [
           0.4,
           "rgb(254,224,144)"
          ],
          [
           0.5,
           "rgb(255,255,191)"
          ],
          [
           0.6,
           "rgb(224,243,248)"
          ],
          [
           0.7,
           "rgb(171,217,233)"
          ],
          [
           0.8,
           "rgb(116,173,209)"
          ],
          [
           0.9,
           "rgb(69,117,180)"
          ],
          [
           1,
           "rgb(49,54,149)"
          ]
         ],
         "type": "surface",
         "x": [
          0,
          1,
          2,
          3,
          4
         ],
         "y": [
          "x",
          "y",
          "z"
         ],
         "z": [
          [
           1,
           2,
           3,
           4,
           5
          ],
          [
           10,
           20,
           30,
           40,
           50
          ],
          [
           100,
           200,
           300,
           400,
           500
          ]
         ]
        }
       ],
       "layout": {
        "legend": {
         "bgcolor": "#F5F6F9",
         "font": {
          "color": "#4D5663"
         }
        },
        "paper_bgcolor": "#F5F6F9",
        "plot_bgcolor": "#F5F6F9",
        "template": {
         "data": {
          "bar": [
           {
            "error_x": {
             "color": "#2a3f5f"
            },
            "error_y": {
             "color": "#2a3f5f"
            },
            "marker": {
             "line": {
              "color": "#E5ECF6",
              "width": 0.5
             }
            },
            "type": "bar"
           }
          ],
          "barpolar": [
           {
            "marker": {
             "line": {
              "color": "#E5ECF6",
              "width": 0.5
             }
            },
            "type": "barpolar"
           }
          ],
          "carpet": [
           {
            "aaxis": {
             "endlinecolor": "#2a3f5f",
             "gridcolor": "white",
             "linecolor": "white",
             "minorgridcolor": "white",
             "startlinecolor": "#2a3f5f"
            },
            "baxis": {
             "endlinecolor": "#2a3f5f",
             "gridcolor": "white",
             "linecolor": "white",
             "minorgridcolor": "white",
             "startlinecolor": "#2a3f5f"
            },
            "type": "carpet"
           }
          ],
          "choropleth": [
           {
            "colorbar": {
             "outlinewidth": 0,
             "ticks": ""
            },
            "type": "choropleth"
           }
          ],
          "contour": [
           {
            "colorbar": {
             "outlinewidth": 0,
             "ticks": ""
            },
            "colorscale": [
             [
              0,
              "#0d0887"
             ],
             [
              0.1111111111111111,
              "#46039f"
             ],
             [
              0.2222222222222222,
              "#7201a8"
             ],
             [
              0.3333333333333333,
              "#9c179e"
             ],
             [
              0.4444444444444444,
              "#bd3786"
             ],
             [
              0.5555555555555556,
              "#d8576b"
             ],
             [
              0.6666666666666666,
              "#ed7953"
             ],
             [
              0.7777777777777778,
              "#fb9f3a"
             ],
             [
              0.8888888888888888,
              "#fdca26"
             ],
             [
              1,
              "#f0f921"
             ]
            ],
            "type": "contour"
           }
          ],
          "contourcarpet": [
           {
            "colorbar": {
             "outlinewidth": 0,
             "ticks": ""
            },
            "type": "contourcarpet"
           }
          ],
          "heatmap": [
           {
            "colorbar": {
             "outlinewidth": 0,
             "ticks": ""
            },
            "colorscale": [
             [
              0,
              "#0d0887"
             ],
             [
              0.1111111111111111,
              "#46039f"
             ],
             [
              0.2222222222222222,
              "#7201a8"
             ],
             [
              0.3333333333333333,
              "#9c179e"
             ],
             [
              0.4444444444444444,
              "#bd3786"
             ],
             [
              0.5555555555555556,
              "#d8576b"
             ],
             [
              0.6666666666666666,
              "#ed7953"
             ],
             [
              0.7777777777777778,
              "#fb9f3a"
             ],
             [
              0.8888888888888888,
              "#fdca26"
             ],
             [
              1,
              "#f0f921"
             ]
            ],
            "type": "heatmap"
           }
          ],
          "heatmapgl": [
           {
            "colorbar": {
             "outlinewidth": 0,
             "ticks": ""
            },
            "colorscale": [
             [
              0,
              "#0d0887"
             ],
             [
              0.1111111111111111,
              "#46039f"
             ],
             [
              0.2222222222222222,
              "#7201a8"
             ],
             [
              0.3333333333333333,
              "#9c179e"
             ],
             [
              0.4444444444444444,
              "#bd3786"
             ],
             [
              0.5555555555555556,
              "#d8576b"
             ],
             [
              0.6666666666666666,
              "#ed7953"
             ],
             [
              0.7777777777777778,
              "#fb9f3a"
             ],
             [
              0.8888888888888888,
              "#fdca26"
             ],
             [
              1,
              "#f0f921"
             ]
            ],
            "type": "heatmapgl"
           }
          ],
          "histogram": [
           {
            "marker": {
             "colorbar": {
              "outlinewidth": 0,
              "ticks": ""
             }
            },
            "type": "histogram"
           }
          ],
          "histogram2d": [
           {
            "colorbar": {
             "outlinewidth": 0,
             "ticks": ""
            },
            "colorscale": [
             [
              0,
              "#0d0887"
             ],
             [
              0.1111111111111111,
              "#46039f"
             ],
             [
              0.2222222222222222,
              "#7201a8"
             ],
             [
              0.3333333333333333,
              "#9c179e"
             ],
             [
              0.4444444444444444,
              "#bd3786"
             ],
             [
              0.5555555555555556,
              "#d8576b"
             ],
             [
              0.6666666666666666,
              "#ed7953"
             ],
             [
              0.7777777777777778,
              "#fb9f3a"
             ],
             [
              0.8888888888888888,
              "#fdca26"
             ],
             [
              1,
              "#f0f921"
             ]
            ],
            "type": "histogram2d"
           }
          ],
          "histogram2dcontour": [
           {
            "colorbar": {
             "outlinewidth": 0,
             "ticks": ""
            },
            "colorscale": [
             [
              0,
              "#0d0887"
             ],
             [
              0.1111111111111111,
              "#46039f"
             ],
             [
              0.2222222222222222,
              "#7201a8"
             ],
             [
              0.3333333333333333,
              "#9c179e"
             ],
             [
              0.4444444444444444,
              "#bd3786"
             ],
             [
              0.5555555555555556,
              "#d8576b"
             ],
             [
              0.6666666666666666,
              "#ed7953"
             ],
             [
              0.7777777777777778,
              "#fb9f3a"
             ],
             [
              0.8888888888888888,
              "#fdca26"
             ],
             [
              1,
              "#f0f921"
             ]
            ],
            "type": "histogram2dcontour"
           }
          ],
          "mesh3d": [
           {
            "colorbar": {
             "outlinewidth": 0,
             "ticks": ""
            },
            "type": "mesh3d"
           }
          ],
          "parcoords": [
           {
            "line": {
             "colorbar": {
              "outlinewidth": 0,
              "ticks": ""
             }
            },
            "type": "parcoords"
           }
          ],
          "pie": [
           {
            "automargin": true,
            "type": "pie"
           }
          ],
          "scatter": [
           {
            "marker": {
             "colorbar": {
              "outlinewidth": 0,
              "ticks": ""
             }
            },
            "type": "scatter"
           }
          ],
          "scatter3d": [
           {
            "line": {
             "colorbar": {
              "outlinewidth": 0,
              "ticks": ""
             }
            },
            "marker": {
             "colorbar": {
              "outlinewidth": 0,
              "ticks": ""
             }
            },
            "type": "scatter3d"
           }
          ],
          "scattercarpet": [
           {
            "marker": {
             "colorbar": {
              "outlinewidth": 0,
              "ticks": ""
             }
            },
            "type": "scattercarpet"
           }
          ],
          "scattergeo": [
           {
            "marker": {
             "colorbar": {
              "outlinewidth": 0,
              "ticks": ""
             }
            },
            "type": "scattergeo"
           }
          ],
          "scattergl": [
           {
            "marker": {
             "colorbar": {
              "outlinewidth": 0,
              "ticks": ""
             }
            },
            "type": "scattergl"
           }
          ],
          "scattermapbox": [
           {
            "marker": {
             "colorbar": {
              "outlinewidth": 0,
              "ticks": ""
             }
            },
            "type": "scattermapbox"
           }
          ],
          "scatterpolar": [
           {
            "marker": {
             "colorbar": {
              "outlinewidth": 0,
              "ticks": ""
             }
            },
            "type": "scatterpolar"
           }
          ],
          "scatterpolargl": [
           {
            "marker": {
             "colorbar": {
              "outlinewidth": 0,
              "ticks": ""
             }
            },
            "type": "scatterpolargl"
           }
          ],
          "scatterternary": [
           {
            "marker": {
             "colorbar": {
              "outlinewidth": 0,
              "ticks": ""
             }
            },
            "type": "scatterternary"
           }
          ],
          "surface": [
           {
            "colorbar": {
             "outlinewidth": 0,
             "ticks": ""
            },
            "colorscale": [
             [
              0,
              "#0d0887"
             ],
             [
              0.1111111111111111,
              "#46039f"
             ],
             [
              0.2222222222222222,
              "#7201a8"
             ],
             [
              0.3333333333333333,
              "#9c179e"
             ],
             [
              0.4444444444444444,
              "#bd3786"
             ],
             [
              0.5555555555555556,
              "#d8576b"
             ],
             [
              0.6666666666666666,
              "#ed7953"
             ],
             [
              0.7777777777777778,
              "#fb9f3a"
             ],
             [
              0.8888888888888888,
              "#fdca26"
             ],
             [
              1,
              "#f0f921"
             ]
            ],
            "type": "surface"
           }
          ],
          "table": [
           {
            "cells": {
             "fill": {
              "color": "#EBF0F8"
             },
             "line": {
              "color": "white"
             }
            },
            "header": {
             "fill": {
              "color": "#C8D4E3"
             },
             "line": {
              "color": "white"
             }
            },
            "type": "table"
           }
          ]
         },
         "layout": {
          "annotationdefaults": {
           "arrowcolor": "#2a3f5f",
           "arrowhead": 0,
           "arrowwidth": 1
          },
          "autotypenumbers": "strict",
          "coloraxis": {
           "colorbar": {
            "outlinewidth": 0,
            "ticks": ""
           }
          },
          "colorscale": {
           "diverging": [
            [
             0,
             "#8e0152"
            ],
            [
             0.1,
             "#c51b7d"
            ],
            [
             0.2,
             "#de77ae"
            ],
            [
             0.3,
             "#f1b6da"
            ],
            [
             0.4,
             "#fde0ef"
            ],
            [
             0.5,
             "#f7f7f7"
            ],
            [
             0.6,
             "#e6f5d0"
            ],
            [
             0.7,
             "#b8e186"
            ],
            [
             0.8,
             "#7fbc41"
            ],
            [
             0.9,
             "#4d9221"
            ],
            [
             1,
             "#276419"
            ]
           ],
           "sequential": [
            [
             0,
             "#0d0887"
            ],
            [
             0.1111111111111111,
             "#46039f"
            ],
            [
             0.2222222222222222,
             "#7201a8"
            ],
            [
             0.3333333333333333,
             "#9c179e"
            ],
            [
             0.4444444444444444,
             "#bd3786"
            ],
            [
             0.5555555555555556,
             "#d8576b"
            ],
            [
             0.6666666666666666,
             "#ed7953"
            ],
            [
             0.7777777777777778,
             "#fb9f3a"
            ],
            [
             0.8888888888888888,
             "#fdca26"
            ],
            [
             1,
             "#f0f921"
            ]
           ],
           "sequentialminus": [
            [
             0,
             "#0d0887"
            ],
            [
             0.1111111111111111,
             "#46039f"
            ],
            [
             0.2222222222222222,
             "#7201a8"
            ],
            [
             0.3333333333333333,
             "#9c179e"
            ],
            [
             0.4444444444444444,
             "#bd3786"
            ],
            [
             0.5555555555555556,
             "#d8576b"
            ],
            [
             0.6666666666666666,
             "#ed7953"
            ],
            [
             0.7777777777777778,
             "#fb9f3a"
            ],
            [
             0.8888888888888888,
             "#fdca26"
            ],
            [
             1,
             "#f0f921"
            ]
           ]
          },
          "colorway": [
           "#636efa",
           "#EF553B",
           "#00cc96",
           "#ab63fa",
           "#FFA15A",
           "#19d3f3",
           "#FF6692",
           "#B6E880",
           "#FF97FF",
           "#FECB52"
          ],
          "font": {
           "color": "#2a3f5f"
          },
          "geo": {
           "bgcolor": "white",
           "lakecolor": "white",
           "landcolor": "#E5ECF6",
           "showlakes": true,
           "showland": true,
           "subunitcolor": "white"
          },
          "hoverlabel": {
           "align": "left"
          },
          "hovermode": "closest",
          "mapbox": {
           "style": "light"
          },
          "paper_bgcolor": "white",
          "plot_bgcolor": "#E5ECF6",
          "polar": {
           "angularaxis": {
            "gridcolor": "white",
            "linecolor": "white",
            "ticks": ""
           },
           "bgcolor": "#E5ECF6",
           "radialaxis": {
            "gridcolor": "white",
            "linecolor": "white",
            "ticks": ""
           }
          },
          "scene": {
           "xaxis": {
            "backgroundcolor": "#E5ECF6",
            "gridcolor": "white",
            "gridwidth": 2,
            "linecolor": "white",
            "showbackground": true,
            "ticks": "",
            "zerolinecolor": "white"
           },
           "yaxis": {
            "backgroundcolor": "#E5ECF6",
            "gridcolor": "white",
            "gridwidth": 2,
            "linecolor": "white",
            "showbackground": true,
            "ticks": "",
            "zerolinecolor": "white"
           },
           "zaxis": {
            "backgroundcolor": "#E5ECF6",
            "gridcolor": "white",
            "gridwidth": 2,
            "linecolor": "white",
            "showbackground": true,
            "ticks": "",
            "zerolinecolor": "white"
           }
          },
          "shapedefaults": {
           "line": {
            "color": "#2a3f5f"
           }
          },
          "ternary": {
           "aaxis": {
            "gridcolor": "white",
            "linecolor": "white",
            "ticks": ""
           },
           "baxis": {
            "gridcolor": "white",
            "linecolor": "white",
            "ticks": ""
           },
           "bgcolor": "#E5ECF6",
           "caxis": {
            "gridcolor": "white",
            "linecolor": "white",
            "ticks": ""
           }
          },
          "title": {
           "x": 0.05
          },
          "xaxis": {
           "automargin": true,
           "gridcolor": "white",
           "linecolor": "white",
           "ticks": "",
           "title": {
            "standoff": 15
           },
           "zerolinecolor": "white",
           "zerolinewidth": 2
          },
          "yaxis": {
           "automargin": true,
           "gridcolor": "white",
           "linecolor": "white",
           "ticks": "",
           "title": {
            "standoff": 15
           },
           "zerolinecolor": "white",
           "zerolinewidth": 2
          }
         }
        },
        "title": {
         "font": {
          "color": "#4D5663"
         }
        },
        "xaxis": {
         "gridcolor": "#E1E5ED",
         "showgrid": true,
         "tickfont": {
          "color": "#4D5663"
         },
         "title": {
          "font": {
           "color": "#4D5663"
          },
          "text": ""
         },
         "zerolinecolor": "#E1E5ED"
        },
        "yaxis": {
         "gridcolor": "#E1E5ED",
         "showgrid": true,
         "tickfont": {
          "color": "#4D5663"
         },
         "title": {
          "font": {
           "color": "#4D5663"
          },
          "text": ""
         },
         "zerolinecolor": "#E1E5ED"
        }
       }
      },
      "text/html": [
       "<div>                            <div id=\"5fac6917-54ba-4f94-8a6a-39bce493cd70\" class=\"plotly-graph-div\" style=\"height:525px; width:100%;\"></div>            <script type=\"text/javascript\">                require([\"plotly\"], function(Plotly) {                    window.PLOTLYENV=window.PLOTLYENV || {};\n",
       "                    window.PLOTLYENV.BASE_URL='https://plot.ly';                                    if (document.getElementById(\"5fac6917-54ba-4f94-8a6a-39bce493cd70\")) {                    Plotly.newPlot(                        \"5fac6917-54ba-4f94-8a6a-39bce493cd70\",                        [{\"colorscale\": [[0.0, \"rgb(165,0,38)\"], [0.1, \"rgb(215,48,39)\"], [0.2, \"rgb(244,109,67)\"], [0.3, \"rgb(253,174,97)\"], [0.4, \"rgb(254,224,144)\"], [0.5, \"rgb(255,255,191)\"], [0.6, \"rgb(224,243,248)\"], [0.7, \"rgb(171,217,233)\"], [0.8, \"rgb(116,173,209)\"], [0.9, \"rgb(69,117,180)\"], [1.0, \"rgb(49,54,149)\"]], \"type\": \"surface\", \"x\": [0, 1, 2, 3, 4], \"y\": [\"x\", \"y\", \"z\"], \"z\": [[1, 2, 3, 4, 5], [10, 20, 30, 40, 50], [100, 200, 300, 400, 500]]}],                        {\"legend\": {\"bgcolor\": \"#F5F6F9\", \"font\": {\"color\": \"#4D5663\"}}, \"paper_bgcolor\": \"#F5F6F9\", \"plot_bgcolor\": \"#F5F6F9\", \"template\": {\"data\": {\"bar\": [{\"error_x\": {\"color\": \"#2a3f5f\"}, \"error_y\": {\"color\": \"#2a3f5f\"}, \"marker\": {\"line\": {\"color\": \"#E5ECF6\", \"width\": 0.5}}, \"type\": \"bar\"}], \"barpolar\": [{\"marker\": {\"line\": {\"color\": \"#E5ECF6\", \"width\": 0.5}}, \"type\": \"barpolar\"}], \"carpet\": [{\"aaxis\": {\"endlinecolor\": \"#2a3f5f\", \"gridcolor\": \"white\", \"linecolor\": \"white\", \"minorgridcolor\": \"white\", \"startlinecolor\": \"#2a3f5f\"}, \"baxis\": {\"endlinecolor\": \"#2a3f5f\", \"gridcolor\": \"white\", \"linecolor\": \"white\", \"minorgridcolor\": \"white\", \"startlinecolor\": \"#2a3f5f\"}, \"type\": \"carpet\"}], \"choropleth\": [{\"colorbar\": {\"outlinewidth\": 0, \"ticks\": \"\"}, \"type\": \"choropleth\"}], \"contour\": [{\"colorbar\": {\"outlinewidth\": 0, \"ticks\": \"\"}, \"colorscale\": [[0.0, \"#0d0887\"], [0.1111111111111111, \"#46039f\"], [0.2222222222222222, \"#7201a8\"], [0.3333333333333333, \"#9c179e\"], [0.4444444444444444, \"#bd3786\"], [0.5555555555555556, \"#d8576b\"], [0.6666666666666666, \"#ed7953\"], [0.7777777777777778, \"#fb9f3a\"], [0.8888888888888888, \"#fdca26\"], [1.0, \"#f0f921\"]], \"type\": \"contour\"}], \"contourcarpet\": [{\"colorbar\": {\"outlinewidth\": 0, \"ticks\": \"\"}, \"type\": \"contourcarpet\"}], \"heatmap\": [{\"colorbar\": {\"outlinewidth\": 0, \"ticks\": \"\"}, \"colorscale\": [[0.0, \"#0d0887\"], [0.1111111111111111, \"#46039f\"], [0.2222222222222222, \"#7201a8\"], [0.3333333333333333, \"#9c179e\"], [0.4444444444444444, \"#bd3786\"], [0.5555555555555556, \"#d8576b\"], [0.6666666666666666, \"#ed7953\"], [0.7777777777777778, \"#fb9f3a\"], [0.8888888888888888, \"#fdca26\"], [1.0, \"#f0f921\"]], \"type\": \"heatmap\"}], \"heatmapgl\": [{\"colorbar\": {\"outlinewidth\": 0, \"ticks\": \"\"}, \"colorscale\": [[0.0, \"#0d0887\"], [0.1111111111111111, \"#46039f\"], [0.2222222222222222, \"#7201a8\"], [0.3333333333333333, \"#9c179e\"], [0.4444444444444444, \"#bd3786\"], [0.5555555555555556, \"#d8576b\"], [0.6666666666666666, \"#ed7953\"], [0.7777777777777778, \"#fb9f3a\"], [0.8888888888888888, \"#fdca26\"], [1.0, \"#f0f921\"]], \"type\": \"heatmapgl\"}], \"histogram\": [{\"marker\": {\"colorbar\": {\"outlinewidth\": 0, \"ticks\": \"\"}}, \"type\": \"histogram\"}], \"histogram2d\": [{\"colorbar\": {\"outlinewidth\": 0, \"ticks\": \"\"}, \"colorscale\": [[0.0, \"#0d0887\"], [0.1111111111111111, \"#46039f\"], [0.2222222222222222, \"#7201a8\"], [0.3333333333333333, \"#9c179e\"], [0.4444444444444444, \"#bd3786\"], [0.5555555555555556, \"#d8576b\"], [0.6666666666666666, \"#ed7953\"], [0.7777777777777778, \"#fb9f3a\"], [0.8888888888888888, \"#fdca26\"], [1.0, \"#f0f921\"]], \"type\": \"histogram2d\"}], \"histogram2dcontour\": [{\"colorbar\": {\"outlinewidth\": 0, \"ticks\": \"\"}, \"colorscale\": [[0.0, \"#0d0887\"], [0.1111111111111111, \"#46039f\"], [0.2222222222222222, \"#7201a8\"], [0.3333333333333333, \"#9c179e\"], [0.4444444444444444, \"#bd3786\"], [0.5555555555555556, \"#d8576b\"], [0.6666666666666666, \"#ed7953\"], [0.7777777777777778, \"#fb9f3a\"], [0.8888888888888888, \"#fdca26\"], [1.0, \"#f0f921\"]], \"type\": \"histogram2dcontour\"}], \"mesh3d\": [{\"colorbar\": {\"outlinewidth\": 0, \"ticks\": \"\"}, \"type\": \"mesh3d\"}], \"parcoords\": [{\"line\": {\"colorbar\": {\"outlinewidth\": 0, \"ticks\": \"\"}}, \"type\": \"parcoords\"}], \"pie\": [{\"automargin\": true, \"type\": \"pie\"}], \"scatter\": [{\"marker\": {\"colorbar\": {\"outlinewidth\": 0, \"ticks\": \"\"}}, \"type\": \"scatter\"}], \"scatter3d\": [{\"line\": {\"colorbar\": {\"outlinewidth\": 0, \"ticks\": \"\"}}, \"marker\": {\"colorbar\": {\"outlinewidth\": 0, \"ticks\": \"\"}}, \"type\": \"scatter3d\"}], \"scattercarpet\": [{\"marker\": {\"colorbar\": {\"outlinewidth\": 0, \"ticks\": \"\"}}, \"type\": \"scattercarpet\"}], \"scattergeo\": [{\"marker\": {\"colorbar\": {\"outlinewidth\": 0, \"ticks\": \"\"}}, \"type\": \"scattergeo\"}], \"scattergl\": [{\"marker\": {\"colorbar\": {\"outlinewidth\": 0, \"ticks\": \"\"}}, \"type\": \"scattergl\"}], \"scattermapbox\": [{\"marker\": {\"colorbar\": {\"outlinewidth\": 0, \"ticks\": \"\"}}, \"type\": \"scattermapbox\"}], \"scatterpolar\": [{\"marker\": {\"colorbar\": {\"outlinewidth\": 0, \"ticks\": \"\"}}, \"type\": \"scatterpolar\"}], \"scatterpolargl\": [{\"marker\": {\"colorbar\": {\"outlinewidth\": 0, \"ticks\": \"\"}}, \"type\": \"scatterpolargl\"}], \"scatterternary\": [{\"marker\": {\"colorbar\": {\"outlinewidth\": 0, \"ticks\": \"\"}}, \"type\": \"scatterternary\"}], \"surface\": [{\"colorbar\": {\"outlinewidth\": 0, \"ticks\": \"\"}, \"colorscale\": [[0.0, \"#0d0887\"], [0.1111111111111111, \"#46039f\"], [0.2222222222222222, \"#7201a8\"], [0.3333333333333333, \"#9c179e\"], [0.4444444444444444, \"#bd3786\"], [0.5555555555555556, \"#d8576b\"], [0.6666666666666666, \"#ed7953\"], [0.7777777777777778, \"#fb9f3a\"], [0.8888888888888888, \"#fdca26\"], [1.0, \"#f0f921\"]], \"type\": \"surface\"}], \"table\": [{\"cells\": {\"fill\": {\"color\": \"#EBF0F8\"}, \"line\": {\"color\": \"white\"}}, \"header\": {\"fill\": {\"color\": \"#C8D4E3\"}, \"line\": {\"color\": \"white\"}}, \"type\": \"table\"}]}, \"layout\": {\"annotationdefaults\": {\"arrowcolor\": \"#2a3f5f\", \"arrowhead\": 0, \"arrowwidth\": 1}, \"autotypenumbers\": \"strict\", \"coloraxis\": {\"colorbar\": {\"outlinewidth\": 0, \"ticks\": \"\"}}, \"colorscale\": {\"diverging\": [[0, \"#8e0152\"], [0.1, \"#c51b7d\"], [0.2, \"#de77ae\"], [0.3, \"#f1b6da\"], [0.4, \"#fde0ef\"], [0.5, \"#f7f7f7\"], [0.6, \"#e6f5d0\"], [0.7, \"#b8e186\"], [0.8, \"#7fbc41\"], [0.9, \"#4d9221\"], [1, \"#276419\"]], \"sequential\": [[0.0, \"#0d0887\"], [0.1111111111111111, \"#46039f\"], [0.2222222222222222, \"#7201a8\"], [0.3333333333333333, \"#9c179e\"], [0.4444444444444444, \"#bd3786\"], [0.5555555555555556, \"#d8576b\"], [0.6666666666666666, \"#ed7953\"], [0.7777777777777778, \"#fb9f3a\"], [0.8888888888888888, \"#fdca26\"], [1.0, \"#f0f921\"]], \"sequentialminus\": [[0.0, \"#0d0887\"], [0.1111111111111111, \"#46039f\"], [0.2222222222222222, \"#7201a8\"], [0.3333333333333333, \"#9c179e\"], [0.4444444444444444, \"#bd3786\"], [0.5555555555555556, \"#d8576b\"], [0.6666666666666666, \"#ed7953\"], [0.7777777777777778, \"#fb9f3a\"], [0.8888888888888888, \"#fdca26\"], [1.0, \"#f0f921\"]]}, \"colorway\": [\"#636efa\", \"#EF553B\", \"#00cc96\", \"#ab63fa\", \"#FFA15A\", \"#19d3f3\", \"#FF6692\", \"#B6E880\", \"#FF97FF\", \"#FECB52\"], \"font\": {\"color\": \"#2a3f5f\"}, \"geo\": {\"bgcolor\": \"white\", \"lakecolor\": \"white\", \"landcolor\": \"#E5ECF6\", \"showlakes\": true, \"showland\": true, \"subunitcolor\": \"white\"}, \"hoverlabel\": {\"align\": \"left\"}, \"hovermode\": \"closest\", \"mapbox\": {\"style\": \"light\"}, \"paper_bgcolor\": \"white\", \"plot_bgcolor\": \"#E5ECF6\", \"polar\": {\"angularaxis\": {\"gridcolor\": \"white\", \"linecolor\": \"white\", \"ticks\": \"\"}, \"bgcolor\": \"#E5ECF6\", \"radialaxis\": {\"gridcolor\": \"white\", \"linecolor\": \"white\", \"ticks\": \"\"}}, \"scene\": {\"xaxis\": {\"backgroundcolor\": \"#E5ECF6\", \"gridcolor\": \"white\", \"gridwidth\": 2, \"linecolor\": \"white\", \"showbackground\": true, \"ticks\": \"\", \"zerolinecolor\": \"white\"}, \"yaxis\": {\"backgroundcolor\": \"#E5ECF6\", \"gridcolor\": \"white\", \"gridwidth\": 2, \"linecolor\": \"white\", \"showbackground\": true, \"ticks\": \"\", \"zerolinecolor\": \"white\"}, \"zaxis\": {\"backgroundcolor\": \"#E5ECF6\", \"gridcolor\": \"white\", \"gridwidth\": 2, \"linecolor\": \"white\", \"showbackground\": true, \"ticks\": \"\", \"zerolinecolor\": \"white\"}}, \"shapedefaults\": {\"line\": {\"color\": \"#2a3f5f\"}}, \"ternary\": {\"aaxis\": {\"gridcolor\": \"white\", \"linecolor\": \"white\", \"ticks\": \"\"}, \"baxis\": {\"gridcolor\": \"white\", \"linecolor\": \"white\", \"ticks\": \"\"}, \"bgcolor\": \"#E5ECF6\", \"caxis\": {\"gridcolor\": \"white\", \"linecolor\": \"white\", \"ticks\": \"\"}}, \"title\": {\"x\": 0.05}, \"xaxis\": {\"automargin\": true, \"gridcolor\": \"white\", \"linecolor\": \"white\", \"ticks\": \"\", \"title\": {\"standoff\": 15}, \"zerolinecolor\": \"white\", \"zerolinewidth\": 2}, \"yaxis\": {\"automargin\": true, \"gridcolor\": \"white\", \"linecolor\": \"white\", \"ticks\": \"\", \"title\": {\"standoff\": 15}, \"zerolinecolor\": \"white\", \"zerolinewidth\": 2}}}, \"title\": {\"font\": {\"color\": \"#4D5663\"}}, \"xaxis\": {\"gridcolor\": \"#E1E5ED\", \"showgrid\": true, \"tickfont\": {\"color\": \"#4D5663\"}, \"title\": {\"font\": {\"color\": \"#4D5663\"}, \"text\": \"\"}, \"zerolinecolor\": \"#E1E5ED\"}, \"yaxis\": {\"gridcolor\": \"#E1E5ED\", \"showgrid\": true, \"tickfont\": {\"color\": \"#4D5663\"}, \"title\": {\"font\": {\"color\": \"#4D5663\"}, \"text\": \"\"}, \"zerolinecolor\": \"#E1E5ED\"}},                        {\"showLink\": true, \"linkText\": \"Export to plot.ly\", \"plotlyServerURL\": \"https://plot.ly\", \"responsive\": true}                    ).then(function(){\n",
       "                            \n",
       "var gd = document.getElementById('5fac6917-54ba-4f94-8a6a-39bce493cd70');\n",
       "var x = new MutationObserver(function (mutations, observer) {{\n",
       "        var display = window.getComputedStyle(gd).display;\n",
       "        if (!display || display === 'none') {{\n",
       "            console.log([gd, 'removed!']);\n",
       "            Plotly.purge(gd);\n",
       "            observer.disconnect();\n",
       "        }}\n",
       "}});\n",
       "\n",
       "// Listen for the removal of the full notebook cells\n",
       "var notebookContainer = gd.closest('#notebook-container');\n",
       "if (notebookContainer) {{\n",
       "    x.observe(notebookContainer, {childList: true});\n",
       "}}\n",
       "\n",
       "// Listen for the clearing of the current output cell\n",
       "var outputEl = gd.closest('.output');\n",
       "if (outputEl) {{\n",
       "    x.observe(outputEl, {childList: true});\n",
       "}}\n",
       "\n",
       "                        })                };                });            </script>        </div>"
      ]
     },
     "metadata": {},
     "output_type": "display_data"
    }
   ],
   "source": [
    "df3.iplot(kind='surface',colorscale='rdylbu')"
   ]
  },
  {
   "cell_type": "code",
   "execution_count": 37,
   "id": "loaded-tribune",
   "metadata": {},
   "outputs": [
    {
     "data": {
      "application/vnd.plotly.v1+json": {
       "config": {
        "linkText": "Export to plot.ly",
        "plotlyServerURL": "https://plot.ly",
        "showLink": true
       },
       "data": [
        {
         "histfunc": "count",
         "histnorm": "",
         "marker": {
          "color": "rgba(255, 153, 51, 1.0)",
          "line": {
           "color": "#4D5663",
           "width": 1.3
          }
         },
         "name": "A",
         "nbinsx": 25,
         "opacity": 0.8,
         "orientation": "v",
         "type": "histogram",
         "x": [
          1.061473280205822,
          0.7788035401649821,
          -0.2843131564415733,
          0.4028606011071929,
          -1.0353566473067173,
          -1.5925881310692422,
          0.03764451610017262,
          0.09321189582306758,
          -0.4176584649435947,
          1.3425792835433714,
          1.0266554020785341,
          -0.3509763266194384,
          -1.1578507094975032,
          -0.10767980405124133,
          -0.7659349830162048,
          0.6359970746835948,
          0.781389848793117,
          -0.20999618974658754,
          -0.4724551602521327,
          -1.2611520993994236,
          0.5011595968288648,
          2.5021298775570124,
          -2.2161401806538175,
          -0.4213098675783744,
          1.406278824461392,
          1.0245563932292865,
          0.05793642079927353,
          0.5172455234185414,
          0.23237803736898088,
          -0.36851140968886364,
          -0.02331748092877489,
          1.1344686849252197,
          0.16803740412380333,
          -1.3287890912409976,
          0.7879241292820391,
          -0.005548678959254899,
          0.8329045559462215,
          -0.7430868096641571,
          -1.133100937544328,
          0.7006688816822035,
          2.035632575118046,
          0.5325886928830186,
          -0.8599991780600442,
          0.15505475981508404,
          -0.2783228994628211,
          -0.0935045987798122,
          0.257383871747999,
          0.9458026852206287,
          0.0523970154360034,
          0.028677167605447113,
          1.9243754536472717,
          -1.4517638419797148,
          -0.42240872112290845,
          -0.6830010989045584,
          0.8998411440376746,
          0.5661636957875802,
          1.8078923338402904,
          -0.1211574749952134,
          1.1628256796583745,
          -0.7747340750216297,
          -1.663603001451258,
          0.6205659519924192,
          1.1066279064691593,
          -0.4714356459473895,
          -0.6334083024936795,
          0.7840050962817294,
          0.5777402499571723,
          0.13624915721450132,
          0.12080615947972986,
          -0.7310373593845643,
          2.0878737842304975,
          -1.260657602083573,
          -0.9781991587314987,
          0.02552177479888971,
          -1.5312019439825595,
          0.3819009284644589,
          0.9627266602138024,
          -0.36528374506782496,
          -0.01330698839724629,
          -1.057342126647745,
          0.026874897028896363,
          1.4579519802072136,
          0.3436411938175002,
          -0.15839574242186497,
          0.9993958159176821,
          -0.8926368337194085,
          -0.427317895602847,
          0.6220513939400963,
          0.4957072394399795,
          -0.19188201177565387,
          -0.7045958601968229,
          -0.18917637706476753,
          -0.577505244222488,
          -0.6040999190689166,
          0.16031718046731083,
          -0.7914776160554775,
          1.025058265396455,
          1.5523763416710603,
          1.729160350179526,
          0.28383053480712556
         ]
        }
       ],
       "layout": {
        "barmode": "overlay",
        "legend": {
         "bgcolor": "#F5F6F9",
         "font": {
          "color": "#4D5663"
         }
        },
        "paper_bgcolor": "#F5F6F9",
        "plot_bgcolor": "#F5F6F9",
        "template": {
         "data": {
          "bar": [
           {
            "error_x": {
             "color": "#2a3f5f"
            },
            "error_y": {
             "color": "#2a3f5f"
            },
            "marker": {
             "line": {
              "color": "#E5ECF6",
              "width": 0.5
             }
            },
            "type": "bar"
           }
          ],
          "barpolar": [
           {
            "marker": {
             "line": {
              "color": "#E5ECF6",
              "width": 0.5
             }
            },
            "type": "barpolar"
           }
          ],
          "carpet": [
           {
            "aaxis": {
             "endlinecolor": "#2a3f5f",
             "gridcolor": "white",
             "linecolor": "white",
             "minorgridcolor": "white",
             "startlinecolor": "#2a3f5f"
            },
            "baxis": {
             "endlinecolor": "#2a3f5f",
             "gridcolor": "white",
             "linecolor": "white",
             "minorgridcolor": "white",
             "startlinecolor": "#2a3f5f"
            },
            "type": "carpet"
           }
          ],
          "choropleth": [
           {
            "colorbar": {
             "outlinewidth": 0,
             "ticks": ""
            },
            "type": "choropleth"
           }
          ],
          "contour": [
           {
            "colorbar": {
             "outlinewidth": 0,
             "ticks": ""
            },
            "colorscale": [
             [
              0,
              "#0d0887"
             ],
             [
              0.1111111111111111,
              "#46039f"
             ],
             [
              0.2222222222222222,
              "#7201a8"
             ],
             [
              0.3333333333333333,
              "#9c179e"
             ],
             [
              0.4444444444444444,
              "#bd3786"
             ],
             [
              0.5555555555555556,
              "#d8576b"
             ],
             [
              0.6666666666666666,
              "#ed7953"
             ],
             [
              0.7777777777777778,
              "#fb9f3a"
             ],
             [
              0.8888888888888888,
              "#fdca26"
             ],
             [
              1,
              "#f0f921"
             ]
            ],
            "type": "contour"
           }
          ],
          "contourcarpet": [
           {
            "colorbar": {
             "outlinewidth": 0,
             "ticks": ""
            },
            "type": "contourcarpet"
           }
          ],
          "heatmap": [
           {
            "colorbar": {
             "outlinewidth": 0,
             "ticks": ""
            },
            "colorscale": [
             [
              0,
              "#0d0887"
             ],
             [
              0.1111111111111111,
              "#46039f"
             ],
             [
              0.2222222222222222,
              "#7201a8"
             ],
             [
              0.3333333333333333,
              "#9c179e"
             ],
             [
              0.4444444444444444,
              "#bd3786"
             ],
             [
              0.5555555555555556,
              "#d8576b"
             ],
             [
              0.6666666666666666,
              "#ed7953"
             ],
             [
              0.7777777777777778,
              "#fb9f3a"
             ],
             [
              0.8888888888888888,
              "#fdca26"
             ],
             [
              1,
              "#f0f921"
             ]
            ],
            "type": "heatmap"
           }
          ],
          "heatmapgl": [
           {
            "colorbar": {
             "outlinewidth": 0,
             "ticks": ""
            },
            "colorscale": [
             [
              0,
              "#0d0887"
             ],
             [
              0.1111111111111111,
              "#46039f"
             ],
             [
              0.2222222222222222,
              "#7201a8"
             ],
             [
              0.3333333333333333,
              "#9c179e"
             ],
             [
              0.4444444444444444,
              "#bd3786"
             ],
             [
              0.5555555555555556,
              "#d8576b"
             ],
             [
              0.6666666666666666,
              "#ed7953"
             ],
             [
              0.7777777777777778,
              "#fb9f3a"
             ],
             [
              0.8888888888888888,
              "#fdca26"
             ],
             [
              1,
              "#f0f921"
             ]
            ],
            "type": "heatmapgl"
           }
          ],
          "histogram": [
           {
            "marker": {
             "colorbar": {
              "outlinewidth": 0,
              "ticks": ""
             }
            },
            "type": "histogram"
           }
          ],
          "histogram2d": [
           {
            "colorbar": {
             "outlinewidth": 0,
             "ticks": ""
            },
            "colorscale": [
             [
              0,
              "#0d0887"
             ],
             [
              0.1111111111111111,
              "#46039f"
             ],
             [
              0.2222222222222222,
              "#7201a8"
             ],
             [
              0.3333333333333333,
              "#9c179e"
             ],
             [
              0.4444444444444444,
              "#bd3786"
             ],
             [
              0.5555555555555556,
              "#d8576b"
             ],
             [
              0.6666666666666666,
              "#ed7953"
             ],
             [
              0.7777777777777778,
              "#fb9f3a"
             ],
             [
              0.8888888888888888,
              "#fdca26"
             ],
             [
              1,
              "#f0f921"
             ]
            ],
            "type": "histogram2d"
           }
          ],
          "histogram2dcontour": [
           {
            "colorbar": {
             "outlinewidth": 0,
             "ticks": ""
            },
            "colorscale": [
             [
              0,
              "#0d0887"
             ],
             [
              0.1111111111111111,
              "#46039f"
             ],
             [
              0.2222222222222222,
              "#7201a8"
             ],
             [
              0.3333333333333333,
              "#9c179e"
             ],
             [
              0.4444444444444444,
              "#bd3786"
             ],
             [
              0.5555555555555556,
              "#d8576b"
             ],
             [
              0.6666666666666666,
              "#ed7953"
             ],
             [
              0.7777777777777778,
              "#fb9f3a"
             ],
             [
              0.8888888888888888,
              "#fdca26"
             ],
             [
              1,
              "#f0f921"
             ]
            ],
            "type": "histogram2dcontour"
           }
          ],
          "mesh3d": [
           {
            "colorbar": {
             "outlinewidth": 0,
             "ticks": ""
            },
            "type": "mesh3d"
           }
          ],
          "parcoords": [
           {
            "line": {
             "colorbar": {
              "outlinewidth": 0,
              "ticks": ""
             }
            },
            "type": "parcoords"
           }
          ],
          "pie": [
           {
            "automargin": true,
            "type": "pie"
           }
          ],
          "scatter": [
           {
            "marker": {
             "colorbar": {
              "outlinewidth": 0,
              "ticks": ""
             }
            },
            "type": "scatter"
           }
          ],
          "scatter3d": [
           {
            "line": {
             "colorbar": {
              "outlinewidth": 0,
              "ticks": ""
             }
            },
            "marker": {
             "colorbar": {
              "outlinewidth": 0,
              "ticks": ""
             }
            },
            "type": "scatter3d"
           }
          ],
          "scattercarpet": [
           {
            "marker": {
             "colorbar": {
              "outlinewidth": 0,
              "ticks": ""
             }
            },
            "type": "scattercarpet"
           }
          ],
          "scattergeo": [
           {
            "marker": {
             "colorbar": {
              "outlinewidth": 0,
              "ticks": ""
             }
            },
            "type": "scattergeo"
           }
          ],
          "scattergl": [
           {
            "marker": {
             "colorbar": {
              "outlinewidth": 0,
              "ticks": ""
             }
            },
            "type": "scattergl"
           }
          ],
          "scattermapbox": [
           {
            "marker": {
             "colorbar": {
              "outlinewidth": 0,
              "ticks": ""
             }
            },
            "type": "scattermapbox"
           }
          ],
          "scatterpolar": [
           {
            "marker": {
             "colorbar": {
              "outlinewidth": 0,
              "ticks": ""
             }
            },
            "type": "scatterpolar"
           }
          ],
          "scatterpolargl": [
           {
            "marker": {
             "colorbar": {
              "outlinewidth": 0,
              "ticks": ""
             }
            },
            "type": "scatterpolargl"
           }
          ],
          "scatterternary": [
           {
            "marker": {
             "colorbar": {
              "outlinewidth": 0,
              "ticks": ""
             }
            },
            "type": "scatterternary"
           }
          ],
          "surface": [
           {
            "colorbar": {
             "outlinewidth": 0,
             "ticks": ""
            },
            "colorscale": [
             [
              0,
              "#0d0887"
             ],
             [
              0.1111111111111111,
              "#46039f"
             ],
             [
              0.2222222222222222,
              "#7201a8"
             ],
             [
              0.3333333333333333,
              "#9c179e"
             ],
             [
              0.4444444444444444,
              "#bd3786"
             ],
             [
              0.5555555555555556,
              "#d8576b"
             ],
             [
              0.6666666666666666,
              "#ed7953"
             ],
             [
              0.7777777777777778,
              "#fb9f3a"
             ],
             [
              0.8888888888888888,
              "#fdca26"
             ],
             [
              1,
              "#f0f921"
             ]
            ],
            "type": "surface"
           }
          ],
          "table": [
           {
            "cells": {
             "fill": {
              "color": "#EBF0F8"
             },
             "line": {
              "color": "white"
             }
            },
            "header": {
             "fill": {
              "color": "#C8D4E3"
             },
             "line": {
              "color": "white"
             }
            },
            "type": "table"
           }
          ]
         },
         "layout": {
          "annotationdefaults": {
           "arrowcolor": "#2a3f5f",
           "arrowhead": 0,
           "arrowwidth": 1
          },
          "autotypenumbers": "strict",
          "coloraxis": {
           "colorbar": {
            "outlinewidth": 0,
            "ticks": ""
           }
          },
          "colorscale": {
           "diverging": [
            [
             0,
             "#8e0152"
            ],
            [
             0.1,
             "#c51b7d"
            ],
            [
             0.2,
             "#de77ae"
            ],
            [
             0.3,
             "#f1b6da"
            ],
            [
             0.4,
             "#fde0ef"
            ],
            [
             0.5,
             "#f7f7f7"
            ],
            [
             0.6,
             "#e6f5d0"
            ],
            [
             0.7,
             "#b8e186"
            ],
            [
             0.8,
             "#7fbc41"
            ],
            [
             0.9,
             "#4d9221"
            ],
            [
             1,
             "#276419"
            ]
           ],
           "sequential": [
            [
             0,
             "#0d0887"
            ],
            [
             0.1111111111111111,
             "#46039f"
            ],
            [
             0.2222222222222222,
             "#7201a8"
            ],
            [
             0.3333333333333333,
             "#9c179e"
            ],
            [
             0.4444444444444444,
             "#bd3786"
            ],
            [
             0.5555555555555556,
             "#d8576b"
            ],
            [
             0.6666666666666666,
             "#ed7953"
            ],
            [
             0.7777777777777778,
             "#fb9f3a"
            ],
            [
             0.8888888888888888,
             "#fdca26"
            ],
            [
             1,
             "#f0f921"
            ]
           ],
           "sequentialminus": [
            [
             0,
             "#0d0887"
            ],
            [
             0.1111111111111111,
             "#46039f"
            ],
            [
             0.2222222222222222,
             "#7201a8"
            ],
            [
             0.3333333333333333,
             "#9c179e"
            ],
            [
             0.4444444444444444,
             "#bd3786"
            ],
            [
             0.5555555555555556,
             "#d8576b"
            ],
            [
             0.6666666666666666,
             "#ed7953"
            ],
            [
             0.7777777777777778,
             "#fb9f3a"
            ],
            [
             0.8888888888888888,
             "#fdca26"
            ],
            [
             1,
             "#f0f921"
            ]
           ]
          },
          "colorway": [
           "#636efa",
           "#EF553B",
           "#00cc96",
           "#ab63fa",
           "#FFA15A",
           "#19d3f3",
           "#FF6692",
           "#B6E880",
           "#FF97FF",
           "#FECB52"
          ],
          "font": {
           "color": "#2a3f5f"
          },
          "geo": {
           "bgcolor": "white",
           "lakecolor": "white",
           "landcolor": "#E5ECF6",
           "showlakes": true,
           "showland": true,
           "subunitcolor": "white"
          },
          "hoverlabel": {
           "align": "left"
          },
          "hovermode": "closest",
          "mapbox": {
           "style": "light"
          },
          "paper_bgcolor": "white",
          "plot_bgcolor": "#E5ECF6",
          "polar": {
           "angularaxis": {
            "gridcolor": "white",
            "linecolor": "white",
            "ticks": ""
           },
           "bgcolor": "#E5ECF6",
           "radialaxis": {
            "gridcolor": "white",
            "linecolor": "white",
            "ticks": ""
           }
          },
          "scene": {
           "xaxis": {
            "backgroundcolor": "#E5ECF6",
            "gridcolor": "white",
            "gridwidth": 2,
            "linecolor": "white",
            "showbackground": true,
            "ticks": "",
            "zerolinecolor": "white"
           },
           "yaxis": {
            "backgroundcolor": "#E5ECF6",
            "gridcolor": "white",
            "gridwidth": 2,
            "linecolor": "white",
            "showbackground": true,
            "ticks": "",
            "zerolinecolor": "white"
           },
           "zaxis": {
            "backgroundcolor": "#E5ECF6",
            "gridcolor": "white",
            "gridwidth": 2,
            "linecolor": "white",
            "showbackground": true,
            "ticks": "",
            "zerolinecolor": "white"
           }
          },
          "shapedefaults": {
           "line": {
            "color": "#2a3f5f"
           }
          },
          "ternary": {
           "aaxis": {
            "gridcolor": "white",
            "linecolor": "white",
            "ticks": ""
           },
           "baxis": {
            "gridcolor": "white",
            "linecolor": "white",
            "ticks": ""
           },
           "bgcolor": "#E5ECF6",
           "caxis": {
            "gridcolor": "white",
            "linecolor": "white",
            "ticks": ""
           }
          },
          "title": {
           "x": 0.05
          },
          "xaxis": {
           "automargin": true,
           "gridcolor": "white",
           "linecolor": "white",
           "ticks": "",
           "title": {
            "standoff": 15
           },
           "zerolinecolor": "white",
           "zerolinewidth": 2
          },
          "yaxis": {
           "automargin": true,
           "gridcolor": "white",
           "linecolor": "white",
           "ticks": "",
           "title": {
            "standoff": 15
           },
           "zerolinecolor": "white",
           "zerolinewidth": 2
          }
         }
        },
        "title": {
         "font": {
          "color": "#4D5663"
         }
        },
        "xaxis": {
         "gridcolor": "#E1E5ED",
         "showgrid": true,
         "tickfont": {
          "color": "#4D5663"
         },
         "title": {
          "font": {
           "color": "#4D5663"
          },
          "text": ""
         },
         "zerolinecolor": "#E1E5ED"
        },
        "yaxis": {
         "gridcolor": "#E1E5ED",
         "showgrid": true,
         "tickfont": {
          "color": "#4D5663"
         },
         "title": {
          "font": {
           "color": "#4D5663"
          },
          "text": ""
         },
         "zerolinecolor": "#E1E5ED"
        }
       }
      },
      "text/html": [
       "<div>                            <div id=\"f4d49873-c62c-4a9e-97a7-55ff3e11faae\" class=\"plotly-graph-div\" style=\"height:525px; width:100%;\"></div>            <script type=\"text/javascript\">                require([\"plotly\"], function(Plotly) {                    window.PLOTLYENV=window.PLOTLYENV || {};\n",
       "                    window.PLOTLYENV.BASE_URL='https://plot.ly';                                    if (document.getElementById(\"f4d49873-c62c-4a9e-97a7-55ff3e11faae\")) {                    Plotly.newPlot(                        \"f4d49873-c62c-4a9e-97a7-55ff3e11faae\",                        [{\"histfunc\": \"count\", \"histnorm\": \"\", \"marker\": {\"color\": \"rgba(255, 153, 51, 1.0)\", \"line\": {\"color\": \"#4D5663\", \"width\": 1.3}}, \"name\": \"A\", \"nbinsx\": 25, \"opacity\": 0.8, \"orientation\": \"v\", \"type\": \"histogram\", \"x\": [1.061473280205822, 0.7788035401649821, -0.2843131564415733, 0.4028606011071929, -1.0353566473067173, -1.5925881310692422, 0.03764451610017262, 0.09321189582306758, -0.4176584649435947, 1.3425792835433714, 1.0266554020785341, -0.3509763266194384, -1.1578507094975032, -0.10767980405124133, -0.7659349830162048, 0.6359970746835948, 0.781389848793117, -0.20999618974658754, -0.4724551602521327, -1.2611520993994236, 0.5011595968288648, 2.5021298775570124, -2.2161401806538175, -0.4213098675783744, 1.406278824461392, 1.0245563932292865, 0.05793642079927353, 0.5172455234185414, 0.23237803736898088, -0.36851140968886364, -0.02331748092877489, 1.1344686849252197, 0.16803740412380333, -1.3287890912409976, 0.7879241292820391, -0.005548678959254899, 0.8329045559462215, -0.7430868096641571, -1.133100937544328, 0.7006688816822035, 2.035632575118046, 0.5325886928830186, -0.8599991780600442, 0.15505475981508404, -0.2783228994628211, -0.0935045987798122, 0.257383871747999, 0.9458026852206287, 0.0523970154360034, 0.028677167605447113, 1.9243754536472717, -1.4517638419797148, -0.42240872112290845, -0.6830010989045584, 0.8998411440376746, 0.5661636957875802, 1.8078923338402904, -0.1211574749952134, 1.1628256796583745, -0.7747340750216297, -1.663603001451258, 0.6205659519924192, 1.1066279064691593, -0.4714356459473895, -0.6334083024936795, 0.7840050962817294, 0.5777402499571723, 0.13624915721450132, 0.12080615947972986, -0.7310373593845643, 2.0878737842304975, -1.260657602083573, -0.9781991587314987, 0.02552177479888971, -1.5312019439825595, 0.3819009284644589, 0.9627266602138024, -0.36528374506782496, -0.01330698839724629, -1.057342126647745, 0.026874897028896363, 1.4579519802072136, 0.3436411938175002, -0.15839574242186497, 0.9993958159176821, -0.8926368337194085, -0.427317895602847, 0.6220513939400963, 0.4957072394399795, -0.19188201177565387, -0.7045958601968229, -0.18917637706476753, -0.577505244222488, -0.6040999190689166, 0.16031718046731083, -0.7914776160554775, 1.025058265396455, 1.5523763416710603, 1.729160350179526, 0.28383053480712556]}],                        {\"barmode\": \"overlay\", \"legend\": {\"bgcolor\": \"#F5F6F9\", \"font\": {\"color\": \"#4D5663\"}}, \"paper_bgcolor\": \"#F5F6F9\", \"plot_bgcolor\": \"#F5F6F9\", \"template\": {\"data\": {\"bar\": [{\"error_x\": {\"color\": \"#2a3f5f\"}, \"error_y\": {\"color\": \"#2a3f5f\"}, \"marker\": {\"line\": {\"color\": \"#E5ECF6\", \"width\": 0.5}}, \"type\": \"bar\"}], \"barpolar\": [{\"marker\": {\"line\": {\"color\": \"#E5ECF6\", \"width\": 0.5}}, \"type\": \"barpolar\"}], \"carpet\": [{\"aaxis\": {\"endlinecolor\": \"#2a3f5f\", \"gridcolor\": \"white\", \"linecolor\": \"white\", \"minorgridcolor\": \"white\", \"startlinecolor\": \"#2a3f5f\"}, \"baxis\": {\"endlinecolor\": \"#2a3f5f\", \"gridcolor\": \"white\", \"linecolor\": \"white\", \"minorgridcolor\": \"white\", \"startlinecolor\": \"#2a3f5f\"}, \"type\": \"carpet\"}], \"choropleth\": [{\"colorbar\": {\"outlinewidth\": 0, \"ticks\": \"\"}, \"type\": \"choropleth\"}], \"contour\": [{\"colorbar\": {\"outlinewidth\": 0, \"ticks\": \"\"}, \"colorscale\": [[0.0, \"#0d0887\"], [0.1111111111111111, \"#46039f\"], [0.2222222222222222, \"#7201a8\"], [0.3333333333333333, \"#9c179e\"], [0.4444444444444444, \"#bd3786\"], [0.5555555555555556, \"#d8576b\"], [0.6666666666666666, \"#ed7953\"], [0.7777777777777778, \"#fb9f3a\"], [0.8888888888888888, \"#fdca26\"], [1.0, \"#f0f921\"]], \"type\": \"contour\"}], \"contourcarpet\": [{\"colorbar\": {\"outlinewidth\": 0, \"ticks\": \"\"}, \"type\": \"contourcarpet\"}], \"heatmap\": [{\"colorbar\": {\"outlinewidth\": 0, \"ticks\": \"\"}, \"colorscale\": [[0.0, \"#0d0887\"], [0.1111111111111111, \"#46039f\"], [0.2222222222222222, \"#7201a8\"], [0.3333333333333333, \"#9c179e\"], [0.4444444444444444, \"#bd3786\"], [0.5555555555555556, \"#d8576b\"], [0.6666666666666666, \"#ed7953\"], [0.7777777777777778, \"#fb9f3a\"], [0.8888888888888888, \"#fdca26\"], [1.0, \"#f0f921\"]], \"type\": \"heatmap\"}], \"heatmapgl\": [{\"colorbar\": {\"outlinewidth\": 0, \"ticks\": \"\"}, \"colorscale\": [[0.0, \"#0d0887\"], [0.1111111111111111, \"#46039f\"], [0.2222222222222222, \"#7201a8\"], [0.3333333333333333, \"#9c179e\"], [0.4444444444444444, \"#bd3786\"], [0.5555555555555556, \"#d8576b\"], [0.6666666666666666, \"#ed7953\"], [0.7777777777777778, \"#fb9f3a\"], [0.8888888888888888, \"#fdca26\"], [1.0, \"#f0f921\"]], \"type\": \"heatmapgl\"}], \"histogram\": [{\"marker\": {\"colorbar\": {\"outlinewidth\": 0, \"ticks\": \"\"}}, \"type\": \"histogram\"}], \"histogram2d\": [{\"colorbar\": {\"outlinewidth\": 0, \"ticks\": \"\"}, \"colorscale\": [[0.0, \"#0d0887\"], [0.1111111111111111, \"#46039f\"], [0.2222222222222222, \"#7201a8\"], [0.3333333333333333, \"#9c179e\"], [0.4444444444444444, \"#bd3786\"], [0.5555555555555556, \"#d8576b\"], [0.6666666666666666, \"#ed7953\"], [0.7777777777777778, \"#fb9f3a\"], [0.8888888888888888, \"#fdca26\"], [1.0, \"#f0f921\"]], \"type\": \"histogram2d\"}], \"histogram2dcontour\": [{\"colorbar\": {\"outlinewidth\": 0, \"ticks\": \"\"}, \"colorscale\": [[0.0, \"#0d0887\"], [0.1111111111111111, \"#46039f\"], [0.2222222222222222, \"#7201a8\"], [0.3333333333333333, \"#9c179e\"], [0.4444444444444444, \"#bd3786\"], [0.5555555555555556, \"#d8576b\"], [0.6666666666666666, \"#ed7953\"], [0.7777777777777778, \"#fb9f3a\"], [0.8888888888888888, \"#fdca26\"], [1.0, \"#f0f921\"]], \"type\": \"histogram2dcontour\"}], \"mesh3d\": [{\"colorbar\": {\"outlinewidth\": 0, \"ticks\": \"\"}, \"type\": \"mesh3d\"}], \"parcoords\": [{\"line\": {\"colorbar\": {\"outlinewidth\": 0, \"ticks\": \"\"}}, \"type\": \"parcoords\"}], \"pie\": [{\"automargin\": true, \"type\": \"pie\"}], \"scatter\": [{\"marker\": {\"colorbar\": {\"outlinewidth\": 0, \"ticks\": \"\"}}, \"type\": \"scatter\"}], \"scatter3d\": [{\"line\": {\"colorbar\": {\"outlinewidth\": 0, \"ticks\": \"\"}}, \"marker\": {\"colorbar\": {\"outlinewidth\": 0, \"ticks\": \"\"}}, \"type\": \"scatter3d\"}], \"scattercarpet\": [{\"marker\": {\"colorbar\": {\"outlinewidth\": 0, \"ticks\": \"\"}}, \"type\": \"scattercarpet\"}], \"scattergeo\": [{\"marker\": {\"colorbar\": {\"outlinewidth\": 0, \"ticks\": \"\"}}, \"type\": \"scattergeo\"}], \"scattergl\": [{\"marker\": {\"colorbar\": {\"outlinewidth\": 0, \"ticks\": \"\"}}, \"type\": \"scattergl\"}], \"scattermapbox\": [{\"marker\": {\"colorbar\": {\"outlinewidth\": 0, \"ticks\": \"\"}}, \"type\": \"scattermapbox\"}], \"scatterpolar\": [{\"marker\": {\"colorbar\": {\"outlinewidth\": 0, \"ticks\": \"\"}}, \"type\": \"scatterpolar\"}], \"scatterpolargl\": [{\"marker\": {\"colorbar\": {\"outlinewidth\": 0, \"ticks\": \"\"}}, \"type\": \"scatterpolargl\"}], \"scatterternary\": [{\"marker\": {\"colorbar\": {\"outlinewidth\": 0, \"ticks\": \"\"}}, \"type\": \"scatterternary\"}], \"surface\": [{\"colorbar\": {\"outlinewidth\": 0, \"ticks\": \"\"}, \"colorscale\": [[0.0, \"#0d0887\"], [0.1111111111111111, \"#46039f\"], [0.2222222222222222, \"#7201a8\"], [0.3333333333333333, \"#9c179e\"], [0.4444444444444444, \"#bd3786\"], [0.5555555555555556, \"#d8576b\"], [0.6666666666666666, \"#ed7953\"], [0.7777777777777778, \"#fb9f3a\"], [0.8888888888888888, \"#fdca26\"], [1.0, \"#f0f921\"]], \"type\": \"surface\"}], \"table\": [{\"cells\": {\"fill\": {\"color\": \"#EBF0F8\"}, \"line\": {\"color\": \"white\"}}, \"header\": {\"fill\": {\"color\": \"#C8D4E3\"}, \"line\": {\"color\": \"white\"}}, \"type\": \"table\"}]}, \"layout\": {\"annotationdefaults\": {\"arrowcolor\": \"#2a3f5f\", \"arrowhead\": 0, \"arrowwidth\": 1}, \"autotypenumbers\": \"strict\", \"coloraxis\": {\"colorbar\": {\"outlinewidth\": 0, \"ticks\": \"\"}}, \"colorscale\": {\"diverging\": [[0, \"#8e0152\"], [0.1, \"#c51b7d\"], [0.2, \"#de77ae\"], [0.3, \"#f1b6da\"], [0.4, \"#fde0ef\"], [0.5, \"#f7f7f7\"], [0.6, \"#e6f5d0\"], [0.7, \"#b8e186\"], [0.8, \"#7fbc41\"], [0.9, \"#4d9221\"], [1, \"#276419\"]], \"sequential\": [[0.0, \"#0d0887\"], [0.1111111111111111, \"#46039f\"], [0.2222222222222222, \"#7201a8\"], [0.3333333333333333, \"#9c179e\"], [0.4444444444444444, \"#bd3786\"], [0.5555555555555556, \"#d8576b\"], [0.6666666666666666, \"#ed7953\"], [0.7777777777777778, \"#fb9f3a\"], [0.8888888888888888, \"#fdca26\"], [1.0, \"#f0f921\"]], \"sequentialminus\": [[0.0, \"#0d0887\"], [0.1111111111111111, \"#46039f\"], [0.2222222222222222, \"#7201a8\"], [0.3333333333333333, \"#9c179e\"], [0.4444444444444444, \"#bd3786\"], [0.5555555555555556, \"#d8576b\"], [0.6666666666666666, \"#ed7953\"], [0.7777777777777778, \"#fb9f3a\"], [0.8888888888888888, \"#fdca26\"], [1.0, \"#f0f921\"]]}, \"colorway\": [\"#636efa\", \"#EF553B\", \"#00cc96\", \"#ab63fa\", \"#FFA15A\", \"#19d3f3\", \"#FF6692\", \"#B6E880\", \"#FF97FF\", \"#FECB52\"], \"font\": {\"color\": \"#2a3f5f\"}, \"geo\": {\"bgcolor\": \"white\", \"lakecolor\": \"white\", \"landcolor\": \"#E5ECF6\", \"showlakes\": true, \"showland\": true, \"subunitcolor\": \"white\"}, \"hoverlabel\": {\"align\": \"left\"}, \"hovermode\": \"closest\", \"mapbox\": {\"style\": \"light\"}, \"paper_bgcolor\": \"white\", \"plot_bgcolor\": \"#E5ECF6\", \"polar\": {\"angularaxis\": {\"gridcolor\": \"white\", \"linecolor\": \"white\", \"ticks\": \"\"}, \"bgcolor\": \"#E5ECF6\", \"radialaxis\": {\"gridcolor\": \"white\", \"linecolor\": \"white\", \"ticks\": \"\"}}, \"scene\": {\"xaxis\": {\"backgroundcolor\": \"#E5ECF6\", \"gridcolor\": \"white\", \"gridwidth\": 2, \"linecolor\": \"white\", \"showbackground\": true, \"ticks\": \"\", \"zerolinecolor\": \"white\"}, \"yaxis\": {\"backgroundcolor\": \"#E5ECF6\", \"gridcolor\": \"white\", \"gridwidth\": 2, \"linecolor\": \"white\", \"showbackground\": true, \"ticks\": \"\", \"zerolinecolor\": \"white\"}, \"zaxis\": {\"backgroundcolor\": \"#E5ECF6\", \"gridcolor\": \"white\", \"gridwidth\": 2, \"linecolor\": \"white\", \"showbackground\": true, \"ticks\": \"\", \"zerolinecolor\": \"white\"}}, \"shapedefaults\": {\"line\": {\"color\": \"#2a3f5f\"}}, \"ternary\": {\"aaxis\": {\"gridcolor\": \"white\", \"linecolor\": \"white\", \"ticks\": \"\"}, \"baxis\": {\"gridcolor\": \"white\", \"linecolor\": \"white\", \"ticks\": \"\"}, \"bgcolor\": \"#E5ECF6\", \"caxis\": {\"gridcolor\": \"white\", \"linecolor\": \"white\", \"ticks\": \"\"}}, \"title\": {\"x\": 0.05}, \"xaxis\": {\"automargin\": true, \"gridcolor\": \"white\", \"linecolor\": \"white\", \"ticks\": \"\", \"title\": {\"standoff\": 15}, \"zerolinecolor\": \"white\", \"zerolinewidth\": 2}, \"yaxis\": {\"automargin\": true, \"gridcolor\": \"white\", \"linecolor\": \"white\", \"ticks\": \"\", \"title\": {\"standoff\": 15}, \"zerolinecolor\": \"white\", \"zerolinewidth\": 2}}}, \"title\": {\"font\": {\"color\": \"#4D5663\"}}, \"xaxis\": {\"gridcolor\": \"#E1E5ED\", \"showgrid\": true, \"tickfont\": {\"color\": \"#4D5663\"}, \"title\": {\"font\": {\"color\": \"#4D5663\"}, \"text\": \"\"}, \"zerolinecolor\": \"#E1E5ED\"}, \"yaxis\": {\"gridcolor\": \"#E1E5ED\", \"showgrid\": true, \"tickfont\": {\"color\": \"#4D5663\"}, \"title\": {\"font\": {\"color\": \"#4D5663\"}, \"text\": \"\"}, \"zerolinecolor\": \"#E1E5ED\"}},                        {\"showLink\": true, \"linkText\": \"Export to plot.ly\", \"plotlyServerURL\": \"https://plot.ly\", \"responsive\": true}                    ).then(function(){\n",
       "                            \n",
       "var gd = document.getElementById('f4d49873-c62c-4a9e-97a7-55ff3e11faae');\n",
       "var x = new MutationObserver(function (mutations, observer) {{\n",
       "        var display = window.getComputedStyle(gd).display;\n",
       "        if (!display || display === 'none') {{\n",
       "            console.log([gd, 'removed!']);\n",
       "            Plotly.purge(gd);\n",
       "            observer.disconnect();\n",
       "        }}\n",
       "}});\n",
       "\n",
       "// Listen for the removal of the full notebook cells\n",
       "var notebookContainer = gd.closest('#notebook-container');\n",
       "if (notebookContainer) {{\n",
       "    x.observe(notebookContainer, {childList: true});\n",
       "}}\n",
       "\n",
       "// Listen for the clearing of the current output cell\n",
       "var outputEl = gd.closest('.output');\n",
       "if (outputEl) {{\n",
       "    x.observe(outputEl, {childList: true});\n",
       "}}\n",
       "\n",
       "                        })                };                });            </script>        </div>"
      ]
     },
     "metadata": {},
     "output_type": "display_data"
    }
   ],
   "source": [
    "df['A'].iplot(kind='hist',bins=25)"
   ]
  },
  {
   "cell_type": "code",
   "execution_count": 38,
   "id": "verbal-falls",
   "metadata": {},
   "outputs": [
    {
     "data": {
      "application/vnd.plotly.v1+json": {
       "config": {
        "linkText": "Export to plot.ly",
        "plotlyServerURL": "https://plot.ly",
        "showLink": true
       },
       "data": [
        {
         "histfunc": "count",
         "histnorm": "",
         "marker": {
          "color": "rgba(255, 153, 51, 1.0)",
          "line": {
           "color": "#4D5663",
           "width": 1.3
          }
         },
         "name": "A",
         "nbinsx": 25,
         "opacity": 0.8,
         "orientation": "v",
         "type": "histogram",
         "x": [
          1.061473280205822,
          0.7788035401649821,
          -0.2843131564415733,
          0.4028606011071929,
          -1.0353566473067173,
          -1.5925881310692422,
          0.03764451610017262,
          0.09321189582306758,
          -0.4176584649435947,
          1.3425792835433714,
          1.0266554020785341,
          -0.3509763266194384,
          -1.1578507094975032,
          -0.10767980405124133,
          -0.7659349830162048,
          0.6359970746835948,
          0.781389848793117,
          -0.20999618974658754,
          -0.4724551602521327,
          -1.2611520993994236,
          0.5011595968288648,
          2.5021298775570124,
          -2.2161401806538175,
          -0.4213098675783744,
          1.406278824461392,
          1.0245563932292865,
          0.05793642079927353,
          0.5172455234185414,
          0.23237803736898088,
          -0.36851140968886364,
          -0.02331748092877489,
          1.1344686849252197,
          0.16803740412380333,
          -1.3287890912409976,
          0.7879241292820391,
          -0.005548678959254899,
          0.8329045559462215,
          -0.7430868096641571,
          -1.133100937544328,
          0.7006688816822035,
          2.035632575118046,
          0.5325886928830186,
          -0.8599991780600442,
          0.15505475981508404,
          -0.2783228994628211,
          -0.0935045987798122,
          0.257383871747999,
          0.9458026852206287,
          0.0523970154360034,
          0.028677167605447113,
          1.9243754536472717,
          -1.4517638419797148,
          -0.42240872112290845,
          -0.6830010989045584,
          0.8998411440376746,
          0.5661636957875802,
          1.8078923338402904,
          -0.1211574749952134,
          1.1628256796583745,
          -0.7747340750216297,
          -1.663603001451258,
          0.6205659519924192,
          1.1066279064691593,
          -0.4714356459473895,
          -0.6334083024936795,
          0.7840050962817294,
          0.5777402499571723,
          0.13624915721450132,
          0.12080615947972986,
          -0.7310373593845643,
          2.0878737842304975,
          -1.260657602083573,
          -0.9781991587314987,
          0.02552177479888971,
          -1.5312019439825595,
          0.3819009284644589,
          0.9627266602138024,
          -0.36528374506782496,
          -0.01330698839724629,
          -1.057342126647745,
          0.026874897028896363,
          1.4579519802072136,
          0.3436411938175002,
          -0.15839574242186497,
          0.9993958159176821,
          -0.8926368337194085,
          -0.427317895602847,
          0.6220513939400963,
          0.4957072394399795,
          -0.19188201177565387,
          -0.7045958601968229,
          -0.18917637706476753,
          -0.577505244222488,
          -0.6040999190689166,
          0.16031718046731083,
          -0.7914776160554775,
          1.025058265396455,
          1.5523763416710603,
          1.729160350179526,
          0.28383053480712556
         ]
        },
        {
         "histfunc": "count",
         "histnorm": "",
         "marker": {
          "color": "rgba(55, 128, 191, 1.0)",
          "line": {
           "color": "#4D5663",
           "width": 1.3
          }
         },
         "name": "B",
         "nbinsx": 25,
         "opacity": 0.8,
         "orientation": "v",
         "type": "histogram",
         "x": [
          -0.1502090526950633,
          -1.4730229850054035,
          0.8343967846403096,
          0.07881786533117169,
          0.2173963689453169,
          -0.5528080492436792,
          -1.6258453109586075,
          -0.6767305514654233,
          -0.14300288693546617,
          0.4496954555587184,
          -0.01257683703554524,
          -0.28528865085325283,
          -0.6211655838808301,
          -0.2088464084433686,
          0.11963905119676699,
          -0.33498296236193226,
          -0.33505878250702303,
          1.7253129170246115,
          -1.1653926642573262,
          0.3805949514809733,
          0.09743708259195785,
          -1.0379640975634625,
          0.15098100983051105,
          0.4318977678868364,
          0.4963469437410477,
          0.028512895291313973,
          -1.0979847878044142,
          0.3971856542241418,
          -0.7638507427802923,
          0.04362940403433376,
          0.5493903482135887,
          0.43290716796591083,
          -0.44521194333356084,
          0.9661060689292932,
          0.44210330235753237,
          0.03321214661252483,
          -0.48936726967185207,
          -0.9304182896274302,
          1.6968215447462103,
          -0.278502027157531,
          0.35962316230753194,
          0.1694672554621009,
          1.3463629130177368,
          -0.4773321454887906,
          0.7558264273744825,
          0.30602848551497713,
          1.077734325636297,
          -0.06665598912475737,
          -0.40947446944564386,
          -1.046290912810996,
          0.15155824818897423,
          0.9479235219129352,
          0.5012297209712162,
          0.7202543172706395,
          1.2146155916317036,
          -0.761540003341629,
          1.4216908347738988,
          -0.8083797165101845,
          -0.9598316539739877,
          0.3250456999210159,
          0.7784293978884731,
          0.2913806361130591,
          -0.7031204864984019,
          -0.848852060370494,
          1.3077008994967214,
          2.3441676335625856,
          0.6737609401575443,
          -0.025823768466770602,
          -0.7677235483223626,
          -0.06131394849974311,
          0.039052404999263476,
          0.054768492284818365,
          -0.8498106331641933,
          0.706498180370543,
          -1.2607512917177826,
          -0.41172978961905266,
          -0.2707358279752124,
          0.23025681528889977,
          0.5539822404638315,
          -0.08288867817875158,
          -0.997771161936249,
          -0.678778928533606,
          -1.1474059797681828,
          0.13050467561654697,
          -0.20127543952445254,
          1.1734867634071395,
          -0.14447033334416912,
          -0.7768356529113692,
          2.108155468791955,
          0.2577470285525313,
          0.34417938196510817,
          -1.077596212923613,
          -0.6645104260980493,
          0.5900139902104728,
          -0.8875170695082091,
          1.6232057752672975,
          -0.4425887211319952,
          -0.11476017820101533,
          -0.33938732454496534,
          0.8827855572707493
         ]
        },
        {
         "histfunc": "count",
         "histnorm": "",
         "marker": {
          "color": "rgba(50, 171, 96, 1.0)",
          "line": {
           "color": "#4D5663",
           "width": 1.3
          }
         },
         "name": "C",
         "nbinsx": 25,
         "opacity": 0.8,
         "orientation": "v",
         "type": "histogram",
         "x": [
          -0.47714094631062437,
          -1.3345994918462734,
          -0.09706841022884331,
          1.1968284173047101,
          -0.6781421534686967,
          0.43159356038013935,
          0.6835822972305295,
          1.5711798443259752,
          -0.27737562899744533,
          0.5994425730797492,
          -0.15410497991092595,
          1.0107493932087777,
          0.15790142926355047,
          -0.8841180511952776,
          -1.3350209756308677,
          0.5485462338639149,
          -0.8619817842262595,
          -0.7168525530062234,
          1.1273469677020778,
          0.8730206000954404,
          -0.24702144524183348,
          0.7880028275551544,
          0.2071746893225869,
          -0.029225038016002854,
          1.865403567959548,
          0.11538188550007665,
          1.269548326304167,
          0.16509610572813474,
          0.8999860999795253,
          -0.0354781432835169,
          -0.49133860040138927,
          0.9079135076642156,
          -0.8114482812530663,
          0.8220565081765221,
          0.39946462690287393,
          -0.5547203946074728,
          -1.62037719639545,
          0.26472999659299234,
          -0.45658294841827207,
          -1.2614757474644993,
          -0.43639157115159743,
          1.2881598359634865,
          -0.23110420853353672,
          -0.4744266952361845,
          0.8272940547801969,
          -0.477104784804838,
          -0.7963256279031508,
          -0.8925126287583691,
          -1.5330790864952706,
          0.6151987020079225,
          0.4591690773644197,
          -1.5059313243649641,
          0.29372259009452656,
          1.1736766502681213,
          0.7310143871935828,
          0.22948656932661435,
          0.9737063267905761,
          0.9345629639664688,
          -0.7114277853243768,
          0.5927372448969023,
          0.285849459719758,
          0.60474917891961,
          -0.6367443989963583,
          -1.2001184162791918,
          0.6190840465127015,
          1.2339947962318631,
          -0.8187481609627966,
          -1.5506335715530588,
          0.27012562568802667,
          -0.4171533248547998,
          -0.8984022932891833,
          -1.3991492296082042,
          -0.5598386542022132,
          1.1269459966469904,
          1.8281568708288565,
          -0.406172312652385,
          -0.1640700800271707,
          -1.040967602120725,
          -1.0298408006190567,
          -1.5270696190537125,
          -0.2873013178148533,
          2.356989409619273,
          1.3783874582632833,
          -0.5733734484701256,
          -1.3093978213393007,
          -0.031035089615515692,
          -1.0539086734360197,
          1.319453591012269,
          -0.5158746252674392,
          0.4087916669098679,
          -0.6591222849766853,
          -2.197209533022403,
          0.0022492549136631694,
          0.8021121429442958,
          1.461573563904791,
          1.233482781292835,
          -0.2713433242778099,
          0.09255866193143845,
          -0.9387691637262042,
          -1.3143626501216688
         ]
        },
        {
         "histfunc": "count",
         "histnorm": "",
         "marker": {
          "color": "rgba(128, 0, 128, 1.0)",
          "line": {
           "color": "#4D5663",
           "width": 1.3
          }
         },
         "name": "D",
         "nbinsx": 25,
         "opacity": 0.8,
         "orientation": "v",
         "type": "histogram",
         "x": [
          1.6314890263197093,
          -0.6965718949158347,
          0.35084318365036765,
          -1.2222638113329922,
          0.6057486684596096,
          0.1452009905992692,
          -0.6668275595094052,
          0.49909495279141736,
          -1.1829092869149782,
          0.6705087643248491,
          0.8622858501949637,
          1.225417623604347,
          1.755725704148251,
          1.1309847736467293,
          -0.5336105481216621,
          0.7107270765748982,
          2.0435749991999623,
          1.2961399551551187,
          -1.6630925483891579,
          0.4230686092321981,
          -1.1447678627644444,
          0.5153826472117116,
          -0.0002649357515297671,
          0.31907947552678717,
          1.9410031412628177,
          1.3972847873794798,
          -0.3360358659654972,
          1.1498644432680514,
          1.1186222369629626,
          -1.0632158208343334,
          -0.05930212027860439,
          1.9594955868731154,
          -1.4415945415090048,
          0.5543778984758491,
          1.6684568260885326,
          -0.9657872528147986,
          -0.275521957970055,
          -0.18596131515277367,
          0.8938964819496332,
          1.2875885101092677,
          -0.4272488078580057,
          -0.26185929298795513,
          0.47858563361446205,
          -0.28598242623725545,
          0.38454741202639714,
          -1.3527736346922408,
          1.5444272867441986,
          -0.3570274407771999,
          -0.7262802270049282,
          1.2520672171528433,
          0.5073482762541652,
          -0.010703223441998921,
          -0.7018499206350687,
          -0.010451541881170784,
          -0.24866318791685305,
          -0.8482855975753855,
          0.8344833151665356,
          1.1409383112926403,
          -1.3915829568990927,
          -0.30856369866854416,
          0.7064812547399467,
          -0.8545392957094377,
          1.0022935778450717,
          -0.9919371688360995,
          0.36963442707580324,
          -0.5629342487974898,
          0.16960105239569848,
          -0.40362658397962303,
          -1.6780961091806244,
          -0.9687692761826167,
          -0.5029640394538285,
          0.23498051849444426,
          -0.6979677180565823,
          0.9919702901846777,
          -2.3777343087528027,
          -1.227705051199071,
          -0.059914758678974736,
          1.672020587047513,
          -1.9817420768305458,
          -0.5382447203064389,
          -1.2468599687743567,
          1.0967785445323446,
          -1.294038898804085,
          -0.38134039447576606,
          0.8389213301310103,
          0.7556168393816037,
          2.0671722471818614,
          1.3722760538868541,
          -0.42438600997816767,
          1.4249998743946992,
          0.2601743447370759,
          0.020246716306334817,
          -0.7555172138596694,
          0.07425581796169935,
          -2.5711289485102866,
          -0.9898595722162504,
          -0.24067441805738782,
          -1.991382303709734,
          0.23063973668514276,
          1.278168487899292
         ]
        }
       ],
       "layout": {
        "barmode": "overlay",
        "legend": {
         "bgcolor": "#F5F6F9",
         "font": {
          "color": "#4D5663"
         }
        },
        "paper_bgcolor": "#F5F6F9",
        "plot_bgcolor": "#F5F6F9",
        "template": {
         "data": {
          "bar": [
           {
            "error_x": {
             "color": "#2a3f5f"
            },
            "error_y": {
             "color": "#2a3f5f"
            },
            "marker": {
             "line": {
              "color": "#E5ECF6",
              "width": 0.5
             }
            },
            "type": "bar"
           }
          ],
          "barpolar": [
           {
            "marker": {
             "line": {
              "color": "#E5ECF6",
              "width": 0.5
             }
            },
            "type": "barpolar"
           }
          ],
          "carpet": [
           {
            "aaxis": {
             "endlinecolor": "#2a3f5f",
             "gridcolor": "white",
             "linecolor": "white",
             "minorgridcolor": "white",
             "startlinecolor": "#2a3f5f"
            },
            "baxis": {
             "endlinecolor": "#2a3f5f",
             "gridcolor": "white",
             "linecolor": "white",
             "minorgridcolor": "white",
             "startlinecolor": "#2a3f5f"
            },
            "type": "carpet"
           }
          ],
          "choropleth": [
           {
            "colorbar": {
             "outlinewidth": 0,
             "ticks": ""
            },
            "type": "choropleth"
           }
          ],
          "contour": [
           {
            "colorbar": {
             "outlinewidth": 0,
             "ticks": ""
            },
            "colorscale": [
             [
              0,
              "#0d0887"
             ],
             [
              0.1111111111111111,
              "#46039f"
             ],
             [
              0.2222222222222222,
              "#7201a8"
             ],
             [
              0.3333333333333333,
              "#9c179e"
             ],
             [
              0.4444444444444444,
              "#bd3786"
             ],
             [
              0.5555555555555556,
              "#d8576b"
             ],
             [
              0.6666666666666666,
              "#ed7953"
             ],
             [
              0.7777777777777778,
              "#fb9f3a"
             ],
             [
              0.8888888888888888,
              "#fdca26"
             ],
             [
              1,
              "#f0f921"
             ]
            ],
            "type": "contour"
           }
          ],
          "contourcarpet": [
           {
            "colorbar": {
             "outlinewidth": 0,
             "ticks": ""
            },
            "type": "contourcarpet"
           }
          ],
          "heatmap": [
           {
            "colorbar": {
             "outlinewidth": 0,
             "ticks": ""
            },
            "colorscale": [
             [
              0,
              "#0d0887"
             ],
             [
              0.1111111111111111,
              "#46039f"
             ],
             [
              0.2222222222222222,
              "#7201a8"
             ],
             [
              0.3333333333333333,
              "#9c179e"
             ],
             [
              0.4444444444444444,
              "#bd3786"
             ],
             [
              0.5555555555555556,
              "#d8576b"
             ],
             [
              0.6666666666666666,
              "#ed7953"
             ],
             [
              0.7777777777777778,
              "#fb9f3a"
             ],
             [
              0.8888888888888888,
              "#fdca26"
             ],
             [
              1,
              "#f0f921"
             ]
            ],
            "type": "heatmap"
           }
          ],
          "heatmapgl": [
           {
            "colorbar": {
             "outlinewidth": 0,
             "ticks": ""
            },
            "colorscale": [
             [
              0,
              "#0d0887"
             ],
             [
              0.1111111111111111,
              "#46039f"
             ],
             [
              0.2222222222222222,
              "#7201a8"
             ],
             [
              0.3333333333333333,
              "#9c179e"
             ],
             [
              0.4444444444444444,
              "#bd3786"
             ],
             [
              0.5555555555555556,
              "#d8576b"
             ],
             [
              0.6666666666666666,
              "#ed7953"
             ],
             [
              0.7777777777777778,
              "#fb9f3a"
             ],
             [
              0.8888888888888888,
              "#fdca26"
             ],
             [
              1,
              "#f0f921"
             ]
            ],
            "type": "heatmapgl"
           }
          ],
          "histogram": [
           {
            "marker": {
             "colorbar": {
              "outlinewidth": 0,
              "ticks": ""
             }
            },
            "type": "histogram"
           }
          ],
          "histogram2d": [
           {
            "colorbar": {
             "outlinewidth": 0,
             "ticks": ""
            },
            "colorscale": [
             [
              0,
              "#0d0887"
             ],
             [
              0.1111111111111111,
              "#46039f"
             ],
             [
              0.2222222222222222,
              "#7201a8"
             ],
             [
              0.3333333333333333,
              "#9c179e"
             ],
             [
              0.4444444444444444,
              "#bd3786"
             ],
             [
              0.5555555555555556,
              "#d8576b"
             ],
             [
              0.6666666666666666,
              "#ed7953"
             ],
             [
              0.7777777777777778,
              "#fb9f3a"
             ],
             [
              0.8888888888888888,
              "#fdca26"
             ],
             [
              1,
              "#f0f921"
             ]
            ],
            "type": "histogram2d"
           }
          ],
          "histogram2dcontour": [
           {
            "colorbar": {
             "outlinewidth": 0,
             "ticks": ""
            },
            "colorscale": [
             [
              0,
              "#0d0887"
             ],
             [
              0.1111111111111111,
              "#46039f"
             ],
             [
              0.2222222222222222,
              "#7201a8"
             ],
             [
              0.3333333333333333,
              "#9c179e"
             ],
             [
              0.4444444444444444,
              "#bd3786"
             ],
             [
              0.5555555555555556,
              "#d8576b"
             ],
             [
              0.6666666666666666,
              "#ed7953"
             ],
             [
              0.7777777777777778,
              "#fb9f3a"
             ],
             [
              0.8888888888888888,
              "#fdca26"
             ],
             [
              1,
              "#f0f921"
             ]
            ],
            "type": "histogram2dcontour"
           }
          ],
          "mesh3d": [
           {
            "colorbar": {
             "outlinewidth": 0,
             "ticks": ""
            },
            "type": "mesh3d"
           }
          ],
          "parcoords": [
           {
            "line": {
             "colorbar": {
              "outlinewidth": 0,
              "ticks": ""
             }
            },
            "type": "parcoords"
           }
          ],
          "pie": [
           {
            "automargin": true,
            "type": "pie"
           }
          ],
          "scatter": [
           {
            "marker": {
             "colorbar": {
              "outlinewidth": 0,
              "ticks": ""
             }
            },
            "type": "scatter"
           }
          ],
          "scatter3d": [
           {
            "line": {
             "colorbar": {
              "outlinewidth": 0,
              "ticks": ""
             }
            },
            "marker": {
             "colorbar": {
              "outlinewidth": 0,
              "ticks": ""
             }
            },
            "type": "scatter3d"
           }
          ],
          "scattercarpet": [
           {
            "marker": {
             "colorbar": {
              "outlinewidth": 0,
              "ticks": ""
             }
            },
            "type": "scattercarpet"
           }
          ],
          "scattergeo": [
           {
            "marker": {
             "colorbar": {
              "outlinewidth": 0,
              "ticks": ""
             }
            },
            "type": "scattergeo"
           }
          ],
          "scattergl": [
           {
            "marker": {
             "colorbar": {
              "outlinewidth": 0,
              "ticks": ""
             }
            },
            "type": "scattergl"
           }
          ],
          "scattermapbox": [
           {
            "marker": {
             "colorbar": {
              "outlinewidth": 0,
              "ticks": ""
             }
            },
            "type": "scattermapbox"
           }
          ],
          "scatterpolar": [
           {
            "marker": {
             "colorbar": {
              "outlinewidth": 0,
              "ticks": ""
             }
            },
            "type": "scatterpolar"
           }
          ],
          "scatterpolargl": [
           {
            "marker": {
             "colorbar": {
              "outlinewidth": 0,
              "ticks": ""
             }
            },
            "type": "scatterpolargl"
           }
          ],
          "scatterternary": [
           {
            "marker": {
             "colorbar": {
              "outlinewidth": 0,
              "ticks": ""
             }
            },
            "type": "scatterternary"
           }
          ],
          "surface": [
           {
            "colorbar": {
             "outlinewidth": 0,
             "ticks": ""
            },
            "colorscale": [
             [
              0,
              "#0d0887"
             ],
             [
              0.1111111111111111,
              "#46039f"
             ],
             [
              0.2222222222222222,
              "#7201a8"
             ],
             [
              0.3333333333333333,
              "#9c179e"
             ],
             [
              0.4444444444444444,
              "#bd3786"
             ],
             [
              0.5555555555555556,
              "#d8576b"
             ],
             [
              0.6666666666666666,
              "#ed7953"
             ],
             [
              0.7777777777777778,
              "#fb9f3a"
             ],
             [
              0.8888888888888888,
              "#fdca26"
             ],
             [
              1,
              "#f0f921"
             ]
            ],
            "type": "surface"
           }
          ],
          "table": [
           {
            "cells": {
             "fill": {
              "color": "#EBF0F8"
             },
             "line": {
              "color": "white"
             }
            },
            "header": {
             "fill": {
              "color": "#C8D4E3"
             },
             "line": {
              "color": "white"
             }
            },
            "type": "table"
           }
          ]
         },
         "layout": {
          "annotationdefaults": {
           "arrowcolor": "#2a3f5f",
           "arrowhead": 0,
           "arrowwidth": 1
          },
          "autotypenumbers": "strict",
          "coloraxis": {
           "colorbar": {
            "outlinewidth": 0,
            "ticks": ""
           }
          },
          "colorscale": {
           "diverging": [
            [
             0,
             "#8e0152"
            ],
            [
             0.1,
             "#c51b7d"
            ],
            [
             0.2,
             "#de77ae"
            ],
            [
             0.3,
             "#f1b6da"
            ],
            [
             0.4,
             "#fde0ef"
            ],
            [
             0.5,
             "#f7f7f7"
            ],
            [
             0.6,
             "#e6f5d0"
            ],
            [
             0.7,
             "#b8e186"
            ],
            [
             0.8,
             "#7fbc41"
            ],
            [
             0.9,
             "#4d9221"
            ],
            [
             1,
             "#276419"
            ]
           ],
           "sequential": [
            [
             0,
             "#0d0887"
            ],
            [
             0.1111111111111111,
             "#46039f"
            ],
            [
             0.2222222222222222,
             "#7201a8"
            ],
            [
             0.3333333333333333,
             "#9c179e"
            ],
            [
             0.4444444444444444,
             "#bd3786"
            ],
            [
             0.5555555555555556,
             "#d8576b"
            ],
            [
             0.6666666666666666,
             "#ed7953"
            ],
            [
             0.7777777777777778,
             "#fb9f3a"
            ],
            [
             0.8888888888888888,
             "#fdca26"
            ],
            [
             1,
             "#f0f921"
            ]
           ],
           "sequentialminus": [
            [
             0,
             "#0d0887"
            ],
            [
             0.1111111111111111,
             "#46039f"
            ],
            [
             0.2222222222222222,
             "#7201a8"
            ],
            [
             0.3333333333333333,
             "#9c179e"
            ],
            [
             0.4444444444444444,
             "#bd3786"
            ],
            [
             0.5555555555555556,
             "#d8576b"
            ],
            [
             0.6666666666666666,
             "#ed7953"
            ],
            [
             0.7777777777777778,
             "#fb9f3a"
            ],
            [
             0.8888888888888888,
             "#fdca26"
            ],
            [
             1,
             "#f0f921"
            ]
           ]
          },
          "colorway": [
           "#636efa",
           "#EF553B",
           "#00cc96",
           "#ab63fa",
           "#FFA15A",
           "#19d3f3",
           "#FF6692",
           "#B6E880",
           "#FF97FF",
           "#FECB52"
          ],
          "font": {
           "color": "#2a3f5f"
          },
          "geo": {
           "bgcolor": "white",
           "lakecolor": "white",
           "landcolor": "#E5ECF6",
           "showlakes": true,
           "showland": true,
           "subunitcolor": "white"
          },
          "hoverlabel": {
           "align": "left"
          },
          "hovermode": "closest",
          "mapbox": {
           "style": "light"
          },
          "paper_bgcolor": "white",
          "plot_bgcolor": "#E5ECF6",
          "polar": {
           "angularaxis": {
            "gridcolor": "white",
            "linecolor": "white",
            "ticks": ""
           },
           "bgcolor": "#E5ECF6",
           "radialaxis": {
            "gridcolor": "white",
            "linecolor": "white",
            "ticks": ""
           }
          },
          "scene": {
           "xaxis": {
            "backgroundcolor": "#E5ECF6",
            "gridcolor": "white",
            "gridwidth": 2,
            "linecolor": "white",
            "showbackground": true,
            "ticks": "",
            "zerolinecolor": "white"
           },
           "yaxis": {
            "backgroundcolor": "#E5ECF6",
            "gridcolor": "white",
            "gridwidth": 2,
            "linecolor": "white",
            "showbackground": true,
            "ticks": "",
            "zerolinecolor": "white"
           },
           "zaxis": {
            "backgroundcolor": "#E5ECF6",
            "gridcolor": "white",
            "gridwidth": 2,
            "linecolor": "white",
            "showbackground": true,
            "ticks": "",
            "zerolinecolor": "white"
           }
          },
          "shapedefaults": {
           "line": {
            "color": "#2a3f5f"
           }
          },
          "ternary": {
           "aaxis": {
            "gridcolor": "white",
            "linecolor": "white",
            "ticks": ""
           },
           "baxis": {
            "gridcolor": "white",
            "linecolor": "white",
            "ticks": ""
           },
           "bgcolor": "#E5ECF6",
           "caxis": {
            "gridcolor": "white",
            "linecolor": "white",
            "ticks": ""
           }
          },
          "title": {
           "x": 0.05
          },
          "xaxis": {
           "automargin": true,
           "gridcolor": "white",
           "linecolor": "white",
           "ticks": "",
           "title": {
            "standoff": 15
           },
           "zerolinecolor": "white",
           "zerolinewidth": 2
          },
          "yaxis": {
           "automargin": true,
           "gridcolor": "white",
           "linecolor": "white",
           "ticks": "",
           "title": {
            "standoff": 15
           },
           "zerolinecolor": "white",
           "zerolinewidth": 2
          }
         }
        },
        "title": {
         "font": {
          "color": "#4D5663"
         }
        },
        "xaxis": {
         "gridcolor": "#E1E5ED",
         "showgrid": true,
         "tickfont": {
          "color": "#4D5663"
         },
         "title": {
          "font": {
           "color": "#4D5663"
          },
          "text": ""
         },
         "zerolinecolor": "#E1E5ED"
        },
        "yaxis": {
         "gridcolor": "#E1E5ED",
         "showgrid": true,
         "tickfont": {
          "color": "#4D5663"
         },
         "title": {
          "font": {
           "color": "#4D5663"
          },
          "text": ""
         },
         "zerolinecolor": "#E1E5ED"
        }
       }
      },
      "text/html": [
       "<div>                            <div id=\"871986a1-98e4-4d6d-86fd-60ca5bf189c8\" class=\"plotly-graph-div\" style=\"height:525px; width:100%;\"></div>            <script type=\"text/javascript\">                require([\"plotly\"], function(Plotly) {                    window.PLOTLYENV=window.PLOTLYENV || {};\n",
       "                    window.PLOTLYENV.BASE_URL='https://plot.ly';                                    if (document.getElementById(\"871986a1-98e4-4d6d-86fd-60ca5bf189c8\")) {                    Plotly.newPlot(                        \"871986a1-98e4-4d6d-86fd-60ca5bf189c8\",                        [{\"histfunc\": \"count\", \"histnorm\": \"\", \"marker\": {\"color\": \"rgba(255, 153, 51, 1.0)\", \"line\": {\"color\": \"#4D5663\", \"width\": 1.3}}, \"name\": \"A\", \"nbinsx\": 25, \"opacity\": 0.8, \"orientation\": \"v\", \"type\": \"histogram\", \"x\": [1.061473280205822, 0.7788035401649821, -0.2843131564415733, 0.4028606011071929, -1.0353566473067173, -1.5925881310692422, 0.03764451610017262, 0.09321189582306758, -0.4176584649435947, 1.3425792835433714, 1.0266554020785341, -0.3509763266194384, -1.1578507094975032, -0.10767980405124133, -0.7659349830162048, 0.6359970746835948, 0.781389848793117, -0.20999618974658754, -0.4724551602521327, -1.2611520993994236, 0.5011595968288648, 2.5021298775570124, -2.2161401806538175, -0.4213098675783744, 1.406278824461392, 1.0245563932292865, 0.05793642079927353, 0.5172455234185414, 0.23237803736898088, -0.36851140968886364, -0.02331748092877489, 1.1344686849252197, 0.16803740412380333, -1.3287890912409976, 0.7879241292820391, -0.005548678959254899, 0.8329045559462215, -0.7430868096641571, -1.133100937544328, 0.7006688816822035, 2.035632575118046, 0.5325886928830186, -0.8599991780600442, 0.15505475981508404, -0.2783228994628211, -0.0935045987798122, 0.257383871747999, 0.9458026852206287, 0.0523970154360034, 0.028677167605447113, 1.9243754536472717, -1.4517638419797148, -0.42240872112290845, -0.6830010989045584, 0.8998411440376746, 0.5661636957875802, 1.8078923338402904, -0.1211574749952134, 1.1628256796583745, -0.7747340750216297, -1.663603001451258, 0.6205659519924192, 1.1066279064691593, -0.4714356459473895, -0.6334083024936795, 0.7840050962817294, 0.5777402499571723, 0.13624915721450132, 0.12080615947972986, -0.7310373593845643, 2.0878737842304975, -1.260657602083573, -0.9781991587314987, 0.02552177479888971, -1.5312019439825595, 0.3819009284644589, 0.9627266602138024, -0.36528374506782496, -0.01330698839724629, -1.057342126647745, 0.026874897028896363, 1.4579519802072136, 0.3436411938175002, -0.15839574242186497, 0.9993958159176821, -0.8926368337194085, -0.427317895602847, 0.6220513939400963, 0.4957072394399795, -0.19188201177565387, -0.7045958601968229, -0.18917637706476753, -0.577505244222488, -0.6040999190689166, 0.16031718046731083, -0.7914776160554775, 1.025058265396455, 1.5523763416710603, 1.729160350179526, 0.28383053480712556]}, {\"histfunc\": \"count\", \"histnorm\": \"\", \"marker\": {\"color\": \"rgba(55, 128, 191, 1.0)\", \"line\": {\"color\": \"#4D5663\", \"width\": 1.3}}, \"name\": \"B\", \"nbinsx\": 25, \"opacity\": 0.8, \"orientation\": \"v\", \"type\": \"histogram\", \"x\": [-0.1502090526950633, -1.4730229850054035, 0.8343967846403096, 0.07881786533117169, 0.2173963689453169, -0.5528080492436792, -1.6258453109586075, -0.6767305514654233, -0.14300288693546617, 0.4496954555587184, -0.01257683703554524, -0.28528865085325283, -0.6211655838808301, -0.2088464084433686, 0.11963905119676699, -0.33498296236193226, -0.33505878250702303, 1.7253129170246115, -1.1653926642573262, 0.3805949514809733, 0.09743708259195785, -1.0379640975634625, 0.15098100983051105, 0.4318977678868364, 0.4963469437410477, 0.028512895291313973, -1.0979847878044142, 0.3971856542241418, -0.7638507427802923, 0.04362940403433376, 0.5493903482135887, 0.43290716796591083, -0.44521194333356084, 0.9661060689292932, 0.44210330235753237, 0.03321214661252483, -0.48936726967185207, -0.9304182896274302, 1.6968215447462103, -0.278502027157531, 0.35962316230753194, 0.1694672554621009, 1.3463629130177368, -0.4773321454887906, 0.7558264273744825, 0.30602848551497713, 1.077734325636297, -0.06665598912475737, -0.40947446944564386, -1.046290912810996, 0.15155824818897423, 0.9479235219129352, 0.5012297209712162, 0.7202543172706395, 1.2146155916317036, -0.761540003341629, 1.4216908347738988, -0.8083797165101845, -0.9598316539739877, 0.3250456999210159, 0.7784293978884731, 0.2913806361130591, -0.7031204864984019, -0.848852060370494, 1.3077008994967214, 2.3441676335625856, 0.6737609401575443, -0.025823768466770602, -0.7677235483223626, -0.06131394849974311, 0.039052404999263476, 0.054768492284818365, -0.8498106331641933, 0.706498180370543, -1.2607512917177826, -0.41172978961905266, -0.2707358279752124, 0.23025681528889977, 0.5539822404638315, -0.08288867817875158, -0.997771161936249, -0.678778928533606, -1.1474059797681828, 0.13050467561654697, -0.20127543952445254, 1.1734867634071395, -0.14447033334416912, -0.7768356529113692, 2.108155468791955, 0.2577470285525313, 0.34417938196510817, -1.077596212923613, -0.6645104260980493, 0.5900139902104728, -0.8875170695082091, 1.6232057752672975, -0.4425887211319952, -0.11476017820101533, -0.33938732454496534, 0.8827855572707493]}, {\"histfunc\": \"count\", \"histnorm\": \"\", \"marker\": {\"color\": \"rgba(50, 171, 96, 1.0)\", \"line\": {\"color\": \"#4D5663\", \"width\": 1.3}}, \"name\": \"C\", \"nbinsx\": 25, \"opacity\": 0.8, \"orientation\": \"v\", \"type\": \"histogram\", \"x\": [-0.47714094631062437, -1.3345994918462734, -0.09706841022884331, 1.1968284173047101, -0.6781421534686967, 0.43159356038013935, 0.6835822972305295, 1.5711798443259752, -0.27737562899744533, 0.5994425730797492, -0.15410497991092595, 1.0107493932087777, 0.15790142926355047, -0.8841180511952776, -1.3350209756308677, 0.5485462338639149, -0.8619817842262595, -0.7168525530062234, 1.1273469677020778, 0.8730206000954404, -0.24702144524183348, 0.7880028275551544, 0.2071746893225869, -0.029225038016002854, 1.865403567959548, 0.11538188550007665, 1.269548326304167, 0.16509610572813474, 0.8999860999795253, -0.0354781432835169, -0.49133860040138927, 0.9079135076642156, -0.8114482812530663, 0.8220565081765221, 0.39946462690287393, -0.5547203946074728, -1.62037719639545, 0.26472999659299234, -0.45658294841827207, -1.2614757474644993, -0.43639157115159743, 1.2881598359634865, -0.23110420853353672, -0.4744266952361845, 0.8272940547801969, -0.477104784804838, -0.7963256279031508, -0.8925126287583691, -1.5330790864952706, 0.6151987020079225, 0.4591690773644197, -1.5059313243649641, 0.29372259009452656, 1.1736766502681213, 0.7310143871935828, 0.22948656932661435, 0.9737063267905761, 0.9345629639664688, -0.7114277853243768, 0.5927372448969023, 0.285849459719758, 0.60474917891961, -0.6367443989963583, -1.2001184162791918, 0.6190840465127015, 1.2339947962318631, -0.8187481609627966, -1.5506335715530588, 0.27012562568802667, -0.4171533248547998, -0.8984022932891833, -1.3991492296082042, -0.5598386542022132, 1.1269459966469904, 1.8281568708288565, -0.406172312652385, -0.1640700800271707, -1.040967602120725, -1.0298408006190567, -1.5270696190537125, -0.2873013178148533, 2.356989409619273, 1.3783874582632833, -0.5733734484701256, -1.3093978213393007, -0.031035089615515692, -1.0539086734360197, 1.319453591012269, -0.5158746252674392, 0.4087916669098679, -0.6591222849766853, -2.197209533022403, 0.0022492549136631694, 0.8021121429442958, 1.461573563904791, 1.233482781292835, -0.2713433242778099, 0.09255866193143845, -0.9387691637262042, -1.3143626501216688]}, {\"histfunc\": \"count\", \"histnorm\": \"\", \"marker\": {\"color\": \"rgba(128, 0, 128, 1.0)\", \"line\": {\"color\": \"#4D5663\", \"width\": 1.3}}, \"name\": \"D\", \"nbinsx\": 25, \"opacity\": 0.8, \"orientation\": \"v\", \"type\": \"histogram\", \"x\": [1.6314890263197093, -0.6965718949158347, 0.35084318365036765, -1.2222638113329922, 0.6057486684596096, 0.1452009905992692, -0.6668275595094052, 0.49909495279141736, -1.1829092869149782, 0.6705087643248491, 0.8622858501949637, 1.225417623604347, 1.755725704148251, 1.1309847736467293, -0.5336105481216621, 0.7107270765748982, 2.0435749991999623, 1.2961399551551187, -1.6630925483891579, 0.4230686092321981, -1.1447678627644444, 0.5153826472117116, -0.0002649357515297671, 0.31907947552678717, 1.9410031412628177, 1.3972847873794798, -0.3360358659654972, 1.1498644432680514, 1.1186222369629626, -1.0632158208343334, -0.05930212027860439, 1.9594955868731154, -1.4415945415090048, 0.5543778984758491, 1.6684568260885326, -0.9657872528147986, -0.275521957970055, -0.18596131515277367, 0.8938964819496332, 1.2875885101092677, -0.4272488078580057, -0.26185929298795513, 0.47858563361446205, -0.28598242623725545, 0.38454741202639714, -1.3527736346922408, 1.5444272867441986, -0.3570274407771999, -0.7262802270049282, 1.2520672171528433, 0.5073482762541652, -0.010703223441998921, -0.7018499206350687, -0.010451541881170784, -0.24866318791685305, -0.8482855975753855, 0.8344833151665356, 1.1409383112926403, -1.3915829568990927, -0.30856369866854416, 0.7064812547399467, -0.8545392957094377, 1.0022935778450717, -0.9919371688360995, 0.36963442707580324, -0.5629342487974898, 0.16960105239569848, -0.40362658397962303, -1.6780961091806244, -0.9687692761826167, -0.5029640394538285, 0.23498051849444426, -0.6979677180565823, 0.9919702901846777, -2.3777343087528027, -1.227705051199071, -0.059914758678974736, 1.672020587047513, -1.9817420768305458, -0.5382447203064389, -1.2468599687743567, 1.0967785445323446, -1.294038898804085, -0.38134039447576606, 0.8389213301310103, 0.7556168393816037, 2.0671722471818614, 1.3722760538868541, -0.42438600997816767, 1.4249998743946992, 0.2601743447370759, 0.020246716306334817, -0.7555172138596694, 0.07425581796169935, -2.5711289485102866, -0.9898595722162504, -0.24067441805738782, -1.991382303709734, 0.23063973668514276, 1.278168487899292]}],                        {\"barmode\": \"overlay\", \"legend\": {\"bgcolor\": \"#F5F6F9\", \"font\": {\"color\": \"#4D5663\"}}, \"paper_bgcolor\": \"#F5F6F9\", \"plot_bgcolor\": \"#F5F6F9\", \"template\": {\"data\": {\"bar\": [{\"error_x\": {\"color\": \"#2a3f5f\"}, \"error_y\": {\"color\": \"#2a3f5f\"}, \"marker\": {\"line\": {\"color\": \"#E5ECF6\", \"width\": 0.5}}, \"type\": \"bar\"}], \"barpolar\": [{\"marker\": {\"line\": {\"color\": \"#E5ECF6\", \"width\": 0.5}}, \"type\": \"barpolar\"}], \"carpet\": [{\"aaxis\": {\"endlinecolor\": \"#2a3f5f\", \"gridcolor\": \"white\", \"linecolor\": \"white\", \"minorgridcolor\": \"white\", \"startlinecolor\": \"#2a3f5f\"}, \"baxis\": {\"endlinecolor\": \"#2a3f5f\", \"gridcolor\": \"white\", \"linecolor\": \"white\", \"minorgridcolor\": \"white\", \"startlinecolor\": \"#2a3f5f\"}, \"type\": \"carpet\"}], \"choropleth\": [{\"colorbar\": {\"outlinewidth\": 0, \"ticks\": \"\"}, \"type\": \"choropleth\"}], \"contour\": [{\"colorbar\": {\"outlinewidth\": 0, \"ticks\": \"\"}, \"colorscale\": [[0.0, \"#0d0887\"], [0.1111111111111111, \"#46039f\"], [0.2222222222222222, \"#7201a8\"], [0.3333333333333333, \"#9c179e\"], [0.4444444444444444, \"#bd3786\"], [0.5555555555555556, \"#d8576b\"], [0.6666666666666666, \"#ed7953\"], [0.7777777777777778, \"#fb9f3a\"], [0.8888888888888888, \"#fdca26\"], [1.0, \"#f0f921\"]], \"type\": \"contour\"}], \"contourcarpet\": [{\"colorbar\": {\"outlinewidth\": 0, \"ticks\": \"\"}, \"type\": \"contourcarpet\"}], \"heatmap\": [{\"colorbar\": {\"outlinewidth\": 0, \"ticks\": \"\"}, \"colorscale\": [[0.0, \"#0d0887\"], [0.1111111111111111, \"#46039f\"], [0.2222222222222222, \"#7201a8\"], [0.3333333333333333, \"#9c179e\"], [0.4444444444444444, \"#bd3786\"], [0.5555555555555556, \"#d8576b\"], [0.6666666666666666, \"#ed7953\"], [0.7777777777777778, \"#fb9f3a\"], [0.8888888888888888, \"#fdca26\"], [1.0, \"#f0f921\"]], \"type\": \"heatmap\"}], \"heatmapgl\": [{\"colorbar\": {\"outlinewidth\": 0, \"ticks\": \"\"}, \"colorscale\": [[0.0, \"#0d0887\"], [0.1111111111111111, \"#46039f\"], [0.2222222222222222, \"#7201a8\"], [0.3333333333333333, \"#9c179e\"], [0.4444444444444444, \"#bd3786\"], [0.5555555555555556, \"#d8576b\"], [0.6666666666666666, \"#ed7953\"], [0.7777777777777778, \"#fb9f3a\"], [0.8888888888888888, \"#fdca26\"], [1.0, \"#f0f921\"]], \"type\": \"heatmapgl\"}], \"histogram\": [{\"marker\": {\"colorbar\": {\"outlinewidth\": 0, \"ticks\": \"\"}}, \"type\": \"histogram\"}], \"histogram2d\": [{\"colorbar\": {\"outlinewidth\": 0, \"ticks\": \"\"}, \"colorscale\": [[0.0, \"#0d0887\"], [0.1111111111111111, \"#46039f\"], [0.2222222222222222, \"#7201a8\"], [0.3333333333333333, \"#9c179e\"], [0.4444444444444444, \"#bd3786\"], [0.5555555555555556, \"#d8576b\"], [0.6666666666666666, \"#ed7953\"], [0.7777777777777778, \"#fb9f3a\"], [0.8888888888888888, \"#fdca26\"], [1.0, \"#f0f921\"]], \"type\": \"histogram2d\"}], \"histogram2dcontour\": [{\"colorbar\": {\"outlinewidth\": 0, \"ticks\": \"\"}, \"colorscale\": [[0.0, \"#0d0887\"], [0.1111111111111111, \"#46039f\"], [0.2222222222222222, \"#7201a8\"], [0.3333333333333333, \"#9c179e\"], [0.4444444444444444, \"#bd3786\"], [0.5555555555555556, \"#d8576b\"], [0.6666666666666666, \"#ed7953\"], [0.7777777777777778, \"#fb9f3a\"], [0.8888888888888888, \"#fdca26\"], [1.0, \"#f0f921\"]], \"type\": \"histogram2dcontour\"}], \"mesh3d\": [{\"colorbar\": {\"outlinewidth\": 0, \"ticks\": \"\"}, \"type\": \"mesh3d\"}], \"parcoords\": [{\"line\": {\"colorbar\": {\"outlinewidth\": 0, \"ticks\": \"\"}}, \"type\": \"parcoords\"}], \"pie\": [{\"automargin\": true, \"type\": \"pie\"}], \"scatter\": [{\"marker\": {\"colorbar\": {\"outlinewidth\": 0, \"ticks\": \"\"}}, \"type\": \"scatter\"}], \"scatter3d\": [{\"line\": {\"colorbar\": {\"outlinewidth\": 0, \"ticks\": \"\"}}, \"marker\": {\"colorbar\": {\"outlinewidth\": 0, \"ticks\": \"\"}}, \"type\": \"scatter3d\"}], \"scattercarpet\": [{\"marker\": {\"colorbar\": {\"outlinewidth\": 0, \"ticks\": \"\"}}, \"type\": \"scattercarpet\"}], \"scattergeo\": [{\"marker\": {\"colorbar\": {\"outlinewidth\": 0, \"ticks\": \"\"}}, \"type\": \"scattergeo\"}], \"scattergl\": [{\"marker\": {\"colorbar\": {\"outlinewidth\": 0, \"ticks\": \"\"}}, \"type\": \"scattergl\"}], \"scattermapbox\": [{\"marker\": {\"colorbar\": {\"outlinewidth\": 0, \"ticks\": \"\"}}, \"type\": \"scattermapbox\"}], \"scatterpolar\": [{\"marker\": {\"colorbar\": {\"outlinewidth\": 0, \"ticks\": \"\"}}, \"type\": \"scatterpolar\"}], \"scatterpolargl\": [{\"marker\": {\"colorbar\": {\"outlinewidth\": 0, \"ticks\": \"\"}}, \"type\": \"scatterpolargl\"}], \"scatterternary\": [{\"marker\": {\"colorbar\": {\"outlinewidth\": 0, \"ticks\": \"\"}}, \"type\": \"scatterternary\"}], \"surface\": [{\"colorbar\": {\"outlinewidth\": 0, \"ticks\": \"\"}, \"colorscale\": [[0.0, \"#0d0887\"], [0.1111111111111111, \"#46039f\"], [0.2222222222222222, \"#7201a8\"], [0.3333333333333333, \"#9c179e\"], [0.4444444444444444, \"#bd3786\"], [0.5555555555555556, \"#d8576b\"], [0.6666666666666666, \"#ed7953\"], [0.7777777777777778, \"#fb9f3a\"], [0.8888888888888888, \"#fdca26\"], [1.0, \"#f0f921\"]], \"type\": \"surface\"}], \"table\": [{\"cells\": {\"fill\": {\"color\": \"#EBF0F8\"}, \"line\": {\"color\": \"white\"}}, \"header\": {\"fill\": {\"color\": \"#C8D4E3\"}, \"line\": {\"color\": \"white\"}}, \"type\": \"table\"}]}, \"layout\": {\"annotationdefaults\": {\"arrowcolor\": \"#2a3f5f\", \"arrowhead\": 0, \"arrowwidth\": 1}, \"autotypenumbers\": \"strict\", \"coloraxis\": {\"colorbar\": {\"outlinewidth\": 0, \"ticks\": \"\"}}, \"colorscale\": {\"diverging\": [[0, \"#8e0152\"], [0.1, \"#c51b7d\"], [0.2, \"#de77ae\"], [0.3, \"#f1b6da\"], [0.4, \"#fde0ef\"], [0.5, \"#f7f7f7\"], [0.6, \"#e6f5d0\"], [0.7, \"#b8e186\"], [0.8, \"#7fbc41\"], [0.9, \"#4d9221\"], [1, \"#276419\"]], \"sequential\": [[0.0, \"#0d0887\"], [0.1111111111111111, \"#46039f\"], [0.2222222222222222, \"#7201a8\"], [0.3333333333333333, \"#9c179e\"], [0.4444444444444444, \"#bd3786\"], [0.5555555555555556, \"#d8576b\"], [0.6666666666666666, \"#ed7953\"], [0.7777777777777778, \"#fb9f3a\"], [0.8888888888888888, \"#fdca26\"], [1.0, \"#f0f921\"]], \"sequentialminus\": [[0.0, \"#0d0887\"], [0.1111111111111111, \"#46039f\"], [0.2222222222222222, \"#7201a8\"], [0.3333333333333333, \"#9c179e\"], [0.4444444444444444, \"#bd3786\"], [0.5555555555555556, \"#d8576b\"], [0.6666666666666666, \"#ed7953\"], [0.7777777777777778, \"#fb9f3a\"], [0.8888888888888888, \"#fdca26\"], [1.0, \"#f0f921\"]]}, \"colorway\": [\"#636efa\", \"#EF553B\", \"#00cc96\", \"#ab63fa\", \"#FFA15A\", \"#19d3f3\", \"#FF6692\", \"#B6E880\", \"#FF97FF\", \"#FECB52\"], \"font\": {\"color\": \"#2a3f5f\"}, \"geo\": {\"bgcolor\": \"white\", \"lakecolor\": \"white\", \"landcolor\": \"#E5ECF6\", \"showlakes\": true, \"showland\": true, \"subunitcolor\": \"white\"}, \"hoverlabel\": {\"align\": \"left\"}, \"hovermode\": \"closest\", \"mapbox\": {\"style\": \"light\"}, \"paper_bgcolor\": \"white\", \"plot_bgcolor\": \"#E5ECF6\", \"polar\": {\"angularaxis\": {\"gridcolor\": \"white\", \"linecolor\": \"white\", \"ticks\": \"\"}, \"bgcolor\": \"#E5ECF6\", \"radialaxis\": {\"gridcolor\": \"white\", \"linecolor\": \"white\", \"ticks\": \"\"}}, \"scene\": {\"xaxis\": {\"backgroundcolor\": \"#E5ECF6\", \"gridcolor\": \"white\", \"gridwidth\": 2, \"linecolor\": \"white\", \"showbackground\": true, \"ticks\": \"\", \"zerolinecolor\": \"white\"}, \"yaxis\": {\"backgroundcolor\": \"#E5ECF6\", \"gridcolor\": \"white\", \"gridwidth\": 2, \"linecolor\": \"white\", \"showbackground\": true, \"ticks\": \"\", \"zerolinecolor\": \"white\"}, \"zaxis\": {\"backgroundcolor\": \"#E5ECF6\", \"gridcolor\": \"white\", \"gridwidth\": 2, \"linecolor\": \"white\", \"showbackground\": true, \"ticks\": \"\", \"zerolinecolor\": \"white\"}}, \"shapedefaults\": {\"line\": {\"color\": \"#2a3f5f\"}}, \"ternary\": {\"aaxis\": {\"gridcolor\": \"white\", \"linecolor\": \"white\", \"ticks\": \"\"}, \"baxis\": {\"gridcolor\": \"white\", \"linecolor\": \"white\", \"ticks\": \"\"}, \"bgcolor\": \"#E5ECF6\", \"caxis\": {\"gridcolor\": \"white\", \"linecolor\": \"white\", \"ticks\": \"\"}}, \"title\": {\"x\": 0.05}, \"xaxis\": {\"automargin\": true, \"gridcolor\": \"white\", \"linecolor\": \"white\", \"ticks\": \"\", \"title\": {\"standoff\": 15}, \"zerolinecolor\": \"white\", \"zerolinewidth\": 2}, \"yaxis\": {\"automargin\": true, \"gridcolor\": \"white\", \"linecolor\": \"white\", \"ticks\": \"\", \"title\": {\"standoff\": 15}, \"zerolinecolor\": \"white\", \"zerolinewidth\": 2}}}, \"title\": {\"font\": {\"color\": \"#4D5663\"}}, \"xaxis\": {\"gridcolor\": \"#E1E5ED\", \"showgrid\": true, \"tickfont\": {\"color\": \"#4D5663\"}, \"title\": {\"font\": {\"color\": \"#4D5663\"}, \"text\": \"\"}, \"zerolinecolor\": \"#E1E5ED\"}, \"yaxis\": {\"gridcolor\": \"#E1E5ED\", \"showgrid\": true, \"tickfont\": {\"color\": \"#4D5663\"}, \"title\": {\"font\": {\"color\": \"#4D5663\"}, \"text\": \"\"}, \"zerolinecolor\": \"#E1E5ED\"}},                        {\"showLink\": true, \"linkText\": \"Export to plot.ly\", \"plotlyServerURL\": \"https://plot.ly\", \"responsive\": true}                    ).then(function(){\n",
       "                            \n",
       "var gd = document.getElementById('871986a1-98e4-4d6d-86fd-60ca5bf189c8');\n",
       "var x = new MutationObserver(function (mutations, observer) {{\n",
       "        var display = window.getComputedStyle(gd).display;\n",
       "        if (!display || display === 'none') {{\n",
       "            console.log([gd, 'removed!']);\n",
       "            Plotly.purge(gd);\n",
       "            observer.disconnect();\n",
       "        }}\n",
       "}});\n",
       "\n",
       "// Listen for the removal of the full notebook cells\n",
       "var notebookContainer = gd.closest('#notebook-container');\n",
       "if (notebookContainer) {{\n",
       "    x.observe(notebookContainer, {childList: true});\n",
       "}}\n",
       "\n",
       "// Listen for the clearing of the current output cell\n",
       "var outputEl = gd.closest('.output');\n",
       "if (outputEl) {{\n",
       "    x.observe(outputEl, {childList: true});\n",
       "}}\n",
       "\n",
       "                        })                };                });            </script>        </div>"
      ]
     },
     "metadata": {},
     "output_type": "display_data"
    }
   ],
   "source": [
    "df.iplot(kind='hist',bins=25)"
   ]
  },
  {
   "cell_type": "code",
   "execution_count": 40,
   "id": "corresponding-charger",
   "metadata": {},
   "outputs": [
    {
     "data": {
      "application/vnd.plotly.v1+json": {
       "config": {
        "linkText": "Export to plot.ly",
        "plotlyServerURL": "https://plot.ly",
        "showLink": true
       },
       "data": [
        {
         "line": {
          "color": "rgba(255, 153, 51, 1.0)",
          "dash": "solid",
          "shape": "linear",
          "width": 1.3
         },
         "mode": "lines",
         "name": "A",
         "text": "",
         "type": "scatter",
         "x": [
          0,
          1,
          2,
          3,
          4,
          5,
          6,
          7,
          8,
          9,
          10,
          11,
          12,
          13,
          14,
          15,
          16,
          17,
          18,
          19,
          20,
          21,
          22,
          23,
          24,
          25,
          26,
          27,
          28,
          29,
          30,
          31,
          32,
          33,
          34,
          35,
          36,
          37,
          38,
          39,
          40,
          41,
          42,
          43,
          44,
          45,
          46,
          47,
          48,
          49,
          50,
          51,
          52,
          53,
          54,
          55,
          56,
          57,
          58,
          59,
          60,
          61,
          62,
          63,
          64,
          65,
          66,
          67,
          68,
          69,
          70,
          71,
          72,
          73,
          74,
          75,
          76,
          77,
          78,
          79,
          80,
          81,
          82,
          83,
          84,
          85,
          86,
          87,
          88,
          89,
          90,
          91,
          92,
          93,
          94,
          95,
          96,
          97,
          98,
          99
         ],
         "y": [
          1.061473280205822,
          0.7788035401649821,
          -0.2843131564415733,
          0.4028606011071929,
          -1.0353566473067173,
          -1.5925881310692422,
          0.03764451610017262,
          0.09321189582306758,
          -0.4176584649435947,
          1.3425792835433714,
          1.0266554020785341,
          -0.3509763266194384,
          -1.1578507094975032,
          -0.10767980405124133,
          -0.7659349830162048,
          0.6359970746835948,
          0.781389848793117,
          -0.20999618974658754,
          -0.4724551602521327,
          -1.2611520993994236,
          0.5011595968288648,
          2.5021298775570124,
          -2.2161401806538175,
          -0.4213098675783744,
          1.406278824461392,
          1.0245563932292865,
          0.05793642079927353,
          0.5172455234185414,
          0.23237803736898088,
          -0.36851140968886364,
          -0.02331748092877489,
          1.1344686849252197,
          0.16803740412380333,
          -1.3287890912409976,
          0.7879241292820391,
          -0.005548678959254899,
          0.8329045559462215,
          -0.7430868096641571,
          -1.133100937544328,
          0.7006688816822035,
          2.035632575118046,
          0.5325886928830186,
          -0.8599991780600442,
          0.15505475981508404,
          -0.2783228994628211,
          -0.0935045987798122,
          0.257383871747999,
          0.9458026852206287,
          0.0523970154360034,
          0.028677167605447113,
          1.9243754536472717,
          -1.4517638419797148,
          -0.42240872112290845,
          -0.6830010989045584,
          0.8998411440376746,
          0.5661636957875802,
          1.8078923338402904,
          -0.1211574749952134,
          1.1628256796583745,
          -0.7747340750216297,
          -1.663603001451258,
          0.6205659519924192,
          1.1066279064691593,
          -0.4714356459473895,
          -0.6334083024936795,
          0.7840050962817294,
          0.5777402499571723,
          0.13624915721450132,
          0.12080615947972986,
          -0.7310373593845643,
          2.0878737842304975,
          -1.260657602083573,
          -0.9781991587314987,
          0.02552177479888971,
          -1.5312019439825595,
          0.3819009284644589,
          0.9627266602138024,
          -0.36528374506782496,
          -0.01330698839724629,
          -1.057342126647745,
          0.026874897028896363,
          1.4579519802072136,
          0.3436411938175002,
          -0.15839574242186497,
          0.9993958159176821,
          -0.8926368337194085,
          -0.427317895602847,
          0.6220513939400963,
          0.4957072394399795,
          -0.19188201177565387,
          -0.7045958601968229,
          -0.18917637706476753,
          -0.577505244222488,
          -0.6040999190689166,
          0.16031718046731083,
          -0.7914776160554775,
          1.025058265396455,
          1.5523763416710603,
          1.729160350179526,
          0.28383053480712556
         ]
        },
        {
         "line": {
          "color": "rgba(55, 128, 191, 1.0)",
          "dash": "solid",
          "shape": "linear",
          "width": 1.3
         },
         "mode": "lines",
         "name": "B",
         "text": "",
         "type": "scatter",
         "x": [
          0,
          1,
          2,
          3,
          4,
          5,
          6,
          7,
          8,
          9,
          10,
          11,
          12,
          13,
          14,
          15,
          16,
          17,
          18,
          19,
          20,
          21,
          22,
          23,
          24,
          25,
          26,
          27,
          28,
          29,
          30,
          31,
          32,
          33,
          34,
          35,
          36,
          37,
          38,
          39,
          40,
          41,
          42,
          43,
          44,
          45,
          46,
          47,
          48,
          49,
          50,
          51,
          52,
          53,
          54,
          55,
          56,
          57,
          58,
          59,
          60,
          61,
          62,
          63,
          64,
          65,
          66,
          67,
          68,
          69,
          70,
          71,
          72,
          73,
          74,
          75,
          76,
          77,
          78,
          79,
          80,
          81,
          82,
          83,
          84,
          85,
          86,
          87,
          88,
          89,
          90,
          91,
          92,
          93,
          94,
          95,
          96,
          97,
          98,
          99
         ],
         "y": [
          -0.1502090526950633,
          -1.4730229850054035,
          0.8343967846403096,
          0.07881786533117169,
          0.2173963689453169,
          -0.5528080492436792,
          -1.6258453109586075,
          -0.6767305514654233,
          -0.14300288693546617,
          0.4496954555587184,
          -0.01257683703554524,
          -0.28528865085325283,
          -0.6211655838808301,
          -0.2088464084433686,
          0.11963905119676699,
          -0.33498296236193226,
          -0.33505878250702303,
          1.7253129170246115,
          -1.1653926642573262,
          0.3805949514809733,
          0.09743708259195785,
          -1.0379640975634625,
          0.15098100983051105,
          0.4318977678868364,
          0.4963469437410477,
          0.028512895291313973,
          -1.0979847878044142,
          0.3971856542241418,
          -0.7638507427802923,
          0.04362940403433376,
          0.5493903482135887,
          0.43290716796591083,
          -0.44521194333356084,
          0.9661060689292932,
          0.44210330235753237,
          0.03321214661252483,
          -0.48936726967185207,
          -0.9304182896274302,
          1.6968215447462103,
          -0.278502027157531,
          0.35962316230753194,
          0.1694672554621009,
          1.3463629130177368,
          -0.4773321454887906,
          0.7558264273744825,
          0.30602848551497713,
          1.077734325636297,
          -0.06665598912475737,
          -0.40947446944564386,
          -1.046290912810996,
          0.15155824818897423,
          0.9479235219129352,
          0.5012297209712162,
          0.7202543172706395,
          1.2146155916317036,
          -0.761540003341629,
          1.4216908347738988,
          -0.8083797165101845,
          -0.9598316539739877,
          0.3250456999210159,
          0.7784293978884731,
          0.2913806361130591,
          -0.7031204864984019,
          -0.848852060370494,
          1.3077008994967214,
          2.3441676335625856,
          0.6737609401575443,
          -0.025823768466770602,
          -0.7677235483223626,
          -0.06131394849974311,
          0.039052404999263476,
          0.054768492284818365,
          -0.8498106331641933,
          0.706498180370543,
          -1.2607512917177826,
          -0.41172978961905266,
          -0.2707358279752124,
          0.23025681528889977,
          0.5539822404638315,
          -0.08288867817875158,
          -0.997771161936249,
          -0.678778928533606,
          -1.1474059797681828,
          0.13050467561654697,
          -0.20127543952445254,
          1.1734867634071395,
          -0.14447033334416912,
          -0.7768356529113692,
          2.108155468791955,
          0.2577470285525313,
          0.34417938196510817,
          -1.077596212923613,
          -0.6645104260980493,
          0.5900139902104728,
          -0.8875170695082091,
          1.6232057752672975,
          -0.4425887211319952,
          -0.11476017820101533,
          -0.33938732454496534,
          0.8827855572707493
         ]
        },
        {
         "connectgaps": false,
         "fill": "tozeroy",
         "line": {
          "color": "green",
          "dash": "solid",
          "shape": "linear",
          "width": 0.5
         },
         "mode": "lines",
         "name": "Spread",
         "showlegend": false,
         "type": "scatter",
         "x": [
          0,
          1,
          2,
          3,
          4,
          5,
          6,
          7,
          8,
          9,
          10,
          11,
          12,
          13,
          14,
          15,
          16,
          17,
          18,
          19,
          20,
          21,
          22,
          23,
          24,
          25,
          26,
          27,
          28,
          29,
          30,
          31,
          32,
          33,
          34,
          35,
          36,
          37,
          38,
          39,
          40,
          41,
          42,
          43,
          44,
          45,
          46,
          47,
          48,
          49,
          50,
          51,
          52,
          53,
          54,
          55,
          56,
          57,
          58,
          59,
          60,
          61,
          62,
          63,
          64,
          65,
          66,
          67,
          68,
          69,
          70,
          71,
          72,
          73,
          74,
          75,
          76,
          77,
          78,
          79,
          80,
          81,
          82,
          83,
          84,
          85,
          86,
          87,
          88,
          89,
          90,
          91,
          92,
          93,
          94,
          95,
          96,
          97,
          98,
          99
         ],
         "xaxis": "x2",
         "y": [
          1.2116823329008852,
          2.2518265251703857,
          "",
          0.3240427357760212,
          "",
          "",
          1.6634898270587801,
          0.7699424472884908,
          "",
          0.8928838279846529,
          1.0392322391140794,
          "",
          "",
          0.10116660439212727,
          "",
          0.970980037045527,
          1.11644863130014,
          "",
          0.6929375040051935,
          "",
          0.40372251423690697,
          3.5400939751204747,
          "",
          "",
          0.9099318807203443,
          0.9960434979379725,
          1.1559212086036879,
          0.12005986919439954,
          0.9962287801492732,
          "",
          "",
          0.7015615169593088,
          0.6132493474573641,
          "",
          0.3458208269245068,
          "",
          1.3222718256180737,
          0.18733147996327315,
          "",
          0.9791709088397345,
          1.6760094128105143,
          0.3631214374209177,
          "",
          0.6323869053038746,
          "",
          "",
          "",
          1.012458674345386,
          0.46187148488164725,
          1.0749680804164432,
          1.7728172054582974,
          "",
          "",
          "",
          "",
          1.3277036991292093,
          0.38620149906639156,
          0.6872222415149711,
          2.122657333632362,
          "",
          "",
          0.32918531587936006,
          1.809748392967561,
          0.3774164144231045,
          "",
          "",
          "",
          0.1620729256812719,
          0.8885297078020924,
          "",
          2.048821379231234,
          "",
          "",
          "",
          "",
          0.7936307180835116,
          1.2334624881890148,
          "",
          "",
          "",
          1.0246460589651454,
          2.1367309087408195,
          1.491047173585683,
          "",
          1.2006712554421346,
          "",
          "",
          1.3988870468514656,
          "",
          "",
          "",
          0.8884198358588454,
          0.08700518187556139,
          "",
          1.04783424997552,
          "",
          1.4676469865284503,
          1.6671365198720756,
          2.0685476747244915,
          ""
         ],
         "yaxis": "y2"
        },
        {
         "connectgaps": false,
         "fill": "tozeroy",
         "line": {
          "color": "red",
          "dash": "solid",
          "shape": "linear",
          "width": 0.5
         },
         "mode": "lines",
         "name": "Spread",
         "showlegend": false,
         "type": "scatter",
         "x": [
          0,
          1,
          2,
          3,
          4,
          5,
          6,
          7,
          8,
          9,
          10,
          11,
          12,
          13,
          14,
          15,
          16,
          17,
          18,
          19,
          20,
          21,
          22,
          23,
          24,
          25,
          26,
          27,
          28,
          29,
          30,
          31,
          32,
          33,
          34,
          35,
          36,
          37,
          38,
          39,
          40,
          41,
          42,
          43,
          44,
          45,
          46,
          47,
          48,
          49,
          50,
          51,
          52,
          53,
          54,
          55,
          56,
          57,
          58,
          59,
          60,
          61,
          62,
          63,
          64,
          65,
          66,
          67,
          68,
          69,
          70,
          71,
          72,
          73,
          74,
          75,
          76,
          77,
          78,
          79,
          80,
          81,
          82,
          83,
          84,
          85,
          86,
          87,
          88,
          89,
          90,
          91,
          92,
          93,
          94,
          95,
          96,
          97,
          98,
          99
         ],
         "xaxis": "x2",
         "y": [
          "",
          "",
          -1.118709941081883,
          "",
          -1.2527530162520342,
          -1.0397800818255631,
          "",
          "",
          -0.27465557800812856,
          "",
          "",
          -0.06568767576618556,
          -0.5366851256166731,
          "",
          -0.8855740342129718,
          "",
          "",
          -1.9353091067711992,
          "",
          -1.6417470508803969,
          "",
          "",
          -2.3671211904843283,
          -0.8532076354652108,
          "",
          "",
          "",
          "",
          "",
          -0.4121408137231974,
          -0.5727078291423635,
          "",
          "",
          -2.2948951601702907,
          "",
          -0.038760825571779726,
          "",
          "",
          -2.829922482290538,
          "",
          "",
          "",
          -2.2063620910777813,
          "",
          -1.0341493268373037,
          -0.39953308429478934,
          -0.820350453888298,
          "",
          "",
          "",
          "",
          -2.39968736389265,
          -0.9236384420941246,
          -1.403255416175198,
          -0.31477444759402906,
          "",
          "",
          "",
          "",
          -1.0997797749426457,
          -2.4420323993397313,
          "",
          "",
          "",
          -1.9411092019904008,
          -1.5601625372808563,
          -0.09602069020037196,
          "",
          "",
          -0.6697234108848211,
          "",
          -1.3154260943683913,
          -0.1283885255673054,
          -0.6809764055716533,
          -0.27045065226477694,
          "",
          "",
          -0.5955405603567248,
          -0.5672892288610778,
          -0.9744534484689934,
          "",
          "",
          "",
          -0.28890041803841193,
          "",
          -2.066123597126548,
          -0.2828475622586779,
          "",
          -1.6124482293519755,
          -0.4496290403281852,
          -1.048775242161931,
          "",
          "",
          -1.1941139092793893,
          "",
          -2.414683391322775,
          "",
          "",
          "",
          -0.5989550224636238
         ],
         "yaxis": "y2"
        }
       ],
       "layout": {
        "hovermode": "x",
        "legend": {
         "bgcolor": "#F5F6F9",
         "font": {
          "color": "#4D5663"
         }
        },
        "paper_bgcolor": "#F5F6F9",
        "plot_bgcolor": "#F5F6F9",
        "template": {
         "data": {
          "bar": [
           {
            "error_x": {
             "color": "#2a3f5f"
            },
            "error_y": {
             "color": "#2a3f5f"
            },
            "marker": {
             "line": {
              "color": "#E5ECF6",
              "width": 0.5
             }
            },
            "type": "bar"
           }
          ],
          "barpolar": [
           {
            "marker": {
             "line": {
              "color": "#E5ECF6",
              "width": 0.5
             }
            },
            "type": "barpolar"
           }
          ],
          "carpet": [
           {
            "aaxis": {
             "endlinecolor": "#2a3f5f",
             "gridcolor": "white",
             "linecolor": "white",
             "minorgridcolor": "white",
             "startlinecolor": "#2a3f5f"
            },
            "baxis": {
             "endlinecolor": "#2a3f5f",
             "gridcolor": "white",
             "linecolor": "white",
             "minorgridcolor": "white",
             "startlinecolor": "#2a3f5f"
            },
            "type": "carpet"
           }
          ],
          "choropleth": [
           {
            "colorbar": {
             "outlinewidth": 0,
             "ticks": ""
            },
            "type": "choropleth"
           }
          ],
          "contour": [
           {
            "colorbar": {
             "outlinewidth": 0,
             "ticks": ""
            },
            "colorscale": [
             [
              0,
              "#0d0887"
             ],
             [
              0.1111111111111111,
              "#46039f"
             ],
             [
              0.2222222222222222,
              "#7201a8"
             ],
             [
              0.3333333333333333,
              "#9c179e"
             ],
             [
              0.4444444444444444,
              "#bd3786"
             ],
             [
              0.5555555555555556,
              "#d8576b"
             ],
             [
              0.6666666666666666,
              "#ed7953"
             ],
             [
              0.7777777777777778,
              "#fb9f3a"
             ],
             [
              0.8888888888888888,
              "#fdca26"
             ],
             [
              1,
              "#f0f921"
             ]
            ],
            "type": "contour"
           }
          ],
          "contourcarpet": [
           {
            "colorbar": {
             "outlinewidth": 0,
             "ticks": ""
            },
            "type": "contourcarpet"
           }
          ],
          "heatmap": [
           {
            "colorbar": {
             "outlinewidth": 0,
             "ticks": ""
            },
            "colorscale": [
             [
              0,
              "#0d0887"
             ],
             [
              0.1111111111111111,
              "#46039f"
             ],
             [
              0.2222222222222222,
              "#7201a8"
             ],
             [
              0.3333333333333333,
              "#9c179e"
             ],
             [
              0.4444444444444444,
              "#bd3786"
             ],
             [
              0.5555555555555556,
              "#d8576b"
             ],
             [
              0.6666666666666666,
              "#ed7953"
             ],
             [
              0.7777777777777778,
              "#fb9f3a"
             ],
             [
              0.8888888888888888,
              "#fdca26"
             ],
             [
              1,
              "#f0f921"
             ]
            ],
            "type": "heatmap"
           }
          ],
          "heatmapgl": [
           {
            "colorbar": {
             "outlinewidth": 0,
             "ticks": ""
            },
            "colorscale": [
             [
              0,
              "#0d0887"
             ],
             [
              0.1111111111111111,
              "#46039f"
             ],
             [
              0.2222222222222222,
              "#7201a8"
             ],
             [
              0.3333333333333333,
              "#9c179e"
             ],
             [
              0.4444444444444444,
              "#bd3786"
             ],
             [
              0.5555555555555556,
              "#d8576b"
             ],
             [
              0.6666666666666666,
              "#ed7953"
             ],
             [
              0.7777777777777778,
              "#fb9f3a"
             ],
             [
              0.8888888888888888,
              "#fdca26"
             ],
             [
              1,
              "#f0f921"
             ]
            ],
            "type": "heatmapgl"
           }
          ],
          "histogram": [
           {
            "marker": {
             "colorbar": {
              "outlinewidth": 0,
              "ticks": ""
             }
            },
            "type": "histogram"
           }
          ],
          "histogram2d": [
           {
            "colorbar": {
             "outlinewidth": 0,
             "ticks": ""
            },
            "colorscale": [
             [
              0,
              "#0d0887"
             ],
             [
              0.1111111111111111,
              "#46039f"
             ],
             [
              0.2222222222222222,
              "#7201a8"
             ],
             [
              0.3333333333333333,
              "#9c179e"
             ],
             [
              0.4444444444444444,
              "#bd3786"
             ],
             [
              0.5555555555555556,
              "#d8576b"
             ],
             [
              0.6666666666666666,
              "#ed7953"
             ],
             [
              0.7777777777777778,
              "#fb9f3a"
             ],
             [
              0.8888888888888888,
              "#fdca26"
             ],
             [
              1,
              "#f0f921"
             ]
            ],
            "type": "histogram2d"
           }
          ],
          "histogram2dcontour": [
           {
            "colorbar": {
             "outlinewidth": 0,
             "ticks": ""
            },
            "colorscale": [
             [
              0,
              "#0d0887"
             ],
             [
              0.1111111111111111,
              "#46039f"
             ],
             [
              0.2222222222222222,
              "#7201a8"
             ],
             [
              0.3333333333333333,
              "#9c179e"
             ],
             [
              0.4444444444444444,
              "#bd3786"
             ],
             [
              0.5555555555555556,
              "#d8576b"
             ],
             [
              0.6666666666666666,
              "#ed7953"
             ],
             [
              0.7777777777777778,
              "#fb9f3a"
             ],
             [
              0.8888888888888888,
              "#fdca26"
             ],
             [
              1,
              "#f0f921"
             ]
            ],
            "type": "histogram2dcontour"
           }
          ],
          "mesh3d": [
           {
            "colorbar": {
             "outlinewidth": 0,
             "ticks": ""
            },
            "type": "mesh3d"
           }
          ],
          "parcoords": [
           {
            "line": {
             "colorbar": {
              "outlinewidth": 0,
              "ticks": ""
             }
            },
            "type": "parcoords"
           }
          ],
          "pie": [
           {
            "automargin": true,
            "type": "pie"
           }
          ],
          "scatter": [
           {
            "marker": {
             "colorbar": {
              "outlinewidth": 0,
              "ticks": ""
             }
            },
            "type": "scatter"
           }
          ],
          "scatter3d": [
           {
            "line": {
             "colorbar": {
              "outlinewidth": 0,
              "ticks": ""
             }
            },
            "marker": {
             "colorbar": {
              "outlinewidth": 0,
              "ticks": ""
             }
            },
            "type": "scatter3d"
           }
          ],
          "scattercarpet": [
           {
            "marker": {
             "colorbar": {
              "outlinewidth": 0,
              "ticks": ""
             }
            },
            "type": "scattercarpet"
           }
          ],
          "scattergeo": [
           {
            "marker": {
             "colorbar": {
              "outlinewidth": 0,
              "ticks": ""
             }
            },
            "type": "scattergeo"
           }
          ],
          "scattergl": [
           {
            "marker": {
             "colorbar": {
              "outlinewidth": 0,
              "ticks": ""
             }
            },
            "type": "scattergl"
           }
          ],
          "scattermapbox": [
           {
            "marker": {
             "colorbar": {
              "outlinewidth": 0,
              "ticks": ""
             }
            },
            "type": "scattermapbox"
           }
          ],
          "scatterpolar": [
           {
            "marker": {
             "colorbar": {
              "outlinewidth": 0,
              "ticks": ""
             }
            },
            "type": "scatterpolar"
           }
          ],
          "scatterpolargl": [
           {
            "marker": {
             "colorbar": {
              "outlinewidth": 0,
              "ticks": ""
             }
            },
            "type": "scatterpolargl"
           }
          ],
          "scatterternary": [
           {
            "marker": {
             "colorbar": {
              "outlinewidth": 0,
              "ticks": ""
             }
            },
            "type": "scatterternary"
           }
          ],
          "surface": [
           {
            "colorbar": {
             "outlinewidth": 0,
             "ticks": ""
            },
            "colorscale": [
             [
              0,
              "#0d0887"
             ],
             [
              0.1111111111111111,
              "#46039f"
             ],
             [
              0.2222222222222222,
              "#7201a8"
             ],
             [
              0.3333333333333333,
              "#9c179e"
             ],
             [
              0.4444444444444444,
              "#bd3786"
             ],
             [
              0.5555555555555556,
              "#d8576b"
             ],
             [
              0.6666666666666666,
              "#ed7953"
             ],
             [
              0.7777777777777778,
              "#fb9f3a"
             ],
             [
              0.8888888888888888,
              "#fdca26"
             ],
             [
              1,
              "#f0f921"
             ]
            ],
            "type": "surface"
           }
          ],
          "table": [
           {
            "cells": {
             "fill": {
              "color": "#EBF0F8"
             },
             "line": {
              "color": "white"
             }
            },
            "header": {
             "fill": {
              "color": "#C8D4E3"
             },
             "line": {
              "color": "white"
             }
            },
            "type": "table"
           }
          ]
         },
         "layout": {
          "annotationdefaults": {
           "arrowcolor": "#2a3f5f",
           "arrowhead": 0,
           "arrowwidth": 1
          },
          "autotypenumbers": "strict",
          "coloraxis": {
           "colorbar": {
            "outlinewidth": 0,
            "ticks": ""
           }
          },
          "colorscale": {
           "diverging": [
            [
             0,
             "#8e0152"
            ],
            [
             0.1,
             "#c51b7d"
            ],
            [
             0.2,
             "#de77ae"
            ],
            [
             0.3,
             "#f1b6da"
            ],
            [
             0.4,
             "#fde0ef"
            ],
            [
             0.5,
             "#f7f7f7"
            ],
            [
             0.6,
             "#e6f5d0"
            ],
            [
             0.7,
             "#b8e186"
            ],
            [
             0.8,
             "#7fbc41"
            ],
            [
             0.9,
             "#4d9221"
            ],
            [
             1,
             "#276419"
            ]
           ],
           "sequential": [
            [
             0,
             "#0d0887"
            ],
            [
             0.1111111111111111,
             "#46039f"
            ],
            [
             0.2222222222222222,
             "#7201a8"
            ],
            [
             0.3333333333333333,
             "#9c179e"
            ],
            [
             0.4444444444444444,
             "#bd3786"
            ],
            [
             0.5555555555555556,
             "#d8576b"
            ],
            [
             0.6666666666666666,
             "#ed7953"
            ],
            [
             0.7777777777777778,
             "#fb9f3a"
            ],
            [
             0.8888888888888888,
             "#fdca26"
            ],
            [
             1,
             "#f0f921"
            ]
           ],
           "sequentialminus": [
            [
             0,
             "#0d0887"
            ],
            [
             0.1111111111111111,
             "#46039f"
            ],
            [
             0.2222222222222222,
             "#7201a8"
            ],
            [
             0.3333333333333333,
             "#9c179e"
            ],
            [
             0.4444444444444444,
             "#bd3786"
            ],
            [
             0.5555555555555556,
             "#d8576b"
            ],
            [
             0.6666666666666666,
             "#ed7953"
            ],
            [
             0.7777777777777778,
             "#fb9f3a"
            ],
            [
             0.8888888888888888,
             "#fdca26"
            ],
            [
             1,
             "#f0f921"
            ]
           ]
          },
          "colorway": [
           "#636efa",
           "#EF553B",
           "#00cc96",
           "#ab63fa",
           "#FFA15A",
           "#19d3f3",
           "#FF6692",
           "#B6E880",
           "#FF97FF",
           "#FECB52"
          ],
          "font": {
           "color": "#2a3f5f"
          },
          "geo": {
           "bgcolor": "white",
           "lakecolor": "white",
           "landcolor": "#E5ECF6",
           "showlakes": true,
           "showland": true,
           "subunitcolor": "white"
          },
          "hoverlabel": {
           "align": "left"
          },
          "hovermode": "closest",
          "mapbox": {
           "style": "light"
          },
          "paper_bgcolor": "white",
          "plot_bgcolor": "#E5ECF6",
          "polar": {
           "angularaxis": {
            "gridcolor": "white",
            "linecolor": "white",
            "ticks": ""
           },
           "bgcolor": "#E5ECF6",
           "radialaxis": {
            "gridcolor": "white",
            "linecolor": "white",
            "ticks": ""
           }
          },
          "scene": {
           "xaxis": {
            "backgroundcolor": "#E5ECF6",
            "gridcolor": "white",
            "gridwidth": 2,
            "linecolor": "white",
            "showbackground": true,
            "ticks": "",
            "zerolinecolor": "white"
           },
           "yaxis": {
            "backgroundcolor": "#E5ECF6",
            "gridcolor": "white",
            "gridwidth": 2,
            "linecolor": "white",
            "showbackground": true,
            "ticks": "",
            "zerolinecolor": "white"
           },
           "zaxis": {
            "backgroundcolor": "#E5ECF6",
            "gridcolor": "white",
            "gridwidth": 2,
            "linecolor": "white",
            "showbackground": true,
            "ticks": "",
            "zerolinecolor": "white"
           }
          },
          "shapedefaults": {
           "line": {
            "color": "#2a3f5f"
           }
          },
          "ternary": {
           "aaxis": {
            "gridcolor": "white",
            "linecolor": "white",
            "ticks": ""
           },
           "baxis": {
            "gridcolor": "white",
            "linecolor": "white",
            "ticks": ""
           },
           "bgcolor": "#E5ECF6",
           "caxis": {
            "gridcolor": "white",
            "linecolor": "white",
            "ticks": ""
           }
          },
          "title": {
           "x": 0.05
          },
          "xaxis": {
           "automargin": true,
           "gridcolor": "white",
           "linecolor": "white",
           "ticks": "",
           "title": {
            "standoff": 15
           },
           "zerolinecolor": "white",
           "zerolinewidth": 2
          },
          "yaxis": {
           "automargin": true,
           "gridcolor": "white",
           "linecolor": "white",
           "ticks": "",
           "title": {
            "standoff": 15
           },
           "zerolinecolor": "white",
           "zerolinewidth": 2
          }
         }
        },
        "title": {
         "font": {
          "color": "#4D5663"
         }
        },
        "xaxis": {
         "gridcolor": "#E1E5ED",
         "showgrid": true,
         "tickfont": {
          "color": "#4D5663"
         },
         "title": {
          "font": {
           "color": "#4D5663"
          },
          "text": ""
         },
         "zerolinecolor": "#E1E5ED"
        },
        "xaxis2": {
         "anchor": "y2",
         "gridcolor": "#E1E5ED",
         "showgrid": true,
         "showticklabels": false,
         "tickfont": {
          "color": "#4D5663"
         },
         "title": {
          "font": {
           "color": "#4D5663"
          },
          "text": ""
         },
         "zerolinecolor": "#E1E5ED"
        },
        "yaxis": {
         "domain": [
          0.3,
          1
         ],
         "gridcolor": "#E1E5ED",
         "showgrid": true,
         "tickfont": {
          "color": "#4D5663"
         },
         "title": {
          "font": {
           "color": "#4D5663"
          },
          "text": ""
         },
         "zerolinecolor": "#E1E5ED"
        },
        "yaxis2": {
         "domain": [
          0,
          0.25
         ],
         "gridcolor": "#E1E5ED",
         "showgrid": true,
         "tickfont": {
          "color": "#4D5663"
         },
         "title": {
          "font": {
           "color": "#4D5663"
          },
          "text": "Spread"
         },
         "zerolinecolor": "#E1E5ED"
        }
       }
      },
      "text/html": [
       "<div>                            <div id=\"683afb0d-b058-4c65-8ca7-dcdc27eb177f\" class=\"plotly-graph-div\" style=\"height:525px; width:100%;\"></div>            <script type=\"text/javascript\">                require([\"plotly\"], function(Plotly) {                    window.PLOTLYENV=window.PLOTLYENV || {};\n",
       "                    window.PLOTLYENV.BASE_URL='https://plot.ly';                                    if (document.getElementById(\"683afb0d-b058-4c65-8ca7-dcdc27eb177f\")) {                    Plotly.newPlot(                        \"683afb0d-b058-4c65-8ca7-dcdc27eb177f\",                        [{\"line\": {\"color\": \"rgba(255, 153, 51, 1.0)\", \"dash\": \"solid\", \"shape\": \"linear\", \"width\": 1.3}, \"mode\": \"lines\", \"name\": \"A\", \"text\": \"\", \"type\": \"scatter\", \"x\": [0, 1, 2, 3, 4, 5, 6, 7, 8, 9, 10, 11, 12, 13, 14, 15, 16, 17, 18, 19, 20, 21, 22, 23, 24, 25, 26, 27, 28, 29, 30, 31, 32, 33, 34, 35, 36, 37, 38, 39, 40, 41, 42, 43, 44, 45, 46, 47, 48, 49, 50, 51, 52, 53, 54, 55, 56, 57, 58, 59, 60, 61, 62, 63, 64, 65, 66, 67, 68, 69, 70, 71, 72, 73, 74, 75, 76, 77, 78, 79, 80, 81, 82, 83, 84, 85, 86, 87, 88, 89, 90, 91, 92, 93, 94, 95, 96, 97, 98, 99], \"y\": [1.061473280205822, 0.7788035401649821, -0.2843131564415733, 0.4028606011071929, -1.0353566473067173, -1.5925881310692422, 0.03764451610017262, 0.09321189582306758, -0.4176584649435947, 1.3425792835433714, 1.0266554020785341, -0.3509763266194384, -1.1578507094975032, -0.10767980405124133, -0.7659349830162048, 0.6359970746835948, 0.781389848793117, -0.20999618974658754, -0.4724551602521327, -1.2611520993994236, 0.5011595968288648, 2.5021298775570124, -2.2161401806538175, -0.4213098675783744, 1.406278824461392, 1.0245563932292865, 0.05793642079927353, 0.5172455234185414, 0.23237803736898088, -0.36851140968886364, -0.02331748092877489, 1.1344686849252197, 0.16803740412380333, -1.3287890912409976, 0.7879241292820391, -0.005548678959254899, 0.8329045559462215, -0.7430868096641571, -1.133100937544328, 0.7006688816822035, 2.035632575118046, 0.5325886928830186, -0.8599991780600442, 0.15505475981508404, -0.2783228994628211, -0.0935045987798122, 0.257383871747999, 0.9458026852206287, 0.0523970154360034, 0.028677167605447113, 1.9243754536472717, -1.4517638419797148, -0.42240872112290845, -0.6830010989045584, 0.8998411440376746, 0.5661636957875802, 1.8078923338402904, -0.1211574749952134, 1.1628256796583745, -0.7747340750216297, -1.663603001451258, 0.6205659519924192, 1.1066279064691593, -0.4714356459473895, -0.6334083024936795, 0.7840050962817294, 0.5777402499571723, 0.13624915721450132, 0.12080615947972986, -0.7310373593845643, 2.0878737842304975, -1.260657602083573, -0.9781991587314987, 0.02552177479888971, -1.5312019439825595, 0.3819009284644589, 0.9627266602138024, -0.36528374506782496, -0.01330698839724629, -1.057342126647745, 0.026874897028896363, 1.4579519802072136, 0.3436411938175002, -0.15839574242186497, 0.9993958159176821, -0.8926368337194085, -0.427317895602847, 0.6220513939400963, 0.4957072394399795, -0.19188201177565387, -0.7045958601968229, -0.18917637706476753, -0.577505244222488, -0.6040999190689166, 0.16031718046731083, -0.7914776160554775, 1.025058265396455, 1.5523763416710603, 1.729160350179526, 0.28383053480712556]}, {\"line\": {\"color\": \"rgba(55, 128, 191, 1.0)\", \"dash\": \"solid\", \"shape\": \"linear\", \"width\": 1.3}, \"mode\": \"lines\", \"name\": \"B\", \"text\": \"\", \"type\": \"scatter\", \"x\": [0, 1, 2, 3, 4, 5, 6, 7, 8, 9, 10, 11, 12, 13, 14, 15, 16, 17, 18, 19, 20, 21, 22, 23, 24, 25, 26, 27, 28, 29, 30, 31, 32, 33, 34, 35, 36, 37, 38, 39, 40, 41, 42, 43, 44, 45, 46, 47, 48, 49, 50, 51, 52, 53, 54, 55, 56, 57, 58, 59, 60, 61, 62, 63, 64, 65, 66, 67, 68, 69, 70, 71, 72, 73, 74, 75, 76, 77, 78, 79, 80, 81, 82, 83, 84, 85, 86, 87, 88, 89, 90, 91, 92, 93, 94, 95, 96, 97, 98, 99], \"y\": [-0.1502090526950633, -1.4730229850054035, 0.8343967846403096, 0.07881786533117169, 0.2173963689453169, -0.5528080492436792, -1.6258453109586075, -0.6767305514654233, -0.14300288693546617, 0.4496954555587184, -0.01257683703554524, -0.28528865085325283, -0.6211655838808301, -0.2088464084433686, 0.11963905119676699, -0.33498296236193226, -0.33505878250702303, 1.7253129170246115, -1.1653926642573262, 0.3805949514809733, 0.09743708259195785, -1.0379640975634625, 0.15098100983051105, 0.4318977678868364, 0.4963469437410477, 0.028512895291313973, -1.0979847878044142, 0.3971856542241418, -0.7638507427802923, 0.04362940403433376, 0.5493903482135887, 0.43290716796591083, -0.44521194333356084, 0.9661060689292932, 0.44210330235753237, 0.03321214661252483, -0.48936726967185207, -0.9304182896274302, 1.6968215447462103, -0.278502027157531, 0.35962316230753194, 0.1694672554621009, 1.3463629130177368, -0.4773321454887906, 0.7558264273744825, 0.30602848551497713, 1.077734325636297, -0.06665598912475737, -0.40947446944564386, -1.046290912810996, 0.15155824818897423, 0.9479235219129352, 0.5012297209712162, 0.7202543172706395, 1.2146155916317036, -0.761540003341629, 1.4216908347738988, -0.8083797165101845, -0.9598316539739877, 0.3250456999210159, 0.7784293978884731, 0.2913806361130591, -0.7031204864984019, -0.848852060370494, 1.3077008994967214, 2.3441676335625856, 0.6737609401575443, -0.025823768466770602, -0.7677235483223626, -0.06131394849974311, 0.039052404999263476, 0.054768492284818365, -0.8498106331641933, 0.706498180370543, -1.2607512917177826, -0.41172978961905266, -0.2707358279752124, 0.23025681528889977, 0.5539822404638315, -0.08288867817875158, -0.997771161936249, -0.678778928533606, -1.1474059797681828, 0.13050467561654697, -0.20127543952445254, 1.1734867634071395, -0.14447033334416912, -0.7768356529113692, 2.108155468791955, 0.2577470285525313, 0.34417938196510817, -1.077596212923613, -0.6645104260980493, 0.5900139902104728, -0.8875170695082091, 1.6232057752672975, -0.4425887211319952, -0.11476017820101533, -0.33938732454496534, 0.8827855572707493]}, {\"connectgaps\": false, \"fill\": \"tozeroy\", \"line\": {\"color\": \"green\", \"dash\": \"solid\", \"shape\": \"linear\", \"width\": 0.5}, \"mode\": \"lines\", \"name\": \"Spread\", \"showlegend\": false, \"type\": \"scatter\", \"x\": [0, 1, 2, 3, 4, 5, 6, 7, 8, 9, 10, 11, 12, 13, 14, 15, 16, 17, 18, 19, 20, 21, 22, 23, 24, 25, 26, 27, 28, 29, 30, 31, 32, 33, 34, 35, 36, 37, 38, 39, 40, 41, 42, 43, 44, 45, 46, 47, 48, 49, 50, 51, 52, 53, 54, 55, 56, 57, 58, 59, 60, 61, 62, 63, 64, 65, 66, 67, 68, 69, 70, 71, 72, 73, 74, 75, 76, 77, 78, 79, 80, 81, 82, 83, 84, 85, 86, 87, 88, 89, 90, 91, 92, 93, 94, 95, 96, 97, 98, 99], \"xaxis\": \"x2\", \"y\": [1.2116823329008852, 2.2518265251703857, \"\", 0.3240427357760212, \"\", \"\", 1.6634898270587801, 0.7699424472884908, \"\", 0.8928838279846529, 1.0392322391140794, \"\", \"\", 0.10116660439212727, \"\", 0.970980037045527, 1.11644863130014, \"\", 0.6929375040051935, \"\", 0.40372251423690697, 3.5400939751204747, \"\", \"\", 0.9099318807203443, 0.9960434979379725, 1.1559212086036879, 0.12005986919439954, 0.9962287801492732, \"\", \"\", 0.7015615169593088, 0.6132493474573641, \"\", 0.3458208269245068, \"\", 1.3222718256180737, 0.18733147996327315, \"\", 0.9791709088397345, 1.6760094128105143, 0.3631214374209177, \"\", 0.6323869053038746, \"\", \"\", \"\", 1.012458674345386, 0.46187148488164725, 1.0749680804164432, 1.7728172054582974, \"\", \"\", \"\", \"\", 1.3277036991292093, 0.38620149906639156, 0.6872222415149711, 2.122657333632362, \"\", \"\", 0.32918531587936006, 1.809748392967561, 0.3774164144231045, \"\", \"\", \"\", 0.1620729256812719, 0.8885297078020924, \"\", 2.048821379231234, \"\", \"\", \"\", \"\", 0.7936307180835116, 1.2334624881890148, \"\", \"\", \"\", 1.0246460589651454, 2.1367309087408195, 1.491047173585683, \"\", 1.2006712554421346, \"\", \"\", 1.3988870468514656, \"\", \"\", \"\", 0.8884198358588454, 0.08700518187556139, \"\", 1.04783424997552, \"\", 1.4676469865284503, 1.6671365198720756, 2.0685476747244915, \"\"], \"yaxis\": \"y2\"}, {\"connectgaps\": false, \"fill\": \"tozeroy\", \"line\": {\"color\": \"red\", \"dash\": \"solid\", \"shape\": \"linear\", \"width\": 0.5}, \"mode\": \"lines\", \"name\": \"Spread\", \"showlegend\": false, \"type\": \"scatter\", \"x\": [0, 1, 2, 3, 4, 5, 6, 7, 8, 9, 10, 11, 12, 13, 14, 15, 16, 17, 18, 19, 20, 21, 22, 23, 24, 25, 26, 27, 28, 29, 30, 31, 32, 33, 34, 35, 36, 37, 38, 39, 40, 41, 42, 43, 44, 45, 46, 47, 48, 49, 50, 51, 52, 53, 54, 55, 56, 57, 58, 59, 60, 61, 62, 63, 64, 65, 66, 67, 68, 69, 70, 71, 72, 73, 74, 75, 76, 77, 78, 79, 80, 81, 82, 83, 84, 85, 86, 87, 88, 89, 90, 91, 92, 93, 94, 95, 96, 97, 98, 99], \"xaxis\": \"x2\", \"y\": [\"\", \"\", -1.118709941081883, \"\", -1.2527530162520342, -1.0397800818255631, \"\", \"\", -0.27465557800812856, \"\", \"\", -0.06568767576618556, -0.5366851256166731, \"\", -0.8855740342129718, \"\", \"\", -1.9353091067711992, \"\", -1.6417470508803969, \"\", \"\", -2.3671211904843283, -0.8532076354652108, \"\", \"\", \"\", \"\", \"\", -0.4121408137231974, -0.5727078291423635, \"\", \"\", -2.2948951601702907, \"\", -0.038760825571779726, \"\", \"\", -2.829922482290538, \"\", \"\", \"\", -2.2063620910777813, \"\", -1.0341493268373037, -0.39953308429478934, -0.820350453888298, \"\", \"\", \"\", \"\", -2.39968736389265, -0.9236384420941246, -1.403255416175198, -0.31477444759402906, \"\", \"\", \"\", \"\", -1.0997797749426457, -2.4420323993397313, \"\", \"\", \"\", -1.9411092019904008, -1.5601625372808563, -0.09602069020037196, \"\", \"\", -0.6697234108848211, \"\", -1.3154260943683913, -0.1283885255673054, -0.6809764055716533, -0.27045065226477694, \"\", \"\", -0.5955405603567248, -0.5672892288610778, -0.9744534484689934, \"\", \"\", \"\", -0.28890041803841193, \"\", -2.066123597126548, -0.2828475622586779, \"\", -1.6124482293519755, -0.4496290403281852, -1.048775242161931, \"\", \"\", -1.1941139092793893, \"\", -2.414683391322775, \"\", \"\", \"\", -0.5989550224636238], \"yaxis\": \"y2\"}],                        {\"hovermode\": \"x\", \"legend\": {\"bgcolor\": \"#F5F6F9\", \"font\": {\"color\": \"#4D5663\"}}, \"paper_bgcolor\": \"#F5F6F9\", \"plot_bgcolor\": \"#F5F6F9\", \"template\": {\"data\": {\"bar\": [{\"error_x\": {\"color\": \"#2a3f5f\"}, \"error_y\": {\"color\": \"#2a3f5f\"}, \"marker\": {\"line\": {\"color\": \"#E5ECF6\", \"width\": 0.5}}, \"type\": \"bar\"}], \"barpolar\": [{\"marker\": {\"line\": {\"color\": \"#E5ECF6\", \"width\": 0.5}}, \"type\": \"barpolar\"}], \"carpet\": [{\"aaxis\": {\"endlinecolor\": \"#2a3f5f\", \"gridcolor\": \"white\", \"linecolor\": \"white\", \"minorgridcolor\": \"white\", \"startlinecolor\": \"#2a3f5f\"}, \"baxis\": {\"endlinecolor\": \"#2a3f5f\", \"gridcolor\": \"white\", \"linecolor\": \"white\", \"minorgridcolor\": \"white\", \"startlinecolor\": \"#2a3f5f\"}, \"type\": \"carpet\"}], \"choropleth\": [{\"colorbar\": {\"outlinewidth\": 0, \"ticks\": \"\"}, \"type\": \"choropleth\"}], \"contour\": [{\"colorbar\": {\"outlinewidth\": 0, \"ticks\": \"\"}, \"colorscale\": [[0.0, \"#0d0887\"], [0.1111111111111111, \"#46039f\"], [0.2222222222222222, \"#7201a8\"], [0.3333333333333333, \"#9c179e\"], [0.4444444444444444, \"#bd3786\"], [0.5555555555555556, \"#d8576b\"], [0.6666666666666666, \"#ed7953\"], [0.7777777777777778, \"#fb9f3a\"], [0.8888888888888888, \"#fdca26\"], [1.0, \"#f0f921\"]], \"type\": \"contour\"}], \"contourcarpet\": [{\"colorbar\": {\"outlinewidth\": 0, \"ticks\": \"\"}, \"type\": \"contourcarpet\"}], \"heatmap\": [{\"colorbar\": {\"outlinewidth\": 0, \"ticks\": \"\"}, \"colorscale\": [[0.0, \"#0d0887\"], [0.1111111111111111, \"#46039f\"], [0.2222222222222222, \"#7201a8\"], [0.3333333333333333, \"#9c179e\"], [0.4444444444444444, \"#bd3786\"], [0.5555555555555556, \"#d8576b\"], [0.6666666666666666, \"#ed7953\"], [0.7777777777777778, \"#fb9f3a\"], [0.8888888888888888, \"#fdca26\"], [1.0, \"#f0f921\"]], \"type\": \"heatmap\"}], \"heatmapgl\": [{\"colorbar\": {\"outlinewidth\": 0, \"ticks\": \"\"}, \"colorscale\": [[0.0, \"#0d0887\"], [0.1111111111111111, \"#46039f\"], [0.2222222222222222, \"#7201a8\"], [0.3333333333333333, \"#9c179e\"], [0.4444444444444444, \"#bd3786\"], [0.5555555555555556, \"#d8576b\"], [0.6666666666666666, \"#ed7953\"], [0.7777777777777778, \"#fb9f3a\"], [0.8888888888888888, \"#fdca26\"], [1.0, \"#f0f921\"]], \"type\": \"heatmapgl\"}], \"histogram\": [{\"marker\": {\"colorbar\": {\"outlinewidth\": 0, \"ticks\": \"\"}}, \"type\": \"histogram\"}], \"histogram2d\": [{\"colorbar\": {\"outlinewidth\": 0, \"ticks\": \"\"}, \"colorscale\": [[0.0, \"#0d0887\"], [0.1111111111111111, \"#46039f\"], [0.2222222222222222, \"#7201a8\"], [0.3333333333333333, \"#9c179e\"], [0.4444444444444444, \"#bd3786\"], [0.5555555555555556, \"#d8576b\"], [0.6666666666666666, \"#ed7953\"], [0.7777777777777778, \"#fb9f3a\"], [0.8888888888888888, \"#fdca26\"], [1.0, \"#f0f921\"]], \"type\": \"histogram2d\"}], \"histogram2dcontour\": [{\"colorbar\": {\"outlinewidth\": 0, \"ticks\": \"\"}, \"colorscale\": [[0.0, \"#0d0887\"], [0.1111111111111111, \"#46039f\"], [0.2222222222222222, \"#7201a8\"], [0.3333333333333333, \"#9c179e\"], [0.4444444444444444, \"#bd3786\"], [0.5555555555555556, \"#d8576b\"], [0.6666666666666666, \"#ed7953\"], [0.7777777777777778, \"#fb9f3a\"], [0.8888888888888888, \"#fdca26\"], [1.0, \"#f0f921\"]], \"type\": \"histogram2dcontour\"}], \"mesh3d\": [{\"colorbar\": {\"outlinewidth\": 0, \"ticks\": \"\"}, \"type\": \"mesh3d\"}], \"parcoords\": [{\"line\": {\"colorbar\": {\"outlinewidth\": 0, \"ticks\": \"\"}}, \"type\": \"parcoords\"}], \"pie\": [{\"automargin\": true, \"type\": \"pie\"}], \"scatter\": [{\"marker\": {\"colorbar\": {\"outlinewidth\": 0, \"ticks\": \"\"}}, \"type\": \"scatter\"}], \"scatter3d\": [{\"line\": {\"colorbar\": {\"outlinewidth\": 0, \"ticks\": \"\"}}, \"marker\": {\"colorbar\": {\"outlinewidth\": 0, \"ticks\": \"\"}}, \"type\": \"scatter3d\"}], \"scattercarpet\": [{\"marker\": {\"colorbar\": {\"outlinewidth\": 0, \"ticks\": \"\"}}, \"type\": \"scattercarpet\"}], \"scattergeo\": [{\"marker\": {\"colorbar\": {\"outlinewidth\": 0, \"ticks\": \"\"}}, \"type\": \"scattergeo\"}], \"scattergl\": [{\"marker\": {\"colorbar\": {\"outlinewidth\": 0, \"ticks\": \"\"}}, \"type\": \"scattergl\"}], \"scattermapbox\": [{\"marker\": {\"colorbar\": {\"outlinewidth\": 0, \"ticks\": \"\"}}, \"type\": \"scattermapbox\"}], \"scatterpolar\": [{\"marker\": {\"colorbar\": {\"outlinewidth\": 0, \"ticks\": \"\"}}, \"type\": \"scatterpolar\"}], \"scatterpolargl\": [{\"marker\": {\"colorbar\": {\"outlinewidth\": 0, \"ticks\": \"\"}}, \"type\": \"scatterpolargl\"}], \"scatterternary\": [{\"marker\": {\"colorbar\": {\"outlinewidth\": 0, \"ticks\": \"\"}}, \"type\": \"scatterternary\"}], \"surface\": [{\"colorbar\": {\"outlinewidth\": 0, \"ticks\": \"\"}, \"colorscale\": [[0.0, \"#0d0887\"], [0.1111111111111111, \"#46039f\"], [0.2222222222222222, \"#7201a8\"], [0.3333333333333333, \"#9c179e\"], [0.4444444444444444, \"#bd3786\"], [0.5555555555555556, \"#d8576b\"], [0.6666666666666666, \"#ed7953\"], [0.7777777777777778, \"#fb9f3a\"], [0.8888888888888888, \"#fdca26\"], [1.0, \"#f0f921\"]], \"type\": \"surface\"}], \"table\": [{\"cells\": {\"fill\": {\"color\": \"#EBF0F8\"}, \"line\": {\"color\": \"white\"}}, \"header\": {\"fill\": {\"color\": \"#C8D4E3\"}, \"line\": {\"color\": \"white\"}}, \"type\": \"table\"}]}, \"layout\": {\"annotationdefaults\": {\"arrowcolor\": \"#2a3f5f\", \"arrowhead\": 0, \"arrowwidth\": 1}, \"autotypenumbers\": \"strict\", \"coloraxis\": {\"colorbar\": {\"outlinewidth\": 0, \"ticks\": \"\"}}, \"colorscale\": {\"diverging\": [[0, \"#8e0152\"], [0.1, \"#c51b7d\"], [0.2, \"#de77ae\"], [0.3, \"#f1b6da\"], [0.4, \"#fde0ef\"], [0.5, \"#f7f7f7\"], [0.6, \"#e6f5d0\"], [0.7, \"#b8e186\"], [0.8, \"#7fbc41\"], [0.9, \"#4d9221\"], [1, \"#276419\"]], \"sequential\": [[0.0, \"#0d0887\"], [0.1111111111111111, \"#46039f\"], [0.2222222222222222, \"#7201a8\"], [0.3333333333333333, \"#9c179e\"], [0.4444444444444444, \"#bd3786\"], [0.5555555555555556, \"#d8576b\"], [0.6666666666666666, \"#ed7953\"], [0.7777777777777778, \"#fb9f3a\"], [0.8888888888888888, \"#fdca26\"], [1.0, \"#f0f921\"]], \"sequentialminus\": [[0.0, \"#0d0887\"], [0.1111111111111111, \"#46039f\"], [0.2222222222222222, \"#7201a8\"], [0.3333333333333333, \"#9c179e\"], [0.4444444444444444, \"#bd3786\"], [0.5555555555555556, \"#d8576b\"], [0.6666666666666666, \"#ed7953\"], [0.7777777777777778, \"#fb9f3a\"], [0.8888888888888888, \"#fdca26\"], [1.0, \"#f0f921\"]]}, \"colorway\": [\"#636efa\", \"#EF553B\", \"#00cc96\", \"#ab63fa\", \"#FFA15A\", \"#19d3f3\", \"#FF6692\", \"#B6E880\", \"#FF97FF\", \"#FECB52\"], \"font\": {\"color\": \"#2a3f5f\"}, \"geo\": {\"bgcolor\": \"white\", \"lakecolor\": \"white\", \"landcolor\": \"#E5ECF6\", \"showlakes\": true, \"showland\": true, \"subunitcolor\": \"white\"}, \"hoverlabel\": {\"align\": \"left\"}, \"hovermode\": \"closest\", \"mapbox\": {\"style\": \"light\"}, \"paper_bgcolor\": \"white\", \"plot_bgcolor\": \"#E5ECF6\", \"polar\": {\"angularaxis\": {\"gridcolor\": \"white\", \"linecolor\": \"white\", \"ticks\": \"\"}, \"bgcolor\": \"#E5ECF6\", \"radialaxis\": {\"gridcolor\": \"white\", \"linecolor\": \"white\", \"ticks\": \"\"}}, \"scene\": {\"xaxis\": {\"backgroundcolor\": \"#E5ECF6\", \"gridcolor\": \"white\", \"gridwidth\": 2, \"linecolor\": \"white\", \"showbackground\": true, \"ticks\": \"\", \"zerolinecolor\": \"white\"}, \"yaxis\": {\"backgroundcolor\": \"#E5ECF6\", \"gridcolor\": \"white\", \"gridwidth\": 2, \"linecolor\": \"white\", \"showbackground\": true, \"ticks\": \"\", \"zerolinecolor\": \"white\"}, \"zaxis\": {\"backgroundcolor\": \"#E5ECF6\", \"gridcolor\": \"white\", \"gridwidth\": 2, \"linecolor\": \"white\", \"showbackground\": true, \"ticks\": \"\", \"zerolinecolor\": \"white\"}}, \"shapedefaults\": {\"line\": {\"color\": \"#2a3f5f\"}}, \"ternary\": {\"aaxis\": {\"gridcolor\": \"white\", \"linecolor\": \"white\", \"ticks\": \"\"}, \"baxis\": {\"gridcolor\": \"white\", \"linecolor\": \"white\", \"ticks\": \"\"}, \"bgcolor\": \"#E5ECF6\", \"caxis\": {\"gridcolor\": \"white\", \"linecolor\": \"white\", \"ticks\": \"\"}}, \"title\": {\"x\": 0.05}, \"xaxis\": {\"automargin\": true, \"gridcolor\": \"white\", \"linecolor\": \"white\", \"ticks\": \"\", \"title\": {\"standoff\": 15}, \"zerolinecolor\": \"white\", \"zerolinewidth\": 2}, \"yaxis\": {\"automargin\": true, \"gridcolor\": \"white\", \"linecolor\": \"white\", \"ticks\": \"\", \"title\": {\"standoff\": 15}, \"zerolinecolor\": \"white\", \"zerolinewidth\": 2}}}, \"title\": {\"font\": {\"color\": \"#4D5663\"}}, \"xaxis\": {\"gridcolor\": \"#E1E5ED\", \"showgrid\": true, \"tickfont\": {\"color\": \"#4D5663\"}, \"title\": {\"font\": {\"color\": \"#4D5663\"}, \"text\": \"\"}, \"zerolinecolor\": \"#E1E5ED\"}, \"xaxis2\": {\"anchor\": \"y2\", \"gridcolor\": \"#E1E5ED\", \"showgrid\": true, \"showticklabels\": false, \"tickfont\": {\"color\": \"#4D5663\"}, \"title\": {\"font\": {\"color\": \"#4D5663\"}, \"text\": \"\"}, \"zerolinecolor\": \"#E1E5ED\"}, \"yaxis\": {\"domain\": [0.3, 1], \"gridcolor\": \"#E1E5ED\", \"showgrid\": true, \"tickfont\": {\"color\": \"#4D5663\"}, \"title\": {\"font\": {\"color\": \"#4D5663\"}, \"text\": \"\"}, \"zerolinecolor\": \"#E1E5ED\"}, \"yaxis2\": {\"domain\": [0, 0.25], \"gridcolor\": \"#E1E5ED\", \"showgrid\": true, \"tickfont\": {\"color\": \"#4D5663\"}, \"title\": {\"font\": {\"color\": \"#4D5663\"}, \"text\": \"Spread\"}, \"zerolinecolor\": \"#E1E5ED\"}},                        {\"showLink\": true, \"linkText\": \"Export to plot.ly\", \"plotlyServerURL\": \"https://plot.ly\", \"responsive\": true}                    ).then(function(){\n",
       "                            \n",
       "var gd = document.getElementById('683afb0d-b058-4c65-8ca7-dcdc27eb177f');\n",
       "var x = new MutationObserver(function (mutations, observer) {{\n",
       "        var display = window.getComputedStyle(gd).display;\n",
       "        if (!display || display === 'none') {{\n",
       "            console.log([gd, 'removed!']);\n",
       "            Plotly.purge(gd);\n",
       "            observer.disconnect();\n",
       "        }}\n",
       "}});\n",
       "\n",
       "// Listen for the removal of the full notebook cells\n",
       "var notebookContainer = gd.closest('#notebook-container');\n",
       "if (notebookContainer) {{\n",
       "    x.observe(notebookContainer, {childList: true});\n",
       "}}\n",
       "\n",
       "// Listen for the clearing of the current output cell\n",
       "var outputEl = gd.closest('.output');\n",
       "if (outputEl) {{\n",
       "    x.observe(outputEl, {childList: true});\n",
       "}}\n",
       "\n",
       "                        })                };                });            </script>        </div>"
      ]
     },
     "metadata": {},
     "output_type": "display_data"
    }
   ],
   "source": [
    "df[['A','B']].iplot(kind='spread')"
   ]
  },
  {
   "cell_type": "code",
   "execution_count": 45,
   "id": "confidential-april",
   "metadata": {},
   "outputs": [
    {
     "data": {
      "application/vnd.plotly.v1+json": {
       "config": {
        "linkText": "Export to plot.ly",
        "plotlyServerURL": "https://plot.ly",
        "showLink": true
       },
       "data": [
        {
         "marker": {
          "color": [
           "rgb(255, 153, 51)",
           "rgb(55, 128, 191)",
           "rgb(50, 171, 96)",
           "rgb(128, 0, 128)",
           "rgb(219, 64, 82)",
           "rgb(0, 128, 128)",
           "rgb(255, 255, 51)",
           "rgb(128, 128, 0)",
           "rgb(251, 128, 114)",
           "rgb(128, 177, 211)"
          ],
          "line": {
           "width": 1.3
          },
          "size": [
           49,
           30,
           58,
           86,
           45,
           69,
           75,
           94,
           54,
           73,
           56,
           82,
           63,
           40,
           30,
           72,
           41,
           44,
           84,
           79,
           54,
           77,
           64,
           59,
           101,
           62,
           88,
           63,
           80,
           59,
           49,
           80,
           42,
           78,
           69,
           48,
           24,
           66,
           50,
           32,
           50,
           88,
           55,
           49,
           78,
           49,
           42,
           40,
           26,
           73,
           70,
           27,
           66,
           86,
           76,
           65,
           81,
           80,
           44,
           73,
           66,
           73,
           46,
           33,
           73,
           87,
           42,
           26,
           66,
           51,
           40,
           29,
           47,
           84,
           100,
           51,
           56,
           37,
           37,
           26,
           53,
           112,
           90,
           47,
           31,
           59,
           37,
           89,
           48,
           69,
           45,
           12,
           60,
           77,
           92,
           87,
           54,
           62,
           39,
           31
          ],
          "symbol": "circle"
         },
         "mode": "markers",
         "text": "",
         "type": "scatter",
         "x": [
          1.061473280205822,
          0.7788035401649821,
          -0.2843131564415733,
          0.4028606011071929,
          -1.0353566473067173,
          -1.5925881310692422,
          0.03764451610017262,
          0.09321189582306758,
          -0.4176584649435947,
          1.3425792835433714,
          1.0266554020785341,
          -0.3509763266194384,
          -1.1578507094975032,
          -0.10767980405124133,
          -0.7659349830162048,
          0.6359970746835948,
          0.781389848793117,
          -0.20999618974658754,
          -0.4724551602521327,
          -1.2611520993994236,
          0.5011595968288648,
          2.5021298775570124,
          -2.2161401806538175,
          -0.4213098675783744,
          1.406278824461392,
          1.0245563932292865,
          0.05793642079927353,
          0.5172455234185414,
          0.23237803736898088,
          -0.36851140968886364,
          -0.02331748092877489,
          1.1344686849252197,
          0.16803740412380333,
          -1.3287890912409976,
          0.7879241292820391,
          -0.005548678959254899,
          0.8329045559462215,
          -0.7430868096641571,
          -1.133100937544328,
          0.7006688816822035,
          2.035632575118046,
          0.5325886928830186,
          -0.8599991780600442,
          0.15505475981508404,
          -0.2783228994628211,
          -0.0935045987798122,
          0.257383871747999,
          0.9458026852206287,
          0.0523970154360034,
          0.028677167605447113,
          1.9243754536472717,
          -1.4517638419797148,
          -0.42240872112290845,
          -0.6830010989045584,
          0.8998411440376746,
          0.5661636957875802,
          1.8078923338402904,
          -0.1211574749952134,
          1.1628256796583745,
          -0.7747340750216297,
          -1.663603001451258,
          0.6205659519924192,
          1.1066279064691593,
          -0.4714356459473895,
          -0.6334083024936795,
          0.7840050962817294,
          0.5777402499571723,
          0.13624915721450132,
          0.12080615947972986,
          -0.7310373593845643,
          2.0878737842304975,
          -1.260657602083573,
          -0.9781991587314987,
          0.02552177479888971,
          -1.5312019439825595,
          0.3819009284644589,
          0.9627266602138024,
          -0.36528374506782496,
          -0.01330698839724629,
          -1.057342126647745,
          0.026874897028896363,
          1.4579519802072136,
          0.3436411938175002,
          -0.15839574242186497,
          0.9993958159176821,
          -0.8926368337194085,
          -0.427317895602847,
          0.6220513939400963,
          0.4957072394399795,
          -0.19188201177565387,
          -0.7045958601968229,
          -0.18917637706476753,
          -0.577505244222488,
          -0.6040999190689166,
          0.16031718046731083,
          -0.7914776160554775,
          1.025058265396455,
          1.5523763416710603,
          1.729160350179526,
          0.28383053480712556
         ],
         "y": [
          -0.1502090526950633,
          -1.4730229850054035,
          0.8343967846403096,
          0.07881786533117169,
          0.2173963689453169,
          -0.5528080492436792,
          -1.6258453109586075,
          -0.6767305514654233,
          -0.14300288693546617,
          0.4496954555587184,
          -0.01257683703554524,
          -0.28528865085325283,
          -0.6211655838808301,
          -0.2088464084433686,
          0.11963905119676699,
          -0.33498296236193226,
          -0.33505878250702303,
          1.7253129170246115,
          -1.1653926642573262,
          0.3805949514809733,
          0.09743708259195785,
          -1.0379640975634625,
          0.15098100983051105,
          0.4318977678868364,
          0.4963469437410477,
          0.028512895291313973,
          -1.0979847878044142,
          0.3971856542241418,
          -0.7638507427802923,
          0.04362940403433376,
          0.5493903482135887,
          0.43290716796591083,
          -0.44521194333356084,
          0.9661060689292932,
          0.44210330235753237,
          0.03321214661252483,
          -0.48936726967185207,
          -0.9304182896274302,
          1.6968215447462103,
          -0.278502027157531,
          0.35962316230753194,
          0.1694672554621009,
          1.3463629130177368,
          -0.4773321454887906,
          0.7558264273744825,
          0.30602848551497713,
          1.077734325636297,
          -0.06665598912475737,
          -0.40947446944564386,
          -1.046290912810996,
          0.15155824818897423,
          0.9479235219129352,
          0.5012297209712162,
          0.7202543172706395,
          1.2146155916317036,
          -0.761540003341629,
          1.4216908347738988,
          -0.8083797165101845,
          -0.9598316539739877,
          0.3250456999210159,
          0.7784293978884731,
          0.2913806361130591,
          -0.7031204864984019,
          -0.848852060370494,
          1.3077008994967214,
          2.3441676335625856,
          0.6737609401575443,
          -0.025823768466770602,
          -0.7677235483223626,
          -0.06131394849974311,
          0.039052404999263476,
          0.054768492284818365,
          -0.8498106331641933,
          0.706498180370543,
          -1.2607512917177826,
          -0.41172978961905266,
          -0.2707358279752124,
          0.23025681528889977,
          0.5539822404638315,
          -0.08288867817875158,
          -0.997771161936249,
          -0.678778928533606,
          -1.1474059797681828,
          0.13050467561654697,
          -0.20127543952445254,
          1.1734867634071395,
          -0.14447033334416912,
          -0.7768356529113692,
          2.108155468791955,
          0.2577470285525313,
          0.34417938196510817,
          -1.077596212923613,
          -0.6645104260980493,
          0.5900139902104728,
          -0.8875170695082091,
          1.6232057752672975,
          -0.4425887211319952,
          -0.11476017820101533,
          -0.33938732454496534,
          0.8827855572707493
         ]
        }
       ],
       "layout": {
        "legend": {
         "bgcolor": "#F5F6F9",
         "font": {
          "color": "#4D5663"
         }
        },
        "paper_bgcolor": "#F5F6F9",
        "plot_bgcolor": "#F5F6F9",
        "template": {
         "data": {
          "bar": [
           {
            "error_x": {
             "color": "#2a3f5f"
            },
            "error_y": {
             "color": "#2a3f5f"
            },
            "marker": {
             "line": {
              "color": "#E5ECF6",
              "width": 0.5
             }
            },
            "type": "bar"
           }
          ],
          "barpolar": [
           {
            "marker": {
             "line": {
              "color": "#E5ECF6",
              "width": 0.5
             }
            },
            "type": "barpolar"
           }
          ],
          "carpet": [
           {
            "aaxis": {
             "endlinecolor": "#2a3f5f",
             "gridcolor": "white",
             "linecolor": "white",
             "minorgridcolor": "white",
             "startlinecolor": "#2a3f5f"
            },
            "baxis": {
             "endlinecolor": "#2a3f5f",
             "gridcolor": "white",
             "linecolor": "white",
             "minorgridcolor": "white",
             "startlinecolor": "#2a3f5f"
            },
            "type": "carpet"
           }
          ],
          "choropleth": [
           {
            "colorbar": {
             "outlinewidth": 0,
             "ticks": ""
            },
            "type": "choropleth"
           }
          ],
          "contour": [
           {
            "colorbar": {
             "outlinewidth": 0,
             "ticks": ""
            },
            "colorscale": [
             [
              0,
              "#0d0887"
             ],
             [
              0.1111111111111111,
              "#46039f"
             ],
             [
              0.2222222222222222,
              "#7201a8"
             ],
             [
              0.3333333333333333,
              "#9c179e"
             ],
             [
              0.4444444444444444,
              "#bd3786"
             ],
             [
              0.5555555555555556,
              "#d8576b"
             ],
             [
              0.6666666666666666,
              "#ed7953"
             ],
             [
              0.7777777777777778,
              "#fb9f3a"
             ],
             [
              0.8888888888888888,
              "#fdca26"
             ],
             [
              1,
              "#f0f921"
             ]
            ],
            "type": "contour"
           }
          ],
          "contourcarpet": [
           {
            "colorbar": {
             "outlinewidth": 0,
             "ticks": ""
            },
            "type": "contourcarpet"
           }
          ],
          "heatmap": [
           {
            "colorbar": {
             "outlinewidth": 0,
             "ticks": ""
            },
            "colorscale": [
             [
              0,
              "#0d0887"
             ],
             [
              0.1111111111111111,
              "#46039f"
             ],
             [
              0.2222222222222222,
              "#7201a8"
             ],
             [
              0.3333333333333333,
              "#9c179e"
             ],
             [
              0.4444444444444444,
              "#bd3786"
             ],
             [
              0.5555555555555556,
              "#d8576b"
             ],
             [
              0.6666666666666666,
              "#ed7953"
             ],
             [
              0.7777777777777778,
              "#fb9f3a"
             ],
             [
              0.8888888888888888,
              "#fdca26"
             ],
             [
              1,
              "#f0f921"
             ]
            ],
            "type": "heatmap"
           }
          ],
          "heatmapgl": [
           {
            "colorbar": {
             "outlinewidth": 0,
             "ticks": ""
            },
            "colorscale": [
             [
              0,
              "#0d0887"
             ],
             [
              0.1111111111111111,
              "#46039f"
             ],
             [
              0.2222222222222222,
              "#7201a8"
             ],
             [
              0.3333333333333333,
              "#9c179e"
             ],
             [
              0.4444444444444444,
              "#bd3786"
             ],
             [
              0.5555555555555556,
              "#d8576b"
             ],
             [
              0.6666666666666666,
              "#ed7953"
             ],
             [
              0.7777777777777778,
              "#fb9f3a"
             ],
             [
              0.8888888888888888,
              "#fdca26"
             ],
             [
              1,
              "#f0f921"
             ]
            ],
            "type": "heatmapgl"
           }
          ],
          "histogram": [
           {
            "marker": {
             "colorbar": {
              "outlinewidth": 0,
              "ticks": ""
             }
            },
            "type": "histogram"
           }
          ],
          "histogram2d": [
           {
            "colorbar": {
             "outlinewidth": 0,
             "ticks": ""
            },
            "colorscale": [
             [
              0,
              "#0d0887"
             ],
             [
              0.1111111111111111,
              "#46039f"
             ],
             [
              0.2222222222222222,
              "#7201a8"
             ],
             [
              0.3333333333333333,
              "#9c179e"
             ],
             [
              0.4444444444444444,
              "#bd3786"
             ],
             [
              0.5555555555555556,
              "#d8576b"
             ],
             [
              0.6666666666666666,
              "#ed7953"
             ],
             [
              0.7777777777777778,
              "#fb9f3a"
             ],
             [
              0.8888888888888888,
              "#fdca26"
             ],
             [
              1,
              "#f0f921"
             ]
            ],
            "type": "histogram2d"
           }
          ],
          "histogram2dcontour": [
           {
            "colorbar": {
             "outlinewidth": 0,
             "ticks": ""
            },
            "colorscale": [
             [
              0,
              "#0d0887"
             ],
             [
              0.1111111111111111,
              "#46039f"
             ],
             [
              0.2222222222222222,
              "#7201a8"
             ],
             [
              0.3333333333333333,
              "#9c179e"
             ],
             [
              0.4444444444444444,
              "#bd3786"
             ],
             [
              0.5555555555555556,
              "#d8576b"
             ],
             [
              0.6666666666666666,
              "#ed7953"
             ],
             [
              0.7777777777777778,
              "#fb9f3a"
             ],
             [
              0.8888888888888888,
              "#fdca26"
             ],
             [
              1,
              "#f0f921"
             ]
            ],
            "type": "histogram2dcontour"
           }
          ],
          "mesh3d": [
           {
            "colorbar": {
             "outlinewidth": 0,
             "ticks": ""
            },
            "type": "mesh3d"
           }
          ],
          "parcoords": [
           {
            "line": {
             "colorbar": {
              "outlinewidth": 0,
              "ticks": ""
             }
            },
            "type": "parcoords"
           }
          ],
          "pie": [
           {
            "automargin": true,
            "type": "pie"
           }
          ],
          "scatter": [
           {
            "marker": {
             "colorbar": {
              "outlinewidth": 0,
              "ticks": ""
             }
            },
            "type": "scatter"
           }
          ],
          "scatter3d": [
           {
            "line": {
             "colorbar": {
              "outlinewidth": 0,
              "ticks": ""
             }
            },
            "marker": {
             "colorbar": {
              "outlinewidth": 0,
              "ticks": ""
             }
            },
            "type": "scatter3d"
           }
          ],
          "scattercarpet": [
           {
            "marker": {
             "colorbar": {
              "outlinewidth": 0,
              "ticks": ""
             }
            },
            "type": "scattercarpet"
           }
          ],
          "scattergeo": [
           {
            "marker": {
             "colorbar": {
              "outlinewidth": 0,
              "ticks": ""
             }
            },
            "type": "scattergeo"
           }
          ],
          "scattergl": [
           {
            "marker": {
             "colorbar": {
              "outlinewidth": 0,
              "ticks": ""
             }
            },
            "type": "scattergl"
           }
          ],
          "scattermapbox": [
           {
            "marker": {
             "colorbar": {
              "outlinewidth": 0,
              "ticks": ""
             }
            },
            "type": "scattermapbox"
           }
          ],
          "scatterpolar": [
           {
            "marker": {
             "colorbar": {
              "outlinewidth": 0,
              "ticks": ""
             }
            },
            "type": "scatterpolar"
           }
          ],
          "scatterpolargl": [
           {
            "marker": {
             "colorbar": {
              "outlinewidth": 0,
              "ticks": ""
             }
            },
            "type": "scatterpolargl"
           }
          ],
          "scatterternary": [
           {
            "marker": {
             "colorbar": {
              "outlinewidth": 0,
              "ticks": ""
             }
            },
            "type": "scatterternary"
           }
          ],
          "surface": [
           {
            "colorbar": {
             "outlinewidth": 0,
             "ticks": ""
            },
            "colorscale": [
             [
              0,
              "#0d0887"
             ],
             [
              0.1111111111111111,
              "#46039f"
             ],
             [
              0.2222222222222222,
              "#7201a8"
             ],
             [
              0.3333333333333333,
              "#9c179e"
             ],
             [
              0.4444444444444444,
              "#bd3786"
             ],
             [
              0.5555555555555556,
              "#d8576b"
             ],
             [
              0.6666666666666666,
              "#ed7953"
             ],
             [
              0.7777777777777778,
              "#fb9f3a"
             ],
             [
              0.8888888888888888,
              "#fdca26"
             ],
             [
              1,
              "#f0f921"
             ]
            ],
            "type": "surface"
           }
          ],
          "table": [
           {
            "cells": {
             "fill": {
              "color": "#EBF0F8"
             },
             "line": {
              "color": "white"
             }
            },
            "header": {
             "fill": {
              "color": "#C8D4E3"
             },
             "line": {
              "color": "white"
             }
            },
            "type": "table"
           }
          ]
         },
         "layout": {
          "annotationdefaults": {
           "arrowcolor": "#2a3f5f",
           "arrowhead": 0,
           "arrowwidth": 1
          },
          "autotypenumbers": "strict",
          "coloraxis": {
           "colorbar": {
            "outlinewidth": 0,
            "ticks": ""
           }
          },
          "colorscale": {
           "diverging": [
            [
             0,
             "#8e0152"
            ],
            [
             0.1,
             "#c51b7d"
            ],
            [
             0.2,
             "#de77ae"
            ],
            [
             0.3,
             "#f1b6da"
            ],
            [
             0.4,
             "#fde0ef"
            ],
            [
             0.5,
             "#f7f7f7"
            ],
            [
             0.6,
             "#e6f5d0"
            ],
            [
             0.7,
             "#b8e186"
            ],
            [
             0.8,
             "#7fbc41"
            ],
            [
             0.9,
             "#4d9221"
            ],
            [
             1,
             "#276419"
            ]
           ],
           "sequential": [
            [
             0,
             "#0d0887"
            ],
            [
             0.1111111111111111,
             "#46039f"
            ],
            [
             0.2222222222222222,
             "#7201a8"
            ],
            [
             0.3333333333333333,
             "#9c179e"
            ],
            [
             0.4444444444444444,
             "#bd3786"
            ],
            [
             0.5555555555555556,
             "#d8576b"
            ],
            [
             0.6666666666666666,
             "#ed7953"
            ],
            [
             0.7777777777777778,
             "#fb9f3a"
            ],
            [
             0.8888888888888888,
             "#fdca26"
            ],
            [
             1,
             "#f0f921"
            ]
           ],
           "sequentialminus": [
            [
             0,
             "#0d0887"
            ],
            [
             0.1111111111111111,
             "#46039f"
            ],
            [
             0.2222222222222222,
             "#7201a8"
            ],
            [
             0.3333333333333333,
             "#9c179e"
            ],
            [
             0.4444444444444444,
             "#bd3786"
            ],
            [
             0.5555555555555556,
             "#d8576b"
            ],
            [
             0.6666666666666666,
             "#ed7953"
            ],
            [
             0.7777777777777778,
             "#fb9f3a"
            ],
            [
             0.8888888888888888,
             "#fdca26"
            ],
            [
             1,
             "#f0f921"
            ]
           ]
          },
          "colorway": [
           "#636efa",
           "#EF553B",
           "#00cc96",
           "#ab63fa",
           "#FFA15A",
           "#19d3f3",
           "#FF6692",
           "#B6E880",
           "#FF97FF",
           "#FECB52"
          ],
          "font": {
           "color": "#2a3f5f"
          },
          "geo": {
           "bgcolor": "white",
           "lakecolor": "white",
           "landcolor": "#E5ECF6",
           "showlakes": true,
           "showland": true,
           "subunitcolor": "white"
          },
          "hoverlabel": {
           "align": "left"
          },
          "hovermode": "closest",
          "mapbox": {
           "style": "light"
          },
          "paper_bgcolor": "white",
          "plot_bgcolor": "#E5ECF6",
          "polar": {
           "angularaxis": {
            "gridcolor": "white",
            "linecolor": "white",
            "ticks": ""
           },
           "bgcolor": "#E5ECF6",
           "radialaxis": {
            "gridcolor": "white",
            "linecolor": "white",
            "ticks": ""
           }
          },
          "scene": {
           "xaxis": {
            "backgroundcolor": "#E5ECF6",
            "gridcolor": "white",
            "gridwidth": 2,
            "linecolor": "white",
            "showbackground": true,
            "ticks": "",
            "zerolinecolor": "white"
           },
           "yaxis": {
            "backgroundcolor": "#E5ECF6",
            "gridcolor": "white",
            "gridwidth": 2,
            "linecolor": "white",
            "showbackground": true,
            "ticks": "",
            "zerolinecolor": "white"
           },
           "zaxis": {
            "backgroundcolor": "#E5ECF6",
            "gridcolor": "white",
            "gridwidth": 2,
            "linecolor": "white",
            "showbackground": true,
            "ticks": "",
            "zerolinecolor": "white"
           }
          },
          "shapedefaults": {
           "line": {
            "color": "#2a3f5f"
           }
          },
          "ternary": {
           "aaxis": {
            "gridcolor": "white",
            "linecolor": "white",
            "ticks": ""
           },
           "baxis": {
            "gridcolor": "white",
            "linecolor": "white",
            "ticks": ""
           },
           "bgcolor": "#E5ECF6",
           "caxis": {
            "gridcolor": "white",
            "linecolor": "white",
            "ticks": ""
           }
          },
          "title": {
           "x": 0.05
          },
          "xaxis": {
           "automargin": true,
           "gridcolor": "white",
           "linecolor": "white",
           "ticks": "",
           "title": {
            "standoff": 15
           },
           "zerolinecolor": "white",
           "zerolinewidth": 2
          },
          "yaxis": {
           "automargin": true,
           "gridcolor": "white",
           "linecolor": "white",
           "ticks": "",
           "title": {
            "standoff": 15
           },
           "zerolinecolor": "white",
           "zerolinewidth": 2
          }
         }
        },
        "title": {
         "font": {
          "color": "#4D5663"
         }
        },
        "xaxis": {
         "gridcolor": "#E1E5ED",
         "showgrid": true,
         "tickfont": {
          "color": "#4D5663"
         },
         "title": {
          "font": {
           "color": "#4D5663"
          },
          "text": ""
         },
         "zerolinecolor": "#E1E5ED"
        },
        "yaxis": {
         "gridcolor": "#E1E5ED",
         "showgrid": true,
         "tickfont": {
          "color": "#4D5663"
         },
         "title": {
          "font": {
           "color": "#4D5663"
          },
          "text": ""
         },
         "zerolinecolor": "#E1E5ED"
        }
       }
      },
      "text/html": [
       "<div>                            <div id=\"027dd41b-702e-4594-8329-f41899ad5733\" class=\"plotly-graph-div\" style=\"height:525px; width:100%;\"></div>            <script type=\"text/javascript\">                require([\"plotly\"], function(Plotly) {                    window.PLOTLYENV=window.PLOTLYENV || {};\n",
       "                    window.PLOTLYENV.BASE_URL='https://plot.ly';                                    if (document.getElementById(\"027dd41b-702e-4594-8329-f41899ad5733\")) {                    Plotly.newPlot(                        \"027dd41b-702e-4594-8329-f41899ad5733\",                        [{\"marker\": {\"color\": [\"rgb(255, 153, 51)\", \"rgb(55, 128, 191)\", \"rgb(50, 171, 96)\", \"rgb(128, 0, 128)\", \"rgb(219, 64, 82)\", \"rgb(0, 128, 128)\", \"rgb(255, 255, 51)\", \"rgb(128, 128, 0)\", \"rgb(251, 128, 114)\", \"rgb(128, 177, 211)\"], \"line\": {\"width\": 1.3}, \"size\": [49, 30, 58, 86, 45, 69, 75, 94, 54, 73, 56, 82, 63, 40, 30, 72, 41, 44, 84, 79, 54, 77, 64, 59, 101, 62, 88, 63, 80, 59, 49, 80, 42, 78, 69, 48, 24, 66, 50, 32, 50, 88, 55, 49, 78, 49, 42, 40, 26, 73, 70, 27, 66, 86, 76, 65, 81, 80, 44, 73, 66, 73, 46, 33, 73, 87, 42, 26, 66, 51, 40, 29, 47, 84, 100, 51, 56, 37, 37, 26, 53, 112, 90, 47, 31, 59, 37, 89, 48, 69, 45, 12, 60, 77, 92, 87, 54, 62, 39, 31], \"symbol\": \"circle\"}, \"mode\": \"markers\", \"text\": \"\", \"type\": \"scatter\", \"x\": [1.061473280205822, 0.7788035401649821, -0.2843131564415733, 0.4028606011071929, -1.0353566473067173, -1.5925881310692422, 0.03764451610017262, 0.09321189582306758, -0.4176584649435947, 1.3425792835433714, 1.0266554020785341, -0.3509763266194384, -1.1578507094975032, -0.10767980405124133, -0.7659349830162048, 0.6359970746835948, 0.781389848793117, -0.20999618974658754, -0.4724551602521327, -1.2611520993994236, 0.5011595968288648, 2.5021298775570124, -2.2161401806538175, -0.4213098675783744, 1.406278824461392, 1.0245563932292865, 0.05793642079927353, 0.5172455234185414, 0.23237803736898088, -0.36851140968886364, -0.02331748092877489, 1.1344686849252197, 0.16803740412380333, -1.3287890912409976, 0.7879241292820391, -0.005548678959254899, 0.8329045559462215, -0.7430868096641571, -1.133100937544328, 0.7006688816822035, 2.035632575118046, 0.5325886928830186, -0.8599991780600442, 0.15505475981508404, -0.2783228994628211, -0.0935045987798122, 0.257383871747999, 0.9458026852206287, 0.0523970154360034, 0.028677167605447113, 1.9243754536472717, -1.4517638419797148, -0.42240872112290845, -0.6830010989045584, 0.8998411440376746, 0.5661636957875802, 1.8078923338402904, -0.1211574749952134, 1.1628256796583745, -0.7747340750216297, -1.663603001451258, 0.6205659519924192, 1.1066279064691593, -0.4714356459473895, -0.6334083024936795, 0.7840050962817294, 0.5777402499571723, 0.13624915721450132, 0.12080615947972986, -0.7310373593845643, 2.0878737842304975, -1.260657602083573, -0.9781991587314987, 0.02552177479888971, -1.5312019439825595, 0.3819009284644589, 0.9627266602138024, -0.36528374506782496, -0.01330698839724629, -1.057342126647745, 0.026874897028896363, 1.4579519802072136, 0.3436411938175002, -0.15839574242186497, 0.9993958159176821, -0.8926368337194085, -0.427317895602847, 0.6220513939400963, 0.4957072394399795, -0.19188201177565387, -0.7045958601968229, -0.18917637706476753, -0.577505244222488, -0.6040999190689166, 0.16031718046731083, -0.7914776160554775, 1.025058265396455, 1.5523763416710603, 1.729160350179526, 0.28383053480712556], \"y\": [-0.1502090526950633, -1.4730229850054035, 0.8343967846403096, 0.07881786533117169, 0.2173963689453169, -0.5528080492436792, -1.6258453109586075, -0.6767305514654233, -0.14300288693546617, 0.4496954555587184, -0.01257683703554524, -0.28528865085325283, -0.6211655838808301, -0.2088464084433686, 0.11963905119676699, -0.33498296236193226, -0.33505878250702303, 1.7253129170246115, -1.1653926642573262, 0.3805949514809733, 0.09743708259195785, -1.0379640975634625, 0.15098100983051105, 0.4318977678868364, 0.4963469437410477, 0.028512895291313973, -1.0979847878044142, 0.3971856542241418, -0.7638507427802923, 0.04362940403433376, 0.5493903482135887, 0.43290716796591083, -0.44521194333356084, 0.9661060689292932, 0.44210330235753237, 0.03321214661252483, -0.48936726967185207, -0.9304182896274302, 1.6968215447462103, -0.278502027157531, 0.35962316230753194, 0.1694672554621009, 1.3463629130177368, -0.4773321454887906, 0.7558264273744825, 0.30602848551497713, 1.077734325636297, -0.06665598912475737, -0.40947446944564386, -1.046290912810996, 0.15155824818897423, 0.9479235219129352, 0.5012297209712162, 0.7202543172706395, 1.2146155916317036, -0.761540003341629, 1.4216908347738988, -0.8083797165101845, -0.9598316539739877, 0.3250456999210159, 0.7784293978884731, 0.2913806361130591, -0.7031204864984019, -0.848852060370494, 1.3077008994967214, 2.3441676335625856, 0.6737609401575443, -0.025823768466770602, -0.7677235483223626, -0.06131394849974311, 0.039052404999263476, 0.054768492284818365, -0.8498106331641933, 0.706498180370543, -1.2607512917177826, -0.41172978961905266, -0.2707358279752124, 0.23025681528889977, 0.5539822404638315, -0.08288867817875158, -0.997771161936249, -0.678778928533606, -1.1474059797681828, 0.13050467561654697, -0.20127543952445254, 1.1734867634071395, -0.14447033334416912, -0.7768356529113692, 2.108155468791955, 0.2577470285525313, 0.34417938196510817, -1.077596212923613, -0.6645104260980493, 0.5900139902104728, -0.8875170695082091, 1.6232057752672975, -0.4425887211319952, -0.11476017820101533, -0.33938732454496534, 0.8827855572707493]}],                        {\"legend\": {\"bgcolor\": \"#F5F6F9\", \"font\": {\"color\": \"#4D5663\"}}, \"paper_bgcolor\": \"#F5F6F9\", \"plot_bgcolor\": \"#F5F6F9\", \"template\": {\"data\": {\"bar\": [{\"error_x\": {\"color\": \"#2a3f5f\"}, \"error_y\": {\"color\": \"#2a3f5f\"}, \"marker\": {\"line\": {\"color\": \"#E5ECF6\", \"width\": 0.5}}, \"type\": \"bar\"}], \"barpolar\": [{\"marker\": {\"line\": {\"color\": \"#E5ECF6\", \"width\": 0.5}}, \"type\": \"barpolar\"}], \"carpet\": [{\"aaxis\": {\"endlinecolor\": \"#2a3f5f\", \"gridcolor\": \"white\", \"linecolor\": \"white\", \"minorgridcolor\": \"white\", \"startlinecolor\": \"#2a3f5f\"}, \"baxis\": {\"endlinecolor\": \"#2a3f5f\", \"gridcolor\": \"white\", \"linecolor\": \"white\", \"minorgridcolor\": \"white\", \"startlinecolor\": \"#2a3f5f\"}, \"type\": \"carpet\"}], \"choropleth\": [{\"colorbar\": {\"outlinewidth\": 0, \"ticks\": \"\"}, \"type\": \"choropleth\"}], \"contour\": [{\"colorbar\": {\"outlinewidth\": 0, \"ticks\": \"\"}, \"colorscale\": [[0.0, \"#0d0887\"], [0.1111111111111111, \"#46039f\"], [0.2222222222222222, \"#7201a8\"], [0.3333333333333333, \"#9c179e\"], [0.4444444444444444, \"#bd3786\"], [0.5555555555555556, \"#d8576b\"], [0.6666666666666666, \"#ed7953\"], [0.7777777777777778, \"#fb9f3a\"], [0.8888888888888888, \"#fdca26\"], [1.0, \"#f0f921\"]], \"type\": \"contour\"}], \"contourcarpet\": [{\"colorbar\": {\"outlinewidth\": 0, \"ticks\": \"\"}, \"type\": \"contourcarpet\"}], \"heatmap\": [{\"colorbar\": {\"outlinewidth\": 0, \"ticks\": \"\"}, \"colorscale\": [[0.0, \"#0d0887\"], [0.1111111111111111, \"#46039f\"], [0.2222222222222222, \"#7201a8\"], [0.3333333333333333, \"#9c179e\"], [0.4444444444444444, \"#bd3786\"], [0.5555555555555556, \"#d8576b\"], [0.6666666666666666, \"#ed7953\"], [0.7777777777777778, \"#fb9f3a\"], [0.8888888888888888, \"#fdca26\"], [1.0, \"#f0f921\"]], \"type\": \"heatmap\"}], \"heatmapgl\": [{\"colorbar\": {\"outlinewidth\": 0, \"ticks\": \"\"}, \"colorscale\": [[0.0, \"#0d0887\"], [0.1111111111111111, \"#46039f\"], [0.2222222222222222, \"#7201a8\"], [0.3333333333333333, \"#9c179e\"], [0.4444444444444444, \"#bd3786\"], [0.5555555555555556, \"#d8576b\"], [0.6666666666666666, \"#ed7953\"], [0.7777777777777778, \"#fb9f3a\"], [0.8888888888888888, \"#fdca26\"], [1.0, \"#f0f921\"]], \"type\": \"heatmapgl\"}], \"histogram\": [{\"marker\": {\"colorbar\": {\"outlinewidth\": 0, \"ticks\": \"\"}}, \"type\": \"histogram\"}], \"histogram2d\": [{\"colorbar\": {\"outlinewidth\": 0, \"ticks\": \"\"}, \"colorscale\": [[0.0, \"#0d0887\"], [0.1111111111111111, \"#46039f\"], [0.2222222222222222, \"#7201a8\"], [0.3333333333333333, \"#9c179e\"], [0.4444444444444444, \"#bd3786\"], [0.5555555555555556, \"#d8576b\"], [0.6666666666666666, \"#ed7953\"], [0.7777777777777778, \"#fb9f3a\"], [0.8888888888888888, \"#fdca26\"], [1.0, \"#f0f921\"]], \"type\": \"histogram2d\"}], \"histogram2dcontour\": [{\"colorbar\": {\"outlinewidth\": 0, \"ticks\": \"\"}, \"colorscale\": [[0.0, \"#0d0887\"], [0.1111111111111111, \"#46039f\"], [0.2222222222222222, \"#7201a8\"], [0.3333333333333333, \"#9c179e\"], [0.4444444444444444, \"#bd3786\"], [0.5555555555555556, \"#d8576b\"], [0.6666666666666666, \"#ed7953\"], [0.7777777777777778, \"#fb9f3a\"], [0.8888888888888888, \"#fdca26\"], [1.0, \"#f0f921\"]], \"type\": \"histogram2dcontour\"}], \"mesh3d\": [{\"colorbar\": {\"outlinewidth\": 0, \"ticks\": \"\"}, \"type\": \"mesh3d\"}], \"parcoords\": [{\"line\": {\"colorbar\": {\"outlinewidth\": 0, \"ticks\": \"\"}}, \"type\": \"parcoords\"}], \"pie\": [{\"automargin\": true, \"type\": \"pie\"}], \"scatter\": [{\"marker\": {\"colorbar\": {\"outlinewidth\": 0, \"ticks\": \"\"}}, \"type\": \"scatter\"}], \"scatter3d\": [{\"line\": {\"colorbar\": {\"outlinewidth\": 0, \"ticks\": \"\"}}, \"marker\": {\"colorbar\": {\"outlinewidth\": 0, \"ticks\": \"\"}}, \"type\": \"scatter3d\"}], \"scattercarpet\": [{\"marker\": {\"colorbar\": {\"outlinewidth\": 0, \"ticks\": \"\"}}, \"type\": \"scattercarpet\"}], \"scattergeo\": [{\"marker\": {\"colorbar\": {\"outlinewidth\": 0, \"ticks\": \"\"}}, \"type\": \"scattergeo\"}], \"scattergl\": [{\"marker\": {\"colorbar\": {\"outlinewidth\": 0, \"ticks\": \"\"}}, \"type\": \"scattergl\"}], \"scattermapbox\": [{\"marker\": {\"colorbar\": {\"outlinewidth\": 0, \"ticks\": \"\"}}, \"type\": \"scattermapbox\"}], \"scatterpolar\": [{\"marker\": {\"colorbar\": {\"outlinewidth\": 0, \"ticks\": \"\"}}, \"type\": \"scatterpolar\"}], \"scatterpolargl\": [{\"marker\": {\"colorbar\": {\"outlinewidth\": 0, \"ticks\": \"\"}}, \"type\": \"scatterpolargl\"}], \"scatterternary\": [{\"marker\": {\"colorbar\": {\"outlinewidth\": 0, \"ticks\": \"\"}}, \"type\": \"scatterternary\"}], \"surface\": [{\"colorbar\": {\"outlinewidth\": 0, \"ticks\": \"\"}, \"colorscale\": [[0.0, \"#0d0887\"], [0.1111111111111111, \"#46039f\"], [0.2222222222222222, \"#7201a8\"], [0.3333333333333333, \"#9c179e\"], [0.4444444444444444, \"#bd3786\"], [0.5555555555555556, \"#d8576b\"], [0.6666666666666666, \"#ed7953\"], [0.7777777777777778, \"#fb9f3a\"], [0.8888888888888888, \"#fdca26\"], [1.0, \"#f0f921\"]], \"type\": \"surface\"}], \"table\": [{\"cells\": {\"fill\": {\"color\": \"#EBF0F8\"}, \"line\": {\"color\": \"white\"}}, \"header\": {\"fill\": {\"color\": \"#C8D4E3\"}, \"line\": {\"color\": \"white\"}}, \"type\": \"table\"}]}, \"layout\": {\"annotationdefaults\": {\"arrowcolor\": \"#2a3f5f\", \"arrowhead\": 0, \"arrowwidth\": 1}, \"autotypenumbers\": \"strict\", \"coloraxis\": {\"colorbar\": {\"outlinewidth\": 0, \"ticks\": \"\"}}, \"colorscale\": {\"diverging\": [[0, \"#8e0152\"], [0.1, \"#c51b7d\"], [0.2, \"#de77ae\"], [0.3, \"#f1b6da\"], [0.4, \"#fde0ef\"], [0.5, \"#f7f7f7\"], [0.6, \"#e6f5d0\"], [0.7, \"#b8e186\"], [0.8, \"#7fbc41\"], [0.9, \"#4d9221\"], [1, \"#276419\"]], \"sequential\": [[0.0, \"#0d0887\"], [0.1111111111111111, \"#46039f\"], [0.2222222222222222, \"#7201a8\"], [0.3333333333333333, \"#9c179e\"], [0.4444444444444444, \"#bd3786\"], [0.5555555555555556, \"#d8576b\"], [0.6666666666666666, \"#ed7953\"], [0.7777777777777778, \"#fb9f3a\"], [0.8888888888888888, \"#fdca26\"], [1.0, \"#f0f921\"]], \"sequentialminus\": [[0.0, \"#0d0887\"], [0.1111111111111111, \"#46039f\"], [0.2222222222222222, \"#7201a8\"], [0.3333333333333333, \"#9c179e\"], [0.4444444444444444, \"#bd3786\"], [0.5555555555555556, \"#d8576b\"], [0.6666666666666666, \"#ed7953\"], [0.7777777777777778, \"#fb9f3a\"], [0.8888888888888888, \"#fdca26\"], [1.0, \"#f0f921\"]]}, \"colorway\": [\"#636efa\", \"#EF553B\", \"#00cc96\", \"#ab63fa\", \"#FFA15A\", \"#19d3f3\", \"#FF6692\", \"#B6E880\", \"#FF97FF\", \"#FECB52\"], \"font\": {\"color\": \"#2a3f5f\"}, \"geo\": {\"bgcolor\": \"white\", \"lakecolor\": \"white\", \"landcolor\": \"#E5ECF6\", \"showlakes\": true, \"showland\": true, \"subunitcolor\": \"white\"}, \"hoverlabel\": {\"align\": \"left\"}, \"hovermode\": \"closest\", \"mapbox\": {\"style\": \"light\"}, \"paper_bgcolor\": \"white\", \"plot_bgcolor\": \"#E5ECF6\", \"polar\": {\"angularaxis\": {\"gridcolor\": \"white\", \"linecolor\": \"white\", \"ticks\": \"\"}, \"bgcolor\": \"#E5ECF6\", \"radialaxis\": {\"gridcolor\": \"white\", \"linecolor\": \"white\", \"ticks\": \"\"}}, \"scene\": {\"xaxis\": {\"backgroundcolor\": \"#E5ECF6\", \"gridcolor\": \"white\", \"gridwidth\": 2, \"linecolor\": \"white\", \"showbackground\": true, \"ticks\": \"\", \"zerolinecolor\": \"white\"}, \"yaxis\": {\"backgroundcolor\": \"#E5ECF6\", \"gridcolor\": \"white\", \"gridwidth\": 2, \"linecolor\": \"white\", \"showbackground\": true, \"ticks\": \"\", \"zerolinecolor\": \"white\"}, \"zaxis\": {\"backgroundcolor\": \"#E5ECF6\", \"gridcolor\": \"white\", \"gridwidth\": 2, \"linecolor\": \"white\", \"showbackground\": true, \"ticks\": \"\", \"zerolinecolor\": \"white\"}}, \"shapedefaults\": {\"line\": {\"color\": \"#2a3f5f\"}}, \"ternary\": {\"aaxis\": {\"gridcolor\": \"white\", \"linecolor\": \"white\", \"ticks\": \"\"}, \"baxis\": {\"gridcolor\": \"white\", \"linecolor\": \"white\", \"ticks\": \"\"}, \"bgcolor\": \"#E5ECF6\", \"caxis\": {\"gridcolor\": \"white\", \"linecolor\": \"white\", \"ticks\": \"\"}}, \"title\": {\"x\": 0.05}, \"xaxis\": {\"automargin\": true, \"gridcolor\": \"white\", \"linecolor\": \"white\", \"ticks\": \"\", \"title\": {\"standoff\": 15}, \"zerolinecolor\": \"white\", \"zerolinewidth\": 2}, \"yaxis\": {\"automargin\": true, \"gridcolor\": \"white\", \"linecolor\": \"white\", \"ticks\": \"\", \"title\": {\"standoff\": 15}, \"zerolinecolor\": \"white\", \"zerolinewidth\": 2}}}, \"title\": {\"font\": {\"color\": \"#4D5663\"}}, \"xaxis\": {\"gridcolor\": \"#E1E5ED\", \"showgrid\": true, \"tickfont\": {\"color\": \"#4D5663\"}, \"title\": {\"font\": {\"color\": \"#4D5663\"}, \"text\": \"\"}, \"zerolinecolor\": \"#E1E5ED\"}, \"yaxis\": {\"gridcolor\": \"#E1E5ED\", \"showgrid\": true, \"tickfont\": {\"color\": \"#4D5663\"}, \"title\": {\"font\": {\"color\": \"#4D5663\"}, \"text\": \"\"}, \"zerolinecolor\": \"#E1E5ED\"}},                        {\"showLink\": true, \"linkText\": \"Export to plot.ly\", \"plotlyServerURL\": \"https://plot.ly\", \"responsive\": true}                    ).then(function(){\n",
       "                            \n",
       "var gd = document.getElementById('027dd41b-702e-4594-8329-f41899ad5733');\n",
       "var x = new MutationObserver(function (mutations, observer) {{\n",
       "        var display = window.getComputedStyle(gd).display;\n",
       "        if (!display || display === 'none') {{\n",
       "            console.log([gd, 'removed!']);\n",
       "            Plotly.purge(gd);\n",
       "            observer.disconnect();\n",
       "        }}\n",
       "}});\n",
       "\n",
       "// Listen for the removal of the full notebook cells\n",
       "var notebookContainer = gd.closest('#notebook-container');\n",
       "if (notebookContainer) {{\n",
       "    x.observe(notebookContainer, {childList: true});\n",
       "}}\n",
       "\n",
       "// Listen for the clearing of the current output cell\n",
       "var outputEl = gd.closest('.output');\n",
       "if (outputEl) {{\n",
       "    x.observe(outputEl, {childList: true});\n",
       "}}\n",
       "\n",
       "                        })                };                });            </script>        </div>"
      ]
     },
     "metadata": {},
     "output_type": "display_data"
    }
   ],
   "source": [
    "df.iplot(kind='bubble',x='A',y='B',size='C')"
   ]
  },
  {
   "cell_type": "code",
   "execution_count": 46,
   "id": "sitting-original",
   "metadata": {},
   "outputs": [
    {
     "data": {
      "application/vnd.plotly.v1+json": {
       "config": {
        "linkText": "Export to plot.ly",
        "plotlyServerURL": "https://plot.ly",
        "showLink": true
       },
       "data": [
        {
         "histfunc": "count",
         "histnorm": "",
         "marker": {
          "color": "rgba(255, 153, 51, 1.0)",
          "line": {
           "color": "#4D5663",
           "width": 1.3
          }
         },
         "name": "A",
         "nbinsx": 10,
         "opacity": 0.8,
         "orientation": "v",
         "type": "histogram",
         "x": [
          1.061473280205822,
          0.7788035401649821,
          -0.2843131564415733,
          0.4028606011071929,
          -1.0353566473067173,
          -1.5925881310692422,
          0.03764451610017262,
          0.09321189582306758,
          -0.4176584649435947,
          1.3425792835433714,
          1.0266554020785341,
          -0.3509763266194384,
          -1.1578507094975032,
          -0.10767980405124133,
          -0.7659349830162048,
          0.6359970746835948,
          0.781389848793117,
          -0.20999618974658754,
          -0.4724551602521327,
          -1.2611520993994236,
          0.5011595968288648,
          2.5021298775570124,
          -2.2161401806538175,
          -0.4213098675783744,
          1.406278824461392,
          1.0245563932292865,
          0.05793642079927353,
          0.5172455234185414,
          0.23237803736898088,
          -0.36851140968886364,
          -0.02331748092877489,
          1.1344686849252197,
          0.16803740412380333,
          -1.3287890912409976,
          0.7879241292820391,
          -0.005548678959254899,
          0.8329045559462215,
          -0.7430868096641571,
          -1.133100937544328,
          0.7006688816822035,
          2.035632575118046,
          0.5325886928830186,
          -0.8599991780600442,
          0.15505475981508404,
          -0.2783228994628211,
          -0.0935045987798122,
          0.257383871747999,
          0.9458026852206287,
          0.0523970154360034,
          0.028677167605447113,
          1.9243754536472717,
          -1.4517638419797148,
          -0.42240872112290845,
          -0.6830010989045584,
          0.8998411440376746,
          0.5661636957875802,
          1.8078923338402904,
          -0.1211574749952134,
          1.1628256796583745,
          -0.7747340750216297,
          -1.663603001451258,
          0.6205659519924192,
          1.1066279064691593,
          -0.4714356459473895,
          -0.6334083024936795,
          0.7840050962817294,
          0.5777402499571723,
          0.13624915721450132,
          0.12080615947972986,
          -0.7310373593845643,
          2.0878737842304975,
          -1.260657602083573,
          -0.9781991587314987,
          0.02552177479888971,
          -1.5312019439825595,
          0.3819009284644589,
          0.9627266602138024,
          -0.36528374506782496,
          -0.01330698839724629,
          -1.057342126647745,
          0.026874897028896363,
          1.4579519802072136,
          0.3436411938175002,
          -0.15839574242186497,
          0.9993958159176821,
          -0.8926368337194085,
          -0.427317895602847,
          0.6220513939400963,
          0.4957072394399795,
          -0.19188201177565387,
          -0.7045958601968229,
          -0.18917637706476753,
          -0.577505244222488,
          -0.6040999190689166,
          0.16031718046731083,
          -0.7914776160554775,
          1.025058265396455,
          1.5523763416710603,
          1.729160350179526,
          0.28383053480712556
         ],
         "xaxis": "x",
         "yaxis": "y"
        },
        {
         "line": {
          "color": "rgba(128, 128, 128, 1.0)",
          "dash": "solid",
          "shape": "linear",
          "width": 1.3
         },
         "marker": {
          "size": 2,
          "symbol": "circle"
         },
         "mode": "markers",
         "name": "A",
         "text": "",
         "type": "scatter",
         "x": [
          -0.1502090526950633,
          -1.4730229850054035,
          0.8343967846403096,
          0.07881786533117169,
          0.2173963689453169,
          -0.5528080492436792,
          -1.6258453109586075,
          -0.6767305514654233,
          -0.14300288693546617,
          0.4496954555587184,
          -0.01257683703554524,
          -0.28528865085325283,
          -0.6211655838808301,
          -0.2088464084433686,
          0.11963905119676699,
          -0.33498296236193226,
          -0.33505878250702303,
          1.7253129170246115,
          -1.1653926642573262,
          0.3805949514809733,
          0.09743708259195785,
          -1.0379640975634625,
          0.15098100983051105,
          0.4318977678868364,
          0.4963469437410477,
          0.028512895291313973,
          -1.0979847878044142,
          0.3971856542241418,
          -0.7638507427802923,
          0.04362940403433376,
          0.5493903482135887,
          0.43290716796591083,
          -0.44521194333356084,
          0.9661060689292932,
          0.44210330235753237,
          0.03321214661252483,
          -0.48936726967185207,
          -0.9304182896274302,
          1.6968215447462103,
          -0.278502027157531,
          0.35962316230753194,
          0.1694672554621009,
          1.3463629130177368,
          -0.4773321454887906,
          0.7558264273744825,
          0.30602848551497713,
          1.077734325636297,
          -0.06665598912475737,
          -0.40947446944564386,
          -1.046290912810996,
          0.15155824818897423,
          0.9479235219129352,
          0.5012297209712162,
          0.7202543172706395,
          1.2146155916317036,
          -0.761540003341629,
          1.4216908347738988,
          -0.8083797165101845,
          -0.9598316539739877,
          0.3250456999210159,
          0.7784293978884731,
          0.2913806361130591,
          -0.7031204864984019,
          -0.848852060370494,
          1.3077008994967214,
          2.3441676335625856,
          0.6737609401575443,
          -0.025823768466770602,
          -0.7677235483223626,
          -0.06131394849974311,
          0.039052404999263476,
          0.054768492284818365,
          -0.8498106331641933,
          0.706498180370543,
          -1.2607512917177826,
          -0.41172978961905266,
          -0.2707358279752124,
          0.23025681528889977,
          0.5539822404638315,
          -0.08288867817875158,
          -0.997771161936249,
          -0.678778928533606,
          -1.1474059797681828,
          0.13050467561654697,
          -0.20127543952445254,
          1.1734867634071395,
          -0.14447033334416912,
          -0.7768356529113692,
          2.108155468791955,
          0.2577470285525313,
          0.34417938196510817,
          -1.077596212923613,
          -0.6645104260980493,
          0.5900139902104728,
          -0.8875170695082091,
          1.6232057752672975,
          -0.4425887211319952,
          -0.11476017820101533,
          -0.33938732454496534,
          0.8827855572707493
         ],
         "xaxis": "x2",
         "y": [
          1.061473280205822,
          0.7788035401649821,
          -0.2843131564415733,
          0.4028606011071929,
          -1.0353566473067173,
          -1.5925881310692422,
          0.03764451610017262,
          0.09321189582306758,
          -0.4176584649435947,
          1.3425792835433714,
          1.0266554020785341,
          -0.3509763266194384,
          -1.1578507094975032,
          -0.10767980405124133,
          -0.7659349830162048,
          0.6359970746835948,
          0.781389848793117,
          -0.20999618974658754,
          -0.4724551602521327,
          -1.2611520993994236,
          0.5011595968288648,
          2.5021298775570124,
          -2.2161401806538175,
          -0.4213098675783744,
          1.406278824461392,
          1.0245563932292865,
          0.05793642079927353,
          0.5172455234185414,
          0.23237803736898088,
          -0.36851140968886364,
          -0.02331748092877489,
          1.1344686849252197,
          0.16803740412380333,
          -1.3287890912409976,
          0.7879241292820391,
          -0.005548678959254899,
          0.8329045559462215,
          -0.7430868096641571,
          -1.133100937544328,
          0.7006688816822035,
          2.035632575118046,
          0.5325886928830186,
          -0.8599991780600442,
          0.15505475981508404,
          -0.2783228994628211,
          -0.0935045987798122,
          0.257383871747999,
          0.9458026852206287,
          0.0523970154360034,
          0.028677167605447113,
          1.9243754536472717,
          -1.4517638419797148,
          -0.42240872112290845,
          -0.6830010989045584,
          0.8998411440376746,
          0.5661636957875802,
          1.8078923338402904,
          -0.1211574749952134,
          1.1628256796583745,
          -0.7747340750216297,
          -1.663603001451258,
          0.6205659519924192,
          1.1066279064691593,
          -0.4714356459473895,
          -0.6334083024936795,
          0.7840050962817294,
          0.5777402499571723,
          0.13624915721450132,
          0.12080615947972986,
          -0.7310373593845643,
          2.0878737842304975,
          -1.260657602083573,
          -0.9781991587314987,
          0.02552177479888971,
          -1.5312019439825595,
          0.3819009284644589,
          0.9627266602138024,
          -0.36528374506782496,
          -0.01330698839724629,
          -1.057342126647745,
          0.026874897028896363,
          1.4579519802072136,
          0.3436411938175002,
          -0.15839574242186497,
          0.9993958159176821,
          -0.8926368337194085,
          -0.427317895602847,
          0.6220513939400963,
          0.4957072394399795,
          -0.19188201177565387,
          -0.7045958601968229,
          -0.18917637706476753,
          -0.577505244222488,
          -0.6040999190689166,
          0.16031718046731083,
          -0.7914776160554775,
          1.025058265396455,
          1.5523763416710603,
          1.729160350179526,
          0.28383053480712556
         ],
         "yaxis": "y2"
        },
        {
         "line": {
          "color": "rgba(128, 128, 128, 1.0)",
          "dash": "solid",
          "shape": "linear",
          "width": 1.3
         },
         "marker": {
          "size": 2,
          "symbol": "circle"
         },
         "mode": "markers",
         "name": "A",
         "text": "",
         "type": "scatter",
         "x": [
          -0.47714094631062437,
          -1.3345994918462734,
          -0.09706841022884331,
          1.1968284173047101,
          -0.6781421534686967,
          0.43159356038013935,
          0.6835822972305295,
          1.5711798443259752,
          -0.27737562899744533,
          0.5994425730797492,
          -0.15410497991092595,
          1.0107493932087777,
          0.15790142926355047,
          -0.8841180511952776,
          -1.3350209756308677,
          0.5485462338639149,
          -0.8619817842262595,
          -0.7168525530062234,
          1.1273469677020778,
          0.8730206000954404,
          -0.24702144524183348,
          0.7880028275551544,
          0.2071746893225869,
          -0.029225038016002854,
          1.865403567959548,
          0.11538188550007665,
          1.269548326304167,
          0.16509610572813474,
          0.8999860999795253,
          -0.0354781432835169,
          -0.49133860040138927,
          0.9079135076642156,
          -0.8114482812530663,
          0.8220565081765221,
          0.39946462690287393,
          -0.5547203946074728,
          -1.62037719639545,
          0.26472999659299234,
          -0.45658294841827207,
          -1.2614757474644993,
          -0.43639157115159743,
          1.2881598359634865,
          -0.23110420853353672,
          -0.4744266952361845,
          0.8272940547801969,
          -0.477104784804838,
          -0.7963256279031508,
          -0.8925126287583691,
          -1.5330790864952706,
          0.6151987020079225,
          0.4591690773644197,
          -1.5059313243649641,
          0.29372259009452656,
          1.1736766502681213,
          0.7310143871935828,
          0.22948656932661435,
          0.9737063267905761,
          0.9345629639664688,
          -0.7114277853243768,
          0.5927372448969023,
          0.285849459719758,
          0.60474917891961,
          -0.6367443989963583,
          -1.2001184162791918,
          0.6190840465127015,
          1.2339947962318631,
          -0.8187481609627966,
          -1.5506335715530588,
          0.27012562568802667,
          -0.4171533248547998,
          -0.8984022932891833,
          -1.3991492296082042,
          -0.5598386542022132,
          1.1269459966469904,
          1.8281568708288565,
          -0.406172312652385,
          -0.1640700800271707,
          -1.040967602120725,
          -1.0298408006190567,
          -1.5270696190537125,
          -0.2873013178148533,
          2.356989409619273,
          1.3783874582632833,
          -0.5733734484701256,
          -1.3093978213393007,
          -0.031035089615515692,
          -1.0539086734360197,
          1.319453591012269,
          -0.5158746252674392,
          0.4087916669098679,
          -0.6591222849766853,
          -2.197209533022403,
          0.0022492549136631694,
          0.8021121429442958,
          1.461573563904791,
          1.233482781292835,
          -0.2713433242778099,
          0.09255866193143845,
          -0.9387691637262042,
          -1.3143626501216688
         ],
         "xaxis": "x3",
         "y": [
          1.061473280205822,
          0.7788035401649821,
          -0.2843131564415733,
          0.4028606011071929,
          -1.0353566473067173,
          -1.5925881310692422,
          0.03764451610017262,
          0.09321189582306758,
          -0.4176584649435947,
          1.3425792835433714,
          1.0266554020785341,
          -0.3509763266194384,
          -1.1578507094975032,
          -0.10767980405124133,
          -0.7659349830162048,
          0.6359970746835948,
          0.781389848793117,
          -0.20999618974658754,
          -0.4724551602521327,
          -1.2611520993994236,
          0.5011595968288648,
          2.5021298775570124,
          -2.2161401806538175,
          -0.4213098675783744,
          1.406278824461392,
          1.0245563932292865,
          0.05793642079927353,
          0.5172455234185414,
          0.23237803736898088,
          -0.36851140968886364,
          -0.02331748092877489,
          1.1344686849252197,
          0.16803740412380333,
          -1.3287890912409976,
          0.7879241292820391,
          -0.005548678959254899,
          0.8329045559462215,
          -0.7430868096641571,
          -1.133100937544328,
          0.7006688816822035,
          2.035632575118046,
          0.5325886928830186,
          -0.8599991780600442,
          0.15505475981508404,
          -0.2783228994628211,
          -0.0935045987798122,
          0.257383871747999,
          0.9458026852206287,
          0.0523970154360034,
          0.028677167605447113,
          1.9243754536472717,
          -1.4517638419797148,
          -0.42240872112290845,
          -0.6830010989045584,
          0.8998411440376746,
          0.5661636957875802,
          1.8078923338402904,
          -0.1211574749952134,
          1.1628256796583745,
          -0.7747340750216297,
          -1.663603001451258,
          0.6205659519924192,
          1.1066279064691593,
          -0.4714356459473895,
          -0.6334083024936795,
          0.7840050962817294,
          0.5777402499571723,
          0.13624915721450132,
          0.12080615947972986,
          -0.7310373593845643,
          2.0878737842304975,
          -1.260657602083573,
          -0.9781991587314987,
          0.02552177479888971,
          -1.5312019439825595,
          0.3819009284644589,
          0.9627266602138024,
          -0.36528374506782496,
          -0.01330698839724629,
          -1.057342126647745,
          0.026874897028896363,
          1.4579519802072136,
          0.3436411938175002,
          -0.15839574242186497,
          0.9993958159176821,
          -0.8926368337194085,
          -0.427317895602847,
          0.6220513939400963,
          0.4957072394399795,
          -0.19188201177565387,
          -0.7045958601968229,
          -0.18917637706476753,
          -0.577505244222488,
          -0.6040999190689166,
          0.16031718046731083,
          -0.7914776160554775,
          1.025058265396455,
          1.5523763416710603,
          1.729160350179526,
          0.28383053480712556
         ],
         "yaxis": "y3"
        },
        {
         "line": {
          "color": "rgba(128, 128, 128, 1.0)",
          "dash": "solid",
          "shape": "linear",
          "width": 1.3
         },
         "marker": {
          "size": 2,
          "symbol": "circle"
         },
         "mode": "markers",
         "name": "A",
         "text": "",
         "type": "scatter",
         "x": [
          1.6314890263197093,
          -0.6965718949158347,
          0.35084318365036765,
          -1.2222638113329922,
          0.6057486684596096,
          0.1452009905992692,
          -0.6668275595094052,
          0.49909495279141736,
          -1.1829092869149782,
          0.6705087643248491,
          0.8622858501949637,
          1.225417623604347,
          1.755725704148251,
          1.1309847736467293,
          -0.5336105481216621,
          0.7107270765748982,
          2.0435749991999623,
          1.2961399551551187,
          -1.6630925483891579,
          0.4230686092321981,
          -1.1447678627644444,
          0.5153826472117116,
          -0.0002649357515297671,
          0.31907947552678717,
          1.9410031412628177,
          1.3972847873794798,
          -0.3360358659654972,
          1.1498644432680514,
          1.1186222369629626,
          -1.0632158208343334,
          -0.05930212027860439,
          1.9594955868731154,
          -1.4415945415090048,
          0.5543778984758491,
          1.6684568260885326,
          -0.9657872528147986,
          -0.275521957970055,
          -0.18596131515277367,
          0.8938964819496332,
          1.2875885101092677,
          -0.4272488078580057,
          -0.26185929298795513,
          0.47858563361446205,
          -0.28598242623725545,
          0.38454741202639714,
          -1.3527736346922408,
          1.5444272867441986,
          -0.3570274407771999,
          -0.7262802270049282,
          1.2520672171528433,
          0.5073482762541652,
          -0.010703223441998921,
          -0.7018499206350687,
          -0.010451541881170784,
          -0.24866318791685305,
          -0.8482855975753855,
          0.8344833151665356,
          1.1409383112926403,
          -1.3915829568990927,
          -0.30856369866854416,
          0.7064812547399467,
          -0.8545392957094377,
          1.0022935778450717,
          -0.9919371688360995,
          0.36963442707580324,
          -0.5629342487974898,
          0.16960105239569848,
          -0.40362658397962303,
          -1.6780961091806244,
          -0.9687692761826167,
          -0.5029640394538285,
          0.23498051849444426,
          -0.6979677180565823,
          0.9919702901846777,
          -2.3777343087528027,
          -1.227705051199071,
          -0.059914758678974736,
          1.672020587047513,
          -1.9817420768305458,
          -0.5382447203064389,
          -1.2468599687743567,
          1.0967785445323446,
          -1.294038898804085,
          -0.38134039447576606,
          0.8389213301310103,
          0.7556168393816037,
          2.0671722471818614,
          1.3722760538868541,
          -0.42438600997816767,
          1.4249998743946992,
          0.2601743447370759,
          0.020246716306334817,
          -0.7555172138596694,
          0.07425581796169935,
          -2.5711289485102866,
          -0.9898595722162504,
          -0.24067441805738782,
          -1.991382303709734,
          0.23063973668514276,
          1.278168487899292
         ],
         "xaxis": "x4",
         "y": [
          1.061473280205822,
          0.7788035401649821,
          -0.2843131564415733,
          0.4028606011071929,
          -1.0353566473067173,
          -1.5925881310692422,
          0.03764451610017262,
          0.09321189582306758,
          -0.4176584649435947,
          1.3425792835433714,
          1.0266554020785341,
          -0.3509763266194384,
          -1.1578507094975032,
          -0.10767980405124133,
          -0.7659349830162048,
          0.6359970746835948,
          0.781389848793117,
          -0.20999618974658754,
          -0.4724551602521327,
          -1.2611520993994236,
          0.5011595968288648,
          2.5021298775570124,
          -2.2161401806538175,
          -0.4213098675783744,
          1.406278824461392,
          1.0245563932292865,
          0.05793642079927353,
          0.5172455234185414,
          0.23237803736898088,
          -0.36851140968886364,
          -0.02331748092877489,
          1.1344686849252197,
          0.16803740412380333,
          -1.3287890912409976,
          0.7879241292820391,
          -0.005548678959254899,
          0.8329045559462215,
          -0.7430868096641571,
          -1.133100937544328,
          0.7006688816822035,
          2.035632575118046,
          0.5325886928830186,
          -0.8599991780600442,
          0.15505475981508404,
          -0.2783228994628211,
          -0.0935045987798122,
          0.257383871747999,
          0.9458026852206287,
          0.0523970154360034,
          0.028677167605447113,
          1.9243754536472717,
          -1.4517638419797148,
          -0.42240872112290845,
          -0.6830010989045584,
          0.8998411440376746,
          0.5661636957875802,
          1.8078923338402904,
          -0.1211574749952134,
          1.1628256796583745,
          -0.7747340750216297,
          -1.663603001451258,
          0.6205659519924192,
          1.1066279064691593,
          -0.4714356459473895,
          -0.6334083024936795,
          0.7840050962817294,
          0.5777402499571723,
          0.13624915721450132,
          0.12080615947972986,
          -0.7310373593845643,
          2.0878737842304975,
          -1.260657602083573,
          -0.9781991587314987,
          0.02552177479888971,
          -1.5312019439825595,
          0.3819009284644589,
          0.9627266602138024,
          -0.36528374506782496,
          -0.01330698839724629,
          -1.057342126647745,
          0.026874897028896363,
          1.4579519802072136,
          0.3436411938175002,
          -0.15839574242186497,
          0.9993958159176821,
          -0.8926368337194085,
          -0.427317895602847,
          0.6220513939400963,
          0.4957072394399795,
          -0.19188201177565387,
          -0.7045958601968229,
          -0.18917637706476753,
          -0.577505244222488,
          -0.6040999190689166,
          0.16031718046731083,
          -0.7914776160554775,
          1.025058265396455,
          1.5523763416710603,
          1.729160350179526,
          0.28383053480712556
         ],
         "yaxis": "y4"
        },
        {
         "line": {
          "color": "rgba(128, 128, 128, 1.0)",
          "dash": "solid",
          "shape": "linear",
          "width": 1.3
         },
         "marker": {
          "size": 2,
          "symbol": "circle"
         },
         "mode": "markers",
         "name": "B",
         "text": "",
         "type": "scatter",
         "x": [
          1.061473280205822,
          0.7788035401649821,
          -0.2843131564415733,
          0.4028606011071929,
          -1.0353566473067173,
          -1.5925881310692422,
          0.03764451610017262,
          0.09321189582306758,
          -0.4176584649435947,
          1.3425792835433714,
          1.0266554020785341,
          -0.3509763266194384,
          -1.1578507094975032,
          -0.10767980405124133,
          -0.7659349830162048,
          0.6359970746835948,
          0.781389848793117,
          -0.20999618974658754,
          -0.4724551602521327,
          -1.2611520993994236,
          0.5011595968288648,
          2.5021298775570124,
          -2.2161401806538175,
          -0.4213098675783744,
          1.406278824461392,
          1.0245563932292865,
          0.05793642079927353,
          0.5172455234185414,
          0.23237803736898088,
          -0.36851140968886364,
          -0.02331748092877489,
          1.1344686849252197,
          0.16803740412380333,
          -1.3287890912409976,
          0.7879241292820391,
          -0.005548678959254899,
          0.8329045559462215,
          -0.7430868096641571,
          -1.133100937544328,
          0.7006688816822035,
          2.035632575118046,
          0.5325886928830186,
          -0.8599991780600442,
          0.15505475981508404,
          -0.2783228994628211,
          -0.0935045987798122,
          0.257383871747999,
          0.9458026852206287,
          0.0523970154360034,
          0.028677167605447113,
          1.9243754536472717,
          -1.4517638419797148,
          -0.42240872112290845,
          -0.6830010989045584,
          0.8998411440376746,
          0.5661636957875802,
          1.8078923338402904,
          -0.1211574749952134,
          1.1628256796583745,
          -0.7747340750216297,
          -1.663603001451258,
          0.6205659519924192,
          1.1066279064691593,
          -0.4714356459473895,
          -0.6334083024936795,
          0.7840050962817294,
          0.5777402499571723,
          0.13624915721450132,
          0.12080615947972986,
          -0.7310373593845643,
          2.0878737842304975,
          -1.260657602083573,
          -0.9781991587314987,
          0.02552177479888971,
          -1.5312019439825595,
          0.3819009284644589,
          0.9627266602138024,
          -0.36528374506782496,
          -0.01330698839724629,
          -1.057342126647745,
          0.026874897028896363,
          1.4579519802072136,
          0.3436411938175002,
          -0.15839574242186497,
          0.9993958159176821,
          -0.8926368337194085,
          -0.427317895602847,
          0.6220513939400963,
          0.4957072394399795,
          -0.19188201177565387,
          -0.7045958601968229,
          -0.18917637706476753,
          -0.577505244222488,
          -0.6040999190689166,
          0.16031718046731083,
          -0.7914776160554775,
          1.025058265396455,
          1.5523763416710603,
          1.729160350179526,
          0.28383053480712556
         ],
         "xaxis": "x5",
         "y": [
          -0.1502090526950633,
          -1.4730229850054035,
          0.8343967846403096,
          0.07881786533117169,
          0.2173963689453169,
          -0.5528080492436792,
          -1.6258453109586075,
          -0.6767305514654233,
          -0.14300288693546617,
          0.4496954555587184,
          -0.01257683703554524,
          -0.28528865085325283,
          -0.6211655838808301,
          -0.2088464084433686,
          0.11963905119676699,
          -0.33498296236193226,
          -0.33505878250702303,
          1.7253129170246115,
          -1.1653926642573262,
          0.3805949514809733,
          0.09743708259195785,
          -1.0379640975634625,
          0.15098100983051105,
          0.4318977678868364,
          0.4963469437410477,
          0.028512895291313973,
          -1.0979847878044142,
          0.3971856542241418,
          -0.7638507427802923,
          0.04362940403433376,
          0.5493903482135887,
          0.43290716796591083,
          -0.44521194333356084,
          0.9661060689292932,
          0.44210330235753237,
          0.03321214661252483,
          -0.48936726967185207,
          -0.9304182896274302,
          1.6968215447462103,
          -0.278502027157531,
          0.35962316230753194,
          0.1694672554621009,
          1.3463629130177368,
          -0.4773321454887906,
          0.7558264273744825,
          0.30602848551497713,
          1.077734325636297,
          -0.06665598912475737,
          -0.40947446944564386,
          -1.046290912810996,
          0.15155824818897423,
          0.9479235219129352,
          0.5012297209712162,
          0.7202543172706395,
          1.2146155916317036,
          -0.761540003341629,
          1.4216908347738988,
          -0.8083797165101845,
          -0.9598316539739877,
          0.3250456999210159,
          0.7784293978884731,
          0.2913806361130591,
          -0.7031204864984019,
          -0.848852060370494,
          1.3077008994967214,
          2.3441676335625856,
          0.6737609401575443,
          -0.025823768466770602,
          -0.7677235483223626,
          -0.06131394849974311,
          0.039052404999263476,
          0.054768492284818365,
          -0.8498106331641933,
          0.706498180370543,
          -1.2607512917177826,
          -0.41172978961905266,
          -0.2707358279752124,
          0.23025681528889977,
          0.5539822404638315,
          -0.08288867817875158,
          -0.997771161936249,
          -0.678778928533606,
          -1.1474059797681828,
          0.13050467561654697,
          -0.20127543952445254,
          1.1734867634071395,
          -0.14447033334416912,
          -0.7768356529113692,
          2.108155468791955,
          0.2577470285525313,
          0.34417938196510817,
          -1.077596212923613,
          -0.6645104260980493,
          0.5900139902104728,
          -0.8875170695082091,
          1.6232057752672975,
          -0.4425887211319952,
          -0.11476017820101533,
          -0.33938732454496534,
          0.8827855572707493
         ],
         "yaxis": "y5"
        },
        {
         "histfunc": "count",
         "histnorm": "",
         "marker": {
          "color": "rgba(55, 128, 191, 1.0)",
          "line": {
           "color": "#4D5663",
           "width": 1.3
          }
         },
         "name": "B",
         "nbinsx": 10,
         "opacity": 0.8,
         "orientation": "v",
         "type": "histogram",
         "x": [
          -0.1502090526950633,
          -1.4730229850054035,
          0.8343967846403096,
          0.07881786533117169,
          0.2173963689453169,
          -0.5528080492436792,
          -1.6258453109586075,
          -0.6767305514654233,
          -0.14300288693546617,
          0.4496954555587184,
          -0.01257683703554524,
          -0.28528865085325283,
          -0.6211655838808301,
          -0.2088464084433686,
          0.11963905119676699,
          -0.33498296236193226,
          -0.33505878250702303,
          1.7253129170246115,
          -1.1653926642573262,
          0.3805949514809733,
          0.09743708259195785,
          -1.0379640975634625,
          0.15098100983051105,
          0.4318977678868364,
          0.4963469437410477,
          0.028512895291313973,
          -1.0979847878044142,
          0.3971856542241418,
          -0.7638507427802923,
          0.04362940403433376,
          0.5493903482135887,
          0.43290716796591083,
          -0.44521194333356084,
          0.9661060689292932,
          0.44210330235753237,
          0.03321214661252483,
          -0.48936726967185207,
          -0.9304182896274302,
          1.6968215447462103,
          -0.278502027157531,
          0.35962316230753194,
          0.1694672554621009,
          1.3463629130177368,
          -0.4773321454887906,
          0.7558264273744825,
          0.30602848551497713,
          1.077734325636297,
          -0.06665598912475737,
          -0.40947446944564386,
          -1.046290912810996,
          0.15155824818897423,
          0.9479235219129352,
          0.5012297209712162,
          0.7202543172706395,
          1.2146155916317036,
          -0.761540003341629,
          1.4216908347738988,
          -0.8083797165101845,
          -0.9598316539739877,
          0.3250456999210159,
          0.7784293978884731,
          0.2913806361130591,
          -0.7031204864984019,
          -0.848852060370494,
          1.3077008994967214,
          2.3441676335625856,
          0.6737609401575443,
          -0.025823768466770602,
          -0.7677235483223626,
          -0.06131394849974311,
          0.039052404999263476,
          0.054768492284818365,
          -0.8498106331641933,
          0.706498180370543,
          -1.2607512917177826,
          -0.41172978961905266,
          -0.2707358279752124,
          0.23025681528889977,
          0.5539822404638315,
          -0.08288867817875158,
          -0.997771161936249,
          -0.678778928533606,
          -1.1474059797681828,
          0.13050467561654697,
          -0.20127543952445254,
          1.1734867634071395,
          -0.14447033334416912,
          -0.7768356529113692,
          2.108155468791955,
          0.2577470285525313,
          0.34417938196510817,
          -1.077596212923613,
          -0.6645104260980493,
          0.5900139902104728,
          -0.8875170695082091,
          1.6232057752672975,
          -0.4425887211319952,
          -0.11476017820101533,
          -0.33938732454496534,
          0.8827855572707493
         ],
         "xaxis": "x6",
         "yaxis": "y6"
        },
        {
         "line": {
          "color": "rgba(128, 128, 128, 1.0)",
          "dash": "solid",
          "shape": "linear",
          "width": 1.3
         },
         "marker": {
          "size": 2,
          "symbol": "circle"
         },
         "mode": "markers",
         "name": "B",
         "text": "",
         "type": "scatter",
         "x": [
          -0.47714094631062437,
          -1.3345994918462734,
          -0.09706841022884331,
          1.1968284173047101,
          -0.6781421534686967,
          0.43159356038013935,
          0.6835822972305295,
          1.5711798443259752,
          -0.27737562899744533,
          0.5994425730797492,
          -0.15410497991092595,
          1.0107493932087777,
          0.15790142926355047,
          -0.8841180511952776,
          -1.3350209756308677,
          0.5485462338639149,
          -0.8619817842262595,
          -0.7168525530062234,
          1.1273469677020778,
          0.8730206000954404,
          -0.24702144524183348,
          0.7880028275551544,
          0.2071746893225869,
          -0.029225038016002854,
          1.865403567959548,
          0.11538188550007665,
          1.269548326304167,
          0.16509610572813474,
          0.8999860999795253,
          -0.0354781432835169,
          -0.49133860040138927,
          0.9079135076642156,
          -0.8114482812530663,
          0.8220565081765221,
          0.39946462690287393,
          -0.5547203946074728,
          -1.62037719639545,
          0.26472999659299234,
          -0.45658294841827207,
          -1.2614757474644993,
          -0.43639157115159743,
          1.2881598359634865,
          -0.23110420853353672,
          -0.4744266952361845,
          0.8272940547801969,
          -0.477104784804838,
          -0.7963256279031508,
          -0.8925126287583691,
          -1.5330790864952706,
          0.6151987020079225,
          0.4591690773644197,
          -1.5059313243649641,
          0.29372259009452656,
          1.1736766502681213,
          0.7310143871935828,
          0.22948656932661435,
          0.9737063267905761,
          0.9345629639664688,
          -0.7114277853243768,
          0.5927372448969023,
          0.285849459719758,
          0.60474917891961,
          -0.6367443989963583,
          -1.2001184162791918,
          0.6190840465127015,
          1.2339947962318631,
          -0.8187481609627966,
          -1.5506335715530588,
          0.27012562568802667,
          -0.4171533248547998,
          -0.8984022932891833,
          -1.3991492296082042,
          -0.5598386542022132,
          1.1269459966469904,
          1.8281568708288565,
          -0.406172312652385,
          -0.1640700800271707,
          -1.040967602120725,
          -1.0298408006190567,
          -1.5270696190537125,
          -0.2873013178148533,
          2.356989409619273,
          1.3783874582632833,
          -0.5733734484701256,
          -1.3093978213393007,
          -0.031035089615515692,
          -1.0539086734360197,
          1.319453591012269,
          -0.5158746252674392,
          0.4087916669098679,
          -0.6591222849766853,
          -2.197209533022403,
          0.0022492549136631694,
          0.8021121429442958,
          1.461573563904791,
          1.233482781292835,
          -0.2713433242778099,
          0.09255866193143845,
          -0.9387691637262042,
          -1.3143626501216688
         ],
         "xaxis": "x7",
         "y": [
          -0.1502090526950633,
          -1.4730229850054035,
          0.8343967846403096,
          0.07881786533117169,
          0.2173963689453169,
          -0.5528080492436792,
          -1.6258453109586075,
          -0.6767305514654233,
          -0.14300288693546617,
          0.4496954555587184,
          -0.01257683703554524,
          -0.28528865085325283,
          -0.6211655838808301,
          -0.2088464084433686,
          0.11963905119676699,
          -0.33498296236193226,
          -0.33505878250702303,
          1.7253129170246115,
          -1.1653926642573262,
          0.3805949514809733,
          0.09743708259195785,
          -1.0379640975634625,
          0.15098100983051105,
          0.4318977678868364,
          0.4963469437410477,
          0.028512895291313973,
          -1.0979847878044142,
          0.3971856542241418,
          -0.7638507427802923,
          0.04362940403433376,
          0.5493903482135887,
          0.43290716796591083,
          -0.44521194333356084,
          0.9661060689292932,
          0.44210330235753237,
          0.03321214661252483,
          -0.48936726967185207,
          -0.9304182896274302,
          1.6968215447462103,
          -0.278502027157531,
          0.35962316230753194,
          0.1694672554621009,
          1.3463629130177368,
          -0.4773321454887906,
          0.7558264273744825,
          0.30602848551497713,
          1.077734325636297,
          -0.06665598912475737,
          -0.40947446944564386,
          -1.046290912810996,
          0.15155824818897423,
          0.9479235219129352,
          0.5012297209712162,
          0.7202543172706395,
          1.2146155916317036,
          -0.761540003341629,
          1.4216908347738988,
          -0.8083797165101845,
          -0.9598316539739877,
          0.3250456999210159,
          0.7784293978884731,
          0.2913806361130591,
          -0.7031204864984019,
          -0.848852060370494,
          1.3077008994967214,
          2.3441676335625856,
          0.6737609401575443,
          -0.025823768466770602,
          -0.7677235483223626,
          -0.06131394849974311,
          0.039052404999263476,
          0.054768492284818365,
          -0.8498106331641933,
          0.706498180370543,
          -1.2607512917177826,
          -0.41172978961905266,
          -0.2707358279752124,
          0.23025681528889977,
          0.5539822404638315,
          -0.08288867817875158,
          -0.997771161936249,
          -0.678778928533606,
          -1.1474059797681828,
          0.13050467561654697,
          -0.20127543952445254,
          1.1734867634071395,
          -0.14447033334416912,
          -0.7768356529113692,
          2.108155468791955,
          0.2577470285525313,
          0.34417938196510817,
          -1.077596212923613,
          -0.6645104260980493,
          0.5900139902104728,
          -0.8875170695082091,
          1.6232057752672975,
          -0.4425887211319952,
          -0.11476017820101533,
          -0.33938732454496534,
          0.8827855572707493
         ],
         "yaxis": "y7"
        },
        {
         "line": {
          "color": "rgba(128, 128, 128, 1.0)",
          "dash": "solid",
          "shape": "linear",
          "width": 1.3
         },
         "marker": {
          "size": 2,
          "symbol": "circle"
         },
         "mode": "markers",
         "name": "B",
         "text": "",
         "type": "scatter",
         "x": [
          1.6314890263197093,
          -0.6965718949158347,
          0.35084318365036765,
          -1.2222638113329922,
          0.6057486684596096,
          0.1452009905992692,
          -0.6668275595094052,
          0.49909495279141736,
          -1.1829092869149782,
          0.6705087643248491,
          0.8622858501949637,
          1.225417623604347,
          1.755725704148251,
          1.1309847736467293,
          -0.5336105481216621,
          0.7107270765748982,
          2.0435749991999623,
          1.2961399551551187,
          -1.6630925483891579,
          0.4230686092321981,
          -1.1447678627644444,
          0.5153826472117116,
          -0.0002649357515297671,
          0.31907947552678717,
          1.9410031412628177,
          1.3972847873794798,
          -0.3360358659654972,
          1.1498644432680514,
          1.1186222369629626,
          -1.0632158208343334,
          -0.05930212027860439,
          1.9594955868731154,
          -1.4415945415090048,
          0.5543778984758491,
          1.6684568260885326,
          -0.9657872528147986,
          -0.275521957970055,
          -0.18596131515277367,
          0.8938964819496332,
          1.2875885101092677,
          -0.4272488078580057,
          -0.26185929298795513,
          0.47858563361446205,
          -0.28598242623725545,
          0.38454741202639714,
          -1.3527736346922408,
          1.5444272867441986,
          -0.3570274407771999,
          -0.7262802270049282,
          1.2520672171528433,
          0.5073482762541652,
          -0.010703223441998921,
          -0.7018499206350687,
          -0.010451541881170784,
          -0.24866318791685305,
          -0.8482855975753855,
          0.8344833151665356,
          1.1409383112926403,
          -1.3915829568990927,
          -0.30856369866854416,
          0.7064812547399467,
          -0.8545392957094377,
          1.0022935778450717,
          -0.9919371688360995,
          0.36963442707580324,
          -0.5629342487974898,
          0.16960105239569848,
          -0.40362658397962303,
          -1.6780961091806244,
          -0.9687692761826167,
          -0.5029640394538285,
          0.23498051849444426,
          -0.6979677180565823,
          0.9919702901846777,
          -2.3777343087528027,
          -1.227705051199071,
          -0.059914758678974736,
          1.672020587047513,
          -1.9817420768305458,
          -0.5382447203064389,
          -1.2468599687743567,
          1.0967785445323446,
          -1.294038898804085,
          -0.38134039447576606,
          0.8389213301310103,
          0.7556168393816037,
          2.0671722471818614,
          1.3722760538868541,
          -0.42438600997816767,
          1.4249998743946992,
          0.2601743447370759,
          0.020246716306334817,
          -0.7555172138596694,
          0.07425581796169935,
          -2.5711289485102866,
          -0.9898595722162504,
          -0.24067441805738782,
          -1.991382303709734,
          0.23063973668514276,
          1.278168487899292
         ],
         "xaxis": "x8",
         "y": [
          -0.1502090526950633,
          -1.4730229850054035,
          0.8343967846403096,
          0.07881786533117169,
          0.2173963689453169,
          -0.5528080492436792,
          -1.6258453109586075,
          -0.6767305514654233,
          -0.14300288693546617,
          0.4496954555587184,
          -0.01257683703554524,
          -0.28528865085325283,
          -0.6211655838808301,
          -0.2088464084433686,
          0.11963905119676699,
          -0.33498296236193226,
          -0.33505878250702303,
          1.7253129170246115,
          -1.1653926642573262,
          0.3805949514809733,
          0.09743708259195785,
          -1.0379640975634625,
          0.15098100983051105,
          0.4318977678868364,
          0.4963469437410477,
          0.028512895291313973,
          -1.0979847878044142,
          0.3971856542241418,
          -0.7638507427802923,
          0.04362940403433376,
          0.5493903482135887,
          0.43290716796591083,
          -0.44521194333356084,
          0.9661060689292932,
          0.44210330235753237,
          0.03321214661252483,
          -0.48936726967185207,
          -0.9304182896274302,
          1.6968215447462103,
          -0.278502027157531,
          0.35962316230753194,
          0.1694672554621009,
          1.3463629130177368,
          -0.4773321454887906,
          0.7558264273744825,
          0.30602848551497713,
          1.077734325636297,
          -0.06665598912475737,
          -0.40947446944564386,
          -1.046290912810996,
          0.15155824818897423,
          0.9479235219129352,
          0.5012297209712162,
          0.7202543172706395,
          1.2146155916317036,
          -0.761540003341629,
          1.4216908347738988,
          -0.8083797165101845,
          -0.9598316539739877,
          0.3250456999210159,
          0.7784293978884731,
          0.2913806361130591,
          -0.7031204864984019,
          -0.848852060370494,
          1.3077008994967214,
          2.3441676335625856,
          0.6737609401575443,
          -0.025823768466770602,
          -0.7677235483223626,
          -0.06131394849974311,
          0.039052404999263476,
          0.054768492284818365,
          -0.8498106331641933,
          0.706498180370543,
          -1.2607512917177826,
          -0.41172978961905266,
          -0.2707358279752124,
          0.23025681528889977,
          0.5539822404638315,
          -0.08288867817875158,
          -0.997771161936249,
          -0.678778928533606,
          -1.1474059797681828,
          0.13050467561654697,
          -0.20127543952445254,
          1.1734867634071395,
          -0.14447033334416912,
          -0.7768356529113692,
          2.108155468791955,
          0.2577470285525313,
          0.34417938196510817,
          -1.077596212923613,
          -0.6645104260980493,
          0.5900139902104728,
          -0.8875170695082091,
          1.6232057752672975,
          -0.4425887211319952,
          -0.11476017820101533,
          -0.33938732454496534,
          0.8827855572707493
         ],
         "yaxis": "y8"
        },
        {
         "line": {
          "color": "rgba(128, 128, 128, 1.0)",
          "dash": "solid",
          "shape": "linear",
          "width": 1.3
         },
         "marker": {
          "size": 2,
          "symbol": "circle"
         },
         "mode": "markers",
         "name": "C",
         "text": "",
         "type": "scatter",
         "x": [
          1.061473280205822,
          0.7788035401649821,
          -0.2843131564415733,
          0.4028606011071929,
          -1.0353566473067173,
          -1.5925881310692422,
          0.03764451610017262,
          0.09321189582306758,
          -0.4176584649435947,
          1.3425792835433714,
          1.0266554020785341,
          -0.3509763266194384,
          -1.1578507094975032,
          -0.10767980405124133,
          -0.7659349830162048,
          0.6359970746835948,
          0.781389848793117,
          -0.20999618974658754,
          -0.4724551602521327,
          -1.2611520993994236,
          0.5011595968288648,
          2.5021298775570124,
          -2.2161401806538175,
          -0.4213098675783744,
          1.406278824461392,
          1.0245563932292865,
          0.05793642079927353,
          0.5172455234185414,
          0.23237803736898088,
          -0.36851140968886364,
          -0.02331748092877489,
          1.1344686849252197,
          0.16803740412380333,
          -1.3287890912409976,
          0.7879241292820391,
          -0.005548678959254899,
          0.8329045559462215,
          -0.7430868096641571,
          -1.133100937544328,
          0.7006688816822035,
          2.035632575118046,
          0.5325886928830186,
          -0.8599991780600442,
          0.15505475981508404,
          -0.2783228994628211,
          -0.0935045987798122,
          0.257383871747999,
          0.9458026852206287,
          0.0523970154360034,
          0.028677167605447113,
          1.9243754536472717,
          -1.4517638419797148,
          -0.42240872112290845,
          -0.6830010989045584,
          0.8998411440376746,
          0.5661636957875802,
          1.8078923338402904,
          -0.1211574749952134,
          1.1628256796583745,
          -0.7747340750216297,
          -1.663603001451258,
          0.6205659519924192,
          1.1066279064691593,
          -0.4714356459473895,
          -0.6334083024936795,
          0.7840050962817294,
          0.5777402499571723,
          0.13624915721450132,
          0.12080615947972986,
          -0.7310373593845643,
          2.0878737842304975,
          -1.260657602083573,
          -0.9781991587314987,
          0.02552177479888971,
          -1.5312019439825595,
          0.3819009284644589,
          0.9627266602138024,
          -0.36528374506782496,
          -0.01330698839724629,
          -1.057342126647745,
          0.026874897028896363,
          1.4579519802072136,
          0.3436411938175002,
          -0.15839574242186497,
          0.9993958159176821,
          -0.8926368337194085,
          -0.427317895602847,
          0.6220513939400963,
          0.4957072394399795,
          -0.19188201177565387,
          -0.7045958601968229,
          -0.18917637706476753,
          -0.577505244222488,
          -0.6040999190689166,
          0.16031718046731083,
          -0.7914776160554775,
          1.025058265396455,
          1.5523763416710603,
          1.729160350179526,
          0.28383053480712556
         ],
         "xaxis": "x9",
         "y": [
          -0.47714094631062437,
          -1.3345994918462734,
          -0.09706841022884331,
          1.1968284173047101,
          -0.6781421534686967,
          0.43159356038013935,
          0.6835822972305295,
          1.5711798443259752,
          -0.27737562899744533,
          0.5994425730797492,
          -0.15410497991092595,
          1.0107493932087777,
          0.15790142926355047,
          -0.8841180511952776,
          -1.3350209756308677,
          0.5485462338639149,
          -0.8619817842262595,
          -0.7168525530062234,
          1.1273469677020778,
          0.8730206000954404,
          -0.24702144524183348,
          0.7880028275551544,
          0.2071746893225869,
          -0.029225038016002854,
          1.865403567959548,
          0.11538188550007665,
          1.269548326304167,
          0.16509610572813474,
          0.8999860999795253,
          -0.0354781432835169,
          -0.49133860040138927,
          0.9079135076642156,
          -0.8114482812530663,
          0.8220565081765221,
          0.39946462690287393,
          -0.5547203946074728,
          -1.62037719639545,
          0.26472999659299234,
          -0.45658294841827207,
          -1.2614757474644993,
          -0.43639157115159743,
          1.2881598359634865,
          -0.23110420853353672,
          -0.4744266952361845,
          0.8272940547801969,
          -0.477104784804838,
          -0.7963256279031508,
          -0.8925126287583691,
          -1.5330790864952706,
          0.6151987020079225,
          0.4591690773644197,
          -1.5059313243649641,
          0.29372259009452656,
          1.1736766502681213,
          0.7310143871935828,
          0.22948656932661435,
          0.9737063267905761,
          0.9345629639664688,
          -0.7114277853243768,
          0.5927372448969023,
          0.285849459719758,
          0.60474917891961,
          -0.6367443989963583,
          -1.2001184162791918,
          0.6190840465127015,
          1.2339947962318631,
          -0.8187481609627966,
          -1.5506335715530588,
          0.27012562568802667,
          -0.4171533248547998,
          -0.8984022932891833,
          -1.3991492296082042,
          -0.5598386542022132,
          1.1269459966469904,
          1.8281568708288565,
          -0.406172312652385,
          -0.1640700800271707,
          -1.040967602120725,
          -1.0298408006190567,
          -1.5270696190537125,
          -0.2873013178148533,
          2.356989409619273,
          1.3783874582632833,
          -0.5733734484701256,
          -1.3093978213393007,
          -0.031035089615515692,
          -1.0539086734360197,
          1.319453591012269,
          -0.5158746252674392,
          0.4087916669098679,
          -0.6591222849766853,
          -2.197209533022403,
          0.0022492549136631694,
          0.8021121429442958,
          1.461573563904791,
          1.233482781292835,
          -0.2713433242778099,
          0.09255866193143845,
          -0.9387691637262042,
          -1.3143626501216688
         ],
         "yaxis": "y9"
        },
        {
         "line": {
          "color": "rgba(128, 128, 128, 1.0)",
          "dash": "solid",
          "shape": "linear",
          "width": 1.3
         },
         "marker": {
          "size": 2,
          "symbol": "circle"
         },
         "mode": "markers",
         "name": "C",
         "text": "",
         "type": "scatter",
         "x": [
          -0.1502090526950633,
          -1.4730229850054035,
          0.8343967846403096,
          0.07881786533117169,
          0.2173963689453169,
          -0.5528080492436792,
          -1.6258453109586075,
          -0.6767305514654233,
          -0.14300288693546617,
          0.4496954555587184,
          -0.01257683703554524,
          -0.28528865085325283,
          -0.6211655838808301,
          -0.2088464084433686,
          0.11963905119676699,
          -0.33498296236193226,
          -0.33505878250702303,
          1.7253129170246115,
          -1.1653926642573262,
          0.3805949514809733,
          0.09743708259195785,
          -1.0379640975634625,
          0.15098100983051105,
          0.4318977678868364,
          0.4963469437410477,
          0.028512895291313973,
          -1.0979847878044142,
          0.3971856542241418,
          -0.7638507427802923,
          0.04362940403433376,
          0.5493903482135887,
          0.43290716796591083,
          -0.44521194333356084,
          0.9661060689292932,
          0.44210330235753237,
          0.03321214661252483,
          -0.48936726967185207,
          -0.9304182896274302,
          1.6968215447462103,
          -0.278502027157531,
          0.35962316230753194,
          0.1694672554621009,
          1.3463629130177368,
          -0.4773321454887906,
          0.7558264273744825,
          0.30602848551497713,
          1.077734325636297,
          -0.06665598912475737,
          -0.40947446944564386,
          -1.046290912810996,
          0.15155824818897423,
          0.9479235219129352,
          0.5012297209712162,
          0.7202543172706395,
          1.2146155916317036,
          -0.761540003341629,
          1.4216908347738988,
          -0.8083797165101845,
          -0.9598316539739877,
          0.3250456999210159,
          0.7784293978884731,
          0.2913806361130591,
          -0.7031204864984019,
          -0.848852060370494,
          1.3077008994967214,
          2.3441676335625856,
          0.6737609401575443,
          -0.025823768466770602,
          -0.7677235483223626,
          -0.06131394849974311,
          0.039052404999263476,
          0.054768492284818365,
          -0.8498106331641933,
          0.706498180370543,
          -1.2607512917177826,
          -0.41172978961905266,
          -0.2707358279752124,
          0.23025681528889977,
          0.5539822404638315,
          -0.08288867817875158,
          -0.997771161936249,
          -0.678778928533606,
          -1.1474059797681828,
          0.13050467561654697,
          -0.20127543952445254,
          1.1734867634071395,
          -0.14447033334416912,
          -0.7768356529113692,
          2.108155468791955,
          0.2577470285525313,
          0.34417938196510817,
          -1.077596212923613,
          -0.6645104260980493,
          0.5900139902104728,
          -0.8875170695082091,
          1.6232057752672975,
          -0.4425887211319952,
          -0.11476017820101533,
          -0.33938732454496534,
          0.8827855572707493
         ],
         "xaxis": "x10",
         "y": [
          -0.47714094631062437,
          -1.3345994918462734,
          -0.09706841022884331,
          1.1968284173047101,
          -0.6781421534686967,
          0.43159356038013935,
          0.6835822972305295,
          1.5711798443259752,
          -0.27737562899744533,
          0.5994425730797492,
          -0.15410497991092595,
          1.0107493932087777,
          0.15790142926355047,
          -0.8841180511952776,
          -1.3350209756308677,
          0.5485462338639149,
          -0.8619817842262595,
          -0.7168525530062234,
          1.1273469677020778,
          0.8730206000954404,
          -0.24702144524183348,
          0.7880028275551544,
          0.2071746893225869,
          -0.029225038016002854,
          1.865403567959548,
          0.11538188550007665,
          1.269548326304167,
          0.16509610572813474,
          0.8999860999795253,
          -0.0354781432835169,
          -0.49133860040138927,
          0.9079135076642156,
          -0.8114482812530663,
          0.8220565081765221,
          0.39946462690287393,
          -0.5547203946074728,
          -1.62037719639545,
          0.26472999659299234,
          -0.45658294841827207,
          -1.2614757474644993,
          -0.43639157115159743,
          1.2881598359634865,
          -0.23110420853353672,
          -0.4744266952361845,
          0.8272940547801969,
          -0.477104784804838,
          -0.7963256279031508,
          -0.8925126287583691,
          -1.5330790864952706,
          0.6151987020079225,
          0.4591690773644197,
          -1.5059313243649641,
          0.29372259009452656,
          1.1736766502681213,
          0.7310143871935828,
          0.22948656932661435,
          0.9737063267905761,
          0.9345629639664688,
          -0.7114277853243768,
          0.5927372448969023,
          0.285849459719758,
          0.60474917891961,
          -0.6367443989963583,
          -1.2001184162791918,
          0.6190840465127015,
          1.2339947962318631,
          -0.8187481609627966,
          -1.5506335715530588,
          0.27012562568802667,
          -0.4171533248547998,
          -0.8984022932891833,
          -1.3991492296082042,
          -0.5598386542022132,
          1.1269459966469904,
          1.8281568708288565,
          -0.406172312652385,
          -0.1640700800271707,
          -1.040967602120725,
          -1.0298408006190567,
          -1.5270696190537125,
          -0.2873013178148533,
          2.356989409619273,
          1.3783874582632833,
          -0.5733734484701256,
          -1.3093978213393007,
          -0.031035089615515692,
          -1.0539086734360197,
          1.319453591012269,
          -0.5158746252674392,
          0.4087916669098679,
          -0.6591222849766853,
          -2.197209533022403,
          0.0022492549136631694,
          0.8021121429442958,
          1.461573563904791,
          1.233482781292835,
          -0.2713433242778099,
          0.09255866193143845,
          -0.9387691637262042,
          -1.3143626501216688
         ],
         "yaxis": "y10"
        },
        {
         "histfunc": "count",
         "histnorm": "",
         "marker": {
          "color": "rgba(50, 171, 96, 1.0)",
          "line": {
           "color": "#4D5663",
           "width": 1.3
          }
         },
         "name": "C",
         "nbinsx": 10,
         "opacity": 0.8,
         "orientation": "v",
         "type": "histogram",
         "x": [
          -0.47714094631062437,
          -1.3345994918462734,
          -0.09706841022884331,
          1.1968284173047101,
          -0.6781421534686967,
          0.43159356038013935,
          0.6835822972305295,
          1.5711798443259752,
          -0.27737562899744533,
          0.5994425730797492,
          -0.15410497991092595,
          1.0107493932087777,
          0.15790142926355047,
          -0.8841180511952776,
          -1.3350209756308677,
          0.5485462338639149,
          -0.8619817842262595,
          -0.7168525530062234,
          1.1273469677020778,
          0.8730206000954404,
          -0.24702144524183348,
          0.7880028275551544,
          0.2071746893225869,
          -0.029225038016002854,
          1.865403567959548,
          0.11538188550007665,
          1.269548326304167,
          0.16509610572813474,
          0.8999860999795253,
          -0.0354781432835169,
          -0.49133860040138927,
          0.9079135076642156,
          -0.8114482812530663,
          0.8220565081765221,
          0.39946462690287393,
          -0.5547203946074728,
          -1.62037719639545,
          0.26472999659299234,
          -0.45658294841827207,
          -1.2614757474644993,
          -0.43639157115159743,
          1.2881598359634865,
          -0.23110420853353672,
          -0.4744266952361845,
          0.8272940547801969,
          -0.477104784804838,
          -0.7963256279031508,
          -0.8925126287583691,
          -1.5330790864952706,
          0.6151987020079225,
          0.4591690773644197,
          -1.5059313243649641,
          0.29372259009452656,
          1.1736766502681213,
          0.7310143871935828,
          0.22948656932661435,
          0.9737063267905761,
          0.9345629639664688,
          -0.7114277853243768,
          0.5927372448969023,
          0.285849459719758,
          0.60474917891961,
          -0.6367443989963583,
          -1.2001184162791918,
          0.6190840465127015,
          1.2339947962318631,
          -0.8187481609627966,
          -1.5506335715530588,
          0.27012562568802667,
          -0.4171533248547998,
          -0.8984022932891833,
          -1.3991492296082042,
          -0.5598386542022132,
          1.1269459966469904,
          1.8281568708288565,
          -0.406172312652385,
          -0.1640700800271707,
          -1.040967602120725,
          -1.0298408006190567,
          -1.5270696190537125,
          -0.2873013178148533,
          2.356989409619273,
          1.3783874582632833,
          -0.5733734484701256,
          -1.3093978213393007,
          -0.031035089615515692,
          -1.0539086734360197,
          1.319453591012269,
          -0.5158746252674392,
          0.4087916669098679,
          -0.6591222849766853,
          -2.197209533022403,
          0.0022492549136631694,
          0.8021121429442958,
          1.461573563904791,
          1.233482781292835,
          -0.2713433242778099,
          0.09255866193143845,
          -0.9387691637262042,
          -1.3143626501216688
         ],
         "xaxis": "x11",
         "yaxis": "y11"
        },
        {
         "line": {
          "color": "rgba(128, 128, 128, 1.0)",
          "dash": "solid",
          "shape": "linear",
          "width": 1.3
         },
         "marker": {
          "size": 2,
          "symbol": "circle"
         },
         "mode": "markers",
         "name": "C",
         "text": "",
         "type": "scatter",
         "x": [
          1.6314890263197093,
          -0.6965718949158347,
          0.35084318365036765,
          -1.2222638113329922,
          0.6057486684596096,
          0.1452009905992692,
          -0.6668275595094052,
          0.49909495279141736,
          -1.1829092869149782,
          0.6705087643248491,
          0.8622858501949637,
          1.225417623604347,
          1.755725704148251,
          1.1309847736467293,
          -0.5336105481216621,
          0.7107270765748982,
          2.0435749991999623,
          1.2961399551551187,
          -1.6630925483891579,
          0.4230686092321981,
          -1.1447678627644444,
          0.5153826472117116,
          -0.0002649357515297671,
          0.31907947552678717,
          1.9410031412628177,
          1.3972847873794798,
          -0.3360358659654972,
          1.1498644432680514,
          1.1186222369629626,
          -1.0632158208343334,
          -0.05930212027860439,
          1.9594955868731154,
          -1.4415945415090048,
          0.5543778984758491,
          1.6684568260885326,
          -0.9657872528147986,
          -0.275521957970055,
          -0.18596131515277367,
          0.8938964819496332,
          1.2875885101092677,
          -0.4272488078580057,
          -0.26185929298795513,
          0.47858563361446205,
          -0.28598242623725545,
          0.38454741202639714,
          -1.3527736346922408,
          1.5444272867441986,
          -0.3570274407771999,
          -0.7262802270049282,
          1.2520672171528433,
          0.5073482762541652,
          -0.010703223441998921,
          -0.7018499206350687,
          -0.010451541881170784,
          -0.24866318791685305,
          -0.8482855975753855,
          0.8344833151665356,
          1.1409383112926403,
          -1.3915829568990927,
          -0.30856369866854416,
          0.7064812547399467,
          -0.8545392957094377,
          1.0022935778450717,
          -0.9919371688360995,
          0.36963442707580324,
          -0.5629342487974898,
          0.16960105239569848,
          -0.40362658397962303,
          -1.6780961091806244,
          -0.9687692761826167,
          -0.5029640394538285,
          0.23498051849444426,
          -0.6979677180565823,
          0.9919702901846777,
          -2.3777343087528027,
          -1.227705051199071,
          -0.059914758678974736,
          1.672020587047513,
          -1.9817420768305458,
          -0.5382447203064389,
          -1.2468599687743567,
          1.0967785445323446,
          -1.294038898804085,
          -0.38134039447576606,
          0.8389213301310103,
          0.7556168393816037,
          2.0671722471818614,
          1.3722760538868541,
          -0.42438600997816767,
          1.4249998743946992,
          0.2601743447370759,
          0.020246716306334817,
          -0.7555172138596694,
          0.07425581796169935,
          -2.5711289485102866,
          -0.9898595722162504,
          -0.24067441805738782,
          -1.991382303709734,
          0.23063973668514276,
          1.278168487899292
         ],
         "xaxis": "x12",
         "y": [
          -0.47714094631062437,
          -1.3345994918462734,
          -0.09706841022884331,
          1.1968284173047101,
          -0.6781421534686967,
          0.43159356038013935,
          0.6835822972305295,
          1.5711798443259752,
          -0.27737562899744533,
          0.5994425730797492,
          -0.15410497991092595,
          1.0107493932087777,
          0.15790142926355047,
          -0.8841180511952776,
          -1.3350209756308677,
          0.5485462338639149,
          -0.8619817842262595,
          -0.7168525530062234,
          1.1273469677020778,
          0.8730206000954404,
          -0.24702144524183348,
          0.7880028275551544,
          0.2071746893225869,
          -0.029225038016002854,
          1.865403567959548,
          0.11538188550007665,
          1.269548326304167,
          0.16509610572813474,
          0.8999860999795253,
          -0.0354781432835169,
          -0.49133860040138927,
          0.9079135076642156,
          -0.8114482812530663,
          0.8220565081765221,
          0.39946462690287393,
          -0.5547203946074728,
          -1.62037719639545,
          0.26472999659299234,
          -0.45658294841827207,
          -1.2614757474644993,
          -0.43639157115159743,
          1.2881598359634865,
          -0.23110420853353672,
          -0.4744266952361845,
          0.8272940547801969,
          -0.477104784804838,
          -0.7963256279031508,
          -0.8925126287583691,
          -1.5330790864952706,
          0.6151987020079225,
          0.4591690773644197,
          -1.5059313243649641,
          0.29372259009452656,
          1.1736766502681213,
          0.7310143871935828,
          0.22948656932661435,
          0.9737063267905761,
          0.9345629639664688,
          -0.7114277853243768,
          0.5927372448969023,
          0.285849459719758,
          0.60474917891961,
          -0.6367443989963583,
          -1.2001184162791918,
          0.6190840465127015,
          1.2339947962318631,
          -0.8187481609627966,
          -1.5506335715530588,
          0.27012562568802667,
          -0.4171533248547998,
          -0.8984022932891833,
          -1.3991492296082042,
          -0.5598386542022132,
          1.1269459966469904,
          1.8281568708288565,
          -0.406172312652385,
          -0.1640700800271707,
          -1.040967602120725,
          -1.0298408006190567,
          -1.5270696190537125,
          -0.2873013178148533,
          2.356989409619273,
          1.3783874582632833,
          -0.5733734484701256,
          -1.3093978213393007,
          -0.031035089615515692,
          -1.0539086734360197,
          1.319453591012269,
          -0.5158746252674392,
          0.4087916669098679,
          -0.6591222849766853,
          -2.197209533022403,
          0.0022492549136631694,
          0.8021121429442958,
          1.461573563904791,
          1.233482781292835,
          -0.2713433242778099,
          0.09255866193143845,
          -0.9387691637262042,
          -1.3143626501216688
         ],
         "yaxis": "y12"
        },
        {
         "line": {
          "color": "rgba(128, 128, 128, 1.0)",
          "dash": "solid",
          "shape": "linear",
          "width": 1.3
         },
         "marker": {
          "size": 2,
          "symbol": "circle"
         },
         "mode": "markers",
         "name": "D",
         "text": "",
         "type": "scatter",
         "x": [
          1.061473280205822,
          0.7788035401649821,
          -0.2843131564415733,
          0.4028606011071929,
          -1.0353566473067173,
          -1.5925881310692422,
          0.03764451610017262,
          0.09321189582306758,
          -0.4176584649435947,
          1.3425792835433714,
          1.0266554020785341,
          -0.3509763266194384,
          -1.1578507094975032,
          -0.10767980405124133,
          -0.7659349830162048,
          0.6359970746835948,
          0.781389848793117,
          -0.20999618974658754,
          -0.4724551602521327,
          -1.2611520993994236,
          0.5011595968288648,
          2.5021298775570124,
          -2.2161401806538175,
          -0.4213098675783744,
          1.406278824461392,
          1.0245563932292865,
          0.05793642079927353,
          0.5172455234185414,
          0.23237803736898088,
          -0.36851140968886364,
          -0.02331748092877489,
          1.1344686849252197,
          0.16803740412380333,
          -1.3287890912409976,
          0.7879241292820391,
          -0.005548678959254899,
          0.8329045559462215,
          -0.7430868096641571,
          -1.133100937544328,
          0.7006688816822035,
          2.035632575118046,
          0.5325886928830186,
          -0.8599991780600442,
          0.15505475981508404,
          -0.2783228994628211,
          -0.0935045987798122,
          0.257383871747999,
          0.9458026852206287,
          0.0523970154360034,
          0.028677167605447113,
          1.9243754536472717,
          -1.4517638419797148,
          -0.42240872112290845,
          -0.6830010989045584,
          0.8998411440376746,
          0.5661636957875802,
          1.8078923338402904,
          -0.1211574749952134,
          1.1628256796583745,
          -0.7747340750216297,
          -1.663603001451258,
          0.6205659519924192,
          1.1066279064691593,
          -0.4714356459473895,
          -0.6334083024936795,
          0.7840050962817294,
          0.5777402499571723,
          0.13624915721450132,
          0.12080615947972986,
          -0.7310373593845643,
          2.0878737842304975,
          -1.260657602083573,
          -0.9781991587314987,
          0.02552177479888971,
          -1.5312019439825595,
          0.3819009284644589,
          0.9627266602138024,
          -0.36528374506782496,
          -0.01330698839724629,
          -1.057342126647745,
          0.026874897028896363,
          1.4579519802072136,
          0.3436411938175002,
          -0.15839574242186497,
          0.9993958159176821,
          -0.8926368337194085,
          -0.427317895602847,
          0.6220513939400963,
          0.4957072394399795,
          -0.19188201177565387,
          -0.7045958601968229,
          -0.18917637706476753,
          -0.577505244222488,
          -0.6040999190689166,
          0.16031718046731083,
          -0.7914776160554775,
          1.025058265396455,
          1.5523763416710603,
          1.729160350179526,
          0.28383053480712556
         ],
         "xaxis": "x13",
         "y": [
          1.6314890263197093,
          -0.6965718949158347,
          0.35084318365036765,
          -1.2222638113329922,
          0.6057486684596096,
          0.1452009905992692,
          -0.6668275595094052,
          0.49909495279141736,
          -1.1829092869149782,
          0.6705087643248491,
          0.8622858501949637,
          1.225417623604347,
          1.755725704148251,
          1.1309847736467293,
          -0.5336105481216621,
          0.7107270765748982,
          2.0435749991999623,
          1.2961399551551187,
          -1.6630925483891579,
          0.4230686092321981,
          -1.1447678627644444,
          0.5153826472117116,
          -0.0002649357515297671,
          0.31907947552678717,
          1.9410031412628177,
          1.3972847873794798,
          -0.3360358659654972,
          1.1498644432680514,
          1.1186222369629626,
          -1.0632158208343334,
          -0.05930212027860439,
          1.9594955868731154,
          -1.4415945415090048,
          0.5543778984758491,
          1.6684568260885326,
          -0.9657872528147986,
          -0.275521957970055,
          -0.18596131515277367,
          0.8938964819496332,
          1.2875885101092677,
          -0.4272488078580057,
          -0.26185929298795513,
          0.47858563361446205,
          -0.28598242623725545,
          0.38454741202639714,
          -1.3527736346922408,
          1.5444272867441986,
          -0.3570274407771999,
          -0.7262802270049282,
          1.2520672171528433,
          0.5073482762541652,
          -0.010703223441998921,
          -0.7018499206350687,
          -0.010451541881170784,
          -0.24866318791685305,
          -0.8482855975753855,
          0.8344833151665356,
          1.1409383112926403,
          -1.3915829568990927,
          -0.30856369866854416,
          0.7064812547399467,
          -0.8545392957094377,
          1.0022935778450717,
          -0.9919371688360995,
          0.36963442707580324,
          -0.5629342487974898,
          0.16960105239569848,
          -0.40362658397962303,
          -1.6780961091806244,
          -0.9687692761826167,
          -0.5029640394538285,
          0.23498051849444426,
          -0.6979677180565823,
          0.9919702901846777,
          -2.3777343087528027,
          -1.227705051199071,
          -0.059914758678974736,
          1.672020587047513,
          -1.9817420768305458,
          -0.5382447203064389,
          -1.2468599687743567,
          1.0967785445323446,
          -1.294038898804085,
          -0.38134039447576606,
          0.8389213301310103,
          0.7556168393816037,
          2.0671722471818614,
          1.3722760538868541,
          -0.42438600997816767,
          1.4249998743946992,
          0.2601743447370759,
          0.020246716306334817,
          -0.7555172138596694,
          0.07425581796169935,
          -2.5711289485102866,
          -0.9898595722162504,
          -0.24067441805738782,
          -1.991382303709734,
          0.23063973668514276,
          1.278168487899292
         ],
         "yaxis": "y13"
        },
        {
         "line": {
          "color": "rgba(128, 128, 128, 1.0)",
          "dash": "solid",
          "shape": "linear",
          "width": 1.3
         },
         "marker": {
          "size": 2,
          "symbol": "circle"
         },
         "mode": "markers",
         "name": "D",
         "text": "",
         "type": "scatter",
         "x": [
          -0.1502090526950633,
          -1.4730229850054035,
          0.8343967846403096,
          0.07881786533117169,
          0.2173963689453169,
          -0.5528080492436792,
          -1.6258453109586075,
          -0.6767305514654233,
          -0.14300288693546617,
          0.4496954555587184,
          -0.01257683703554524,
          -0.28528865085325283,
          -0.6211655838808301,
          -0.2088464084433686,
          0.11963905119676699,
          -0.33498296236193226,
          -0.33505878250702303,
          1.7253129170246115,
          -1.1653926642573262,
          0.3805949514809733,
          0.09743708259195785,
          -1.0379640975634625,
          0.15098100983051105,
          0.4318977678868364,
          0.4963469437410477,
          0.028512895291313973,
          -1.0979847878044142,
          0.3971856542241418,
          -0.7638507427802923,
          0.04362940403433376,
          0.5493903482135887,
          0.43290716796591083,
          -0.44521194333356084,
          0.9661060689292932,
          0.44210330235753237,
          0.03321214661252483,
          -0.48936726967185207,
          -0.9304182896274302,
          1.6968215447462103,
          -0.278502027157531,
          0.35962316230753194,
          0.1694672554621009,
          1.3463629130177368,
          -0.4773321454887906,
          0.7558264273744825,
          0.30602848551497713,
          1.077734325636297,
          -0.06665598912475737,
          -0.40947446944564386,
          -1.046290912810996,
          0.15155824818897423,
          0.9479235219129352,
          0.5012297209712162,
          0.7202543172706395,
          1.2146155916317036,
          -0.761540003341629,
          1.4216908347738988,
          -0.8083797165101845,
          -0.9598316539739877,
          0.3250456999210159,
          0.7784293978884731,
          0.2913806361130591,
          -0.7031204864984019,
          -0.848852060370494,
          1.3077008994967214,
          2.3441676335625856,
          0.6737609401575443,
          -0.025823768466770602,
          -0.7677235483223626,
          -0.06131394849974311,
          0.039052404999263476,
          0.054768492284818365,
          -0.8498106331641933,
          0.706498180370543,
          -1.2607512917177826,
          -0.41172978961905266,
          -0.2707358279752124,
          0.23025681528889977,
          0.5539822404638315,
          -0.08288867817875158,
          -0.997771161936249,
          -0.678778928533606,
          -1.1474059797681828,
          0.13050467561654697,
          -0.20127543952445254,
          1.1734867634071395,
          -0.14447033334416912,
          -0.7768356529113692,
          2.108155468791955,
          0.2577470285525313,
          0.34417938196510817,
          -1.077596212923613,
          -0.6645104260980493,
          0.5900139902104728,
          -0.8875170695082091,
          1.6232057752672975,
          -0.4425887211319952,
          -0.11476017820101533,
          -0.33938732454496534,
          0.8827855572707493
         ],
         "xaxis": "x14",
         "y": [
          1.6314890263197093,
          -0.6965718949158347,
          0.35084318365036765,
          -1.2222638113329922,
          0.6057486684596096,
          0.1452009905992692,
          -0.6668275595094052,
          0.49909495279141736,
          -1.1829092869149782,
          0.6705087643248491,
          0.8622858501949637,
          1.225417623604347,
          1.755725704148251,
          1.1309847736467293,
          -0.5336105481216621,
          0.7107270765748982,
          2.0435749991999623,
          1.2961399551551187,
          -1.6630925483891579,
          0.4230686092321981,
          -1.1447678627644444,
          0.5153826472117116,
          -0.0002649357515297671,
          0.31907947552678717,
          1.9410031412628177,
          1.3972847873794798,
          -0.3360358659654972,
          1.1498644432680514,
          1.1186222369629626,
          -1.0632158208343334,
          -0.05930212027860439,
          1.9594955868731154,
          -1.4415945415090048,
          0.5543778984758491,
          1.6684568260885326,
          -0.9657872528147986,
          -0.275521957970055,
          -0.18596131515277367,
          0.8938964819496332,
          1.2875885101092677,
          -0.4272488078580057,
          -0.26185929298795513,
          0.47858563361446205,
          -0.28598242623725545,
          0.38454741202639714,
          -1.3527736346922408,
          1.5444272867441986,
          -0.3570274407771999,
          -0.7262802270049282,
          1.2520672171528433,
          0.5073482762541652,
          -0.010703223441998921,
          -0.7018499206350687,
          -0.010451541881170784,
          -0.24866318791685305,
          -0.8482855975753855,
          0.8344833151665356,
          1.1409383112926403,
          -1.3915829568990927,
          -0.30856369866854416,
          0.7064812547399467,
          -0.8545392957094377,
          1.0022935778450717,
          -0.9919371688360995,
          0.36963442707580324,
          -0.5629342487974898,
          0.16960105239569848,
          -0.40362658397962303,
          -1.6780961091806244,
          -0.9687692761826167,
          -0.5029640394538285,
          0.23498051849444426,
          -0.6979677180565823,
          0.9919702901846777,
          -2.3777343087528027,
          -1.227705051199071,
          -0.059914758678974736,
          1.672020587047513,
          -1.9817420768305458,
          -0.5382447203064389,
          -1.2468599687743567,
          1.0967785445323446,
          -1.294038898804085,
          -0.38134039447576606,
          0.8389213301310103,
          0.7556168393816037,
          2.0671722471818614,
          1.3722760538868541,
          -0.42438600997816767,
          1.4249998743946992,
          0.2601743447370759,
          0.020246716306334817,
          -0.7555172138596694,
          0.07425581796169935,
          -2.5711289485102866,
          -0.9898595722162504,
          -0.24067441805738782,
          -1.991382303709734,
          0.23063973668514276,
          1.278168487899292
         ],
         "yaxis": "y14"
        },
        {
         "line": {
          "color": "rgba(128, 128, 128, 1.0)",
          "dash": "solid",
          "shape": "linear",
          "width": 1.3
         },
         "marker": {
          "size": 2,
          "symbol": "circle"
         },
         "mode": "markers",
         "name": "D",
         "text": "",
         "type": "scatter",
         "x": [
          -0.47714094631062437,
          -1.3345994918462734,
          -0.09706841022884331,
          1.1968284173047101,
          -0.6781421534686967,
          0.43159356038013935,
          0.6835822972305295,
          1.5711798443259752,
          -0.27737562899744533,
          0.5994425730797492,
          -0.15410497991092595,
          1.0107493932087777,
          0.15790142926355047,
          -0.8841180511952776,
          -1.3350209756308677,
          0.5485462338639149,
          -0.8619817842262595,
          -0.7168525530062234,
          1.1273469677020778,
          0.8730206000954404,
          -0.24702144524183348,
          0.7880028275551544,
          0.2071746893225869,
          -0.029225038016002854,
          1.865403567959548,
          0.11538188550007665,
          1.269548326304167,
          0.16509610572813474,
          0.8999860999795253,
          -0.0354781432835169,
          -0.49133860040138927,
          0.9079135076642156,
          -0.8114482812530663,
          0.8220565081765221,
          0.39946462690287393,
          -0.5547203946074728,
          -1.62037719639545,
          0.26472999659299234,
          -0.45658294841827207,
          -1.2614757474644993,
          -0.43639157115159743,
          1.2881598359634865,
          -0.23110420853353672,
          -0.4744266952361845,
          0.8272940547801969,
          -0.477104784804838,
          -0.7963256279031508,
          -0.8925126287583691,
          -1.5330790864952706,
          0.6151987020079225,
          0.4591690773644197,
          -1.5059313243649641,
          0.29372259009452656,
          1.1736766502681213,
          0.7310143871935828,
          0.22948656932661435,
          0.9737063267905761,
          0.9345629639664688,
          -0.7114277853243768,
          0.5927372448969023,
          0.285849459719758,
          0.60474917891961,
          -0.6367443989963583,
          -1.2001184162791918,
          0.6190840465127015,
          1.2339947962318631,
          -0.8187481609627966,
          -1.5506335715530588,
          0.27012562568802667,
          -0.4171533248547998,
          -0.8984022932891833,
          -1.3991492296082042,
          -0.5598386542022132,
          1.1269459966469904,
          1.8281568708288565,
          -0.406172312652385,
          -0.1640700800271707,
          -1.040967602120725,
          -1.0298408006190567,
          -1.5270696190537125,
          -0.2873013178148533,
          2.356989409619273,
          1.3783874582632833,
          -0.5733734484701256,
          -1.3093978213393007,
          -0.031035089615515692,
          -1.0539086734360197,
          1.319453591012269,
          -0.5158746252674392,
          0.4087916669098679,
          -0.6591222849766853,
          -2.197209533022403,
          0.0022492549136631694,
          0.8021121429442958,
          1.461573563904791,
          1.233482781292835,
          -0.2713433242778099,
          0.09255866193143845,
          -0.9387691637262042,
          -1.3143626501216688
         ],
         "xaxis": "x15",
         "y": [
          1.6314890263197093,
          -0.6965718949158347,
          0.35084318365036765,
          -1.2222638113329922,
          0.6057486684596096,
          0.1452009905992692,
          -0.6668275595094052,
          0.49909495279141736,
          -1.1829092869149782,
          0.6705087643248491,
          0.8622858501949637,
          1.225417623604347,
          1.755725704148251,
          1.1309847736467293,
          -0.5336105481216621,
          0.7107270765748982,
          2.0435749991999623,
          1.2961399551551187,
          -1.6630925483891579,
          0.4230686092321981,
          -1.1447678627644444,
          0.5153826472117116,
          -0.0002649357515297671,
          0.31907947552678717,
          1.9410031412628177,
          1.3972847873794798,
          -0.3360358659654972,
          1.1498644432680514,
          1.1186222369629626,
          -1.0632158208343334,
          -0.05930212027860439,
          1.9594955868731154,
          -1.4415945415090048,
          0.5543778984758491,
          1.6684568260885326,
          -0.9657872528147986,
          -0.275521957970055,
          -0.18596131515277367,
          0.8938964819496332,
          1.2875885101092677,
          -0.4272488078580057,
          -0.26185929298795513,
          0.47858563361446205,
          -0.28598242623725545,
          0.38454741202639714,
          -1.3527736346922408,
          1.5444272867441986,
          -0.3570274407771999,
          -0.7262802270049282,
          1.2520672171528433,
          0.5073482762541652,
          -0.010703223441998921,
          -0.7018499206350687,
          -0.010451541881170784,
          -0.24866318791685305,
          -0.8482855975753855,
          0.8344833151665356,
          1.1409383112926403,
          -1.3915829568990927,
          -0.30856369866854416,
          0.7064812547399467,
          -0.8545392957094377,
          1.0022935778450717,
          -0.9919371688360995,
          0.36963442707580324,
          -0.5629342487974898,
          0.16960105239569848,
          -0.40362658397962303,
          -1.6780961091806244,
          -0.9687692761826167,
          -0.5029640394538285,
          0.23498051849444426,
          -0.6979677180565823,
          0.9919702901846777,
          -2.3777343087528027,
          -1.227705051199071,
          -0.059914758678974736,
          1.672020587047513,
          -1.9817420768305458,
          -0.5382447203064389,
          -1.2468599687743567,
          1.0967785445323446,
          -1.294038898804085,
          -0.38134039447576606,
          0.8389213301310103,
          0.7556168393816037,
          2.0671722471818614,
          1.3722760538868541,
          -0.42438600997816767,
          1.4249998743946992,
          0.2601743447370759,
          0.020246716306334817,
          -0.7555172138596694,
          0.07425581796169935,
          -2.5711289485102866,
          -0.9898595722162504,
          -0.24067441805738782,
          -1.991382303709734,
          0.23063973668514276,
          1.278168487899292
         ],
         "yaxis": "y15"
        },
        {
         "histfunc": "count",
         "histnorm": "",
         "marker": {
          "color": "rgba(128, 0, 128, 1.0)",
          "line": {
           "color": "#4D5663",
           "width": 1.3
          }
         },
         "name": "D",
         "nbinsx": 10,
         "opacity": 0.8,
         "orientation": "v",
         "type": "histogram",
         "x": [
          1.6314890263197093,
          -0.6965718949158347,
          0.35084318365036765,
          -1.2222638113329922,
          0.6057486684596096,
          0.1452009905992692,
          -0.6668275595094052,
          0.49909495279141736,
          -1.1829092869149782,
          0.6705087643248491,
          0.8622858501949637,
          1.225417623604347,
          1.755725704148251,
          1.1309847736467293,
          -0.5336105481216621,
          0.7107270765748982,
          2.0435749991999623,
          1.2961399551551187,
          -1.6630925483891579,
          0.4230686092321981,
          -1.1447678627644444,
          0.5153826472117116,
          -0.0002649357515297671,
          0.31907947552678717,
          1.9410031412628177,
          1.3972847873794798,
          -0.3360358659654972,
          1.1498644432680514,
          1.1186222369629626,
          -1.0632158208343334,
          -0.05930212027860439,
          1.9594955868731154,
          -1.4415945415090048,
          0.5543778984758491,
          1.6684568260885326,
          -0.9657872528147986,
          -0.275521957970055,
          -0.18596131515277367,
          0.8938964819496332,
          1.2875885101092677,
          -0.4272488078580057,
          -0.26185929298795513,
          0.47858563361446205,
          -0.28598242623725545,
          0.38454741202639714,
          -1.3527736346922408,
          1.5444272867441986,
          -0.3570274407771999,
          -0.7262802270049282,
          1.2520672171528433,
          0.5073482762541652,
          -0.010703223441998921,
          -0.7018499206350687,
          -0.010451541881170784,
          -0.24866318791685305,
          -0.8482855975753855,
          0.8344833151665356,
          1.1409383112926403,
          -1.3915829568990927,
          -0.30856369866854416,
          0.7064812547399467,
          -0.8545392957094377,
          1.0022935778450717,
          -0.9919371688360995,
          0.36963442707580324,
          -0.5629342487974898,
          0.16960105239569848,
          -0.40362658397962303,
          -1.6780961091806244,
          -0.9687692761826167,
          -0.5029640394538285,
          0.23498051849444426,
          -0.6979677180565823,
          0.9919702901846777,
          -2.3777343087528027,
          -1.227705051199071,
          -0.059914758678974736,
          1.672020587047513,
          -1.9817420768305458,
          -0.5382447203064389,
          -1.2468599687743567,
          1.0967785445323446,
          -1.294038898804085,
          -0.38134039447576606,
          0.8389213301310103,
          0.7556168393816037,
          2.0671722471818614,
          1.3722760538868541,
          -0.42438600997816767,
          1.4249998743946992,
          0.2601743447370759,
          0.020246716306334817,
          -0.7555172138596694,
          0.07425581796169935,
          -2.5711289485102866,
          -0.9898595722162504,
          -0.24067441805738782,
          -1.991382303709734,
          0.23063973668514276,
          1.278168487899292
         ],
         "xaxis": "x16",
         "yaxis": "y16"
        }
       ],
       "layout": {
        "bargap": 0.02,
        "legend": {
         "bgcolor": "#F5F6F9",
         "font": {
          "color": "#4D5663"
         }
        },
        "paper_bgcolor": "#F5F6F9",
        "plot_bgcolor": "#F5F6F9",
        "showlegend": false,
        "template": {
         "data": {
          "bar": [
           {
            "error_x": {
             "color": "#2a3f5f"
            },
            "error_y": {
             "color": "#2a3f5f"
            },
            "marker": {
             "line": {
              "color": "#E5ECF6",
              "width": 0.5
             }
            },
            "type": "bar"
           }
          ],
          "barpolar": [
           {
            "marker": {
             "line": {
              "color": "#E5ECF6",
              "width": 0.5
             }
            },
            "type": "barpolar"
           }
          ],
          "carpet": [
           {
            "aaxis": {
             "endlinecolor": "#2a3f5f",
             "gridcolor": "white",
             "linecolor": "white",
             "minorgridcolor": "white",
             "startlinecolor": "#2a3f5f"
            },
            "baxis": {
             "endlinecolor": "#2a3f5f",
             "gridcolor": "white",
             "linecolor": "white",
             "minorgridcolor": "white",
             "startlinecolor": "#2a3f5f"
            },
            "type": "carpet"
           }
          ],
          "choropleth": [
           {
            "colorbar": {
             "outlinewidth": 0,
             "ticks": ""
            },
            "type": "choropleth"
           }
          ],
          "contour": [
           {
            "colorbar": {
             "outlinewidth": 0,
             "ticks": ""
            },
            "colorscale": [
             [
              0,
              "#0d0887"
             ],
             [
              0.1111111111111111,
              "#46039f"
             ],
             [
              0.2222222222222222,
              "#7201a8"
             ],
             [
              0.3333333333333333,
              "#9c179e"
             ],
             [
              0.4444444444444444,
              "#bd3786"
             ],
             [
              0.5555555555555556,
              "#d8576b"
             ],
             [
              0.6666666666666666,
              "#ed7953"
             ],
             [
              0.7777777777777778,
              "#fb9f3a"
             ],
             [
              0.8888888888888888,
              "#fdca26"
             ],
             [
              1,
              "#f0f921"
             ]
            ],
            "type": "contour"
           }
          ],
          "contourcarpet": [
           {
            "colorbar": {
             "outlinewidth": 0,
             "ticks": ""
            },
            "type": "contourcarpet"
           }
          ],
          "heatmap": [
           {
            "colorbar": {
             "outlinewidth": 0,
             "ticks": ""
            },
            "colorscale": [
             [
              0,
              "#0d0887"
             ],
             [
              0.1111111111111111,
              "#46039f"
             ],
             [
              0.2222222222222222,
              "#7201a8"
             ],
             [
              0.3333333333333333,
              "#9c179e"
             ],
             [
              0.4444444444444444,
              "#bd3786"
             ],
             [
              0.5555555555555556,
              "#d8576b"
             ],
             [
              0.6666666666666666,
              "#ed7953"
             ],
             [
              0.7777777777777778,
              "#fb9f3a"
             ],
             [
              0.8888888888888888,
              "#fdca26"
             ],
             [
              1,
              "#f0f921"
             ]
            ],
            "type": "heatmap"
           }
          ],
          "heatmapgl": [
           {
            "colorbar": {
             "outlinewidth": 0,
             "ticks": ""
            },
            "colorscale": [
             [
              0,
              "#0d0887"
             ],
             [
              0.1111111111111111,
              "#46039f"
             ],
             [
              0.2222222222222222,
              "#7201a8"
             ],
             [
              0.3333333333333333,
              "#9c179e"
             ],
             [
              0.4444444444444444,
              "#bd3786"
             ],
             [
              0.5555555555555556,
              "#d8576b"
             ],
             [
              0.6666666666666666,
              "#ed7953"
             ],
             [
              0.7777777777777778,
              "#fb9f3a"
             ],
             [
              0.8888888888888888,
              "#fdca26"
             ],
             [
              1,
              "#f0f921"
             ]
            ],
            "type": "heatmapgl"
           }
          ],
          "histogram": [
           {
            "marker": {
             "colorbar": {
              "outlinewidth": 0,
              "ticks": ""
             }
            },
            "type": "histogram"
           }
          ],
          "histogram2d": [
           {
            "colorbar": {
             "outlinewidth": 0,
             "ticks": ""
            },
            "colorscale": [
             [
              0,
              "#0d0887"
             ],
             [
              0.1111111111111111,
              "#46039f"
             ],
             [
              0.2222222222222222,
              "#7201a8"
             ],
             [
              0.3333333333333333,
              "#9c179e"
             ],
             [
              0.4444444444444444,
              "#bd3786"
             ],
             [
              0.5555555555555556,
              "#d8576b"
             ],
             [
              0.6666666666666666,
              "#ed7953"
             ],
             [
              0.7777777777777778,
              "#fb9f3a"
             ],
             [
              0.8888888888888888,
              "#fdca26"
             ],
             [
              1,
              "#f0f921"
             ]
            ],
            "type": "histogram2d"
           }
          ],
          "histogram2dcontour": [
           {
            "colorbar": {
             "outlinewidth": 0,
             "ticks": ""
            },
            "colorscale": [
             [
              0,
              "#0d0887"
             ],
             [
              0.1111111111111111,
              "#46039f"
             ],
             [
              0.2222222222222222,
              "#7201a8"
             ],
             [
              0.3333333333333333,
              "#9c179e"
             ],
             [
              0.4444444444444444,
              "#bd3786"
             ],
             [
              0.5555555555555556,
              "#d8576b"
             ],
             [
              0.6666666666666666,
              "#ed7953"
             ],
             [
              0.7777777777777778,
              "#fb9f3a"
             ],
             [
              0.8888888888888888,
              "#fdca26"
             ],
             [
              1,
              "#f0f921"
             ]
            ],
            "type": "histogram2dcontour"
           }
          ],
          "mesh3d": [
           {
            "colorbar": {
             "outlinewidth": 0,
             "ticks": ""
            },
            "type": "mesh3d"
           }
          ],
          "parcoords": [
           {
            "line": {
             "colorbar": {
              "outlinewidth": 0,
              "ticks": ""
             }
            },
            "type": "parcoords"
           }
          ],
          "pie": [
           {
            "automargin": true,
            "type": "pie"
           }
          ],
          "scatter": [
           {
            "marker": {
             "colorbar": {
              "outlinewidth": 0,
              "ticks": ""
             }
            },
            "type": "scatter"
           }
          ],
          "scatter3d": [
           {
            "line": {
             "colorbar": {
              "outlinewidth": 0,
              "ticks": ""
             }
            },
            "marker": {
             "colorbar": {
              "outlinewidth": 0,
              "ticks": ""
             }
            },
            "type": "scatter3d"
           }
          ],
          "scattercarpet": [
           {
            "marker": {
             "colorbar": {
              "outlinewidth": 0,
              "ticks": ""
             }
            },
            "type": "scattercarpet"
           }
          ],
          "scattergeo": [
           {
            "marker": {
             "colorbar": {
              "outlinewidth": 0,
              "ticks": ""
             }
            },
            "type": "scattergeo"
           }
          ],
          "scattergl": [
           {
            "marker": {
             "colorbar": {
              "outlinewidth": 0,
              "ticks": ""
             }
            },
            "type": "scattergl"
           }
          ],
          "scattermapbox": [
           {
            "marker": {
             "colorbar": {
              "outlinewidth": 0,
              "ticks": ""
             }
            },
            "type": "scattermapbox"
           }
          ],
          "scatterpolar": [
           {
            "marker": {
             "colorbar": {
              "outlinewidth": 0,
              "ticks": ""
             }
            },
            "type": "scatterpolar"
           }
          ],
          "scatterpolargl": [
           {
            "marker": {
             "colorbar": {
              "outlinewidth": 0,
              "ticks": ""
             }
            },
            "type": "scatterpolargl"
           }
          ],
          "scatterternary": [
           {
            "marker": {
             "colorbar": {
              "outlinewidth": 0,
              "ticks": ""
             }
            },
            "type": "scatterternary"
           }
          ],
          "surface": [
           {
            "colorbar": {
             "outlinewidth": 0,
             "ticks": ""
            },
            "colorscale": [
             [
              0,
              "#0d0887"
             ],
             [
              0.1111111111111111,
              "#46039f"
             ],
             [
              0.2222222222222222,
              "#7201a8"
             ],
             [
              0.3333333333333333,
              "#9c179e"
             ],
             [
              0.4444444444444444,
              "#bd3786"
             ],
             [
              0.5555555555555556,
              "#d8576b"
             ],
             [
              0.6666666666666666,
              "#ed7953"
             ],
             [
              0.7777777777777778,
              "#fb9f3a"
             ],
             [
              0.8888888888888888,
              "#fdca26"
             ],
             [
              1,
              "#f0f921"
             ]
            ],
            "type": "surface"
           }
          ],
          "table": [
           {
            "cells": {
             "fill": {
              "color": "#EBF0F8"
             },
             "line": {
              "color": "white"
             }
            },
            "header": {
             "fill": {
              "color": "#C8D4E3"
             },
             "line": {
              "color": "white"
             }
            },
            "type": "table"
           }
          ]
         },
         "layout": {
          "annotationdefaults": {
           "arrowcolor": "#2a3f5f",
           "arrowhead": 0,
           "arrowwidth": 1
          },
          "autotypenumbers": "strict",
          "coloraxis": {
           "colorbar": {
            "outlinewidth": 0,
            "ticks": ""
           }
          },
          "colorscale": {
           "diverging": [
            [
             0,
             "#8e0152"
            ],
            [
             0.1,
             "#c51b7d"
            ],
            [
             0.2,
             "#de77ae"
            ],
            [
             0.3,
             "#f1b6da"
            ],
            [
             0.4,
             "#fde0ef"
            ],
            [
             0.5,
             "#f7f7f7"
            ],
            [
             0.6,
             "#e6f5d0"
            ],
            [
             0.7,
             "#b8e186"
            ],
            [
             0.8,
             "#7fbc41"
            ],
            [
             0.9,
             "#4d9221"
            ],
            [
             1,
             "#276419"
            ]
           ],
           "sequential": [
            [
             0,
             "#0d0887"
            ],
            [
             0.1111111111111111,
             "#46039f"
            ],
            [
             0.2222222222222222,
             "#7201a8"
            ],
            [
             0.3333333333333333,
             "#9c179e"
            ],
            [
             0.4444444444444444,
             "#bd3786"
            ],
            [
             0.5555555555555556,
             "#d8576b"
            ],
            [
             0.6666666666666666,
             "#ed7953"
            ],
            [
             0.7777777777777778,
             "#fb9f3a"
            ],
            [
             0.8888888888888888,
             "#fdca26"
            ],
            [
             1,
             "#f0f921"
            ]
           ],
           "sequentialminus": [
            [
             0,
             "#0d0887"
            ],
            [
             0.1111111111111111,
             "#46039f"
            ],
            [
             0.2222222222222222,
             "#7201a8"
            ],
            [
             0.3333333333333333,
             "#9c179e"
            ],
            [
             0.4444444444444444,
             "#bd3786"
            ],
            [
             0.5555555555555556,
             "#d8576b"
            ],
            [
             0.6666666666666666,
             "#ed7953"
            ],
            [
             0.7777777777777778,
             "#fb9f3a"
            ],
            [
             0.8888888888888888,
             "#fdca26"
            ],
            [
             1,
             "#f0f921"
            ]
           ]
          },
          "colorway": [
           "#636efa",
           "#EF553B",
           "#00cc96",
           "#ab63fa",
           "#FFA15A",
           "#19d3f3",
           "#FF6692",
           "#B6E880",
           "#FF97FF",
           "#FECB52"
          ],
          "font": {
           "color": "#2a3f5f"
          },
          "geo": {
           "bgcolor": "white",
           "lakecolor": "white",
           "landcolor": "#E5ECF6",
           "showlakes": true,
           "showland": true,
           "subunitcolor": "white"
          },
          "hoverlabel": {
           "align": "left"
          },
          "hovermode": "closest",
          "mapbox": {
           "style": "light"
          },
          "paper_bgcolor": "white",
          "plot_bgcolor": "#E5ECF6",
          "polar": {
           "angularaxis": {
            "gridcolor": "white",
            "linecolor": "white",
            "ticks": ""
           },
           "bgcolor": "#E5ECF6",
           "radialaxis": {
            "gridcolor": "white",
            "linecolor": "white",
            "ticks": ""
           }
          },
          "scene": {
           "xaxis": {
            "backgroundcolor": "#E5ECF6",
            "gridcolor": "white",
            "gridwidth": 2,
            "linecolor": "white",
            "showbackground": true,
            "ticks": "",
            "zerolinecolor": "white"
           },
           "yaxis": {
            "backgroundcolor": "#E5ECF6",
            "gridcolor": "white",
            "gridwidth": 2,
            "linecolor": "white",
            "showbackground": true,
            "ticks": "",
            "zerolinecolor": "white"
           },
           "zaxis": {
            "backgroundcolor": "#E5ECF6",
            "gridcolor": "white",
            "gridwidth": 2,
            "linecolor": "white",
            "showbackground": true,
            "ticks": "",
            "zerolinecolor": "white"
           }
          },
          "shapedefaults": {
           "line": {
            "color": "#2a3f5f"
           }
          },
          "ternary": {
           "aaxis": {
            "gridcolor": "white",
            "linecolor": "white",
            "ticks": ""
           },
           "baxis": {
            "gridcolor": "white",
            "linecolor": "white",
            "ticks": ""
           },
           "bgcolor": "#E5ECF6",
           "caxis": {
            "gridcolor": "white",
            "linecolor": "white",
            "ticks": ""
           }
          },
          "title": {
           "x": 0.05
          },
          "xaxis": {
           "automargin": true,
           "gridcolor": "white",
           "linecolor": "white",
           "ticks": "",
           "title": {
            "standoff": 15
           },
           "zerolinecolor": "white",
           "zerolinewidth": 2
          },
          "yaxis": {
           "automargin": true,
           "gridcolor": "white",
           "linecolor": "white",
           "ticks": "",
           "title": {
            "standoff": 15
           },
           "zerolinecolor": "white",
           "zerolinewidth": 2
          }
         }
        },
        "title": {
         "font": {
          "color": "#4D5663"
         }
        },
        "xaxis": {
         "anchor": "y",
         "domain": [
          0,
          0.2125
         ],
         "gridcolor": "#E1E5ED",
         "showgrid": false,
         "tickfont": {
          "color": "#4D5663"
         },
         "title": {
          "font": {
           "color": "#4D5663"
          },
          "text": ""
         },
         "zerolinecolor": "#E1E5ED"
        },
        "xaxis10": {
         "anchor": "y10",
         "domain": [
          0.2625,
          0.475
         ],
         "gridcolor": "#E1E5ED",
         "showgrid": false,
         "tickfont": {
          "color": "#4D5663"
         },
         "title": {
          "font": {
           "color": "#4D5663"
          },
          "text": ""
         },
         "zerolinecolor": "#E1E5ED"
        },
        "xaxis11": {
         "anchor": "y11",
         "domain": [
          0.525,
          0.7375
         ],
         "gridcolor": "#E1E5ED",
         "showgrid": false,
         "tickfont": {
          "color": "#4D5663"
         },
         "title": {
          "font": {
           "color": "#4D5663"
          },
          "text": ""
         },
         "zerolinecolor": "#E1E5ED"
        },
        "xaxis12": {
         "anchor": "y12",
         "domain": [
          0.7875,
          1
         ],
         "gridcolor": "#E1E5ED",
         "showgrid": false,
         "tickfont": {
          "color": "#4D5663"
         },
         "title": {
          "font": {
           "color": "#4D5663"
          },
          "text": ""
         },
         "zerolinecolor": "#E1E5ED"
        },
        "xaxis13": {
         "anchor": "y13",
         "domain": [
          0,
          0.2125
         ],
         "gridcolor": "#E1E5ED",
         "showgrid": false,
         "tickfont": {
          "color": "#4D5663"
         },
         "title": {
          "font": {
           "color": "#4D5663"
          },
          "text": ""
         },
         "zerolinecolor": "#E1E5ED"
        },
        "xaxis14": {
         "anchor": "y14",
         "domain": [
          0.2625,
          0.475
         ],
         "gridcolor": "#E1E5ED",
         "showgrid": false,
         "tickfont": {
          "color": "#4D5663"
         },
         "title": {
          "font": {
           "color": "#4D5663"
          },
          "text": ""
         },
         "zerolinecolor": "#E1E5ED"
        },
        "xaxis15": {
         "anchor": "y15",
         "domain": [
          0.525,
          0.7375
         ],
         "gridcolor": "#E1E5ED",
         "showgrid": false,
         "tickfont": {
          "color": "#4D5663"
         },
         "title": {
          "font": {
           "color": "#4D5663"
          },
          "text": ""
         },
         "zerolinecolor": "#E1E5ED"
        },
        "xaxis16": {
         "anchor": "y16",
         "domain": [
          0.7875,
          1
         ],
         "gridcolor": "#E1E5ED",
         "showgrid": false,
         "tickfont": {
          "color": "#4D5663"
         },
         "title": {
          "font": {
           "color": "#4D5663"
          },
          "text": ""
         },
         "zerolinecolor": "#E1E5ED"
        },
        "xaxis2": {
         "anchor": "y2",
         "domain": [
          0.2625,
          0.475
         ],
         "gridcolor": "#E1E5ED",
         "showgrid": false,
         "tickfont": {
          "color": "#4D5663"
         },
         "title": {
          "font": {
           "color": "#4D5663"
          },
          "text": ""
         },
         "zerolinecolor": "#E1E5ED"
        },
        "xaxis3": {
         "anchor": "y3",
         "domain": [
          0.525,
          0.7375
         ],
         "gridcolor": "#E1E5ED",
         "showgrid": false,
         "tickfont": {
          "color": "#4D5663"
         },
         "title": {
          "font": {
           "color": "#4D5663"
          },
          "text": ""
         },
         "zerolinecolor": "#E1E5ED"
        },
        "xaxis4": {
         "anchor": "y4",
         "domain": [
          0.7875,
          1
         ],
         "gridcolor": "#E1E5ED",
         "showgrid": false,
         "tickfont": {
          "color": "#4D5663"
         },
         "title": {
          "font": {
           "color": "#4D5663"
          },
          "text": ""
         },
         "zerolinecolor": "#E1E5ED"
        },
        "xaxis5": {
         "anchor": "y5",
         "domain": [
          0,
          0.2125
         ],
         "gridcolor": "#E1E5ED",
         "showgrid": false,
         "tickfont": {
          "color": "#4D5663"
         },
         "title": {
          "font": {
           "color": "#4D5663"
          },
          "text": ""
         },
         "zerolinecolor": "#E1E5ED"
        },
        "xaxis6": {
         "anchor": "y6",
         "domain": [
          0.2625,
          0.475
         ],
         "gridcolor": "#E1E5ED",
         "showgrid": false,
         "tickfont": {
          "color": "#4D5663"
         },
         "title": {
          "font": {
           "color": "#4D5663"
          },
          "text": ""
         },
         "zerolinecolor": "#E1E5ED"
        },
        "xaxis7": {
         "anchor": "y7",
         "domain": [
          0.525,
          0.7375
         ],
         "gridcolor": "#E1E5ED",
         "showgrid": false,
         "tickfont": {
          "color": "#4D5663"
         },
         "title": {
          "font": {
           "color": "#4D5663"
          },
          "text": ""
         },
         "zerolinecolor": "#E1E5ED"
        },
        "xaxis8": {
         "anchor": "y8",
         "domain": [
          0.7875,
          1
         ],
         "gridcolor": "#E1E5ED",
         "showgrid": false,
         "tickfont": {
          "color": "#4D5663"
         },
         "title": {
          "font": {
           "color": "#4D5663"
          },
          "text": ""
         },
         "zerolinecolor": "#E1E5ED"
        },
        "xaxis9": {
         "anchor": "y9",
         "domain": [
          0,
          0.2125
         ],
         "gridcolor": "#E1E5ED",
         "showgrid": false,
         "tickfont": {
          "color": "#4D5663"
         },
         "title": {
          "font": {
           "color": "#4D5663"
          },
          "text": ""
         },
         "zerolinecolor": "#E1E5ED"
        },
        "yaxis": {
         "anchor": "x",
         "domain": [
          0.8025,
          1
         ],
         "gridcolor": "#E1E5ED",
         "showgrid": false,
         "tickfont": {
          "color": "#4D5663"
         },
         "title": {
          "font": {
           "color": "#4D5663"
          },
          "text": ""
         },
         "zerolinecolor": "#E1E5ED"
        },
        "yaxis10": {
         "anchor": "x10",
         "domain": [
          0.2675,
          0.465
         ],
         "gridcolor": "#E1E5ED",
         "showgrid": false,
         "tickfont": {
          "color": "#4D5663"
         },
         "title": {
          "font": {
           "color": "#4D5663"
          },
          "text": ""
         },
         "zerolinecolor": "#E1E5ED"
        },
        "yaxis11": {
         "anchor": "x11",
         "domain": [
          0.2675,
          0.465
         ],
         "gridcolor": "#E1E5ED",
         "showgrid": false,
         "tickfont": {
          "color": "#4D5663"
         },
         "title": {
          "font": {
           "color": "#4D5663"
          },
          "text": ""
         },
         "zerolinecolor": "#E1E5ED"
        },
        "yaxis12": {
         "anchor": "x12",
         "domain": [
          0.2675,
          0.465
         ],
         "gridcolor": "#E1E5ED",
         "showgrid": false,
         "tickfont": {
          "color": "#4D5663"
         },
         "title": {
          "font": {
           "color": "#4D5663"
          },
          "text": ""
         },
         "zerolinecolor": "#E1E5ED"
        },
        "yaxis13": {
         "anchor": "x13",
         "domain": [
          0,
          0.1975
         ],
         "gridcolor": "#E1E5ED",
         "showgrid": false,
         "tickfont": {
          "color": "#4D5663"
         },
         "title": {
          "font": {
           "color": "#4D5663"
          },
          "text": ""
         },
         "zerolinecolor": "#E1E5ED"
        },
        "yaxis14": {
         "anchor": "x14",
         "domain": [
          0,
          0.1975
         ],
         "gridcolor": "#E1E5ED",
         "showgrid": false,
         "tickfont": {
          "color": "#4D5663"
         },
         "title": {
          "font": {
           "color": "#4D5663"
          },
          "text": ""
         },
         "zerolinecolor": "#E1E5ED"
        },
        "yaxis15": {
         "anchor": "x15",
         "domain": [
          0,
          0.1975
         ],
         "gridcolor": "#E1E5ED",
         "showgrid": false,
         "tickfont": {
          "color": "#4D5663"
         },
         "title": {
          "font": {
           "color": "#4D5663"
          },
          "text": ""
         },
         "zerolinecolor": "#E1E5ED"
        },
        "yaxis16": {
         "anchor": "x16",
         "domain": [
          0,
          0.1975
         ],
         "gridcolor": "#E1E5ED",
         "showgrid": false,
         "tickfont": {
          "color": "#4D5663"
         },
         "title": {
          "font": {
           "color": "#4D5663"
          },
          "text": ""
         },
         "zerolinecolor": "#E1E5ED"
        },
        "yaxis2": {
         "anchor": "x2",
         "domain": [
          0.8025,
          1
         ],
         "gridcolor": "#E1E5ED",
         "showgrid": false,
         "tickfont": {
          "color": "#4D5663"
         },
         "title": {
          "font": {
           "color": "#4D5663"
          },
          "text": ""
         },
         "zerolinecolor": "#E1E5ED"
        },
        "yaxis3": {
         "anchor": "x3",
         "domain": [
          0.8025,
          1
         ],
         "gridcolor": "#E1E5ED",
         "showgrid": false,
         "tickfont": {
          "color": "#4D5663"
         },
         "title": {
          "font": {
           "color": "#4D5663"
          },
          "text": ""
         },
         "zerolinecolor": "#E1E5ED"
        },
        "yaxis4": {
         "anchor": "x4",
         "domain": [
          0.8025,
          1
         ],
         "gridcolor": "#E1E5ED",
         "showgrid": false,
         "tickfont": {
          "color": "#4D5663"
         },
         "title": {
          "font": {
           "color": "#4D5663"
          },
          "text": ""
         },
         "zerolinecolor": "#E1E5ED"
        },
        "yaxis5": {
         "anchor": "x5",
         "domain": [
          0.535,
          0.7325
         ],
         "gridcolor": "#E1E5ED",
         "showgrid": false,
         "tickfont": {
          "color": "#4D5663"
         },
         "title": {
          "font": {
           "color": "#4D5663"
          },
          "text": ""
         },
         "zerolinecolor": "#E1E5ED"
        },
        "yaxis6": {
         "anchor": "x6",
         "domain": [
          0.535,
          0.7325
         ],
         "gridcolor": "#E1E5ED",
         "showgrid": false,
         "tickfont": {
          "color": "#4D5663"
         },
         "title": {
          "font": {
           "color": "#4D5663"
          },
          "text": ""
         },
         "zerolinecolor": "#E1E5ED"
        },
        "yaxis7": {
         "anchor": "x7",
         "domain": [
          0.535,
          0.7325
         ],
         "gridcolor": "#E1E5ED",
         "showgrid": false,
         "tickfont": {
          "color": "#4D5663"
         },
         "title": {
          "font": {
           "color": "#4D5663"
          },
          "text": ""
         },
         "zerolinecolor": "#E1E5ED"
        },
        "yaxis8": {
         "anchor": "x8",
         "domain": [
          0.535,
          0.7325
         ],
         "gridcolor": "#E1E5ED",
         "showgrid": false,
         "tickfont": {
          "color": "#4D5663"
         },
         "title": {
          "font": {
           "color": "#4D5663"
          },
          "text": ""
         },
         "zerolinecolor": "#E1E5ED"
        },
        "yaxis9": {
         "anchor": "x9",
         "domain": [
          0.2675,
          0.465
         ],
         "gridcolor": "#E1E5ED",
         "showgrid": false,
         "tickfont": {
          "color": "#4D5663"
         },
         "title": {
          "font": {
           "color": "#4D5663"
          },
          "text": ""
         },
         "zerolinecolor": "#E1E5ED"
        }
       }
      },
      "text/html": [
       "<div>                            <div id=\"a26a32fc-9900-4357-8265-7c06193a8596\" class=\"plotly-graph-div\" style=\"height:525px; width:100%;\"></div>            <script type=\"text/javascript\">                require([\"plotly\"], function(Plotly) {                    window.PLOTLYENV=window.PLOTLYENV || {};\n",
       "                    window.PLOTLYENV.BASE_URL='https://plot.ly';                                    if (document.getElementById(\"a26a32fc-9900-4357-8265-7c06193a8596\")) {                    Plotly.newPlot(                        \"a26a32fc-9900-4357-8265-7c06193a8596\",                        [{\"histfunc\": \"count\", \"histnorm\": \"\", \"marker\": {\"color\": \"rgba(255, 153, 51, 1.0)\", \"line\": {\"color\": \"#4D5663\", \"width\": 1.3}}, \"name\": \"A\", \"nbinsx\": 10, \"opacity\": 0.8, \"orientation\": \"v\", \"type\": \"histogram\", \"x\": [1.061473280205822, 0.7788035401649821, -0.2843131564415733, 0.4028606011071929, -1.0353566473067173, -1.5925881310692422, 0.03764451610017262, 0.09321189582306758, -0.4176584649435947, 1.3425792835433714, 1.0266554020785341, -0.3509763266194384, -1.1578507094975032, -0.10767980405124133, -0.7659349830162048, 0.6359970746835948, 0.781389848793117, -0.20999618974658754, -0.4724551602521327, -1.2611520993994236, 0.5011595968288648, 2.5021298775570124, -2.2161401806538175, -0.4213098675783744, 1.406278824461392, 1.0245563932292865, 0.05793642079927353, 0.5172455234185414, 0.23237803736898088, -0.36851140968886364, -0.02331748092877489, 1.1344686849252197, 0.16803740412380333, -1.3287890912409976, 0.7879241292820391, -0.005548678959254899, 0.8329045559462215, -0.7430868096641571, -1.133100937544328, 0.7006688816822035, 2.035632575118046, 0.5325886928830186, -0.8599991780600442, 0.15505475981508404, -0.2783228994628211, -0.0935045987798122, 0.257383871747999, 0.9458026852206287, 0.0523970154360034, 0.028677167605447113, 1.9243754536472717, -1.4517638419797148, -0.42240872112290845, -0.6830010989045584, 0.8998411440376746, 0.5661636957875802, 1.8078923338402904, -0.1211574749952134, 1.1628256796583745, -0.7747340750216297, -1.663603001451258, 0.6205659519924192, 1.1066279064691593, -0.4714356459473895, -0.6334083024936795, 0.7840050962817294, 0.5777402499571723, 0.13624915721450132, 0.12080615947972986, -0.7310373593845643, 2.0878737842304975, -1.260657602083573, -0.9781991587314987, 0.02552177479888971, -1.5312019439825595, 0.3819009284644589, 0.9627266602138024, -0.36528374506782496, -0.01330698839724629, -1.057342126647745, 0.026874897028896363, 1.4579519802072136, 0.3436411938175002, -0.15839574242186497, 0.9993958159176821, -0.8926368337194085, -0.427317895602847, 0.6220513939400963, 0.4957072394399795, -0.19188201177565387, -0.7045958601968229, -0.18917637706476753, -0.577505244222488, -0.6040999190689166, 0.16031718046731083, -0.7914776160554775, 1.025058265396455, 1.5523763416710603, 1.729160350179526, 0.28383053480712556], \"xaxis\": \"x\", \"yaxis\": \"y\"}, {\"line\": {\"color\": \"rgba(128, 128, 128, 1.0)\", \"dash\": \"solid\", \"shape\": \"linear\", \"width\": 1.3}, \"marker\": {\"size\": 2, \"symbol\": \"circle\"}, \"mode\": \"markers\", \"name\": \"A\", \"text\": \"\", \"type\": \"scatter\", \"x\": [-0.1502090526950633, -1.4730229850054035, 0.8343967846403096, 0.07881786533117169, 0.2173963689453169, -0.5528080492436792, -1.6258453109586075, -0.6767305514654233, -0.14300288693546617, 0.4496954555587184, -0.01257683703554524, -0.28528865085325283, -0.6211655838808301, -0.2088464084433686, 0.11963905119676699, -0.33498296236193226, -0.33505878250702303, 1.7253129170246115, -1.1653926642573262, 0.3805949514809733, 0.09743708259195785, -1.0379640975634625, 0.15098100983051105, 0.4318977678868364, 0.4963469437410477, 0.028512895291313973, -1.0979847878044142, 0.3971856542241418, -0.7638507427802923, 0.04362940403433376, 0.5493903482135887, 0.43290716796591083, -0.44521194333356084, 0.9661060689292932, 0.44210330235753237, 0.03321214661252483, -0.48936726967185207, -0.9304182896274302, 1.6968215447462103, -0.278502027157531, 0.35962316230753194, 0.1694672554621009, 1.3463629130177368, -0.4773321454887906, 0.7558264273744825, 0.30602848551497713, 1.077734325636297, -0.06665598912475737, -0.40947446944564386, -1.046290912810996, 0.15155824818897423, 0.9479235219129352, 0.5012297209712162, 0.7202543172706395, 1.2146155916317036, -0.761540003341629, 1.4216908347738988, -0.8083797165101845, -0.9598316539739877, 0.3250456999210159, 0.7784293978884731, 0.2913806361130591, -0.7031204864984019, -0.848852060370494, 1.3077008994967214, 2.3441676335625856, 0.6737609401575443, -0.025823768466770602, -0.7677235483223626, -0.06131394849974311, 0.039052404999263476, 0.054768492284818365, -0.8498106331641933, 0.706498180370543, -1.2607512917177826, -0.41172978961905266, -0.2707358279752124, 0.23025681528889977, 0.5539822404638315, -0.08288867817875158, -0.997771161936249, -0.678778928533606, -1.1474059797681828, 0.13050467561654697, -0.20127543952445254, 1.1734867634071395, -0.14447033334416912, -0.7768356529113692, 2.108155468791955, 0.2577470285525313, 0.34417938196510817, -1.077596212923613, -0.6645104260980493, 0.5900139902104728, -0.8875170695082091, 1.6232057752672975, -0.4425887211319952, -0.11476017820101533, -0.33938732454496534, 0.8827855572707493], \"xaxis\": \"x2\", \"y\": [1.061473280205822, 0.7788035401649821, -0.2843131564415733, 0.4028606011071929, -1.0353566473067173, -1.5925881310692422, 0.03764451610017262, 0.09321189582306758, -0.4176584649435947, 1.3425792835433714, 1.0266554020785341, -0.3509763266194384, -1.1578507094975032, -0.10767980405124133, -0.7659349830162048, 0.6359970746835948, 0.781389848793117, -0.20999618974658754, -0.4724551602521327, -1.2611520993994236, 0.5011595968288648, 2.5021298775570124, -2.2161401806538175, -0.4213098675783744, 1.406278824461392, 1.0245563932292865, 0.05793642079927353, 0.5172455234185414, 0.23237803736898088, -0.36851140968886364, -0.02331748092877489, 1.1344686849252197, 0.16803740412380333, -1.3287890912409976, 0.7879241292820391, -0.005548678959254899, 0.8329045559462215, -0.7430868096641571, -1.133100937544328, 0.7006688816822035, 2.035632575118046, 0.5325886928830186, -0.8599991780600442, 0.15505475981508404, -0.2783228994628211, -0.0935045987798122, 0.257383871747999, 0.9458026852206287, 0.0523970154360034, 0.028677167605447113, 1.9243754536472717, -1.4517638419797148, -0.42240872112290845, -0.6830010989045584, 0.8998411440376746, 0.5661636957875802, 1.8078923338402904, -0.1211574749952134, 1.1628256796583745, -0.7747340750216297, -1.663603001451258, 0.6205659519924192, 1.1066279064691593, -0.4714356459473895, -0.6334083024936795, 0.7840050962817294, 0.5777402499571723, 0.13624915721450132, 0.12080615947972986, -0.7310373593845643, 2.0878737842304975, -1.260657602083573, -0.9781991587314987, 0.02552177479888971, -1.5312019439825595, 0.3819009284644589, 0.9627266602138024, -0.36528374506782496, -0.01330698839724629, -1.057342126647745, 0.026874897028896363, 1.4579519802072136, 0.3436411938175002, -0.15839574242186497, 0.9993958159176821, -0.8926368337194085, -0.427317895602847, 0.6220513939400963, 0.4957072394399795, -0.19188201177565387, -0.7045958601968229, -0.18917637706476753, -0.577505244222488, -0.6040999190689166, 0.16031718046731083, -0.7914776160554775, 1.025058265396455, 1.5523763416710603, 1.729160350179526, 0.28383053480712556], \"yaxis\": \"y2\"}, {\"line\": {\"color\": \"rgba(128, 128, 128, 1.0)\", \"dash\": \"solid\", \"shape\": \"linear\", \"width\": 1.3}, \"marker\": {\"size\": 2, \"symbol\": \"circle\"}, \"mode\": \"markers\", \"name\": \"A\", \"text\": \"\", \"type\": \"scatter\", \"x\": [-0.47714094631062437, -1.3345994918462734, -0.09706841022884331, 1.1968284173047101, -0.6781421534686967, 0.43159356038013935, 0.6835822972305295, 1.5711798443259752, -0.27737562899744533, 0.5994425730797492, -0.15410497991092595, 1.0107493932087777, 0.15790142926355047, -0.8841180511952776, -1.3350209756308677, 0.5485462338639149, -0.8619817842262595, -0.7168525530062234, 1.1273469677020778, 0.8730206000954404, -0.24702144524183348, 0.7880028275551544, 0.2071746893225869, -0.029225038016002854, 1.865403567959548, 0.11538188550007665, 1.269548326304167, 0.16509610572813474, 0.8999860999795253, -0.0354781432835169, -0.49133860040138927, 0.9079135076642156, -0.8114482812530663, 0.8220565081765221, 0.39946462690287393, -0.5547203946074728, -1.62037719639545, 0.26472999659299234, -0.45658294841827207, -1.2614757474644993, -0.43639157115159743, 1.2881598359634865, -0.23110420853353672, -0.4744266952361845, 0.8272940547801969, -0.477104784804838, -0.7963256279031508, -0.8925126287583691, -1.5330790864952706, 0.6151987020079225, 0.4591690773644197, -1.5059313243649641, 0.29372259009452656, 1.1736766502681213, 0.7310143871935828, 0.22948656932661435, 0.9737063267905761, 0.9345629639664688, -0.7114277853243768, 0.5927372448969023, 0.285849459719758, 0.60474917891961, -0.6367443989963583, -1.2001184162791918, 0.6190840465127015, 1.2339947962318631, -0.8187481609627966, -1.5506335715530588, 0.27012562568802667, -0.4171533248547998, -0.8984022932891833, -1.3991492296082042, -0.5598386542022132, 1.1269459966469904, 1.8281568708288565, -0.406172312652385, -0.1640700800271707, -1.040967602120725, -1.0298408006190567, -1.5270696190537125, -0.2873013178148533, 2.356989409619273, 1.3783874582632833, -0.5733734484701256, -1.3093978213393007, -0.031035089615515692, -1.0539086734360197, 1.319453591012269, -0.5158746252674392, 0.4087916669098679, -0.6591222849766853, -2.197209533022403, 0.0022492549136631694, 0.8021121429442958, 1.461573563904791, 1.233482781292835, -0.2713433242778099, 0.09255866193143845, -0.9387691637262042, -1.3143626501216688], \"xaxis\": \"x3\", \"y\": [1.061473280205822, 0.7788035401649821, -0.2843131564415733, 0.4028606011071929, -1.0353566473067173, -1.5925881310692422, 0.03764451610017262, 0.09321189582306758, -0.4176584649435947, 1.3425792835433714, 1.0266554020785341, -0.3509763266194384, -1.1578507094975032, -0.10767980405124133, -0.7659349830162048, 0.6359970746835948, 0.781389848793117, -0.20999618974658754, -0.4724551602521327, -1.2611520993994236, 0.5011595968288648, 2.5021298775570124, -2.2161401806538175, -0.4213098675783744, 1.406278824461392, 1.0245563932292865, 0.05793642079927353, 0.5172455234185414, 0.23237803736898088, -0.36851140968886364, -0.02331748092877489, 1.1344686849252197, 0.16803740412380333, -1.3287890912409976, 0.7879241292820391, -0.005548678959254899, 0.8329045559462215, -0.7430868096641571, -1.133100937544328, 0.7006688816822035, 2.035632575118046, 0.5325886928830186, -0.8599991780600442, 0.15505475981508404, -0.2783228994628211, -0.0935045987798122, 0.257383871747999, 0.9458026852206287, 0.0523970154360034, 0.028677167605447113, 1.9243754536472717, -1.4517638419797148, -0.42240872112290845, -0.6830010989045584, 0.8998411440376746, 0.5661636957875802, 1.8078923338402904, -0.1211574749952134, 1.1628256796583745, -0.7747340750216297, -1.663603001451258, 0.6205659519924192, 1.1066279064691593, -0.4714356459473895, -0.6334083024936795, 0.7840050962817294, 0.5777402499571723, 0.13624915721450132, 0.12080615947972986, -0.7310373593845643, 2.0878737842304975, -1.260657602083573, -0.9781991587314987, 0.02552177479888971, -1.5312019439825595, 0.3819009284644589, 0.9627266602138024, -0.36528374506782496, -0.01330698839724629, -1.057342126647745, 0.026874897028896363, 1.4579519802072136, 0.3436411938175002, -0.15839574242186497, 0.9993958159176821, -0.8926368337194085, -0.427317895602847, 0.6220513939400963, 0.4957072394399795, -0.19188201177565387, -0.7045958601968229, -0.18917637706476753, -0.577505244222488, -0.6040999190689166, 0.16031718046731083, -0.7914776160554775, 1.025058265396455, 1.5523763416710603, 1.729160350179526, 0.28383053480712556], \"yaxis\": \"y3\"}, {\"line\": {\"color\": \"rgba(128, 128, 128, 1.0)\", \"dash\": \"solid\", \"shape\": \"linear\", \"width\": 1.3}, \"marker\": {\"size\": 2, \"symbol\": \"circle\"}, \"mode\": \"markers\", \"name\": \"A\", \"text\": \"\", \"type\": \"scatter\", \"x\": [1.6314890263197093, -0.6965718949158347, 0.35084318365036765, -1.2222638113329922, 0.6057486684596096, 0.1452009905992692, -0.6668275595094052, 0.49909495279141736, -1.1829092869149782, 0.6705087643248491, 0.8622858501949637, 1.225417623604347, 1.755725704148251, 1.1309847736467293, -0.5336105481216621, 0.7107270765748982, 2.0435749991999623, 1.2961399551551187, -1.6630925483891579, 0.4230686092321981, -1.1447678627644444, 0.5153826472117116, -0.0002649357515297671, 0.31907947552678717, 1.9410031412628177, 1.3972847873794798, -0.3360358659654972, 1.1498644432680514, 1.1186222369629626, -1.0632158208343334, -0.05930212027860439, 1.9594955868731154, -1.4415945415090048, 0.5543778984758491, 1.6684568260885326, -0.9657872528147986, -0.275521957970055, -0.18596131515277367, 0.8938964819496332, 1.2875885101092677, -0.4272488078580057, -0.26185929298795513, 0.47858563361446205, -0.28598242623725545, 0.38454741202639714, -1.3527736346922408, 1.5444272867441986, -0.3570274407771999, -0.7262802270049282, 1.2520672171528433, 0.5073482762541652, -0.010703223441998921, -0.7018499206350687, -0.010451541881170784, -0.24866318791685305, -0.8482855975753855, 0.8344833151665356, 1.1409383112926403, -1.3915829568990927, -0.30856369866854416, 0.7064812547399467, -0.8545392957094377, 1.0022935778450717, -0.9919371688360995, 0.36963442707580324, -0.5629342487974898, 0.16960105239569848, -0.40362658397962303, -1.6780961091806244, -0.9687692761826167, -0.5029640394538285, 0.23498051849444426, -0.6979677180565823, 0.9919702901846777, -2.3777343087528027, -1.227705051199071, -0.059914758678974736, 1.672020587047513, -1.9817420768305458, -0.5382447203064389, -1.2468599687743567, 1.0967785445323446, -1.294038898804085, -0.38134039447576606, 0.8389213301310103, 0.7556168393816037, 2.0671722471818614, 1.3722760538868541, -0.42438600997816767, 1.4249998743946992, 0.2601743447370759, 0.020246716306334817, -0.7555172138596694, 0.07425581796169935, -2.5711289485102866, -0.9898595722162504, -0.24067441805738782, -1.991382303709734, 0.23063973668514276, 1.278168487899292], \"xaxis\": \"x4\", \"y\": [1.061473280205822, 0.7788035401649821, -0.2843131564415733, 0.4028606011071929, -1.0353566473067173, -1.5925881310692422, 0.03764451610017262, 0.09321189582306758, -0.4176584649435947, 1.3425792835433714, 1.0266554020785341, -0.3509763266194384, -1.1578507094975032, -0.10767980405124133, -0.7659349830162048, 0.6359970746835948, 0.781389848793117, -0.20999618974658754, -0.4724551602521327, -1.2611520993994236, 0.5011595968288648, 2.5021298775570124, -2.2161401806538175, -0.4213098675783744, 1.406278824461392, 1.0245563932292865, 0.05793642079927353, 0.5172455234185414, 0.23237803736898088, -0.36851140968886364, -0.02331748092877489, 1.1344686849252197, 0.16803740412380333, -1.3287890912409976, 0.7879241292820391, -0.005548678959254899, 0.8329045559462215, -0.7430868096641571, -1.133100937544328, 0.7006688816822035, 2.035632575118046, 0.5325886928830186, -0.8599991780600442, 0.15505475981508404, -0.2783228994628211, -0.0935045987798122, 0.257383871747999, 0.9458026852206287, 0.0523970154360034, 0.028677167605447113, 1.9243754536472717, -1.4517638419797148, -0.42240872112290845, -0.6830010989045584, 0.8998411440376746, 0.5661636957875802, 1.8078923338402904, -0.1211574749952134, 1.1628256796583745, -0.7747340750216297, -1.663603001451258, 0.6205659519924192, 1.1066279064691593, -0.4714356459473895, -0.6334083024936795, 0.7840050962817294, 0.5777402499571723, 0.13624915721450132, 0.12080615947972986, -0.7310373593845643, 2.0878737842304975, -1.260657602083573, -0.9781991587314987, 0.02552177479888971, -1.5312019439825595, 0.3819009284644589, 0.9627266602138024, -0.36528374506782496, -0.01330698839724629, -1.057342126647745, 0.026874897028896363, 1.4579519802072136, 0.3436411938175002, -0.15839574242186497, 0.9993958159176821, -0.8926368337194085, -0.427317895602847, 0.6220513939400963, 0.4957072394399795, -0.19188201177565387, -0.7045958601968229, -0.18917637706476753, -0.577505244222488, -0.6040999190689166, 0.16031718046731083, -0.7914776160554775, 1.025058265396455, 1.5523763416710603, 1.729160350179526, 0.28383053480712556], \"yaxis\": \"y4\"}, {\"line\": {\"color\": \"rgba(128, 128, 128, 1.0)\", \"dash\": \"solid\", \"shape\": \"linear\", \"width\": 1.3}, \"marker\": {\"size\": 2, \"symbol\": \"circle\"}, \"mode\": \"markers\", \"name\": \"B\", \"text\": \"\", \"type\": \"scatter\", \"x\": [1.061473280205822, 0.7788035401649821, -0.2843131564415733, 0.4028606011071929, -1.0353566473067173, -1.5925881310692422, 0.03764451610017262, 0.09321189582306758, -0.4176584649435947, 1.3425792835433714, 1.0266554020785341, -0.3509763266194384, -1.1578507094975032, -0.10767980405124133, -0.7659349830162048, 0.6359970746835948, 0.781389848793117, -0.20999618974658754, -0.4724551602521327, -1.2611520993994236, 0.5011595968288648, 2.5021298775570124, -2.2161401806538175, -0.4213098675783744, 1.406278824461392, 1.0245563932292865, 0.05793642079927353, 0.5172455234185414, 0.23237803736898088, -0.36851140968886364, -0.02331748092877489, 1.1344686849252197, 0.16803740412380333, -1.3287890912409976, 0.7879241292820391, -0.005548678959254899, 0.8329045559462215, -0.7430868096641571, -1.133100937544328, 0.7006688816822035, 2.035632575118046, 0.5325886928830186, -0.8599991780600442, 0.15505475981508404, -0.2783228994628211, -0.0935045987798122, 0.257383871747999, 0.9458026852206287, 0.0523970154360034, 0.028677167605447113, 1.9243754536472717, -1.4517638419797148, -0.42240872112290845, -0.6830010989045584, 0.8998411440376746, 0.5661636957875802, 1.8078923338402904, -0.1211574749952134, 1.1628256796583745, -0.7747340750216297, -1.663603001451258, 0.6205659519924192, 1.1066279064691593, -0.4714356459473895, -0.6334083024936795, 0.7840050962817294, 0.5777402499571723, 0.13624915721450132, 0.12080615947972986, -0.7310373593845643, 2.0878737842304975, -1.260657602083573, -0.9781991587314987, 0.02552177479888971, -1.5312019439825595, 0.3819009284644589, 0.9627266602138024, -0.36528374506782496, -0.01330698839724629, -1.057342126647745, 0.026874897028896363, 1.4579519802072136, 0.3436411938175002, -0.15839574242186497, 0.9993958159176821, -0.8926368337194085, -0.427317895602847, 0.6220513939400963, 0.4957072394399795, -0.19188201177565387, -0.7045958601968229, -0.18917637706476753, -0.577505244222488, -0.6040999190689166, 0.16031718046731083, -0.7914776160554775, 1.025058265396455, 1.5523763416710603, 1.729160350179526, 0.28383053480712556], \"xaxis\": \"x5\", \"y\": [-0.1502090526950633, -1.4730229850054035, 0.8343967846403096, 0.07881786533117169, 0.2173963689453169, -0.5528080492436792, -1.6258453109586075, -0.6767305514654233, -0.14300288693546617, 0.4496954555587184, -0.01257683703554524, -0.28528865085325283, -0.6211655838808301, -0.2088464084433686, 0.11963905119676699, -0.33498296236193226, -0.33505878250702303, 1.7253129170246115, -1.1653926642573262, 0.3805949514809733, 0.09743708259195785, -1.0379640975634625, 0.15098100983051105, 0.4318977678868364, 0.4963469437410477, 0.028512895291313973, -1.0979847878044142, 0.3971856542241418, -0.7638507427802923, 0.04362940403433376, 0.5493903482135887, 0.43290716796591083, -0.44521194333356084, 0.9661060689292932, 0.44210330235753237, 0.03321214661252483, -0.48936726967185207, -0.9304182896274302, 1.6968215447462103, -0.278502027157531, 0.35962316230753194, 0.1694672554621009, 1.3463629130177368, -0.4773321454887906, 0.7558264273744825, 0.30602848551497713, 1.077734325636297, -0.06665598912475737, -0.40947446944564386, -1.046290912810996, 0.15155824818897423, 0.9479235219129352, 0.5012297209712162, 0.7202543172706395, 1.2146155916317036, -0.761540003341629, 1.4216908347738988, -0.8083797165101845, -0.9598316539739877, 0.3250456999210159, 0.7784293978884731, 0.2913806361130591, -0.7031204864984019, -0.848852060370494, 1.3077008994967214, 2.3441676335625856, 0.6737609401575443, -0.025823768466770602, -0.7677235483223626, -0.06131394849974311, 0.039052404999263476, 0.054768492284818365, -0.8498106331641933, 0.706498180370543, -1.2607512917177826, -0.41172978961905266, -0.2707358279752124, 0.23025681528889977, 0.5539822404638315, -0.08288867817875158, -0.997771161936249, -0.678778928533606, -1.1474059797681828, 0.13050467561654697, -0.20127543952445254, 1.1734867634071395, -0.14447033334416912, -0.7768356529113692, 2.108155468791955, 0.2577470285525313, 0.34417938196510817, -1.077596212923613, -0.6645104260980493, 0.5900139902104728, -0.8875170695082091, 1.6232057752672975, -0.4425887211319952, -0.11476017820101533, -0.33938732454496534, 0.8827855572707493], \"yaxis\": \"y5\"}, {\"histfunc\": \"count\", \"histnorm\": \"\", \"marker\": {\"color\": \"rgba(55, 128, 191, 1.0)\", \"line\": {\"color\": \"#4D5663\", \"width\": 1.3}}, \"name\": \"B\", \"nbinsx\": 10, \"opacity\": 0.8, \"orientation\": \"v\", \"type\": \"histogram\", \"x\": [-0.1502090526950633, -1.4730229850054035, 0.8343967846403096, 0.07881786533117169, 0.2173963689453169, -0.5528080492436792, -1.6258453109586075, -0.6767305514654233, -0.14300288693546617, 0.4496954555587184, -0.01257683703554524, -0.28528865085325283, -0.6211655838808301, -0.2088464084433686, 0.11963905119676699, -0.33498296236193226, -0.33505878250702303, 1.7253129170246115, -1.1653926642573262, 0.3805949514809733, 0.09743708259195785, -1.0379640975634625, 0.15098100983051105, 0.4318977678868364, 0.4963469437410477, 0.028512895291313973, -1.0979847878044142, 0.3971856542241418, -0.7638507427802923, 0.04362940403433376, 0.5493903482135887, 0.43290716796591083, -0.44521194333356084, 0.9661060689292932, 0.44210330235753237, 0.03321214661252483, -0.48936726967185207, -0.9304182896274302, 1.6968215447462103, -0.278502027157531, 0.35962316230753194, 0.1694672554621009, 1.3463629130177368, -0.4773321454887906, 0.7558264273744825, 0.30602848551497713, 1.077734325636297, -0.06665598912475737, -0.40947446944564386, -1.046290912810996, 0.15155824818897423, 0.9479235219129352, 0.5012297209712162, 0.7202543172706395, 1.2146155916317036, -0.761540003341629, 1.4216908347738988, -0.8083797165101845, -0.9598316539739877, 0.3250456999210159, 0.7784293978884731, 0.2913806361130591, -0.7031204864984019, -0.848852060370494, 1.3077008994967214, 2.3441676335625856, 0.6737609401575443, -0.025823768466770602, -0.7677235483223626, -0.06131394849974311, 0.039052404999263476, 0.054768492284818365, -0.8498106331641933, 0.706498180370543, -1.2607512917177826, -0.41172978961905266, -0.2707358279752124, 0.23025681528889977, 0.5539822404638315, -0.08288867817875158, -0.997771161936249, -0.678778928533606, -1.1474059797681828, 0.13050467561654697, -0.20127543952445254, 1.1734867634071395, -0.14447033334416912, -0.7768356529113692, 2.108155468791955, 0.2577470285525313, 0.34417938196510817, -1.077596212923613, -0.6645104260980493, 0.5900139902104728, -0.8875170695082091, 1.6232057752672975, -0.4425887211319952, -0.11476017820101533, -0.33938732454496534, 0.8827855572707493], \"xaxis\": \"x6\", \"yaxis\": \"y6\"}, {\"line\": {\"color\": \"rgba(128, 128, 128, 1.0)\", \"dash\": \"solid\", \"shape\": \"linear\", \"width\": 1.3}, \"marker\": {\"size\": 2, \"symbol\": \"circle\"}, \"mode\": \"markers\", \"name\": \"B\", \"text\": \"\", \"type\": \"scatter\", \"x\": [-0.47714094631062437, -1.3345994918462734, -0.09706841022884331, 1.1968284173047101, -0.6781421534686967, 0.43159356038013935, 0.6835822972305295, 1.5711798443259752, -0.27737562899744533, 0.5994425730797492, -0.15410497991092595, 1.0107493932087777, 0.15790142926355047, -0.8841180511952776, -1.3350209756308677, 0.5485462338639149, -0.8619817842262595, -0.7168525530062234, 1.1273469677020778, 0.8730206000954404, -0.24702144524183348, 0.7880028275551544, 0.2071746893225869, -0.029225038016002854, 1.865403567959548, 0.11538188550007665, 1.269548326304167, 0.16509610572813474, 0.8999860999795253, -0.0354781432835169, -0.49133860040138927, 0.9079135076642156, -0.8114482812530663, 0.8220565081765221, 0.39946462690287393, -0.5547203946074728, -1.62037719639545, 0.26472999659299234, -0.45658294841827207, -1.2614757474644993, -0.43639157115159743, 1.2881598359634865, -0.23110420853353672, -0.4744266952361845, 0.8272940547801969, -0.477104784804838, -0.7963256279031508, -0.8925126287583691, -1.5330790864952706, 0.6151987020079225, 0.4591690773644197, -1.5059313243649641, 0.29372259009452656, 1.1736766502681213, 0.7310143871935828, 0.22948656932661435, 0.9737063267905761, 0.9345629639664688, -0.7114277853243768, 0.5927372448969023, 0.285849459719758, 0.60474917891961, -0.6367443989963583, -1.2001184162791918, 0.6190840465127015, 1.2339947962318631, -0.8187481609627966, -1.5506335715530588, 0.27012562568802667, -0.4171533248547998, -0.8984022932891833, -1.3991492296082042, -0.5598386542022132, 1.1269459966469904, 1.8281568708288565, -0.406172312652385, -0.1640700800271707, -1.040967602120725, -1.0298408006190567, -1.5270696190537125, -0.2873013178148533, 2.356989409619273, 1.3783874582632833, -0.5733734484701256, -1.3093978213393007, -0.031035089615515692, -1.0539086734360197, 1.319453591012269, -0.5158746252674392, 0.4087916669098679, -0.6591222849766853, -2.197209533022403, 0.0022492549136631694, 0.8021121429442958, 1.461573563904791, 1.233482781292835, -0.2713433242778099, 0.09255866193143845, -0.9387691637262042, -1.3143626501216688], \"xaxis\": \"x7\", \"y\": [-0.1502090526950633, -1.4730229850054035, 0.8343967846403096, 0.07881786533117169, 0.2173963689453169, -0.5528080492436792, -1.6258453109586075, -0.6767305514654233, -0.14300288693546617, 0.4496954555587184, -0.01257683703554524, -0.28528865085325283, -0.6211655838808301, -0.2088464084433686, 0.11963905119676699, -0.33498296236193226, -0.33505878250702303, 1.7253129170246115, -1.1653926642573262, 0.3805949514809733, 0.09743708259195785, -1.0379640975634625, 0.15098100983051105, 0.4318977678868364, 0.4963469437410477, 0.028512895291313973, -1.0979847878044142, 0.3971856542241418, -0.7638507427802923, 0.04362940403433376, 0.5493903482135887, 0.43290716796591083, -0.44521194333356084, 0.9661060689292932, 0.44210330235753237, 0.03321214661252483, -0.48936726967185207, -0.9304182896274302, 1.6968215447462103, -0.278502027157531, 0.35962316230753194, 0.1694672554621009, 1.3463629130177368, -0.4773321454887906, 0.7558264273744825, 0.30602848551497713, 1.077734325636297, -0.06665598912475737, -0.40947446944564386, -1.046290912810996, 0.15155824818897423, 0.9479235219129352, 0.5012297209712162, 0.7202543172706395, 1.2146155916317036, -0.761540003341629, 1.4216908347738988, -0.8083797165101845, -0.9598316539739877, 0.3250456999210159, 0.7784293978884731, 0.2913806361130591, -0.7031204864984019, -0.848852060370494, 1.3077008994967214, 2.3441676335625856, 0.6737609401575443, -0.025823768466770602, -0.7677235483223626, -0.06131394849974311, 0.039052404999263476, 0.054768492284818365, -0.8498106331641933, 0.706498180370543, -1.2607512917177826, -0.41172978961905266, -0.2707358279752124, 0.23025681528889977, 0.5539822404638315, -0.08288867817875158, -0.997771161936249, -0.678778928533606, -1.1474059797681828, 0.13050467561654697, -0.20127543952445254, 1.1734867634071395, -0.14447033334416912, -0.7768356529113692, 2.108155468791955, 0.2577470285525313, 0.34417938196510817, -1.077596212923613, -0.6645104260980493, 0.5900139902104728, -0.8875170695082091, 1.6232057752672975, -0.4425887211319952, -0.11476017820101533, -0.33938732454496534, 0.8827855572707493], \"yaxis\": \"y7\"}, {\"line\": {\"color\": \"rgba(128, 128, 128, 1.0)\", \"dash\": \"solid\", \"shape\": \"linear\", \"width\": 1.3}, \"marker\": {\"size\": 2, \"symbol\": \"circle\"}, \"mode\": \"markers\", \"name\": \"B\", \"text\": \"\", \"type\": \"scatter\", \"x\": [1.6314890263197093, -0.6965718949158347, 0.35084318365036765, -1.2222638113329922, 0.6057486684596096, 0.1452009905992692, -0.6668275595094052, 0.49909495279141736, -1.1829092869149782, 0.6705087643248491, 0.8622858501949637, 1.225417623604347, 1.755725704148251, 1.1309847736467293, -0.5336105481216621, 0.7107270765748982, 2.0435749991999623, 1.2961399551551187, -1.6630925483891579, 0.4230686092321981, -1.1447678627644444, 0.5153826472117116, -0.0002649357515297671, 0.31907947552678717, 1.9410031412628177, 1.3972847873794798, -0.3360358659654972, 1.1498644432680514, 1.1186222369629626, -1.0632158208343334, -0.05930212027860439, 1.9594955868731154, -1.4415945415090048, 0.5543778984758491, 1.6684568260885326, -0.9657872528147986, -0.275521957970055, -0.18596131515277367, 0.8938964819496332, 1.2875885101092677, -0.4272488078580057, -0.26185929298795513, 0.47858563361446205, -0.28598242623725545, 0.38454741202639714, -1.3527736346922408, 1.5444272867441986, -0.3570274407771999, -0.7262802270049282, 1.2520672171528433, 0.5073482762541652, -0.010703223441998921, -0.7018499206350687, -0.010451541881170784, -0.24866318791685305, -0.8482855975753855, 0.8344833151665356, 1.1409383112926403, -1.3915829568990927, -0.30856369866854416, 0.7064812547399467, -0.8545392957094377, 1.0022935778450717, -0.9919371688360995, 0.36963442707580324, -0.5629342487974898, 0.16960105239569848, -0.40362658397962303, -1.6780961091806244, -0.9687692761826167, -0.5029640394538285, 0.23498051849444426, -0.6979677180565823, 0.9919702901846777, -2.3777343087528027, -1.227705051199071, -0.059914758678974736, 1.672020587047513, -1.9817420768305458, -0.5382447203064389, -1.2468599687743567, 1.0967785445323446, -1.294038898804085, -0.38134039447576606, 0.8389213301310103, 0.7556168393816037, 2.0671722471818614, 1.3722760538868541, -0.42438600997816767, 1.4249998743946992, 0.2601743447370759, 0.020246716306334817, -0.7555172138596694, 0.07425581796169935, -2.5711289485102866, -0.9898595722162504, -0.24067441805738782, -1.991382303709734, 0.23063973668514276, 1.278168487899292], \"xaxis\": \"x8\", \"y\": [-0.1502090526950633, -1.4730229850054035, 0.8343967846403096, 0.07881786533117169, 0.2173963689453169, -0.5528080492436792, -1.6258453109586075, -0.6767305514654233, -0.14300288693546617, 0.4496954555587184, -0.01257683703554524, -0.28528865085325283, -0.6211655838808301, -0.2088464084433686, 0.11963905119676699, -0.33498296236193226, -0.33505878250702303, 1.7253129170246115, -1.1653926642573262, 0.3805949514809733, 0.09743708259195785, -1.0379640975634625, 0.15098100983051105, 0.4318977678868364, 0.4963469437410477, 0.028512895291313973, -1.0979847878044142, 0.3971856542241418, -0.7638507427802923, 0.04362940403433376, 0.5493903482135887, 0.43290716796591083, -0.44521194333356084, 0.9661060689292932, 0.44210330235753237, 0.03321214661252483, -0.48936726967185207, -0.9304182896274302, 1.6968215447462103, -0.278502027157531, 0.35962316230753194, 0.1694672554621009, 1.3463629130177368, -0.4773321454887906, 0.7558264273744825, 0.30602848551497713, 1.077734325636297, -0.06665598912475737, -0.40947446944564386, -1.046290912810996, 0.15155824818897423, 0.9479235219129352, 0.5012297209712162, 0.7202543172706395, 1.2146155916317036, -0.761540003341629, 1.4216908347738988, -0.8083797165101845, -0.9598316539739877, 0.3250456999210159, 0.7784293978884731, 0.2913806361130591, -0.7031204864984019, -0.848852060370494, 1.3077008994967214, 2.3441676335625856, 0.6737609401575443, -0.025823768466770602, -0.7677235483223626, -0.06131394849974311, 0.039052404999263476, 0.054768492284818365, -0.8498106331641933, 0.706498180370543, -1.2607512917177826, -0.41172978961905266, -0.2707358279752124, 0.23025681528889977, 0.5539822404638315, -0.08288867817875158, -0.997771161936249, -0.678778928533606, -1.1474059797681828, 0.13050467561654697, -0.20127543952445254, 1.1734867634071395, -0.14447033334416912, -0.7768356529113692, 2.108155468791955, 0.2577470285525313, 0.34417938196510817, -1.077596212923613, -0.6645104260980493, 0.5900139902104728, -0.8875170695082091, 1.6232057752672975, -0.4425887211319952, -0.11476017820101533, -0.33938732454496534, 0.8827855572707493], \"yaxis\": \"y8\"}, {\"line\": {\"color\": \"rgba(128, 128, 128, 1.0)\", \"dash\": \"solid\", \"shape\": \"linear\", \"width\": 1.3}, \"marker\": {\"size\": 2, \"symbol\": \"circle\"}, \"mode\": \"markers\", \"name\": \"C\", \"text\": \"\", \"type\": \"scatter\", \"x\": [1.061473280205822, 0.7788035401649821, -0.2843131564415733, 0.4028606011071929, -1.0353566473067173, -1.5925881310692422, 0.03764451610017262, 0.09321189582306758, -0.4176584649435947, 1.3425792835433714, 1.0266554020785341, -0.3509763266194384, -1.1578507094975032, -0.10767980405124133, -0.7659349830162048, 0.6359970746835948, 0.781389848793117, -0.20999618974658754, -0.4724551602521327, -1.2611520993994236, 0.5011595968288648, 2.5021298775570124, -2.2161401806538175, -0.4213098675783744, 1.406278824461392, 1.0245563932292865, 0.05793642079927353, 0.5172455234185414, 0.23237803736898088, -0.36851140968886364, -0.02331748092877489, 1.1344686849252197, 0.16803740412380333, -1.3287890912409976, 0.7879241292820391, -0.005548678959254899, 0.8329045559462215, -0.7430868096641571, -1.133100937544328, 0.7006688816822035, 2.035632575118046, 0.5325886928830186, -0.8599991780600442, 0.15505475981508404, -0.2783228994628211, -0.0935045987798122, 0.257383871747999, 0.9458026852206287, 0.0523970154360034, 0.028677167605447113, 1.9243754536472717, -1.4517638419797148, -0.42240872112290845, -0.6830010989045584, 0.8998411440376746, 0.5661636957875802, 1.8078923338402904, -0.1211574749952134, 1.1628256796583745, -0.7747340750216297, -1.663603001451258, 0.6205659519924192, 1.1066279064691593, -0.4714356459473895, -0.6334083024936795, 0.7840050962817294, 0.5777402499571723, 0.13624915721450132, 0.12080615947972986, -0.7310373593845643, 2.0878737842304975, -1.260657602083573, -0.9781991587314987, 0.02552177479888971, -1.5312019439825595, 0.3819009284644589, 0.9627266602138024, -0.36528374506782496, -0.01330698839724629, -1.057342126647745, 0.026874897028896363, 1.4579519802072136, 0.3436411938175002, -0.15839574242186497, 0.9993958159176821, -0.8926368337194085, -0.427317895602847, 0.6220513939400963, 0.4957072394399795, -0.19188201177565387, -0.7045958601968229, -0.18917637706476753, -0.577505244222488, -0.6040999190689166, 0.16031718046731083, -0.7914776160554775, 1.025058265396455, 1.5523763416710603, 1.729160350179526, 0.28383053480712556], \"xaxis\": \"x9\", \"y\": [-0.47714094631062437, -1.3345994918462734, -0.09706841022884331, 1.1968284173047101, -0.6781421534686967, 0.43159356038013935, 0.6835822972305295, 1.5711798443259752, -0.27737562899744533, 0.5994425730797492, -0.15410497991092595, 1.0107493932087777, 0.15790142926355047, -0.8841180511952776, -1.3350209756308677, 0.5485462338639149, -0.8619817842262595, -0.7168525530062234, 1.1273469677020778, 0.8730206000954404, -0.24702144524183348, 0.7880028275551544, 0.2071746893225869, -0.029225038016002854, 1.865403567959548, 0.11538188550007665, 1.269548326304167, 0.16509610572813474, 0.8999860999795253, -0.0354781432835169, -0.49133860040138927, 0.9079135076642156, -0.8114482812530663, 0.8220565081765221, 0.39946462690287393, -0.5547203946074728, -1.62037719639545, 0.26472999659299234, -0.45658294841827207, -1.2614757474644993, -0.43639157115159743, 1.2881598359634865, -0.23110420853353672, -0.4744266952361845, 0.8272940547801969, -0.477104784804838, -0.7963256279031508, -0.8925126287583691, -1.5330790864952706, 0.6151987020079225, 0.4591690773644197, -1.5059313243649641, 0.29372259009452656, 1.1736766502681213, 0.7310143871935828, 0.22948656932661435, 0.9737063267905761, 0.9345629639664688, -0.7114277853243768, 0.5927372448969023, 0.285849459719758, 0.60474917891961, -0.6367443989963583, -1.2001184162791918, 0.6190840465127015, 1.2339947962318631, -0.8187481609627966, -1.5506335715530588, 0.27012562568802667, -0.4171533248547998, -0.8984022932891833, -1.3991492296082042, -0.5598386542022132, 1.1269459966469904, 1.8281568708288565, -0.406172312652385, -0.1640700800271707, -1.040967602120725, -1.0298408006190567, -1.5270696190537125, -0.2873013178148533, 2.356989409619273, 1.3783874582632833, -0.5733734484701256, -1.3093978213393007, -0.031035089615515692, -1.0539086734360197, 1.319453591012269, -0.5158746252674392, 0.4087916669098679, -0.6591222849766853, -2.197209533022403, 0.0022492549136631694, 0.8021121429442958, 1.461573563904791, 1.233482781292835, -0.2713433242778099, 0.09255866193143845, -0.9387691637262042, -1.3143626501216688], \"yaxis\": \"y9\"}, {\"line\": {\"color\": \"rgba(128, 128, 128, 1.0)\", \"dash\": \"solid\", \"shape\": \"linear\", \"width\": 1.3}, \"marker\": {\"size\": 2, \"symbol\": \"circle\"}, \"mode\": \"markers\", \"name\": \"C\", \"text\": \"\", \"type\": \"scatter\", \"x\": [-0.1502090526950633, -1.4730229850054035, 0.8343967846403096, 0.07881786533117169, 0.2173963689453169, -0.5528080492436792, -1.6258453109586075, -0.6767305514654233, -0.14300288693546617, 0.4496954555587184, -0.01257683703554524, -0.28528865085325283, -0.6211655838808301, -0.2088464084433686, 0.11963905119676699, -0.33498296236193226, -0.33505878250702303, 1.7253129170246115, -1.1653926642573262, 0.3805949514809733, 0.09743708259195785, -1.0379640975634625, 0.15098100983051105, 0.4318977678868364, 0.4963469437410477, 0.028512895291313973, -1.0979847878044142, 0.3971856542241418, -0.7638507427802923, 0.04362940403433376, 0.5493903482135887, 0.43290716796591083, -0.44521194333356084, 0.9661060689292932, 0.44210330235753237, 0.03321214661252483, -0.48936726967185207, -0.9304182896274302, 1.6968215447462103, -0.278502027157531, 0.35962316230753194, 0.1694672554621009, 1.3463629130177368, -0.4773321454887906, 0.7558264273744825, 0.30602848551497713, 1.077734325636297, -0.06665598912475737, -0.40947446944564386, -1.046290912810996, 0.15155824818897423, 0.9479235219129352, 0.5012297209712162, 0.7202543172706395, 1.2146155916317036, -0.761540003341629, 1.4216908347738988, -0.8083797165101845, -0.9598316539739877, 0.3250456999210159, 0.7784293978884731, 0.2913806361130591, -0.7031204864984019, -0.848852060370494, 1.3077008994967214, 2.3441676335625856, 0.6737609401575443, -0.025823768466770602, -0.7677235483223626, -0.06131394849974311, 0.039052404999263476, 0.054768492284818365, -0.8498106331641933, 0.706498180370543, -1.2607512917177826, -0.41172978961905266, -0.2707358279752124, 0.23025681528889977, 0.5539822404638315, -0.08288867817875158, -0.997771161936249, -0.678778928533606, -1.1474059797681828, 0.13050467561654697, -0.20127543952445254, 1.1734867634071395, -0.14447033334416912, -0.7768356529113692, 2.108155468791955, 0.2577470285525313, 0.34417938196510817, -1.077596212923613, -0.6645104260980493, 0.5900139902104728, -0.8875170695082091, 1.6232057752672975, -0.4425887211319952, -0.11476017820101533, -0.33938732454496534, 0.8827855572707493], \"xaxis\": \"x10\", \"y\": [-0.47714094631062437, -1.3345994918462734, -0.09706841022884331, 1.1968284173047101, -0.6781421534686967, 0.43159356038013935, 0.6835822972305295, 1.5711798443259752, -0.27737562899744533, 0.5994425730797492, -0.15410497991092595, 1.0107493932087777, 0.15790142926355047, -0.8841180511952776, -1.3350209756308677, 0.5485462338639149, -0.8619817842262595, -0.7168525530062234, 1.1273469677020778, 0.8730206000954404, -0.24702144524183348, 0.7880028275551544, 0.2071746893225869, -0.029225038016002854, 1.865403567959548, 0.11538188550007665, 1.269548326304167, 0.16509610572813474, 0.8999860999795253, -0.0354781432835169, -0.49133860040138927, 0.9079135076642156, -0.8114482812530663, 0.8220565081765221, 0.39946462690287393, -0.5547203946074728, -1.62037719639545, 0.26472999659299234, -0.45658294841827207, -1.2614757474644993, -0.43639157115159743, 1.2881598359634865, -0.23110420853353672, -0.4744266952361845, 0.8272940547801969, -0.477104784804838, -0.7963256279031508, -0.8925126287583691, -1.5330790864952706, 0.6151987020079225, 0.4591690773644197, -1.5059313243649641, 0.29372259009452656, 1.1736766502681213, 0.7310143871935828, 0.22948656932661435, 0.9737063267905761, 0.9345629639664688, -0.7114277853243768, 0.5927372448969023, 0.285849459719758, 0.60474917891961, -0.6367443989963583, -1.2001184162791918, 0.6190840465127015, 1.2339947962318631, -0.8187481609627966, -1.5506335715530588, 0.27012562568802667, -0.4171533248547998, -0.8984022932891833, -1.3991492296082042, -0.5598386542022132, 1.1269459966469904, 1.8281568708288565, -0.406172312652385, -0.1640700800271707, -1.040967602120725, -1.0298408006190567, -1.5270696190537125, -0.2873013178148533, 2.356989409619273, 1.3783874582632833, -0.5733734484701256, -1.3093978213393007, -0.031035089615515692, -1.0539086734360197, 1.319453591012269, -0.5158746252674392, 0.4087916669098679, -0.6591222849766853, -2.197209533022403, 0.0022492549136631694, 0.8021121429442958, 1.461573563904791, 1.233482781292835, -0.2713433242778099, 0.09255866193143845, -0.9387691637262042, -1.3143626501216688], \"yaxis\": \"y10\"}, {\"histfunc\": \"count\", \"histnorm\": \"\", \"marker\": {\"color\": \"rgba(50, 171, 96, 1.0)\", \"line\": {\"color\": \"#4D5663\", \"width\": 1.3}}, \"name\": \"C\", \"nbinsx\": 10, \"opacity\": 0.8, \"orientation\": \"v\", \"type\": \"histogram\", \"x\": [-0.47714094631062437, -1.3345994918462734, -0.09706841022884331, 1.1968284173047101, -0.6781421534686967, 0.43159356038013935, 0.6835822972305295, 1.5711798443259752, -0.27737562899744533, 0.5994425730797492, -0.15410497991092595, 1.0107493932087777, 0.15790142926355047, -0.8841180511952776, -1.3350209756308677, 0.5485462338639149, -0.8619817842262595, -0.7168525530062234, 1.1273469677020778, 0.8730206000954404, -0.24702144524183348, 0.7880028275551544, 0.2071746893225869, -0.029225038016002854, 1.865403567959548, 0.11538188550007665, 1.269548326304167, 0.16509610572813474, 0.8999860999795253, -0.0354781432835169, -0.49133860040138927, 0.9079135076642156, -0.8114482812530663, 0.8220565081765221, 0.39946462690287393, -0.5547203946074728, -1.62037719639545, 0.26472999659299234, -0.45658294841827207, -1.2614757474644993, -0.43639157115159743, 1.2881598359634865, -0.23110420853353672, -0.4744266952361845, 0.8272940547801969, -0.477104784804838, -0.7963256279031508, -0.8925126287583691, -1.5330790864952706, 0.6151987020079225, 0.4591690773644197, -1.5059313243649641, 0.29372259009452656, 1.1736766502681213, 0.7310143871935828, 0.22948656932661435, 0.9737063267905761, 0.9345629639664688, -0.7114277853243768, 0.5927372448969023, 0.285849459719758, 0.60474917891961, -0.6367443989963583, -1.2001184162791918, 0.6190840465127015, 1.2339947962318631, -0.8187481609627966, -1.5506335715530588, 0.27012562568802667, -0.4171533248547998, -0.8984022932891833, -1.3991492296082042, -0.5598386542022132, 1.1269459966469904, 1.8281568708288565, -0.406172312652385, -0.1640700800271707, -1.040967602120725, -1.0298408006190567, -1.5270696190537125, -0.2873013178148533, 2.356989409619273, 1.3783874582632833, -0.5733734484701256, -1.3093978213393007, -0.031035089615515692, -1.0539086734360197, 1.319453591012269, -0.5158746252674392, 0.4087916669098679, -0.6591222849766853, -2.197209533022403, 0.0022492549136631694, 0.8021121429442958, 1.461573563904791, 1.233482781292835, -0.2713433242778099, 0.09255866193143845, -0.9387691637262042, -1.3143626501216688], \"xaxis\": \"x11\", \"yaxis\": \"y11\"}, {\"line\": {\"color\": \"rgba(128, 128, 128, 1.0)\", \"dash\": \"solid\", \"shape\": \"linear\", \"width\": 1.3}, \"marker\": {\"size\": 2, \"symbol\": \"circle\"}, \"mode\": \"markers\", \"name\": \"C\", \"text\": \"\", \"type\": \"scatter\", \"x\": [1.6314890263197093, -0.6965718949158347, 0.35084318365036765, -1.2222638113329922, 0.6057486684596096, 0.1452009905992692, -0.6668275595094052, 0.49909495279141736, -1.1829092869149782, 0.6705087643248491, 0.8622858501949637, 1.225417623604347, 1.755725704148251, 1.1309847736467293, -0.5336105481216621, 0.7107270765748982, 2.0435749991999623, 1.2961399551551187, -1.6630925483891579, 0.4230686092321981, -1.1447678627644444, 0.5153826472117116, -0.0002649357515297671, 0.31907947552678717, 1.9410031412628177, 1.3972847873794798, -0.3360358659654972, 1.1498644432680514, 1.1186222369629626, -1.0632158208343334, -0.05930212027860439, 1.9594955868731154, -1.4415945415090048, 0.5543778984758491, 1.6684568260885326, -0.9657872528147986, -0.275521957970055, -0.18596131515277367, 0.8938964819496332, 1.2875885101092677, -0.4272488078580057, -0.26185929298795513, 0.47858563361446205, -0.28598242623725545, 0.38454741202639714, -1.3527736346922408, 1.5444272867441986, -0.3570274407771999, -0.7262802270049282, 1.2520672171528433, 0.5073482762541652, -0.010703223441998921, -0.7018499206350687, -0.010451541881170784, -0.24866318791685305, -0.8482855975753855, 0.8344833151665356, 1.1409383112926403, -1.3915829568990927, -0.30856369866854416, 0.7064812547399467, -0.8545392957094377, 1.0022935778450717, -0.9919371688360995, 0.36963442707580324, -0.5629342487974898, 0.16960105239569848, -0.40362658397962303, -1.6780961091806244, -0.9687692761826167, -0.5029640394538285, 0.23498051849444426, -0.6979677180565823, 0.9919702901846777, -2.3777343087528027, -1.227705051199071, -0.059914758678974736, 1.672020587047513, -1.9817420768305458, -0.5382447203064389, -1.2468599687743567, 1.0967785445323446, -1.294038898804085, -0.38134039447576606, 0.8389213301310103, 0.7556168393816037, 2.0671722471818614, 1.3722760538868541, -0.42438600997816767, 1.4249998743946992, 0.2601743447370759, 0.020246716306334817, -0.7555172138596694, 0.07425581796169935, -2.5711289485102866, -0.9898595722162504, -0.24067441805738782, -1.991382303709734, 0.23063973668514276, 1.278168487899292], \"xaxis\": \"x12\", \"y\": [-0.47714094631062437, -1.3345994918462734, -0.09706841022884331, 1.1968284173047101, -0.6781421534686967, 0.43159356038013935, 0.6835822972305295, 1.5711798443259752, -0.27737562899744533, 0.5994425730797492, -0.15410497991092595, 1.0107493932087777, 0.15790142926355047, -0.8841180511952776, -1.3350209756308677, 0.5485462338639149, -0.8619817842262595, -0.7168525530062234, 1.1273469677020778, 0.8730206000954404, -0.24702144524183348, 0.7880028275551544, 0.2071746893225869, -0.029225038016002854, 1.865403567959548, 0.11538188550007665, 1.269548326304167, 0.16509610572813474, 0.8999860999795253, -0.0354781432835169, -0.49133860040138927, 0.9079135076642156, -0.8114482812530663, 0.8220565081765221, 0.39946462690287393, -0.5547203946074728, -1.62037719639545, 0.26472999659299234, -0.45658294841827207, -1.2614757474644993, -0.43639157115159743, 1.2881598359634865, -0.23110420853353672, -0.4744266952361845, 0.8272940547801969, -0.477104784804838, -0.7963256279031508, -0.8925126287583691, -1.5330790864952706, 0.6151987020079225, 0.4591690773644197, -1.5059313243649641, 0.29372259009452656, 1.1736766502681213, 0.7310143871935828, 0.22948656932661435, 0.9737063267905761, 0.9345629639664688, -0.7114277853243768, 0.5927372448969023, 0.285849459719758, 0.60474917891961, -0.6367443989963583, -1.2001184162791918, 0.6190840465127015, 1.2339947962318631, -0.8187481609627966, -1.5506335715530588, 0.27012562568802667, -0.4171533248547998, -0.8984022932891833, -1.3991492296082042, -0.5598386542022132, 1.1269459966469904, 1.8281568708288565, -0.406172312652385, -0.1640700800271707, -1.040967602120725, -1.0298408006190567, -1.5270696190537125, -0.2873013178148533, 2.356989409619273, 1.3783874582632833, -0.5733734484701256, -1.3093978213393007, -0.031035089615515692, -1.0539086734360197, 1.319453591012269, -0.5158746252674392, 0.4087916669098679, -0.6591222849766853, -2.197209533022403, 0.0022492549136631694, 0.8021121429442958, 1.461573563904791, 1.233482781292835, -0.2713433242778099, 0.09255866193143845, -0.9387691637262042, -1.3143626501216688], \"yaxis\": \"y12\"}, {\"line\": {\"color\": \"rgba(128, 128, 128, 1.0)\", \"dash\": \"solid\", \"shape\": \"linear\", \"width\": 1.3}, \"marker\": {\"size\": 2, \"symbol\": \"circle\"}, \"mode\": \"markers\", \"name\": \"D\", \"text\": \"\", \"type\": \"scatter\", \"x\": [1.061473280205822, 0.7788035401649821, -0.2843131564415733, 0.4028606011071929, -1.0353566473067173, -1.5925881310692422, 0.03764451610017262, 0.09321189582306758, -0.4176584649435947, 1.3425792835433714, 1.0266554020785341, -0.3509763266194384, -1.1578507094975032, -0.10767980405124133, -0.7659349830162048, 0.6359970746835948, 0.781389848793117, -0.20999618974658754, -0.4724551602521327, -1.2611520993994236, 0.5011595968288648, 2.5021298775570124, -2.2161401806538175, -0.4213098675783744, 1.406278824461392, 1.0245563932292865, 0.05793642079927353, 0.5172455234185414, 0.23237803736898088, -0.36851140968886364, -0.02331748092877489, 1.1344686849252197, 0.16803740412380333, -1.3287890912409976, 0.7879241292820391, -0.005548678959254899, 0.8329045559462215, -0.7430868096641571, -1.133100937544328, 0.7006688816822035, 2.035632575118046, 0.5325886928830186, -0.8599991780600442, 0.15505475981508404, -0.2783228994628211, -0.0935045987798122, 0.257383871747999, 0.9458026852206287, 0.0523970154360034, 0.028677167605447113, 1.9243754536472717, -1.4517638419797148, -0.42240872112290845, -0.6830010989045584, 0.8998411440376746, 0.5661636957875802, 1.8078923338402904, -0.1211574749952134, 1.1628256796583745, -0.7747340750216297, -1.663603001451258, 0.6205659519924192, 1.1066279064691593, -0.4714356459473895, -0.6334083024936795, 0.7840050962817294, 0.5777402499571723, 0.13624915721450132, 0.12080615947972986, -0.7310373593845643, 2.0878737842304975, -1.260657602083573, -0.9781991587314987, 0.02552177479888971, -1.5312019439825595, 0.3819009284644589, 0.9627266602138024, -0.36528374506782496, -0.01330698839724629, -1.057342126647745, 0.026874897028896363, 1.4579519802072136, 0.3436411938175002, -0.15839574242186497, 0.9993958159176821, -0.8926368337194085, -0.427317895602847, 0.6220513939400963, 0.4957072394399795, -0.19188201177565387, -0.7045958601968229, -0.18917637706476753, -0.577505244222488, -0.6040999190689166, 0.16031718046731083, -0.7914776160554775, 1.025058265396455, 1.5523763416710603, 1.729160350179526, 0.28383053480712556], \"xaxis\": \"x13\", \"y\": [1.6314890263197093, -0.6965718949158347, 0.35084318365036765, -1.2222638113329922, 0.6057486684596096, 0.1452009905992692, -0.6668275595094052, 0.49909495279141736, -1.1829092869149782, 0.6705087643248491, 0.8622858501949637, 1.225417623604347, 1.755725704148251, 1.1309847736467293, -0.5336105481216621, 0.7107270765748982, 2.0435749991999623, 1.2961399551551187, -1.6630925483891579, 0.4230686092321981, -1.1447678627644444, 0.5153826472117116, -0.0002649357515297671, 0.31907947552678717, 1.9410031412628177, 1.3972847873794798, -0.3360358659654972, 1.1498644432680514, 1.1186222369629626, -1.0632158208343334, -0.05930212027860439, 1.9594955868731154, -1.4415945415090048, 0.5543778984758491, 1.6684568260885326, -0.9657872528147986, -0.275521957970055, -0.18596131515277367, 0.8938964819496332, 1.2875885101092677, -0.4272488078580057, -0.26185929298795513, 0.47858563361446205, -0.28598242623725545, 0.38454741202639714, -1.3527736346922408, 1.5444272867441986, -0.3570274407771999, -0.7262802270049282, 1.2520672171528433, 0.5073482762541652, -0.010703223441998921, -0.7018499206350687, -0.010451541881170784, -0.24866318791685305, -0.8482855975753855, 0.8344833151665356, 1.1409383112926403, -1.3915829568990927, -0.30856369866854416, 0.7064812547399467, -0.8545392957094377, 1.0022935778450717, -0.9919371688360995, 0.36963442707580324, -0.5629342487974898, 0.16960105239569848, -0.40362658397962303, -1.6780961091806244, -0.9687692761826167, -0.5029640394538285, 0.23498051849444426, -0.6979677180565823, 0.9919702901846777, -2.3777343087528027, -1.227705051199071, -0.059914758678974736, 1.672020587047513, -1.9817420768305458, -0.5382447203064389, -1.2468599687743567, 1.0967785445323446, -1.294038898804085, -0.38134039447576606, 0.8389213301310103, 0.7556168393816037, 2.0671722471818614, 1.3722760538868541, -0.42438600997816767, 1.4249998743946992, 0.2601743447370759, 0.020246716306334817, -0.7555172138596694, 0.07425581796169935, -2.5711289485102866, -0.9898595722162504, -0.24067441805738782, -1.991382303709734, 0.23063973668514276, 1.278168487899292], \"yaxis\": \"y13\"}, {\"line\": {\"color\": \"rgba(128, 128, 128, 1.0)\", \"dash\": \"solid\", \"shape\": \"linear\", \"width\": 1.3}, \"marker\": {\"size\": 2, \"symbol\": \"circle\"}, \"mode\": \"markers\", \"name\": \"D\", \"text\": \"\", \"type\": \"scatter\", \"x\": [-0.1502090526950633, -1.4730229850054035, 0.8343967846403096, 0.07881786533117169, 0.2173963689453169, -0.5528080492436792, -1.6258453109586075, -0.6767305514654233, -0.14300288693546617, 0.4496954555587184, -0.01257683703554524, -0.28528865085325283, -0.6211655838808301, -0.2088464084433686, 0.11963905119676699, -0.33498296236193226, -0.33505878250702303, 1.7253129170246115, -1.1653926642573262, 0.3805949514809733, 0.09743708259195785, -1.0379640975634625, 0.15098100983051105, 0.4318977678868364, 0.4963469437410477, 0.028512895291313973, -1.0979847878044142, 0.3971856542241418, -0.7638507427802923, 0.04362940403433376, 0.5493903482135887, 0.43290716796591083, -0.44521194333356084, 0.9661060689292932, 0.44210330235753237, 0.03321214661252483, -0.48936726967185207, -0.9304182896274302, 1.6968215447462103, -0.278502027157531, 0.35962316230753194, 0.1694672554621009, 1.3463629130177368, -0.4773321454887906, 0.7558264273744825, 0.30602848551497713, 1.077734325636297, -0.06665598912475737, -0.40947446944564386, -1.046290912810996, 0.15155824818897423, 0.9479235219129352, 0.5012297209712162, 0.7202543172706395, 1.2146155916317036, -0.761540003341629, 1.4216908347738988, -0.8083797165101845, -0.9598316539739877, 0.3250456999210159, 0.7784293978884731, 0.2913806361130591, -0.7031204864984019, -0.848852060370494, 1.3077008994967214, 2.3441676335625856, 0.6737609401575443, -0.025823768466770602, -0.7677235483223626, -0.06131394849974311, 0.039052404999263476, 0.054768492284818365, -0.8498106331641933, 0.706498180370543, -1.2607512917177826, -0.41172978961905266, -0.2707358279752124, 0.23025681528889977, 0.5539822404638315, -0.08288867817875158, -0.997771161936249, -0.678778928533606, -1.1474059797681828, 0.13050467561654697, -0.20127543952445254, 1.1734867634071395, -0.14447033334416912, -0.7768356529113692, 2.108155468791955, 0.2577470285525313, 0.34417938196510817, -1.077596212923613, -0.6645104260980493, 0.5900139902104728, -0.8875170695082091, 1.6232057752672975, -0.4425887211319952, -0.11476017820101533, -0.33938732454496534, 0.8827855572707493], \"xaxis\": \"x14\", \"y\": [1.6314890263197093, -0.6965718949158347, 0.35084318365036765, -1.2222638113329922, 0.6057486684596096, 0.1452009905992692, -0.6668275595094052, 0.49909495279141736, -1.1829092869149782, 0.6705087643248491, 0.8622858501949637, 1.225417623604347, 1.755725704148251, 1.1309847736467293, -0.5336105481216621, 0.7107270765748982, 2.0435749991999623, 1.2961399551551187, -1.6630925483891579, 0.4230686092321981, -1.1447678627644444, 0.5153826472117116, -0.0002649357515297671, 0.31907947552678717, 1.9410031412628177, 1.3972847873794798, -0.3360358659654972, 1.1498644432680514, 1.1186222369629626, -1.0632158208343334, -0.05930212027860439, 1.9594955868731154, -1.4415945415090048, 0.5543778984758491, 1.6684568260885326, -0.9657872528147986, -0.275521957970055, -0.18596131515277367, 0.8938964819496332, 1.2875885101092677, -0.4272488078580057, -0.26185929298795513, 0.47858563361446205, -0.28598242623725545, 0.38454741202639714, -1.3527736346922408, 1.5444272867441986, -0.3570274407771999, -0.7262802270049282, 1.2520672171528433, 0.5073482762541652, -0.010703223441998921, -0.7018499206350687, -0.010451541881170784, -0.24866318791685305, -0.8482855975753855, 0.8344833151665356, 1.1409383112926403, -1.3915829568990927, -0.30856369866854416, 0.7064812547399467, -0.8545392957094377, 1.0022935778450717, -0.9919371688360995, 0.36963442707580324, -0.5629342487974898, 0.16960105239569848, -0.40362658397962303, -1.6780961091806244, -0.9687692761826167, -0.5029640394538285, 0.23498051849444426, -0.6979677180565823, 0.9919702901846777, -2.3777343087528027, -1.227705051199071, -0.059914758678974736, 1.672020587047513, -1.9817420768305458, -0.5382447203064389, -1.2468599687743567, 1.0967785445323446, -1.294038898804085, -0.38134039447576606, 0.8389213301310103, 0.7556168393816037, 2.0671722471818614, 1.3722760538868541, -0.42438600997816767, 1.4249998743946992, 0.2601743447370759, 0.020246716306334817, -0.7555172138596694, 0.07425581796169935, -2.5711289485102866, -0.9898595722162504, -0.24067441805738782, -1.991382303709734, 0.23063973668514276, 1.278168487899292], \"yaxis\": \"y14\"}, {\"line\": {\"color\": \"rgba(128, 128, 128, 1.0)\", \"dash\": \"solid\", \"shape\": \"linear\", \"width\": 1.3}, \"marker\": {\"size\": 2, \"symbol\": \"circle\"}, \"mode\": \"markers\", \"name\": \"D\", \"text\": \"\", \"type\": \"scatter\", \"x\": [-0.47714094631062437, -1.3345994918462734, -0.09706841022884331, 1.1968284173047101, -0.6781421534686967, 0.43159356038013935, 0.6835822972305295, 1.5711798443259752, -0.27737562899744533, 0.5994425730797492, -0.15410497991092595, 1.0107493932087777, 0.15790142926355047, -0.8841180511952776, -1.3350209756308677, 0.5485462338639149, -0.8619817842262595, -0.7168525530062234, 1.1273469677020778, 0.8730206000954404, -0.24702144524183348, 0.7880028275551544, 0.2071746893225869, -0.029225038016002854, 1.865403567959548, 0.11538188550007665, 1.269548326304167, 0.16509610572813474, 0.8999860999795253, -0.0354781432835169, -0.49133860040138927, 0.9079135076642156, -0.8114482812530663, 0.8220565081765221, 0.39946462690287393, -0.5547203946074728, -1.62037719639545, 0.26472999659299234, -0.45658294841827207, -1.2614757474644993, -0.43639157115159743, 1.2881598359634865, -0.23110420853353672, -0.4744266952361845, 0.8272940547801969, -0.477104784804838, -0.7963256279031508, -0.8925126287583691, -1.5330790864952706, 0.6151987020079225, 0.4591690773644197, -1.5059313243649641, 0.29372259009452656, 1.1736766502681213, 0.7310143871935828, 0.22948656932661435, 0.9737063267905761, 0.9345629639664688, -0.7114277853243768, 0.5927372448969023, 0.285849459719758, 0.60474917891961, -0.6367443989963583, -1.2001184162791918, 0.6190840465127015, 1.2339947962318631, -0.8187481609627966, -1.5506335715530588, 0.27012562568802667, -0.4171533248547998, -0.8984022932891833, -1.3991492296082042, -0.5598386542022132, 1.1269459966469904, 1.8281568708288565, -0.406172312652385, -0.1640700800271707, -1.040967602120725, -1.0298408006190567, -1.5270696190537125, -0.2873013178148533, 2.356989409619273, 1.3783874582632833, -0.5733734484701256, -1.3093978213393007, -0.031035089615515692, -1.0539086734360197, 1.319453591012269, -0.5158746252674392, 0.4087916669098679, -0.6591222849766853, -2.197209533022403, 0.0022492549136631694, 0.8021121429442958, 1.461573563904791, 1.233482781292835, -0.2713433242778099, 0.09255866193143845, -0.9387691637262042, -1.3143626501216688], \"xaxis\": \"x15\", \"y\": [1.6314890263197093, -0.6965718949158347, 0.35084318365036765, -1.2222638113329922, 0.6057486684596096, 0.1452009905992692, -0.6668275595094052, 0.49909495279141736, -1.1829092869149782, 0.6705087643248491, 0.8622858501949637, 1.225417623604347, 1.755725704148251, 1.1309847736467293, -0.5336105481216621, 0.7107270765748982, 2.0435749991999623, 1.2961399551551187, -1.6630925483891579, 0.4230686092321981, -1.1447678627644444, 0.5153826472117116, -0.0002649357515297671, 0.31907947552678717, 1.9410031412628177, 1.3972847873794798, -0.3360358659654972, 1.1498644432680514, 1.1186222369629626, -1.0632158208343334, -0.05930212027860439, 1.9594955868731154, -1.4415945415090048, 0.5543778984758491, 1.6684568260885326, -0.9657872528147986, -0.275521957970055, -0.18596131515277367, 0.8938964819496332, 1.2875885101092677, -0.4272488078580057, -0.26185929298795513, 0.47858563361446205, -0.28598242623725545, 0.38454741202639714, -1.3527736346922408, 1.5444272867441986, -0.3570274407771999, -0.7262802270049282, 1.2520672171528433, 0.5073482762541652, -0.010703223441998921, -0.7018499206350687, -0.010451541881170784, -0.24866318791685305, -0.8482855975753855, 0.8344833151665356, 1.1409383112926403, -1.3915829568990927, -0.30856369866854416, 0.7064812547399467, -0.8545392957094377, 1.0022935778450717, -0.9919371688360995, 0.36963442707580324, -0.5629342487974898, 0.16960105239569848, -0.40362658397962303, -1.6780961091806244, -0.9687692761826167, -0.5029640394538285, 0.23498051849444426, -0.6979677180565823, 0.9919702901846777, -2.3777343087528027, -1.227705051199071, -0.059914758678974736, 1.672020587047513, -1.9817420768305458, -0.5382447203064389, -1.2468599687743567, 1.0967785445323446, -1.294038898804085, -0.38134039447576606, 0.8389213301310103, 0.7556168393816037, 2.0671722471818614, 1.3722760538868541, -0.42438600997816767, 1.4249998743946992, 0.2601743447370759, 0.020246716306334817, -0.7555172138596694, 0.07425581796169935, -2.5711289485102866, -0.9898595722162504, -0.24067441805738782, -1.991382303709734, 0.23063973668514276, 1.278168487899292], \"yaxis\": \"y15\"}, {\"histfunc\": \"count\", \"histnorm\": \"\", \"marker\": {\"color\": \"rgba(128, 0, 128, 1.0)\", \"line\": {\"color\": \"#4D5663\", \"width\": 1.3}}, \"name\": \"D\", \"nbinsx\": 10, \"opacity\": 0.8, \"orientation\": \"v\", \"type\": \"histogram\", \"x\": [1.6314890263197093, -0.6965718949158347, 0.35084318365036765, -1.2222638113329922, 0.6057486684596096, 0.1452009905992692, -0.6668275595094052, 0.49909495279141736, -1.1829092869149782, 0.6705087643248491, 0.8622858501949637, 1.225417623604347, 1.755725704148251, 1.1309847736467293, -0.5336105481216621, 0.7107270765748982, 2.0435749991999623, 1.2961399551551187, -1.6630925483891579, 0.4230686092321981, -1.1447678627644444, 0.5153826472117116, -0.0002649357515297671, 0.31907947552678717, 1.9410031412628177, 1.3972847873794798, -0.3360358659654972, 1.1498644432680514, 1.1186222369629626, -1.0632158208343334, -0.05930212027860439, 1.9594955868731154, -1.4415945415090048, 0.5543778984758491, 1.6684568260885326, -0.9657872528147986, -0.275521957970055, -0.18596131515277367, 0.8938964819496332, 1.2875885101092677, -0.4272488078580057, -0.26185929298795513, 0.47858563361446205, -0.28598242623725545, 0.38454741202639714, -1.3527736346922408, 1.5444272867441986, -0.3570274407771999, -0.7262802270049282, 1.2520672171528433, 0.5073482762541652, -0.010703223441998921, -0.7018499206350687, -0.010451541881170784, -0.24866318791685305, -0.8482855975753855, 0.8344833151665356, 1.1409383112926403, -1.3915829568990927, -0.30856369866854416, 0.7064812547399467, -0.8545392957094377, 1.0022935778450717, -0.9919371688360995, 0.36963442707580324, -0.5629342487974898, 0.16960105239569848, -0.40362658397962303, -1.6780961091806244, -0.9687692761826167, -0.5029640394538285, 0.23498051849444426, -0.6979677180565823, 0.9919702901846777, -2.3777343087528027, -1.227705051199071, -0.059914758678974736, 1.672020587047513, -1.9817420768305458, -0.5382447203064389, -1.2468599687743567, 1.0967785445323446, -1.294038898804085, -0.38134039447576606, 0.8389213301310103, 0.7556168393816037, 2.0671722471818614, 1.3722760538868541, -0.42438600997816767, 1.4249998743946992, 0.2601743447370759, 0.020246716306334817, -0.7555172138596694, 0.07425581796169935, -2.5711289485102866, -0.9898595722162504, -0.24067441805738782, -1.991382303709734, 0.23063973668514276, 1.278168487899292], \"xaxis\": \"x16\", \"yaxis\": \"y16\"}],                        {\"bargap\": 0.02, \"legend\": {\"bgcolor\": \"#F5F6F9\", \"font\": {\"color\": \"#4D5663\"}}, \"paper_bgcolor\": \"#F5F6F9\", \"plot_bgcolor\": \"#F5F6F9\", \"showlegend\": false, \"template\": {\"data\": {\"bar\": [{\"error_x\": {\"color\": \"#2a3f5f\"}, \"error_y\": {\"color\": \"#2a3f5f\"}, \"marker\": {\"line\": {\"color\": \"#E5ECF6\", \"width\": 0.5}}, \"type\": \"bar\"}], \"barpolar\": [{\"marker\": {\"line\": {\"color\": \"#E5ECF6\", \"width\": 0.5}}, \"type\": \"barpolar\"}], \"carpet\": [{\"aaxis\": {\"endlinecolor\": \"#2a3f5f\", \"gridcolor\": \"white\", \"linecolor\": \"white\", \"minorgridcolor\": \"white\", \"startlinecolor\": \"#2a3f5f\"}, \"baxis\": {\"endlinecolor\": \"#2a3f5f\", \"gridcolor\": \"white\", \"linecolor\": \"white\", \"minorgridcolor\": \"white\", \"startlinecolor\": \"#2a3f5f\"}, \"type\": \"carpet\"}], \"choropleth\": [{\"colorbar\": {\"outlinewidth\": 0, \"ticks\": \"\"}, \"type\": \"choropleth\"}], \"contour\": [{\"colorbar\": {\"outlinewidth\": 0, \"ticks\": \"\"}, \"colorscale\": [[0.0, \"#0d0887\"], [0.1111111111111111, \"#46039f\"], [0.2222222222222222, \"#7201a8\"], [0.3333333333333333, \"#9c179e\"], [0.4444444444444444, \"#bd3786\"], [0.5555555555555556, \"#d8576b\"], [0.6666666666666666, \"#ed7953\"], [0.7777777777777778, \"#fb9f3a\"], [0.8888888888888888, \"#fdca26\"], [1.0, \"#f0f921\"]], \"type\": \"contour\"}], \"contourcarpet\": [{\"colorbar\": {\"outlinewidth\": 0, \"ticks\": \"\"}, \"type\": \"contourcarpet\"}], \"heatmap\": [{\"colorbar\": {\"outlinewidth\": 0, \"ticks\": \"\"}, \"colorscale\": [[0.0, \"#0d0887\"], [0.1111111111111111, \"#46039f\"], [0.2222222222222222, \"#7201a8\"], [0.3333333333333333, \"#9c179e\"], [0.4444444444444444, \"#bd3786\"], [0.5555555555555556, \"#d8576b\"], [0.6666666666666666, \"#ed7953\"], [0.7777777777777778, \"#fb9f3a\"], [0.8888888888888888, \"#fdca26\"], [1.0, \"#f0f921\"]], \"type\": \"heatmap\"}], \"heatmapgl\": [{\"colorbar\": {\"outlinewidth\": 0, \"ticks\": \"\"}, \"colorscale\": [[0.0, \"#0d0887\"], [0.1111111111111111, \"#46039f\"], [0.2222222222222222, \"#7201a8\"], [0.3333333333333333, \"#9c179e\"], [0.4444444444444444, \"#bd3786\"], [0.5555555555555556, \"#d8576b\"], [0.6666666666666666, \"#ed7953\"], [0.7777777777777778, \"#fb9f3a\"], [0.8888888888888888, \"#fdca26\"], [1.0, \"#f0f921\"]], \"type\": \"heatmapgl\"}], \"histogram\": [{\"marker\": {\"colorbar\": {\"outlinewidth\": 0, \"ticks\": \"\"}}, \"type\": \"histogram\"}], \"histogram2d\": [{\"colorbar\": {\"outlinewidth\": 0, \"ticks\": \"\"}, \"colorscale\": [[0.0, \"#0d0887\"], [0.1111111111111111, \"#46039f\"], [0.2222222222222222, \"#7201a8\"], [0.3333333333333333, \"#9c179e\"], [0.4444444444444444, \"#bd3786\"], [0.5555555555555556, \"#d8576b\"], [0.6666666666666666, \"#ed7953\"], [0.7777777777777778, \"#fb9f3a\"], [0.8888888888888888, \"#fdca26\"], [1.0, \"#f0f921\"]], \"type\": \"histogram2d\"}], \"histogram2dcontour\": [{\"colorbar\": {\"outlinewidth\": 0, \"ticks\": \"\"}, \"colorscale\": [[0.0, \"#0d0887\"], [0.1111111111111111, \"#46039f\"], [0.2222222222222222, \"#7201a8\"], [0.3333333333333333, \"#9c179e\"], [0.4444444444444444, \"#bd3786\"], [0.5555555555555556, \"#d8576b\"], [0.6666666666666666, \"#ed7953\"], [0.7777777777777778, \"#fb9f3a\"], [0.8888888888888888, \"#fdca26\"], [1.0, \"#f0f921\"]], \"type\": \"histogram2dcontour\"}], \"mesh3d\": [{\"colorbar\": {\"outlinewidth\": 0, \"ticks\": \"\"}, \"type\": \"mesh3d\"}], \"parcoords\": [{\"line\": {\"colorbar\": {\"outlinewidth\": 0, \"ticks\": \"\"}}, \"type\": \"parcoords\"}], \"pie\": [{\"automargin\": true, \"type\": \"pie\"}], \"scatter\": [{\"marker\": {\"colorbar\": {\"outlinewidth\": 0, \"ticks\": \"\"}}, \"type\": \"scatter\"}], \"scatter3d\": [{\"line\": {\"colorbar\": {\"outlinewidth\": 0, \"ticks\": \"\"}}, \"marker\": {\"colorbar\": {\"outlinewidth\": 0, \"ticks\": \"\"}}, \"type\": \"scatter3d\"}], \"scattercarpet\": [{\"marker\": {\"colorbar\": {\"outlinewidth\": 0, \"ticks\": \"\"}}, \"type\": \"scattercarpet\"}], \"scattergeo\": [{\"marker\": {\"colorbar\": {\"outlinewidth\": 0, \"ticks\": \"\"}}, \"type\": \"scattergeo\"}], \"scattergl\": [{\"marker\": {\"colorbar\": {\"outlinewidth\": 0, \"ticks\": \"\"}}, \"type\": \"scattergl\"}], \"scattermapbox\": [{\"marker\": {\"colorbar\": {\"outlinewidth\": 0, \"ticks\": \"\"}}, \"type\": \"scattermapbox\"}], \"scatterpolar\": [{\"marker\": {\"colorbar\": {\"outlinewidth\": 0, \"ticks\": \"\"}}, \"type\": \"scatterpolar\"}], \"scatterpolargl\": [{\"marker\": {\"colorbar\": {\"outlinewidth\": 0, \"ticks\": \"\"}}, \"type\": \"scatterpolargl\"}], \"scatterternary\": [{\"marker\": {\"colorbar\": {\"outlinewidth\": 0, \"ticks\": \"\"}}, \"type\": \"scatterternary\"}], \"surface\": [{\"colorbar\": {\"outlinewidth\": 0, \"ticks\": \"\"}, \"colorscale\": [[0.0, \"#0d0887\"], [0.1111111111111111, \"#46039f\"], [0.2222222222222222, \"#7201a8\"], [0.3333333333333333, \"#9c179e\"], [0.4444444444444444, \"#bd3786\"], [0.5555555555555556, \"#d8576b\"], [0.6666666666666666, \"#ed7953\"], [0.7777777777777778, \"#fb9f3a\"], [0.8888888888888888, \"#fdca26\"], [1.0, \"#f0f921\"]], \"type\": \"surface\"}], \"table\": [{\"cells\": {\"fill\": {\"color\": \"#EBF0F8\"}, \"line\": {\"color\": \"white\"}}, \"header\": {\"fill\": {\"color\": \"#C8D4E3\"}, \"line\": {\"color\": \"white\"}}, \"type\": \"table\"}]}, \"layout\": {\"annotationdefaults\": {\"arrowcolor\": \"#2a3f5f\", \"arrowhead\": 0, \"arrowwidth\": 1}, \"autotypenumbers\": \"strict\", \"coloraxis\": {\"colorbar\": {\"outlinewidth\": 0, \"ticks\": \"\"}}, \"colorscale\": {\"diverging\": [[0, \"#8e0152\"], [0.1, \"#c51b7d\"], [0.2, \"#de77ae\"], [0.3, \"#f1b6da\"], [0.4, \"#fde0ef\"], [0.5, \"#f7f7f7\"], [0.6, \"#e6f5d0\"], [0.7, \"#b8e186\"], [0.8, \"#7fbc41\"], [0.9, \"#4d9221\"], [1, \"#276419\"]], \"sequential\": [[0.0, \"#0d0887\"], [0.1111111111111111, \"#46039f\"], [0.2222222222222222, \"#7201a8\"], [0.3333333333333333, \"#9c179e\"], [0.4444444444444444, \"#bd3786\"], [0.5555555555555556, \"#d8576b\"], [0.6666666666666666, \"#ed7953\"], [0.7777777777777778, \"#fb9f3a\"], [0.8888888888888888, \"#fdca26\"], [1.0, \"#f0f921\"]], \"sequentialminus\": [[0.0, \"#0d0887\"], [0.1111111111111111, \"#46039f\"], [0.2222222222222222, \"#7201a8\"], [0.3333333333333333, \"#9c179e\"], [0.4444444444444444, \"#bd3786\"], [0.5555555555555556, \"#d8576b\"], [0.6666666666666666, \"#ed7953\"], [0.7777777777777778, \"#fb9f3a\"], [0.8888888888888888, \"#fdca26\"], [1.0, \"#f0f921\"]]}, \"colorway\": [\"#636efa\", \"#EF553B\", \"#00cc96\", \"#ab63fa\", \"#FFA15A\", \"#19d3f3\", \"#FF6692\", \"#B6E880\", \"#FF97FF\", \"#FECB52\"], \"font\": {\"color\": \"#2a3f5f\"}, \"geo\": {\"bgcolor\": \"white\", \"lakecolor\": \"white\", \"landcolor\": \"#E5ECF6\", \"showlakes\": true, \"showland\": true, \"subunitcolor\": \"white\"}, \"hoverlabel\": {\"align\": \"left\"}, \"hovermode\": \"closest\", \"mapbox\": {\"style\": \"light\"}, \"paper_bgcolor\": \"white\", \"plot_bgcolor\": \"#E5ECF6\", \"polar\": {\"angularaxis\": {\"gridcolor\": \"white\", \"linecolor\": \"white\", \"ticks\": \"\"}, \"bgcolor\": \"#E5ECF6\", \"radialaxis\": {\"gridcolor\": \"white\", \"linecolor\": \"white\", \"ticks\": \"\"}}, \"scene\": {\"xaxis\": {\"backgroundcolor\": \"#E5ECF6\", \"gridcolor\": \"white\", \"gridwidth\": 2, \"linecolor\": \"white\", \"showbackground\": true, \"ticks\": \"\", \"zerolinecolor\": \"white\"}, \"yaxis\": {\"backgroundcolor\": \"#E5ECF6\", \"gridcolor\": \"white\", \"gridwidth\": 2, \"linecolor\": \"white\", \"showbackground\": true, \"ticks\": \"\", \"zerolinecolor\": \"white\"}, \"zaxis\": {\"backgroundcolor\": \"#E5ECF6\", \"gridcolor\": \"white\", \"gridwidth\": 2, \"linecolor\": \"white\", \"showbackground\": true, \"ticks\": \"\", \"zerolinecolor\": \"white\"}}, \"shapedefaults\": {\"line\": {\"color\": \"#2a3f5f\"}}, \"ternary\": {\"aaxis\": {\"gridcolor\": \"white\", \"linecolor\": \"white\", \"ticks\": \"\"}, \"baxis\": {\"gridcolor\": \"white\", \"linecolor\": \"white\", \"ticks\": \"\"}, \"bgcolor\": \"#E5ECF6\", \"caxis\": {\"gridcolor\": \"white\", \"linecolor\": \"white\", \"ticks\": \"\"}}, \"title\": {\"x\": 0.05}, \"xaxis\": {\"automargin\": true, \"gridcolor\": \"white\", \"linecolor\": \"white\", \"ticks\": \"\", \"title\": {\"standoff\": 15}, \"zerolinecolor\": \"white\", \"zerolinewidth\": 2}, \"yaxis\": {\"automargin\": true, \"gridcolor\": \"white\", \"linecolor\": \"white\", \"ticks\": \"\", \"title\": {\"standoff\": 15}, \"zerolinecolor\": \"white\", \"zerolinewidth\": 2}}}, \"title\": {\"font\": {\"color\": \"#4D5663\"}}, \"xaxis\": {\"anchor\": \"y\", \"domain\": [0.0, 0.2125], \"gridcolor\": \"#E1E5ED\", \"showgrid\": false, \"tickfont\": {\"color\": \"#4D5663\"}, \"title\": {\"font\": {\"color\": \"#4D5663\"}, \"text\": \"\"}, \"zerolinecolor\": \"#E1E5ED\"}, \"xaxis10\": {\"anchor\": \"y10\", \"domain\": [0.2625, 0.475], \"gridcolor\": \"#E1E5ED\", \"showgrid\": false, \"tickfont\": {\"color\": \"#4D5663\"}, \"title\": {\"font\": {\"color\": \"#4D5663\"}, \"text\": \"\"}, \"zerolinecolor\": \"#E1E5ED\"}, \"xaxis11\": {\"anchor\": \"y11\", \"domain\": [0.525, 0.7375], \"gridcolor\": \"#E1E5ED\", \"showgrid\": false, \"tickfont\": {\"color\": \"#4D5663\"}, \"title\": {\"font\": {\"color\": \"#4D5663\"}, \"text\": \"\"}, \"zerolinecolor\": \"#E1E5ED\"}, \"xaxis12\": {\"anchor\": \"y12\", \"domain\": [0.7875, 1.0], \"gridcolor\": \"#E1E5ED\", \"showgrid\": false, \"tickfont\": {\"color\": \"#4D5663\"}, \"title\": {\"font\": {\"color\": \"#4D5663\"}, \"text\": \"\"}, \"zerolinecolor\": \"#E1E5ED\"}, \"xaxis13\": {\"anchor\": \"y13\", \"domain\": [0.0, 0.2125], \"gridcolor\": \"#E1E5ED\", \"showgrid\": false, \"tickfont\": {\"color\": \"#4D5663\"}, \"title\": {\"font\": {\"color\": \"#4D5663\"}, \"text\": \"\"}, \"zerolinecolor\": \"#E1E5ED\"}, \"xaxis14\": {\"anchor\": \"y14\", \"domain\": [0.2625, 0.475], \"gridcolor\": \"#E1E5ED\", \"showgrid\": false, \"tickfont\": {\"color\": \"#4D5663\"}, \"title\": {\"font\": {\"color\": \"#4D5663\"}, \"text\": \"\"}, \"zerolinecolor\": \"#E1E5ED\"}, \"xaxis15\": {\"anchor\": \"y15\", \"domain\": [0.525, 0.7375], \"gridcolor\": \"#E1E5ED\", \"showgrid\": false, \"tickfont\": {\"color\": \"#4D5663\"}, \"title\": {\"font\": {\"color\": \"#4D5663\"}, \"text\": \"\"}, \"zerolinecolor\": \"#E1E5ED\"}, \"xaxis16\": {\"anchor\": \"y16\", \"domain\": [0.7875, 1.0], \"gridcolor\": \"#E1E5ED\", \"showgrid\": false, \"tickfont\": {\"color\": \"#4D5663\"}, \"title\": {\"font\": {\"color\": \"#4D5663\"}, \"text\": \"\"}, \"zerolinecolor\": \"#E1E5ED\"}, \"xaxis2\": {\"anchor\": \"y2\", \"domain\": [0.2625, 0.475], \"gridcolor\": \"#E1E5ED\", \"showgrid\": false, \"tickfont\": {\"color\": \"#4D5663\"}, \"title\": {\"font\": {\"color\": \"#4D5663\"}, \"text\": \"\"}, \"zerolinecolor\": \"#E1E5ED\"}, \"xaxis3\": {\"anchor\": \"y3\", \"domain\": [0.525, 0.7375], \"gridcolor\": \"#E1E5ED\", \"showgrid\": false, \"tickfont\": {\"color\": \"#4D5663\"}, \"title\": {\"font\": {\"color\": \"#4D5663\"}, \"text\": \"\"}, \"zerolinecolor\": \"#E1E5ED\"}, \"xaxis4\": {\"anchor\": \"y4\", \"domain\": [0.7875, 1.0], \"gridcolor\": \"#E1E5ED\", \"showgrid\": false, \"tickfont\": {\"color\": \"#4D5663\"}, \"title\": {\"font\": {\"color\": \"#4D5663\"}, \"text\": \"\"}, \"zerolinecolor\": \"#E1E5ED\"}, \"xaxis5\": {\"anchor\": \"y5\", \"domain\": [0.0, 0.2125], \"gridcolor\": \"#E1E5ED\", \"showgrid\": false, \"tickfont\": {\"color\": \"#4D5663\"}, \"title\": {\"font\": {\"color\": \"#4D5663\"}, \"text\": \"\"}, \"zerolinecolor\": \"#E1E5ED\"}, \"xaxis6\": {\"anchor\": \"y6\", \"domain\": [0.2625, 0.475], \"gridcolor\": \"#E1E5ED\", \"showgrid\": false, \"tickfont\": {\"color\": \"#4D5663\"}, \"title\": {\"font\": {\"color\": \"#4D5663\"}, \"text\": \"\"}, \"zerolinecolor\": \"#E1E5ED\"}, \"xaxis7\": {\"anchor\": \"y7\", \"domain\": [0.525, 0.7375], \"gridcolor\": \"#E1E5ED\", \"showgrid\": false, \"tickfont\": {\"color\": \"#4D5663\"}, \"title\": {\"font\": {\"color\": \"#4D5663\"}, \"text\": \"\"}, \"zerolinecolor\": \"#E1E5ED\"}, \"xaxis8\": {\"anchor\": \"y8\", \"domain\": [0.7875, 1.0], \"gridcolor\": \"#E1E5ED\", \"showgrid\": false, \"tickfont\": {\"color\": \"#4D5663\"}, \"title\": {\"font\": {\"color\": \"#4D5663\"}, \"text\": \"\"}, \"zerolinecolor\": \"#E1E5ED\"}, \"xaxis9\": {\"anchor\": \"y9\", \"domain\": [0.0, 0.2125], \"gridcolor\": \"#E1E5ED\", \"showgrid\": false, \"tickfont\": {\"color\": \"#4D5663\"}, \"title\": {\"font\": {\"color\": \"#4D5663\"}, \"text\": \"\"}, \"zerolinecolor\": \"#E1E5ED\"}, \"yaxis\": {\"anchor\": \"x\", \"domain\": [0.8025, 1.0], \"gridcolor\": \"#E1E5ED\", \"showgrid\": false, \"tickfont\": {\"color\": \"#4D5663\"}, \"title\": {\"font\": {\"color\": \"#4D5663\"}, \"text\": \"\"}, \"zerolinecolor\": \"#E1E5ED\"}, \"yaxis10\": {\"anchor\": \"x10\", \"domain\": [0.2675, 0.465], \"gridcolor\": \"#E1E5ED\", \"showgrid\": false, \"tickfont\": {\"color\": \"#4D5663\"}, \"title\": {\"font\": {\"color\": \"#4D5663\"}, \"text\": \"\"}, \"zerolinecolor\": \"#E1E5ED\"}, \"yaxis11\": {\"anchor\": \"x11\", \"domain\": [0.2675, 0.465], \"gridcolor\": \"#E1E5ED\", \"showgrid\": false, \"tickfont\": {\"color\": \"#4D5663\"}, \"title\": {\"font\": {\"color\": \"#4D5663\"}, \"text\": \"\"}, \"zerolinecolor\": \"#E1E5ED\"}, \"yaxis12\": {\"anchor\": \"x12\", \"domain\": [0.2675, 0.465], \"gridcolor\": \"#E1E5ED\", \"showgrid\": false, \"tickfont\": {\"color\": \"#4D5663\"}, \"title\": {\"font\": {\"color\": \"#4D5663\"}, \"text\": \"\"}, \"zerolinecolor\": \"#E1E5ED\"}, \"yaxis13\": {\"anchor\": \"x13\", \"domain\": [0.0, 0.1975], \"gridcolor\": \"#E1E5ED\", \"showgrid\": false, \"tickfont\": {\"color\": \"#4D5663\"}, \"title\": {\"font\": {\"color\": \"#4D5663\"}, \"text\": \"\"}, \"zerolinecolor\": \"#E1E5ED\"}, \"yaxis14\": {\"anchor\": \"x14\", \"domain\": [0.0, 0.1975], \"gridcolor\": \"#E1E5ED\", \"showgrid\": false, \"tickfont\": {\"color\": \"#4D5663\"}, \"title\": {\"font\": {\"color\": \"#4D5663\"}, \"text\": \"\"}, \"zerolinecolor\": \"#E1E5ED\"}, \"yaxis15\": {\"anchor\": \"x15\", \"domain\": [0.0, 0.1975], \"gridcolor\": \"#E1E5ED\", \"showgrid\": false, \"tickfont\": {\"color\": \"#4D5663\"}, \"title\": {\"font\": {\"color\": \"#4D5663\"}, \"text\": \"\"}, \"zerolinecolor\": \"#E1E5ED\"}, \"yaxis16\": {\"anchor\": \"x16\", \"domain\": [0.0, 0.1975], \"gridcolor\": \"#E1E5ED\", \"showgrid\": false, \"tickfont\": {\"color\": \"#4D5663\"}, \"title\": {\"font\": {\"color\": \"#4D5663\"}, \"text\": \"\"}, \"zerolinecolor\": \"#E1E5ED\"}, \"yaxis2\": {\"anchor\": \"x2\", \"domain\": [0.8025, 1.0], \"gridcolor\": \"#E1E5ED\", \"showgrid\": false, \"tickfont\": {\"color\": \"#4D5663\"}, \"title\": {\"font\": {\"color\": \"#4D5663\"}, \"text\": \"\"}, \"zerolinecolor\": \"#E1E5ED\"}, \"yaxis3\": {\"anchor\": \"x3\", \"domain\": [0.8025, 1.0], \"gridcolor\": \"#E1E5ED\", \"showgrid\": false, \"tickfont\": {\"color\": \"#4D5663\"}, \"title\": {\"font\": {\"color\": \"#4D5663\"}, \"text\": \"\"}, \"zerolinecolor\": \"#E1E5ED\"}, \"yaxis4\": {\"anchor\": \"x4\", \"domain\": [0.8025, 1.0], \"gridcolor\": \"#E1E5ED\", \"showgrid\": false, \"tickfont\": {\"color\": \"#4D5663\"}, \"title\": {\"font\": {\"color\": \"#4D5663\"}, \"text\": \"\"}, \"zerolinecolor\": \"#E1E5ED\"}, \"yaxis5\": {\"anchor\": \"x5\", \"domain\": [0.535, 0.7325], \"gridcolor\": \"#E1E5ED\", \"showgrid\": false, \"tickfont\": {\"color\": \"#4D5663\"}, \"title\": {\"font\": {\"color\": \"#4D5663\"}, \"text\": \"\"}, \"zerolinecolor\": \"#E1E5ED\"}, \"yaxis6\": {\"anchor\": \"x6\", \"domain\": [0.535, 0.7325], \"gridcolor\": \"#E1E5ED\", \"showgrid\": false, \"tickfont\": {\"color\": \"#4D5663\"}, \"title\": {\"font\": {\"color\": \"#4D5663\"}, \"text\": \"\"}, \"zerolinecolor\": \"#E1E5ED\"}, \"yaxis7\": {\"anchor\": \"x7\", \"domain\": [0.535, 0.7325], \"gridcolor\": \"#E1E5ED\", \"showgrid\": false, \"tickfont\": {\"color\": \"#4D5663\"}, \"title\": {\"font\": {\"color\": \"#4D5663\"}, \"text\": \"\"}, \"zerolinecolor\": \"#E1E5ED\"}, \"yaxis8\": {\"anchor\": \"x8\", \"domain\": [0.535, 0.7325], \"gridcolor\": \"#E1E5ED\", \"showgrid\": false, \"tickfont\": {\"color\": \"#4D5663\"}, \"title\": {\"font\": {\"color\": \"#4D5663\"}, \"text\": \"\"}, \"zerolinecolor\": \"#E1E5ED\"}, \"yaxis9\": {\"anchor\": \"x9\", \"domain\": [0.2675, 0.465], \"gridcolor\": \"#E1E5ED\", \"showgrid\": false, \"tickfont\": {\"color\": \"#4D5663\"}, \"title\": {\"font\": {\"color\": \"#4D5663\"}, \"text\": \"\"}, \"zerolinecolor\": \"#E1E5ED\"}},                        {\"showLink\": true, \"linkText\": \"Export to plot.ly\", \"plotlyServerURL\": \"https://plot.ly\", \"responsive\": true}                    ).then(function(){\n",
       "                            \n",
       "var gd = document.getElementById('a26a32fc-9900-4357-8265-7c06193a8596');\n",
       "var x = new MutationObserver(function (mutations, observer) {{\n",
       "        var display = window.getComputedStyle(gd).display;\n",
       "        if (!display || display === 'none') {{\n",
       "            console.log([gd, 'removed!']);\n",
       "            Plotly.purge(gd);\n",
       "            observer.disconnect();\n",
       "        }}\n",
       "}});\n",
       "\n",
       "// Listen for the removal of the full notebook cells\n",
       "var notebookContainer = gd.closest('#notebook-container');\n",
       "if (notebookContainer) {{\n",
       "    x.observe(notebookContainer, {childList: true});\n",
       "}}\n",
       "\n",
       "// Listen for the clearing of the current output cell\n",
       "var outputEl = gd.closest('.output');\n",
       "if (outputEl) {{\n",
       "    x.observe(outputEl, {childList: true});\n",
       "}}\n",
       "\n",
       "                        })                };                });            </script>        </div>"
      ]
     },
     "metadata": {},
     "output_type": "display_data"
    }
   ],
   "source": [
    "df.scatter_matrix()"
   ]
  },
  {
   "cell_type": "code",
   "execution_count": null,
   "id": "numerous-weather",
   "metadata": {},
   "outputs": [],
   "source": []
  }
 ],
 "metadata": {
  "kernelspec": {
   "display_name": "Python 3",
   "language": "python",
   "name": "python3"
  },
  "language_info": {
   "codemirror_mode": {
    "name": "ipython",
    "version": 3
   },
   "file_extension": ".py",
   "mimetype": "text/x-python",
   "name": "python",
   "nbconvert_exporter": "python",
   "pygments_lexer": "ipython3",
   "version": "3.8.5"
  }
 },
 "nbformat": 4,
 "nbformat_minor": 5
}
