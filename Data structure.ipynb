{
 "cells": [
  {
   "cell_type": "code",
   "execution_count": 1,
   "metadata": {},
   "outputs": [],
   "source": [
    "import array"
   ]
  },
  {
   "cell_type": "code",
   "execution_count": 59,
   "metadata": {},
   "outputs": [
    {
     "name": "stdout",
     "output_type": "stream",
     "text": [
      "The new created array is :  1 2 3 \r\n",
      "The appended array is : 1 2 3 4 \r\n",
      "The array after insertion is : 1 \r\n",
      "2 \r\n",
      "5 \r\n",
      "3 \r\n",
      "4 \r\n",
      "The array after popping is : 1 \r\n",
      "2 \r\n",
      "5 \r\n",
      "3 \r\n",
      "The array after removing is : 1 2 3 "
     ]
    }
   ],
   "source": [
    "# Python code to demonstrate the working of\n",
    "# array(), append(), insert()\n",
    "# initializing array with array values\n",
    "# initializes array with signed integers\n",
    "arr = array.array('i', [1, 2, 3])\n",
    "# printing original array\n",
    "print (\"The new created array is : \",end=\" \")\n",
    "for i in range (0, 3):\n",
    "    print (arr[i], end=\" \")\n",
    "print(\"\\r\")\n",
    "\n",
    "# using append() to insert new value at end\n",
    "arr.append(4);\n",
    "# printing appended array\n",
    "print(\"The appended array is : \", end=\"\")\n",
    "for i in range (0, 4):\n",
    "    print (arr[i], end=\" \")\n",
    "    \n",
    "# using insert() to insert value at specific position\n",
    "# inserts 5 at 2nd position\n",
    "arr.insert(2, 5)\n",
    "print(\"\\r\") \n",
    "# printing array after insertion\n",
    "print (\"The array after insertion is : \", end=\"\")\n",
    "for i in range (0, 5):\n",
    "    print (arr[i], end=\" \")\n",
    "    print(\"\\r\") \n",
    "    \n",
    "  #  print (arr.pop(2));\n",
    "    # printing array after popping\n",
    "print (\"The array after popping is : \",end=\"\")\n",
    "for i in range (0,4):\n",
    "    print (arr[i],end=\" \")\n",
    "    print(\"\\r\")\n",
    "# using remove() to remove 1st occurrence of 1\n",
    "arr.remove(5)\n",
    "# printing array after removing\n",
    "print (\"The array after removing is : \",end=\"\")\n",
    "for i in range (0,3):\n",
    "    print (arr[i],end=\" \")"
   ]
  },
  {
   "cell_type": "code",
   "execution_count": 60,
   "metadata": {},
   "outputs": [],
   "source": [
    "# using append() to insert new value at end\n",
    "arr=[10,20,30,40,50,60]\n",
    "arr.append(70)"
   ]
  },
  {
   "cell_type": "code",
   "execution_count": 61,
   "metadata": {},
   "outputs": [
    {
     "data": {
      "text/plain": [
       "[10, 20, 30, 40, 50, 60, 70]"
      ]
     },
     "execution_count": 61,
     "metadata": {},
     "output_type": "execute_result"
    }
   ],
   "source": [
    "arr"
   ]
  },
  {
   "cell_type": "code",
   "execution_count": 62,
   "metadata": {},
   "outputs": [],
   "source": [
    "#using insert() to insert value at specific position\n",
    "arr.insert(3,80)"
   ]
  },
  {
   "cell_type": "code",
   "execution_count": 63,
   "metadata": {},
   "outputs": [
    {
     "data": {
      "text/plain": [
       "[10, 20, 30, 80, 40, 50, 60, 70]"
      ]
     },
     "execution_count": 63,
     "metadata": {},
     "output_type": "execute_result"
    }
   ],
   "source": [
    "arr"
   ]
  },
  {
   "cell_type": "code",
   "execution_count": 64,
   "metadata": {},
   "outputs": [
    {
     "data": {
      "text/plain": [
       "80"
      ]
     },
     "execution_count": 64,
     "metadata": {},
     "output_type": "execute_result"
    }
   ],
   "source": [
    "\n",
    "# using pop() to remove element in position\n",
    "arr.pop(3)"
   ]
  },
  {
   "cell_type": "code",
   "execution_count": 65,
   "metadata": {},
   "outputs": [
    {
     "data": {
      "text/plain": [
       "[10, 20, 30, 40, 50, 60, 70]"
      ]
     },
     "execution_count": 65,
     "metadata": {},
     "output_type": "execute_result"
    }
   ],
   "source": [
    "arr"
   ]
  },
  {
   "cell_type": "code",
   "execution_count": 66,
   "metadata": {},
   "outputs": [],
   "source": [
    "## using remove() to remove 1st occurrence of 1\n",
    "arr.remove(10)"
   ]
  },
  {
   "cell_type": "code",
   "execution_count": 67,
   "metadata": {},
   "outputs": [
    {
     "data": {
      "text/plain": [
       "[20, 30, 40, 50, 60, 70]"
      ]
     },
     "execution_count": 67,
     "metadata": {},
     "output_type": "execute_result"
    }
   ],
   "source": [
    "arr"
   ]
  },
  {
   "cell_type": "code",
   "execution_count": 77,
   "metadata": {},
   "outputs": [
    {
     "data": {
      "text/plain": [
       "2"
      ]
     },
     "execution_count": 77,
     "metadata": {},
     "output_type": "execute_result"
    }
   ],
   "source": [
    "# using index() to print index of 1st occurrenece of 2\n",
    "arr.index(40)"
   ]
  },
  {
   "cell_type": "code",
   "execution_count": 70,
   "metadata": {},
   "outputs": [
    {
     "data": {
      "text/plain": [
       "[20, 30, 40, 50, 60, 70]"
      ]
     },
     "execution_count": 70,
     "metadata": {},
     "output_type": "execute_result"
    }
   ],
   "source": [
    "arr"
   ]
  },
  {
   "cell_type": "code",
   "execution_count": 73,
   "metadata": {},
   "outputs": [],
   "source": [
    "#using reverse() to reverse the array\n",
    "arr.reverse()"
   ]
  },
  {
   "cell_type": "code",
   "execution_count": 81,
   "metadata": {},
   "outputs": [
    {
     "data": {
      "text/plain": [
       "[20, 30, 40, 50, 60, 70]"
      ]
     },
     "execution_count": 81,
     "metadata": {},
     "output_type": "execute_result"
    }
   ],
   "source": [
    "arr"
   ]
  },
  {
   "cell_type": "code",
   "execution_count": 87,
   "metadata": {},
   "outputs": [
    {
     "data": {
      "text/plain": [
       "1"
      ]
     },
     "execution_count": 87,
     "metadata": {},
     "output_type": "execute_result"
    }
   ],
   "source": [
    "#Return number of occurrences of value\n",
    "arr.count(60)"
   ]
  },
  {
   "cell_type": "code",
   "execution_count": 89,
   "metadata": {},
   "outputs": [
    {
     "data": {
      "text/plain": [
       "2"
      ]
     },
     "execution_count": 89,
     "metadata": {},
     "output_type": "execute_result"
    }
   ],
   "source": [
    "arr.index(40)"
   ]
  },
  {
   "cell_type": "code",
   "execution_count": null,
   "metadata": {},
   "outputs": [],
   "source": []
  },
  {
   "cell_type": "code",
   "execution_count": null,
   "metadata": {},
   "outputs": [],
   "source": []
  }
 ],
 "metadata": {
  "kernelspec": {
   "display_name": "Python 3",
   "language": "python",
   "name": "python3"
  },
  "language_info": {
   "codemirror_mode": {
    "name": "ipython",
    "version": 3
   },
   "file_extension": ".py",
   "mimetype": "text/x-python",
   "name": "python",
   "nbconvert_exporter": "python",
   "pygments_lexer": "ipython3",
   "version": "3.7.3"
  }
 },
 "nbformat": 4,
 "nbformat_minor": 2
}
